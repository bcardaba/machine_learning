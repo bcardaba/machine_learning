{
 "cells": [
  {
   "cell_type": "markdown",
   "metadata": {},
   "source": [
    "# Data cleaning\n",
    "\n",
    "Este documento nos será de utilidad para poder introducir nuevos dataset que serán usados como test de los modelos."
   ]
  },
  {
   "cell_type": "markdown",
   "metadata": {},
   "source": [
    "## Eliminación de variables que fueron excluidas durante la ingeniería de variables y el EDA"
   ]
  },
  {
   "cell_type": "code",
   "execution_count": 1,
   "metadata": {},
   "outputs": [],
   "source": [
    "import pandas as pd\n",
    "import numpy as np"
   ]
  },
  {
   "cell_type": "code",
   "execution_count": 2,
   "metadata": {},
   "outputs": [],
   "source": [
    "path = ('../data/02_intermediate/loan_all.csv') # aqui introducimos el dataset en cuestión\n",
    "data = pd.read_csv(path, low_memory=False)"
   ]
  },
  {
   "cell_type": "code",
   "execution_count": 3,
   "metadata": {},
   "outputs": [],
   "source": [
    "# Eliminamos las variables con más del 95% de NAS en el dataset inicial\n",
    "\n",
    "del data['member_id']\n",
    "del data['desc']\n",
    "del data['annual_inc_joint'] \n",
    "del data['dti_joint']                 \n",
    "del data['verification_status_joint']                     \n",
    "del data['revol_bal_joint']                               \n",
    "del data['sec_app_fico_range_low']                       \n",
    "del data['sec_app_fico_range_high']                       \n",
    "del data['sec_app_earliest_cr_line']                      \n",
    "del data['sec_app_inq_last_6mths']                        \n",
    "del data['sec_app_mort_acc']                              \n",
    "del data['sec_app_open_acc']                              \n",
    "del data['sec_app_revol_util']                            \n",
    "del data['sec_app_open_act_il']                           \n",
    "del data['sec_app_num_rev_accts']                         \n",
    "del data['sec_app_chargeoff_within_12_mths']              \n",
    "del data['sec_app_collections_12_mths_ex_med']            \n",
    "del data['sec_app_mths_since_last_major_derog']           \n",
    "del data['hardship_type']                                 \n",
    "del data['hardship_reason']                               \n",
    "del data['hardship_status']                               \n",
    "del data['deferral_term']                                 \n",
    "del data['hardship_amount']                               \n",
    "del data['hardship_start_date']                           \n",
    "del data['hardship_end_date']                             \n",
    "del data['payment_plan_start_date']                       \n",
    "del data['hardship_length']                               \n",
    "del data['hardship_dpd']                                 \n",
    "del data['hardship_loan_status']                          \n",
    "del data['orig_projected_additional_accrued_interest']    \n",
    "del data['hardship_payoff_balance_amount']                \n",
    "del data['hardship_last_payment_amount']                  \n",
    "del data['debt_settlement_flag_date']"
   ]
  },
  {
   "cell_type": "code",
   "execution_count": 4,
   "metadata": {},
   "outputs": [],
   "source": [
    "# Eliminamos la columna unnamed\n",
    "del data['Unnamed: 0']\n",
    "# Variables que omitimos por su contenido:\n",
    "del data['out_prncp_inv']\n",
    "del data['total_pymnt']\n",
    "del data['out_prncp']\n",
    "del data['total_pymnt_inv']\n",
    "del data['total_rec_prncp']\n",
    "del data['recoveries']\n",
    "del data['hardship_flag']\n",
    "del data['debt_settlement_flag']\n",
    "del data['settlement_date']\n",
    "del data['settlement_status']\n",
    "del data['settlement_amount']\n",
    "del data['settlement_percentage']\n",
    "del data['settlement_term']\n",
    "del data['emp_title']\n",
    "del data['issue_d']\n",
    "del data['last_credit_pull_d']\n",
    "del data['last_pymnt_d']\n",
    "del data['total_rec_int']\n",
    "del data['total_rec_late_fee']\n",
    "del data['last_pymnt_amnt']\n",
    "del data['pymnt_plan']\n",
    "del data['next_pymnt_d']"
   ]
  },
  {
   "cell_type": "code",
   "execution_count": 5,
   "metadata": {},
   "outputs": [],
   "source": [
    "# variables que no se pueden usar para predecir el impago\n",
    "del data['url']\n",
    "del data['title']\n",
    "del data['zip_code']\n",
    "del data['addr_state']\n",
    "# variables con excesivo número de clases\n",
    "del data['sub_grade']\n",
    "del data['earliest_cr_line']"
   ]
  },
  {
   "cell_type": "code",
   "execution_count": 6,
   "metadata": {},
   "outputs": [],
   "source": [
    "# Categóricas problemáticas por distintas razones\n",
    "del data['disbursement_method']\n",
    "del data['initial_list_status']"
   ]
  },
  {
   "cell_type": "markdown",
   "metadata": {},
   "source": [
    "## Definición de la variable target"
   ]
  },
  {
   "cell_type": "code",
   "execution_count": 7,
   "metadata": {},
   "outputs": [],
   "source": [
    "# Eliminamos las observaciones cuyo status es \"Current\"\n",
    "data = data.drop(data[data['loan_status']==\"Current\"].index)"
   ]
  },
  {
   "cell_type": "code",
   "execution_count": 8,
   "metadata": {},
   "outputs": [],
   "source": [
    "# Creamos columna llamada target\n",
    "# toma valor 0 si fully paid y valor 1 en caso contrario (impago)\n",
    "data['target'] = np.where((data['loan_status'] == 'Fully Paid'), 0, 1)"
   ]
  },
  {
   "cell_type": "code",
   "execution_count": 9,
   "metadata": {},
   "outputs": [],
   "source": [
    "# Eliminamos la columna de loan_status y dejamos solo la columna de Target\n",
    "del data['loan_status']"
   ]
  },
  {
   "cell_type": "markdown",
   "metadata": {},
   "source": [
    "## Sustituimos los Valores Nulos"
   ]
  },
  {
   "cell_type": "markdown",
   "metadata": {},
   "source": [
    "### Variables con valores nulos por razones alternativas"
   ]
  },
  {
   "cell_type": "markdown",
   "metadata": {},
   "source": [
    "Rellenamos con cero aquellas que los usuarios no hayan realizado la acción de la variable"
   ]
  },
  {
   "cell_type": "code",
   "execution_count": 10,
   "metadata": {},
   "outputs": [],
   "source": [
    "# Definimos función para rellenar 0 los NAs \n",
    "def fill_w_0(data, column):\n",
    "    data[column].fillna(0, inplace = True)"
   ]
  },
  {
   "cell_type": "code",
   "execution_count": 11,
   "metadata": {},
   "outputs": [],
   "source": [
    "# refilling with 0\n",
    "fill_w_0(data, 'il_util')\n",
    "fill_w_0(data, 'all_util')\n",
    "fill_w_0(data, 'inq_last_12m')\n",
    "fill_w_0(data, 'total_cu_tl')\n",
    "fill_w_0(data, 'open_acc_6m')\n",
    "fill_w_0(data, 'open_act_il')\n",
    "fill_w_0(data, 'inq_fi')\n",
    "fill_w_0(data, 'max_bal_bc')\n",
    "fill_w_0(data, 'open_rv_12m')\n",
    "fill_w_0(data, 'open_rv_24m')\n",
    "fill_w_0(data, 'total_bal_il')\n",
    "fill_w_0(data, 'open_il_12m')\n",
    "fill_w_0(data, 'open_il_24m')"
   ]
  },
  {
   "cell_type": "markdown",
   "metadata": {},
   "source": [
    "Rellenamos con el máximo las variables relativas a meses"
   ]
  },
  {
   "cell_type": "code",
   "execution_count": 12,
   "metadata": {},
   "outputs": [],
   "source": [
    "# Definimos función para rellenar con el máximo los NAs\n",
    "def fill_max(data, column):\n",
    "    data[column].fillna(data[column].max(), inplace = True)"
   ]
  },
  {
   "cell_type": "code",
   "execution_count": 13,
   "metadata": {},
   "outputs": [],
   "source": [
    "# refilling with the maximum\n",
    "\n",
    "fill_max(data, 'mths_since_last_record')\n",
    "fill_max(data, 'mths_since_recent_bc_dlq')\n",
    "fill_max(data, 'mths_since_recent_revol_delinq')\n",
    "fill_max(data, 'mths_since_last_major_derog')\n",
    "fill_max(data, 'mths_since_rcnt_il')\n",
    "fill_max(data, 'mths_since_last_delinq')\n",
    "fill_max(data, 'mths_since_recent_inq')"
   ]
  },
  {
   "cell_type": "markdown",
   "metadata": {},
   "source": [
    "### Categóricas"
   ]
  },
  {
   "cell_type": "markdown",
   "metadata": {},
   "source": [
    "Creamos dataframe solo con las categóricas."
   ]
  },
  {
   "cell_type": "code",
   "execution_count": 14,
   "metadata": {},
   "outputs": [],
   "source": [
    "categoric_1 = data.select_dtypes(include = [np.object])"
   ]
  },
  {
   "cell_type": "markdown",
   "metadata": {},
   "source": [
    "Sustituimos por la moda las variables categóricas"
   ]
  },
  {
   "cell_type": "code",
   "execution_count": 15,
   "metadata": {},
   "outputs": [],
   "source": [
    "categoric_1 = categoric_1.apply(lambda x: x.replace(\"\", np.nan))\n",
    "categoric_1 = categoric_1.apply(lambda x: x.fillna(x.value_counts().index[0])) # fill with the mode"
   ]
  },
  {
   "cell_type": "code",
   "execution_count": 16,
   "metadata": {},
   "outputs": [],
   "source": [
    "# En principio, todas las variables que son categóricas en nuestro dataframe, lo serán en el del día de prueba."
   ]
  },
  {
   "cell_type": "markdown",
   "metadata": {},
   "source": [
    "### Variables numéricas"
   ]
  },
  {
   "cell_type": "markdown",
   "metadata": {},
   "source": [
    "Creamos un dataframe con las variables numéricas  y sustituimos los valores nulos por la mediana"
   ]
  },
  {
   "cell_type": "code",
   "execution_count": 17,
   "metadata": {},
   "outputs": [],
   "source": [
    "numeric = data.select_dtypes(include = [np.number])"
   ]
  },
  {
   "cell_type": "code",
   "execution_count": 18,
   "metadata": {},
   "outputs": [],
   "source": [
    "numeric = numeric.apply(lambda x: x.replace(\"\", np.nan))\n",
    "numeric = numeric.apply(lambda x: x.fillna(x.median()))"
   ]
  },
  {
   "cell_type": "markdown",
   "metadata": {},
   "source": [
    "## Transformación de variables categóricas"
   ]
  },
  {
   "cell_type": "markdown",
   "metadata": {},
   "source": [
    "Reducimos las clases de la variable emp_length "
   ]
  },
  {
   "cell_type": "code",
   "execution_count": 19,
   "metadata": {},
   "outputs": [],
   "source": [
    "def f_emp_length(x):\n",
    "    if x == '< 1 year':\n",
    "        return '< 5 years'\n",
    "    elif x == '1 year':\n",
    "        return '< 5 years'\n",
    "    elif x == '2 years':\n",
    "        return '< 5 years'\n",
    "    elif x == '3 years':\n",
    "        return '< 5 years'\n",
    "    elif x == '5 years':\n",
    "        return '5-10 years'\n",
    "    elif x == '6 years':\n",
    "        return '5-10 years'\n",
    "    elif x == '7 years':\n",
    "        return '5-10 years'\n",
    "    elif x == '8 years':\n",
    "        return '5-10 years'\n",
    "    elif x == '9 years':\n",
    "        return '5-10 years'\n",
    "    else:\n",
    "        return '> 10 years'\n",
    "    \n",
    "categoric_1.emp_length = categoric_1.emp_length.map(f_emp_length)"
   ]
  },
  {
   "cell_type": "markdown",
   "metadata": {},
   "source": [
    "Reducción de categorías de la variable purpose"
   ]
  },
  {
   "cell_type": "code",
   "execution_count": 20,
   "metadata": {},
   "outputs": [],
   "source": [
    "# creamos la categoría housing\n",
    "categoric_1['purpose'] = np.where ((categoric_1['purpose'] == 'home_improvement') | \n",
    "                            (categoric_1['purpose'] == 'house') | \n",
    "                            (categoric_1['purpose'] == 'moving'), \n",
    "                           'housing', categoric_1['purpose'].values)"
   ]
  },
  {
   "cell_type": "code",
   "execution_count": 21,
   "metadata": {},
   "outputs": [],
   "source": [
    "# creamos la categoría leisure\n",
    "categoric_1['purpose'] = np.where ((categoric_1['purpose'] == 'major_purchase') | \n",
    "                            (categoric_1['purpose'] == 'vacation') | \n",
    "                            (categoric_1['purpose'] == 'wedding') |\n",
    "                            (categoric_1['purpose'] == 'car')|\n",
    "                            (categoric_1['purpose'] == 'small_business') | \n",
    "                            (categoric_1['purpose'] == 'renewable_energy'), \n",
    "                           'leisure', categoric_1['purpose'].values)"
   ]
  },
  {
   "cell_type": "code",
   "execution_count": 22,
   "metadata": {},
   "outputs": [],
   "source": [
    "# creamos la categoría otros\n",
    "categoric_1['purpose'] = np.where ((categoric_1['purpose'] == 'other') | \n",
    "                            (categoric_1['purpose'] == 'educational'), \n",
    "                           'other', categoric_1['purpose'].values)"
   ]
  },
  {
   "cell_type": "markdown",
   "metadata": {},
   "source": [
    "Transformamos la variable grade"
   ]
  },
  {
   "cell_type": "code",
   "execution_count": 23,
   "metadata": {},
   "outputs": [],
   "source": [
    "# Creamos un diccionario para cada letra:\n",
    "dic =  {'A': 6, 'B': 5, 'C': 4, 'D': 3, 'E': 2, 'F': 1, 'G': 0} \n",
    "\n",
    "# Sustituimos en cada caso su valor del diccionario:\n",
    "\n",
    "categoric_1['grade'] = categoric_1['grade'].replace(dic)"
   ]
  },
  {
   "cell_type": "markdown",
   "metadata": {},
   "source": [
    "## Cambio formato de variables con porcentajes"
   ]
  },
  {
   "cell_type": "markdown",
   "metadata": {},
   "source": [
    "Eliminamos el porcentaje de la variable int_rate y convertimos en decimal."
   ]
  },
  {
   "cell_type": "code",
   "execution_count": 24,
   "metadata": {},
   "outputs": [],
   "source": [
    "# Convertimos a string\n",
    "int_rate_conversion = categoric_1['int_rate']\n",
    "int_rate_conversion = int_rate_conversion.astype(str) "
   ]
  },
  {
   "cell_type": "code",
   "execution_count": 25,
   "metadata": {},
   "outputs": [],
   "source": [
    "# Eliminamos el símbolo %\n",
    "int_rate_conversion = int_rate_conversion.map(lambda x: x[:-1])"
   ]
  },
  {
   "cell_type": "code",
   "execution_count": 26,
   "metadata": {},
   "outputs": [],
   "source": [
    "# Convertimos a decimal dividiendo entre 100\n",
    "int_rate_conversion= int_rate_conversion.astype(float)/100"
   ]
  },
  {
   "cell_type": "code",
   "execution_count": 27,
   "metadata": {},
   "outputs": [],
   "source": [
    "# Introducimos en el dataset y eliminamos el objeto creado int_rate_conversion\n",
    "categoric_1['int_rate'] = int_rate_conversion \n",
    "del int_rate_conversion"
   ]
  },
  {
   "cell_type": "markdown",
   "metadata": {},
   "source": [
    "Eliminamos el porcentaje de la variable revol_util y convertimos en decimal."
   ]
  },
  {
   "cell_type": "code",
   "execution_count": 28,
   "metadata": {},
   "outputs": [],
   "source": [
    "# Convertimos a string\n",
    "revol_util_conversion = categoric_1['revol_util']\n",
    "revol_util_conversion = revol_util_conversion.astype(str)"
   ]
  },
  {
   "cell_type": "code",
   "execution_count": 29,
   "metadata": {},
   "outputs": [],
   "source": [
    "# Eliminamos el %\n",
    "revol_util_conversion = revol_util_conversion.map(lambda x: x[:-1])"
   ]
  },
  {
   "cell_type": "code",
   "execution_count": 30,
   "metadata": {},
   "outputs": [],
   "source": [
    "# Convertimos en decimal\n",
    "revol_util_conversion= revol_util_conversion.astype(float)/100"
   ]
  },
  {
   "cell_type": "code",
   "execution_count": 31,
   "metadata": {},
   "outputs": [],
   "source": [
    "# Introducimos en el dataset y eliminamos el objeto creado revol_util_conversion\n",
    "categoric_1['revol_util'] = revol_util_conversion \n",
    "del revol_util_conversion"
   ]
  },
  {
   "cell_type": "markdown",
   "metadata": {},
   "source": [
    "## One hot-encoding"
   ]
  },
  {
   "cell_type": "markdown",
   "metadata": {},
   "source": [
    "Primero creamos un dataframe que junte las variables del dataframe categoric con el de numeric."
   ]
  },
  {
   "cell_type": "code",
   "execution_count": 32,
   "metadata": {},
   "outputs": [],
   "source": [
    "data = pd.concat([numeric, categoric_1], axis = 1)"
   ]
  },
  {
   "cell_type": "markdown",
   "metadata": {},
   "source": [
    "Creamos un dataframe solo con las que son categóricas (ya que en el anterior estaban dos variables que tuvimos que transformar)"
   ]
  },
  {
   "cell_type": "code",
   "execution_count": 33,
   "metadata": {},
   "outputs": [
    {
     "data": {
      "text/html": [
       "<div>\n",
       "<style scoped>\n",
       "    .dataframe tbody tr th:only-of-type {\n",
       "        vertical-align: middle;\n",
       "    }\n",
       "\n",
       "    .dataframe tbody tr th {\n",
       "        vertical-align: top;\n",
       "    }\n",
       "\n",
       "    .dataframe thead th {\n",
       "        text-align: right;\n",
       "    }\n",
       "</style>\n",
       "<table border=\"1\" class=\"dataframe\">\n",
       "  <thead>\n",
       "    <tr style=\"text-align: right;\">\n",
       "      <th></th>\n",
       "      <th>term</th>\n",
       "      <th>emp_length</th>\n",
       "      <th>home_ownership</th>\n",
       "      <th>verification_status</th>\n",
       "      <th>purpose</th>\n",
       "      <th>application_type</th>\n",
       "    </tr>\n",
       "  </thead>\n",
       "  <tbody>\n",
       "    <tr>\n",
       "      <th>8</th>\n",
       "      <td>36 months</td>\n",
       "      <td>5-10 years</td>\n",
       "      <td>OWN</td>\n",
       "      <td>Not Verified</td>\n",
       "      <td>credit_card</td>\n",
       "      <td>Individual</td>\n",
       "    </tr>\n",
       "    <tr>\n",
       "      <th>10</th>\n",
       "      <td>36 months</td>\n",
       "      <td>&lt; 5 years</td>\n",
       "      <td>RENT</td>\n",
       "      <td>Source Verified</td>\n",
       "      <td>debt_consolidation</td>\n",
       "      <td>Individual</td>\n",
       "    </tr>\n",
       "    <tr>\n",
       "      <th>24</th>\n",
       "      <td>36 months</td>\n",
       "      <td>5-10 years</td>\n",
       "      <td>MORTGAGE</td>\n",
       "      <td>Not Verified</td>\n",
       "      <td>debt_consolidation</td>\n",
       "      <td>Individual</td>\n",
       "    </tr>\n",
       "    <tr>\n",
       "      <th>42</th>\n",
       "      <td>60 months</td>\n",
       "      <td>5-10 years</td>\n",
       "      <td>RENT</td>\n",
       "      <td>Source Verified</td>\n",
       "      <td>debt_consolidation</td>\n",
       "      <td>Individual</td>\n",
       "    </tr>\n",
       "    <tr>\n",
       "      <th>91</th>\n",
       "      <td>36 months</td>\n",
       "      <td>5-10 years</td>\n",
       "      <td>MORTGAGE</td>\n",
       "      <td>Verified</td>\n",
       "      <td>debt_consolidation</td>\n",
       "      <td>Individual</td>\n",
       "    </tr>\n",
       "  </tbody>\n",
       "</table>\n",
       "</div>"
      ],
      "text/plain": [
       "          term  emp_length home_ownership verification_status  \\\n",
       "8    36 months  5-10 years            OWN        Not Verified   \n",
       "10   36 months   < 5 years           RENT     Source Verified   \n",
       "24   36 months  5-10 years       MORTGAGE        Not Verified   \n",
       "42   60 months  5-10 years           RENT     Source Verified   \n",
       "91   36 months  5-10 years       MORTGAGE            Verified   \n",
       "\n",
       "               purpose application_type  \n",
       "8          credit_card       Individual  \n",
       "10  debt_consolidation       Individual  \n",
       "24  debt_consolidation       Individual  \n",
       "42  debt_consolidation       Individual  \n",
       "91  debt_consolidation       Individual  "
      ]
     },
     "execution_count": 33,
     "metadata": {},
     "output_type": "execute_result"
    }
   ],
   "source": [
    "categoric_2 = data.select_dtypes(include = [np.object])\n",
    "categoric_2.head()"
   ]
  },
  {
   "cell_type": "markdown",
   "metadata": {},
   "source": [
    "Creamos variables dummies"
   ]
  },
  {
   "cell_type": "code",
   "execution_count": 34,
   "metadata": {},
   "outputs": [
    {
     "data": {
      "text/html": [
       "<div>\n",
       "<style scoped>\n",
       "    .dataframe tbody tr th:only-of-type {\n",
       "        vertical-align: middle;\n",
       "    }\n",
       "\n",
       "    .dataframe tbody tr th {\n",
       "        vertical-align: top;\n",
       "    }\n",
       "\n",
       "    .dataframe thead th {\n",
       "        text-align: right;\n",
       "    }\n",
       "</style>\n",
       "<table border=\"1\" class=\"dataframe\">\n",
       "  <thead>\n",
       "    <tr style=\"text-align: right;\">\n",
       "      <th></th>\n",
       "      <th>term_ 36 months</th>\n",
       "      <th>term_ 60 months</th>\n",
       "      <th>emp_length_5-10 years</th>\n",
       "      <th>emp_length_&lt; 5 years</th>\n",
       "      <th>emp_length_&gt; 10 years</th>\n",
       "      <th>home_ownership_ANY</th>\n",
       "      <th>home_ownership_MORTGAGE</th>\n",
       "      <th>home_ownership_OWN</th>\n",
       "      <th>home_ownership_RENT</th>\n",
       "      <th>verification_status_Not Verified</th>\n",
       "      <th>verification_status_Source Verified</th>\n",
       "      <th>verification_status_Verified</th>\n",
       "      <th>purpose_credit_card</th>\n",
       "      <th>purpose_debt_consolidation</th>\n",
       "      <th>purpose_housing</th>\n",
       "      <th>purpose_leisure</th>\n",
       "      <th>purpose_medical</th>\n",
       "      <th>purpose_other</th>\n",
       "      <th>application_type_Individual</th>\n",
       "      <th>application_type_Joint App</th>\n",
       "    </tr>\n",
       "  </thead>\n",
       "  <tbody>\n",
       "    <tr>\n",
       "      <th>8</th>\n",
       "      <td>1</td>\n",
       "      <td>0</td>\n",
       "      <td>1</td>\n",
       "      <td>0</td>\n",
       "      <td>0</td>\n",
       "      <td>0</td>\n",
       "      <td>0</td>\n",
       "      <td>1</td>\n",
       "      <td>0</td>\n",
       "      <td>1</td>\n",
       "      <td>0</td>\n",
       "      <td>0</td>\n",
       "      <td>1</td>\n",
       "      <td>0</td>\n",
       "      <td>0</td>\n",
       "      <td>0</td>\n",
       "      <td>0</td>\n",
       "      <td>0</td>\n",
       "      <td>1</td>\n",
       "      <td>0</td>\n",
       "    </tr>\n",
       "    <tr>\n",
       "      <th>10</th>\n",
       "      <td>1</td>\n",
       "      <td>0</td>\n",
       "      <td>0</td>\n",
       "      <td>1</td>\n",
       "      <td>0</td>\n",
       "      <td>0</td>\n",
       "      <td>0</td>\n",
       "      <td>0</td>\n",
       "      <td>1</td>\n",
       "      <td>0</td>\n",
       "      <td>1</td>\n",
       "      <td>0</td>\n",
       "      <td>0</td>\n",
       "      <td>1</td>\n",
       "      <td>0</td>\n",
       "      <td>0</td>\n",
       "      <td>0</td>\n",
       "      <td>0</td>\n",
       "      <td>1</td>\n",
       "      <td>0</td>\n",
       "    </tr>\n",
       "    <tr>\n",
       "      <th>24</th>\n",
       "      <td>1</td>\n",
       "      <td>0</td>\n",
       "      <td>1</td>\n",
       "      <td>0</td>\n",
       "      <td>0</td>\n",
       "      <td>0</td>\n",
       "      <td>1</td>\n",
       "      <td>0</td>\n",
       "      <td>0</td>\n",
       "      <td>1</td>\n",
       "      <td>0</td>\n",
       "      <td>0</td>\n",
       "      <td>0</td>\n",
       "      <td>1</td>\n",
       "      <td>0</td>\n",
       "      <td>0</td>\n",
       "      <td>0</td>\n",
       "      <td>0</td>\n",
       "      <td>1</td>\n",
       "      <td>0</td>\n",
       "    </tr>\n",
       "    <tr>\n",
       "      <th>42</th>\n",
       "      <td>0</td>\n",
       "      <td>1</td>\n",
       "      <td>1</td>\n",
       "      <td>0</td>\n",
       "      <td>0</td>\n",
       "      <td>0</td>\n",
       "      <td>0</td>\n",
       "      <td>0</td>\n",
       "      <td>1</td>\n",
       "      <td>0</td>\n",
       "      <td>1</td>\n",
       "      <td>0</td>\n",
       "      <td>0</td>\n",
       "      <td>1</td>\n",
       "      <td>0</td>\n",
       "      <td>0</td>\n",
       "      <td>0</td>\n",
       "      <td>0</td>\n",
       "      <td>1</td>\n",
       "      <td>0</td>\n",
       "    </tr>\n",
       "    <tr>\n",
       "      <th>91</th>\n",
       "      <td>1</td>\n",
       "      <td>0</td>\n",
       "      <td>1</td>\n",
       "      <td>0</td>\n",
       "      <td>0</td>\n",
       "      <td>0</td>\n",
       "      <td>1</td>\n",
       "      <td>0</td>\n",
       "      <td>0</td>\n",
       "      <td>0</td>\n",
       "      <td>0</td>\n",
       "      <td>1</td>\n",
       "      <td>0</td>\n",
       "      <td>1</td>\n",
       "      <td>0</td>\n",
       "      <td>0</td>\n",
       "      <td>0</td>\n",
       "      <td>0</td>\n",
       "      <td>1</td>\n",
       "      <td>0</td>\n",
       "    </tr>\n",
       "  </tbody>\n",
       "</table>\n",
       "</div>"
      ],
      "text/plain": [
       "    term_ 36 months  term_ 60 months  emp_length_5-10 years  \\\n",
       "8                 1                0                      1   \n",
       "10                1                0                      0   \n",
       "24                1                0                      1   \n",
       "42                0                1                      1   \n",
       "91                1                0                      1   \n",
       "\n",
       "    emp_length_< 5 years  emp_length_> 10 years  home_ownership_ANY  \\\n",
       "8                      0                      0                   0   \n",
       "10                     1                      0                   0   \n",
       "24                     0                      0                   0   \n",
       "42                     0                      0                   0   \n",
       "91                     0                      0                   0   \n",
       "\n",
       "    home_ownership_MORTGAGE  home_ownership_OWN  home_ownership_RENT  \\\n",
       "8                         0                   1                    0   \n",
       "10                        0                   0                    1   \n",
       "24                        1                   0                    0   \n",
       "42                        0                   0                    1   \n",
       "91                        1                   0                    0   \n",
       "\n",
       "    verification_status_Not Verified  verification_status_Source Verified  \\\n",
       "8                                  1                                    0   \n",
       "10                                 0                                    1   \n",
       "24                                 1                                    0   \n",
       "42                                 0                                    1   \n",
       "91                                 0                                    0   \n",
       "\n",
       "    verification_status_Verified  purpose_credit_card  \\\n",
       "8                              0                    1   \n",
       "10                             0                    0   \n",
       "24                             0                    0   \n",
       "42                             0                    0   \n",
       "91                             1                    0   \n",
       "\n",
       "    purpose_debt_consolidation  purpose_housing  purpose_leisure  \\\n",
       "8                            0                0                0   \n",
       "10                           1                0                0   \n",
       "24                           1                0                0   \n",
       "42                           1                0                0   \n",
       "91                           1                0                0   \n",
       "\n",
       "    purpose_medical  purpose_other  application_type_Individual  \\\n",
       "8                 0              0                            1   \n",
       "10                0              0                            1   \n",
       "24                0              0                            1   \n",
       "42                0              0                            1   \n",
       "91                0              0                            1   \n",
       "\n",
       "    application_type_Joint App  \n",
       "8                            0  \n",
       "10                           0  \n",
       "24                           0  \n",
       "42                           0  \n",
       "91                           0  "
      ]
     },
     "execution_count": 34,
     "metadata": {},
     "output_type": "execute_result"
    }
   ],
   "source": [
    "dummies = pd.get_dummies(categoric_2)\n",
    "dummies.head()"
   ]
  },
  {
   "cell_type": "markdown",
   "metadata": {},
   "source": [
    "Eliminamos las variables del dataset data para que al juntar dummies con numeric no se duplicen."
   ]
  },
  {
   "cell_type": "code",
   "execution_count": 35,
   "metadata": {},
   "outputs": [],
   "source": [
    "data_filter = pd.merge(numeric, dummies, left_index=True, right_index=True)"
   ]
  },
  {
   "cell_type": "code",
   "execution_count": 36,
   "metadata": {},
   "outputs": [
    {
     "data": {
      "text/html": [
       "<div>\n",
       "<style scoped>\n",
       "    .dataframe tbody tr th:only-of-type {\n",
       "        vertical-align: middle;\n",
       "    }\n",
       "\n",
       "    .dataframe tbody tr th {\n",
       "        vertical-align: top;\n",
       "    }\n",
       "\n",
       "    .dataframe thead th {\n",
       "        text-align: right;\n",
       "    }\n",
       "</style>\n",
       "<table border=\"1\" class=\"dataframe\">\n",
       "  <thead>\n",
       "    <tr style=\"text-align: right;\">\n",
       "      <th></th>\n",
       "      <th>id</th>\n",
       "      <th>loan_amnt</th>\n",
       "      <th>funded_amnt</th>\n",
       "      <th>funded_amnt_inv</th>\n",
       "      <th>installment</th>\n",
       "      <th>annual_inc</th>\n",
       "      <th>dti</th>\n",
       "      <th>delinq_2yrs</th>\n",
       "      <th>fico_range_low</th>\n",
       "      <th>fico_range_high</th>\n",
       "      <th>...</th>\n",
       "      <th>verification_status_Source Verified</th>\n",
       "      <th>verification_status_Verified</th>\n",
       "      <th>purpose_credit_card</th>\n",
       "      <th>purpose_debt_consolidation</th>\n",
       "      <th>purpose_housing</th>\n",
       "      <th>purpose_leisure</th>\n",
       "      <th>purpose_medical</th>\n",
       "      <th>purpose_other</th>\n",
       "      <th>application_type_Individual</th>\n",
       "      <th>application_type_Joint App</th>\n",
       "    </tr>\n",
       "  </thead>\n",
       "  <tbody>\n",
       "    <tr>\n",
       "      <th>8</th>\n",
       "      <td>112038251</td>\n",
       "      <td>11575</td>\n",
       "      <td>11575</td>\n",
       "      <td>11575.0</td>\n",
       "      <td>359.26</td>\n",
       "      <td>153000.0</td>\n",
       "      <td>16.99</td>\n",
       "      <td>0</td>\n",
       "      <td>720</td>\n",
       "      <td>724</td>\n",
       "      <td>...</td>\n",
       "      <td>0</td>\n",
       "      <td>0</td>\n",
       "      <td>1</td>\n",
       "      <td>0</td>\n",
       "      <td>0</td>\n",
       "      <td>0</td>\n",
       "      <td>0</td>\n",
       "      <td>0</td>\n",
       "      <td>1</td>\n",
       "      <td>0</td>\n",
       "    </tr>\n",
       "    <tr>\n",
       "      <th>10</th>\n",
       "      <td>112149045</td>\n",
       "      <td>7200</td>\n",
       "      <td>7200</td>\n",
       "      <td>7200.0</td>\n",
       "      <td>285.70</td>\n",
       "      <td>50000.0</td>\n",
       "      <td>6.07</td>\n",
       "      <td>0</td>\n",
       "      <td>685</td>\n",
       "      <td>689</td>\n",
       "      <td>...</td>\n",
       "      <td>1</td>\n",
       "      <td>0</td>\n",
       "      <td>0</td>\n",
       "      <td>1</td>\n",
       "      <td>0</td>\n",
       "      <td>0</td>\n",
       "      <td>0</td>\n",
       "      <td>0</td>\n",
       "      <td>1</td>\n",
       "      <td>0</td>\n",
       "    </tr>\n",
       "    <tr>\n",
       "      <th>24</th>\n",
       "      <td>112052261</td>\n",
       "      <td>7500</td>\n",
       "      <td>7500</td>\n",
       "      <td>7500.0</td>\n",
       "      <td>232.79</td>\n",
       "      <td>110000.0</td>\n",
       "      <td>13.12</td>\n",
       "      <td>0</td>\n",
       "      <td>710</td>\n",
       "      <td>714</td>\n",
       "      <td>...</td>\n",
       "      <td>0</td>\n",
       "      <td>0</td>\n",
       "      <td>0</td>\n",
       "      <td>1</td>\n",
       "      <td>0</td>\n",
       "      <td>0</td>\n",
       "      <td>0</td>\n",
       "      <td>0</td>\n",
       "      <td>1</td>\n",
       "      <td>0</td>\n",
       "    </tr>\n",
       "    <tr>\n",
       "      <th>42</th>\n",
       "      <td>111999259</td>\n",
       "      <td>10000</td>\n",
       "      <td>10000</td>\n",
       "      <td>10000.0</td>\n",
       "      <td>243.29</td>\n",
       "      <td>51979.0</td>\n",
       "      <td>10.11</td>\n",
       "      <td>0</td>\n",
       "      <td>690</td>\n",
       "      <td>694</td>\n",
       "      <td>...</td>\n",
       "      <td>1</td>\n",
       "      <td>0</td>\n",
       "      <td>0</td>\n",
       "      <td>1</td>\n",
       "      <td>0</td>\n",
       "      <td>0</td>\n",
       "      <td>0</td>\n",
       "      <td>0</td>\n",
       "      <td>1</td>\n",
       "      <td>0</td>\n",
       "    </tr>\n",
       "    <tr>\n",
       "      <th>91</th>\n",
       "      <td>111808508</td>\n",
       "      <td>14000</td>\n",
       "      <td>14000</td>\n",
       "      <td>14000.0</td>\n",
       "      <td>492.34</td>\n",
       "      <td>75000.0</td>\n",
       "      <td>10.86</td>\n",
       "      <td>1</td>\n",
       "      <td>685</td>\n",
       "      <td>689</td>\n",
       "      <td>...</td>\n",
       "      <td>0</td>\n",
       "      <td>1</td>\n",
       "      <td>0</td>\n",
       "      <td>1</td>\n",
       "      <td>0</td>\n",
       "      <td>0</td>\n",
       "      <td>0</td>\n",
       "      <td>0</td>\n",
       "      <td>1</td>\n",
       "      <td>0</td>\n",
       "    </tr>\n",
       "  </tbody>\n",
       "</table>\n",
       "<p>5 rows × 99 columns</p>\n",
       "</div>"
      ],
      "text/plain": [
       "           id  loan_amnt  funded_amnt  funded_amnt_inv  installment  \\\n",
       "8   112038251      11575        11575          11575.0       359.26   \n",
       "10  112149045       7200         7200           7200.0       285.70   \n",
       "24  112052261       7500         7500           7500.0       232.79   \n",
       "42  111999259      10000        10000          10000.0       243.29   \n",
       "91  111808508      14000        14000          14000.0       492.34   \n",
       "\n",
       "    annual_inc    dti  delinq_2yrs  fico_range_low  fico_range_high  ...  \\\n",
       "8     153000.0  16.99            0             720              724  ...   \n",
       "10     50000.0   6.07            0             685              689  ...   \n",
       "24    110000.0  13.12            0             710              714  ...   \n",
       "42     51979.0  10.11            0             690              694  ...   \n",
       "91     75000.0  10.86            1             685              689  ...   \n",
       "\n",
       "    verification_status_Source Verified  verification_status_Verified  \\\n",
       "8                                     0                             0   \n",
       "10                                    1                             0   \n",
       "24                                    0                             0   \n",
       "42                                    1                             0   \n",
       "91                                    0                             1   \n",
       "\n",
       "    purpose_credit_card  purpose_debt_consolidation  purpose_housing  \\\n",
       "8                     1                           0                0   \n",
       "10                    0                           1                0   \n",
       "24                    0                           1                0   \n",
       "42                    0                           1                0   \n",
       "91                    0                           1                0   \n",
       "\n",
       "    purpose_leisure  purpose_medical  purpose_other  \\\n",
       "8                 0                0              0   \n",
       "10                0                0              0   \n",
       "24                0                0              0   \n",
       "42                0                0              0   \n",
       "91                0                0              0   \n",
       "\n",
       "    application_type_Individual  application_type_Joint App  \n",
       "8                             1                           0  \n",
       "10                            1                           0  \n",
       "24                            1                           0  \n",
       "42                            1                           0  \n",
       "91                            1                           0  \n",
       "\n",
       "[5 rows x 99 columns]"
      ]
     },
     "execution_count": 36,
     "metadata": {},
     "output_type": "execute_result"
    }
   ],
   "source": [
    "data_filter.head()"
   ]
  },
  {
   "cell_type": "code",
   "execution_count": 37,
   "metadata": {},
   "outputs": [
    {
     "data": {
      "text/plain": [
       "(462191, 99)"
      ]
     },
     "execution_count": 37,
     "metadata": {},
     "output_type": "execute_result"
    }
   ],
   "source": [
    "data_filter.shape"
   ]
  },
  {
   "cell_type": "markdown",
   "metadata": {},
   "source": [
    "## Elección de las variables mediante lasso"
   ]
  },
  {
   "cell_type": "code",
   "execution_count": 39,
   "metadata": {},
   "outputs": [],
   "source": [
    "final_df = data_filter.loc[:, ['num_sats',\n",
    " 'home_ownership_RENT',\n",
    " 'mo_sin_rcnt_rev_tl_op',\n",
    " 'funded_amnt_inv',\n",
    " 'open_rv_12m',\n",
    " 'num_rev_tl_bal_gt_0',\n",
    " 'acc_open_past_24mths',\n",
    " 'total_cu_tl',\n",
    " 'open_acc',\n",
    " 'collection_recovery_fee',\n",
    " 'percent_bc_gt_75',\n",
    " 'num_tl_op_past_12m',\n",
    " 'policy_code',\n",
    " 'il_util',\n",
    " 'total_bal_il',\n",
    " 'last_fico_range_low',\n",
    " 'application_type_Individual',\n",
    " 'acc_now_delinq',\n",
    " 'total_acc',\n",
    " 'verification_status_Source Verified',\n",
    " 'total_bal_ex_mort',\n",
    " 'mo_sin_old_il_acct',\n",
    " 'tot_cur_bal',\n",
    " 'num_bc_tl',\n",
    " 'total_bc_limit',\n",
    " 'emp_length_< 5 years',\n",
    " 'mths_since_last_record',\n",
    " 'num_actv_rev_tl',\n",
    " 'inq_last_12m',\n",
    " 'mort_acc',\n",
    " 'open_act_il',\n",
    " 'id',\n",
    " 'all_util',\n",
    " 'revol_bal',\n",
    " 'num_tl_90g_dpd_24m',\n",
    " 'home_ownership_OWN',\n",
    " 'mths_since_recent_revol_delinq',\n",
    " 'total_rev_hi_lim',\n",
    " 'mths_since_rcnt_il',\n",
    " 'delinq_amnt',\n",
    " 'application_type_Joint App',\n",
    " 'purpose_housing',\n",
    " 'total_il_high_credit_limit',\n",
    " 'open_il_12m',\n",
    " 'target']]"
   ]
  },
  {
   "cell_type": "code",
   "execution_count": null,
   "metadata": {},
   "outputs": [],
   "source": [
    "ruta = '../data/02_intermediate/test_final_df.csv'"
   ]
  },
  {
   "cell_type": "code",
   "execution_count": null,
   "metadata": {},
   "outputs": [],
   "source": [
    "final_df.to_csv(ruta)"
   ]
  },
  {
   "cell_type": "markdown",
   "metadata": {},
   "source": [
    "## Escalado de variables"
   ]
  },
  {
   "cell_type": "code",
   "execution_count": null,
   "metadata": {},
   "outputs": [],
   "source": [
    "scaler = MinMaxScaler()  # escalamos los datos                                     \n",
    "df_scaled = pd.DataFrame(scaler.fit_transform(final_df), columns = final_df.columns) # trasformamos a df los datos escalados\n",
    "df_scaled.head()"
   ]
  },
  {
   "cell_type": "code",
   "execution_count": null,
   "metadata": {},
   "outputs": [],
   "source": [
    "X_test = df_scaled.loc[:, df_scaled.columns != 'target'] #serán todas menos la varoables target\n",
    "\n",
    "Y_test = df_scaled['target']  "
   ]
  },
  {
   "cell_type": "code",
   "execution_count": null,
   "metadata": {},
   "outputs": [],
   "source": []
  }
 ],
 "metadata": {
  "kernelspec": {
   "display_name": "lending_club_env",
   "language": "python",
   "name": "lending_club_env"
  },
  "language_info": {
   "codemirror_mode": {
    "name": "ipython",
    "version": 3
   },
   "file_extension": ".py",
   "mimetype": "text/x-python",
   "name": "python",
   "nbconvert_exporter": "python",
   "pygments_lexer": "ipython3",
   "version": "3.8.5"
  }
 },
 "nbformat": 4,
 "nbformat_minor": 4
}
