{
 "cells": [
  {
   "cell_type": "markdown",
   "metadata": {},
   "source": [
    "# LENDING CLUB \n",
    "\n",
    "## Data Engineering & EDA\n",
    "\n",
    "En este notebook se van a analizar pormenorizadamente cada una de las variables del data set del conjunto de toda la muestra.\n",
    "\n",
    "Este proceso consta de estas etapas:\n",
    "-\tImportación de librerías: Importación de las diferentes librerías necesarias.\n",
    "-\tImportación de los datos: Importación de los datos del conjunto de la muestra que se han unido en el notebook1\n",
    "    -\tEstudio de Variables:\n",
    "        -\tTarget: se define la variable objetivo a predecir en este modelo.\n",
    "        -\tVariables que omitimos por su contenido. Se trata de variables que por su definición o por su disposición en el momento en el que llega el cliente no disponemos.\n",
    "        -\tVariables con alto % de NAs. Se eliminan aquellas variables que en la mayoría de observaciones su valor es NA.\n",
    "        -\tVariables con valores nulos por razones alternativas. Algunas variables contienen valores nulos debido a la inexistencia del tipo de cuenta del que trata la variable o bien, porque el cliente nunca ha realizado la acción estipulada en la variable.\n",
    "    -\tVARIABLES NUMÉRICAS:\n",
    "        -\tDetección de Outliers\n",
    "        -\tSustitución de los valores nulos por la mediana \n",
    "        -\tEstudio de la distribución de las variables numéricas (histogramas) Normalización de las variables numéricas.\n",
    "    -\tVARIABLES CATEGÓRICAS:\n",
    "        -\tSustitución de los valores nulos por la moda\n",
    "        -\tVariables que no se pueden utilizar para predecir el impago\n",
    "        -\tVariables con excesivo número de clases\n",
    "        -\tVariables con clases desbalanceadas\n",
    "        -\tVariables categóricas erróneas\n",
    "        -\tReducción del número de categorías\n",
    "        -\tEdición de la variable \"grade\"\n",
    "        -\tE studio de la relevancia de los grupos\n",
    "        -\tGráficos de Frecuencias.\n",
    "        -\tVariables Dummies\n"
   ]
  },
  {
   "cell_type": "code",
   "execution_count": 1,
   "metadata": {},
   "outputs": [],
   "source": [
    "import numpy as np\n",
    "import pandas as pd\n",
    "import matplotlib\n",
    "from matplotlib import pyplot as plt # plots\n",
    "import seaborn as sns # plots\n",
    "from sklearn.ensemble import IsolationForest\n",
    "from sklearn import preprocessing "
   ]
  },
  {
   "cell_type": "markdown",
   "metadata": {},
   "source": [
    "## IMPORTACIÓN DE LOS  DATOS"
   ]
  },
  {
   "cell_type": "code",
   "execution_count": 2,
   "metadata": {},
   "outputs": [],
   "source": [
    "path = ('../data/02_intermediate/loan_all.csv') # aqui introducimos el dataset en cuestión\n",
    "data = pd.read_csv(path, low_memory=False) # Lo_memory = False es para evitar el warning por\n",
    "# ser columnas de distinto formato"
   ]
  },
  {
   "cell_type": "code",
   "execution_count": 3,
   "metadata": {},
   "outputs": [
    {
     "data": {
      "text/html": [
       "<div>\n",
       "<style scoped>\n",
       "    .dataframe tbody tr th:only-of-type {\n",
       "        vertical-align: middle;\n",
       "    }\n",
       "\n",
       "    .dataframe tbody tr th {\n",
       "        vertical-align: top;\n",
       "    }\n",
       "\n",
       "    .dataframe thead th {\n",
       "        text-align: right;\n",
       "    }\n",
       "</style>\n",
       "<table border=\"1\" class=\"dataframe\">\n",
       "  <thead>\n",
       "    <tr style=\"text-align: right;\">\n",
       "      <th></th>\n",
       "      <th>Unnamed: 0</th>\n",
       "      <th>id</th>\n",
       "      <th>member_id</th>\n",
       "      <th>loan_amnt</th>\n",
       "      <th>funded_amnt</th>\n",
       "      <th>funded_amnt_inv</th>\n",
       "      <th>term</th>\n",
       "      <th>int_rate</th>\n",
       "      <th>installment</th>\n",
       "      <th>grade</th>\n",
       "      <th>...</th>\n",
       "      <th>hardship_payoff_balance_amount</th>\n",
       "      <th>hardship_last_payment_amount</th>\n",
       "      <th>disbursement_method</th>\n",
       "      <th>debt_settlement_flag</th>\n",
       "      <th>debt_settlement_flag_date</th>\n",
       "      <th>settlement_status</th>\n",
       "      <th>settlement_date</th>\n",
       "      <th>settlement_amount</th>\n",
       "      <th>settlement_percentage</th>\n",
       "      <th>settlement_term</th>\n",
       "    </tr>\n",
       "  </thead>\n",
       "  <tbody>\n",
       "    <tr>\n",
       "      <th>0</th>\n",
       "      <td>0</td>\n",
       "      <td>112435993</td>\n",
       "      <td>NaN</td>\n",
       "      <td>2300</td>\n",
       "      <td>2300</td>\n",
       "      <td>2300.0</td>\n",
       "      <td>36 months</td>\n",
       "      <td>12.62%</td>\n",
       "      <td>77.08</td>\n",
       "      <td>C</td>\n",
       "      <td>...</td>\n",
       "      <td>NaN</td>\n",
       "      <td>NaN</td>\n",
       "      <td>Cash</td>\n",
       "      <td>N</td>\n",
       "      <td>NaN</td>\n",
       "      <td>NaN</td>\n",
       "      <td>NaN</td>\n",
       "      <td>NaN</td>\n",
       "      <td>NaN</td>\n",
       "      <td>NaN</td>\n",
       "    </tr>\n",
       "    <tr>\n",
       "      <th>1</th>\n",
       "      <td>1</td>\n",
       "      <td>112290210</td>\n",
       "      <td>NaN</td>\n",
       "      <td>16000</td>\n",
       "      <td>16000</td>\n",
       "      <td>16000.0</td>\n",
       "      <td>60 months</td>\n",
       "      <td>12.62%</td>\n",
       "      <td>360.95</td>\n",
       "      <td>C</td>\n",
       "      <td>...</td>\n",
       "      <td>NaN</td>\n",
       "      <td>NaN</td>\n",
       "      <td>Cash</td>\n",
       "      <td>N</td>\n",
       "      <td>NaN</td>\n",
       "      <td>NaN</td>\n",
       "      <td>NaN</td>\n",
       "      <td>NaN</td>\n",
       "      <td>NaN</td>\n",
       "      <td>NaN</td>\n",
       "    </tr>\n",
       "    <tr>\n",
       "      <th>2</th>\n",
       "      <td>2</td>\n",
       "      <td>112436985</td>\n",
       "      <td>NaN</td>\n",
       "      <td>6025</td>\n",
       "      <td>6025</td>\n",
       "      <td>6025.0</td>\n",
       "      <td>36 months</td>\n",
       "      <td>15.05%</td>\n",
       "      <td>209.01</td>\n",
       "      <td>C</td>\n",
       "      <td>...</td>\n",
       "      <td>NaN</td>\n",
       "      <td>NaN</td>\n",
       "      <td>Cash</td>\n",
       "      <td>N</td>\n",
       "      <td>NaN</td>\n",
       "      <td>NaN</td>\n",
       "      <td>NaN</td>\n",
       "      <td>NaN</td>\n",
       "      <td>NaN</td>\n",
       "      <td>NaN</td>\n",
       "    </tr>\n",
       "  </tbody>\n",
       "</table>\n",
       "<p>3 rows × 152 columns</p>\n",
       "</div>"
      ],
      "text/plain": [
       "   Unnamed: 0         id  member_id  loan_amnt  funded_amnt  funded_amnt_inv  \\\n",
       "0           0  112435993        NaN       2300         2300           2300.0   \n",
       "1           1  112290210        NaN      16000        16000          16000.0   \n",
       "2           2  112436985        NaN       6025         6025           6025.0   \n",
       "\n",
       "         term int_rate  installment grade  ... hardship_payoff_balance_amount  \\\n",
       "0   36 months   12.62%        77.08     C  ...                            NaN   \n",
       "1   60 months   12.62%       360.95     C  ...                            NaN   \n",
       "2   36 months   15.05%       209.01     C  ...                            NaN   \n",
       "\n",
       "  hardship_last_payment_amount disbursement_method debt_settlement_flag  \\\n",
       "0                          NaN                Cash                    N   \n",
       "1                          NaN                Cash                    N   \n",
       "2                          NaN                Cash                    N   \n",
       "\n",
       "   debt_settlement_flag_date settlement_status settlement_date  \\\n",
       "0                        NaN               NaN             NaN   \n",
       "1                        NaN               NaN             NaN   \n",
       "2                        NaN               NaN             NaN   \n",
       "\n",
       "  settlement_amount settlement_percentage settlement_term  \n",
       "0               NaN                   NaN             NaN  \n",
       "1               NaN                   NaN             NaN  \n",
       "2               NaN                   NaN             NaN  \n",
       "\n",
       "[3 rows x 152 columns]"
      ]
     },
     "execution_count": 3,
     "metadata": {},
     "output_type": "execute_result"
    }
   ],
   "source": [
    "data.head(3)"
   ]
  },
  {
   "cell_type": "markdown",
   "metadata": {},
   "source": [
    "Eliminamos la columna de índice 'Unnamed: 0', que se crea por defecto"
   ]
  },
  {
   "cell_type": "code",
   "execution_count": 4,
   "metadata": {},
   "outputs": [],
   "source": [
    "# Como hemos creado el data frame con python exporta el csv añadiendo la columna del índice\n",
    "# OJO, si cambiamos el orgien de los datos es posible que haya que eliminarlo!\n",
    "\n",
    "del data['Unnamed: 0']"
   ]
  },
  {
   "cell_type": "code",
   "execution_count": 5,
   "metadata": {},
   "outputs": [
    {
     "data": {
      "text/html": [
       "<div>\n",
       "<style scoped>\n",
       "    .dataframe tbody tr th:only-of-type {\n",
       "        vertical-align: middle;\n",
       "    }\n",
       "\n",
       "    .dataframe tbody tr th {\n",
       "        vertical-align: top;\n",
       "    }\n",
       "\n",
       "    .dataframe thead th {\n",
       "        text-align: right;\n",
       "    }\n",
       "</style>\n",
       "<table border=\"1\" class=\"dataframe\">\n",
       "  <thead>\n",
       "    <tr style=\"text-align: right;\">\n",
       "      <th></th>\n",
       "      <th>id</th>\n",
       "      <th>member_id</th>\n",
       "      <th>loan_amnt</th>\n",
       "      <th>funded_amnt</th>\n",
       "      <th>funded_amnt_inv</th>\n",
       "      <th>term</th>\n",
       "      <th>int_rate</th>\n",
       "      <th>installment</th>\n",
       "      <th>grade</th>\n",
       "      <th>sub_grade</th>\n",
       "      <th>...</th>\n",
       "      <th>hardship_payoff_balance_amount</th>\n",
       "      <th>hardship_last_payment_amount</th>\n",
       "      <th>disbursement_method</th>\n",
       "      <th>debt_settlement_flag</th>\n",
       "      <th>debt_settlement_flag_date</th>\n",
       "      <th>settlement_status</th>\n",
       "      <th>settlement_date</th>\n",
       "      <th>settlement_amount</th>\n",
       "      <th>settlement_percentage</th>\n",
       "      <th>settlement_term</th>\n",
       "    </tr>\n",
       "  </thead>\n",
       "  <tbody>\n",
       "    <tr>\n",
       "      <th>0</th>\n",
       "      <td>112435993</td>\n",
       "      <td>NaN</td>\n",
       "      <td>2300</td>\n",
       "      <td>2300</td>\n",
       "      <td>2300.0</td>\n",
       "      <td>36 months</td>\n",
       "      <td>12.62%</td>\n",
       "      <td>77.08</td>\n",
       "      <td>C</td>\n",
       "      <td>C1</td>\n",
       "      <td>...</td>\n",
       "      <td>NaN</td>\n",
       "      <td>NaN</td>\n",
       "      <td>Cash</td>\n",
       "      <td>N</td>\n",
       "      <td>NaN</td>\n",
       "      <td>NaN</td>\n",
       "      <td>NaN</td>\n",
       "      <td>NaN</td>\n",
       "      <td>NaN</td>\n",
       "      <td>NaN</td>\n",
       "    </tr>\n",
       "    <tr>\n",
       "      <th>1</th>\n",
       "      <td>112290210</td>\n",
       "      <td>NaN</td>\n",
       "      <td>16000</td>\n",
       "      <td>16000</td>\n",
       "      <td>16000.0</td>\n",
       "      <td>60 months</td>\n",
       "      <td>12.62%</td>\n",
       "      <td>360.95</td>\n",
       "      <td>C</td>\n",
       "      <td>C1</td>\n",
       "      <td>...</td>\n",
       "      <td>NaN</td>\n",
       "      <td>NaN</td>\n",
       "      <td>Cash</td>\n",
       "      <td>N</td>\n",
       "      <td>NaN</td>\n",
       "      <td>NaN</td>\n",
       "      <td>NaN</td>\n",
       "      <td>NaN</td>\n",
       "      <td>NaN</td>\n",
       "      <td>NaN</td>\n",
       "    </tr>\n",
       "    <tr>\n",
       "      <th>2</th>\n",
       "      <td>112436985</td>\n",
       "      <td>NaN</td>\n",
       "      <td>6025</td>\n",
       "      <td>6025</td>\n",
       "      <td>6025.0</td>\n",
       "      <td>36 months</td>\n",
       "      <td>15.05%</td>\n",
       "      <td>209.01</td>\n",
       "      <td>C</td>\n",
       "      <td>C4</td>\n",
       "      <td>...</td>\n",
       "      <td>NaN</td>\n",
       "      <td>NaN</td>\n",
       "      <td>Cash</td>\n",
       "      <td>N</td>\n",
       "      <td>NaN</td>\n",
       "      <td>NaN</td>\n",
       "      <td>NaN</td>\n",
       "      <td>NaN</td>\n",
       "      <td>NaN</td>\n",
       "      <td>NaN</td>\n",
       "    </tr>\n",
       "  </tbody>\n",
       "</table>\n",
       "<p>3 rows × 151 columns</p>\n",
       "</div>"
      ],
      "text/plain": [
       "          id  member_id  loan_amnt  funded_amnt  funded_amnt_inv        term  \\\n",
       "0  112435993        NaN       2300         2300           2300.0   36 months   \n",
       "1  112290210        NaN      16000        16000          16000.0   60 months   \n",
       "2  112436985        NaN       6025         6025           6025.0   36 months   \n",
       "\n",
       "  int_rate  installment grade sub_grade  ... hardship_payoff_balance_amount  \\\n",
       "0   12.62%        77.08     C        C1  ...                            NaN   \n",
       "1   12.62%       360.95     C        C1  ...                            NaN   \n",
       "2   15.05%       209.01     C        C4  ...                            NaN   \n",
       "\n",
       "  hardship_last_payment_amount disbursement_method  debt_settlement_flag  \\\n",
       "0                          NaN                Cash                     N   \n",
       "1                          NaN                Cash                     N   \n",
       "2                          NaN                Cash                     N   \n",
       "\n",
       "  debt_settlement_flag_date settlement_status settlement_date  \\\n",
       "0                       NaN               NaN             NaN   \n",
       "1                       NaN               NaN             NaN   \n",
       "2                       NaN               NaN             NaN   \n",
       "\n",
       "  settlement_amount settlement_percentage settlement_term  \n",
       "0               NaN                   NaN             NaN  \n",
       "1               NaN                   NaN             NaN  \n",
       "2               NaN                   NaN             NaN  \n",
       "\n",
       "[3 rows x 151 columns]"
      ]
     },
     "execution_count": 5,
     "metadata": {},
     "output_type": "execute_result"
    }
   ],
   "source": [
    "data.head(3)"
   ]
  },
  {
   "cell_type": "markdown",
   "metadata": {},
   "source": [
    "## ESTUDIO DE VARIABLES:\n",
    "\n",
    "### Variable Target:\n",
    "\n",
    "La variable objetivo del estudio que se quiere predecir es el pago o impago de los préstamos. En el data set original esta información la proporciona la variable: \"loan_status\".\n",
    "\n",
    "En primer lugar se analiza cual es la frecuencia de cada uno de los posibles estados del préstamo:"
   ]
  },
  {
   "cell_type": "code",
   "execution_count": 6,
   "metadata": {},
   "outputs": [
    {
     "data": {
      "text/plain": [
       "Current               422685\n",
       "Fully Paid            345520\n",
       "Charged Off            97047\n",
       "Late (31-120 days)     11168\n",
       "In Grace Period         5507\n",
       "Late (16-30 days)       2915\n",
       "Default                   34\n",
       "Name: loan_status, dtype: int64"
      ]
     },
     "execution_count": 6,
     "metadata": {},
     "output_type": "execute_result"
    }
   ],
   "source": [
    "data['loan_status'].value_counts(dropna=False)"
   ]
  },
  {
   "cell_type": "markdown",
   "metadata": {},
   "source": [
    "El objetivo será predecir aquellos clientes que van a pagar el préstamnos íntegramente y aquellos que no lo van a hacer.\n",
    "\n",
    "Para ello, en función de los valores de la variable \"loan_status\", se definen  dos grupos:\n",
    "    \n",
    "  __GRUPO 1__\n",
    "\n",
    "Clientes que han pagado el préstamo íntegramente, cuyo 'loan_status' sería:\n",
    "\n",
    "- Fully Paid.\n",
    "\n",
    "\n",
    " __GRUPO 2__\n",
    "\n",
    "Clientes que no han pagado el préstamo, cuyo 'loan_status' sería:\n",
    "\n",
    "- Charged Off: Después de que un préstamo ha sido incumplido, la entidad toma medidas. Una vez estas  acciones y las de las agencias de cobro de deudas se completan, el préstamo es \"cargado\". A partir de este estado todos saben que no se toman más medidas sobre este préstamo y todas las reclamaciones, cobros y medidas legales que son posibles han sido completadas.\n",
    "\n",
    "- Default: cuando un préstamo tiene uno o más pagos atrasados por más de 90 días, el préstamo se considera como \"impago\".\n",
    "\n",
    "- In Grace Period: Este estado indica que un préstamo ha vencido (independientemente de si es el primer pago o un pago consecutivo del préstamo). Este período dura 3 días desde el momento en que el pago se vence. Si el prestatario completa el pago durante ese tiempo, el pago se marca como \"Pagado a tiempo\" y no se cobran intereses de demora en el préstamo.\n",
    "\n",
    "- Late (16-30 days): cuando uno o más pagos de un préstamo se atrasan más de 16 días, pero menos de 31 días. Este es el primero de los dos rangos de retraso. Esto también significa que hemos empezado a ponernos en contacto con el prestatario a través de múltiples canales de comunicación para recordarle sus obligaciones de pago.\n",
    "\n",
    "- Late (31-120 days): cuando uno o más pagos de un préstamo están atrasados por 31 días o más, pero menos de 120 días. Cuando un préstamo se encuentra en este estado, los procedimientos de reclamación están en curso y regularmente nos ponemos en contacto con el prestatario por correo electrónico y por teléfono.\n",
    "\n",
    "__EXCLUDED VALUE__\n",
    "\n",
    "Hay incertidumbre en el siguiente estado :\n",
    "\n",
    "- Current: un préstamo puede tener el estado \"Current\" cuando se han completado uno o más pagos y no hay ningún pago atrasado. También significa que este préstamo todavía tiene uno o más pagos futuros programados.\n",
    "\n",
    "Por las caraterísticas de este estado y del modelo que se quiere establecer, es procedente eliminar los registros con este tipo de estado de nuestro data set."
   ]
  },
  {
   "cell_type": "code",
   "execution_count": 9,
   "metadata": {},
   "outputs": [],
   "source": [
    "# Eliminamos las observaciones cuyo status es \"Current\"\n",
    "data = data.drop(data[data['loan_status']==\"Current\"].index)"
   ]
  },
  {
   "cell_type": "code",
   "execution_count": 10,
   "metadata": {},
   "outputs": [
    {
     "data": {
      "text/plain": [
       "Fully Paid            345520\n",
       "Charged Off            97047\n",
       "Late (31-120 days)     11168\n",
       "In Grace Period         5507\n",
       "Late (16-30 days)       2915\n",
       "Default                   34\n",
       "Name: loan_status, dtype: int64"
      ]
     },
     "execution_count": 10,
     "metadata": {},
     "output_type": "execute_result"
    }
   ],
   "source": [
    "# Visualizamos el número de observaciones que hay para cada posible status\n",
    "data['loan_status'].value_counts(dropna=False)"
   ]
  },
  {
   "cell_type": "code",
   "execution_count": 12,
   "metadata": {},
   "outputs": [],
   "source": [
    "# Creamos columna llamada target\n",
    "# toma valor 0 si fully paid y valor 1 en caso contrario (impago)\n",
    "data['target'] = np.where((data['loan_status'] == 'Fully Paid'), 0, 1)"
   ]
  },
  {
   "cell_type": "markdown",
   "metadata": {},
   "source": [
    "Observamos que hay 345520 observaciones que han pagado y 116671 con impago"
   ]
  },
  {
   "cell_type": "code",
   "execution_count": 13,
   "metadata": {},
   "outputs": [
    {
     "data": {
      "text/plain": [
       "0    345520\n",
       "1    116671\n",
       "Name: target, dtype: int64"
      ]
     },
     "execution_count": 13,
     "metadata": {},
     "output_type": "execute_result"
    }
   ],
   "source": [
    "data['target'].value_counts(dropna=False)"
   ]
  },
  {
   "cell_type": "code",
   "execution_count": 14,
   "metadata": {},
   "outputs": [],
   "source": [
    "# Se crea un dataframe para poder obtener el porcentaje de impago\n",
    "porcentaje = pd.DataFrame(data['target'].value_counts(dropna=False))"
   ]
  },
  {
   "cell_type": "markdown",
   "metadata": {},
   "source": [
    "Se calcula el porcentaje de impago de las observaciones y obtenemos que el 25.24% de los préstamos tienen impago"
   ]
  },
  {
   "cell_type": "code",
   "execution_count": 15,
   "metadata": {},
   "outputs": [
    {
     "data": {
      "text/plain": [
       "target    0.25243\n",
       "dtype: float64"
      ]
     },
     "execution_count": 15,
     "metadata": {},
     "output_type": "execute_result"
    }
   ],
   "source": [
    "# Cálculo del porcentaje de impago\n",
    "porcentaje.iloc[1]/(porcentaje.iloc[1] + porcentaje.iloc[0])"
   ]
  },
  {
   "cell_type": "code",
   "execution_count": 16,
   "metadata": {},
   "outputs": [],
   "source": [
    "# Eliminamos la columna de loan_status y dejamos solo la columna de Target\n",
    "del data['loan_status']"
   ]
  },
  {
   "cell_type": "code",
   "execution_count": 17,
   "metadata": {},
   "outputs": [
    {
     "data": {
      "text/html": [
       "<div>\n",
       "<style scoped>\n",
       "    .dataframe tbody tr th:only-of-type {\n",
       "        vertical-align: middle;\n",
       "    }\n",
       "\n",
       "    .dataframe tbody tr th {\n",
       "        vertical-align: top;\n",
       "    }\n",
       "\n",
       "    .dataframe thead th {\n",
       "        text-align: right;\n",
       "    }\n",
       "</style>\n",
       "<table border=\"1\" class=\"dataframe\">\n",
       "  <thead>\n",
       "    <tr style=\"text-align: right;\">\n",
       "      <th></th>\n",
       "      <th>id</th>\n",
       "      <th>member_id</th>\n",
       "      <th>loan_amnt</th>\n",
       "      <th>funded_amnt</th>\n",
       "      <th>funded_amnt_inv</th>\n",
       "      <th>term</th>\n",
       "      <th>int_rate</th>\n",
       "      <th>installment</th>\n",
       "      <th>grade</th>\n",
       "      <th>sub_grade</th>\n",
       "      <th>...</th>\n",
       "      <th>hardship_last_payment_amount</th>\n",
       "      <th>disbursement_method</th>\n",
       "      <th>debt_settlement_flag</th>\n",
       "      <th>debt_settlement_flag_date</th>\n",
       "      <th>settlement_status</th>\n",
       "      <th>settlement_date</th>\n",
       "      <th>settlement_amount</th>\n",
       "      <th>settlement_percentage</th>\n",
       "      <th>settlement_term</th>\n",
       "      <th>target</th>\n",
       "    </tr>\n",
       "  </thead>\n",
       "  <tbody>\n",
       "    <tr>\n",
       "      <th>8</th>\n",
       "      <td>112038251</td>\n",
       "      <td>NaN</td>\n",
       "      <td>11575</td>\n",
       "      <td>11575</td>\n",
       "      <td>11575.0</td>\n",
       "      <td>36 months</td>\n",
       "      <td>7.35%</td>\n",
       "      <td>359.26</td>\n",
       "      <td>A</td>\n",
       "      <td>A4</td>\n",
       "      <td>...</td>\n",
       "      <td>NaN</td>\n",
       "      <td>Cash</td>\n",
       "      <td>N</td>\n",
       "      <td>NaN</td>\n",
       "      <td>NaN</td>\n",
       "      <td>NaN</td>\n",
       "      <td>NaN</td>\n",
       "      <td>NaN</td>\n",
       "      <td>NaN</td>\n",
       "      <td>0</td>\n",
       "    </tr>\n",
       "    <tr>\n",
       "      <th>10</th>\n",
       "      <td>112149045</td>\n",
       "      <td>NaN</td>\n",
       "      <td>7200</td>\n",
       "      <td>7200</td>\n",
       "      <td>7200.0</td>\n",
       "      <td>36 months</td>\n",
       "      <td>24.85%</td>\n",
       "      <td>285.70</td>\n",
       "      <td>E</td>\n",
       "      <td>E3</td>\n",
       "      <td>...</td>\n",
       "      <td>NaN</td>\n",
       "      <td>Cash</td>\n",
       "      <td>N</td>\n",
       "      <td>NaN</td>\n",
       "      <td>NaN</td>\n",
       "      <td>NaN</td>\n",
       "      <td>NaN</td>\n",
       "      <td>NaN</td>\n",
       "      <td>NaN</td>\n",
       "      <td>0</td>\n",
       "    </tr>\n",
       "    <tr>\n",
       "      <th>24</th>\n",
       "      <td>112052261</td>\n",
       "      <td>NaN</td>\n",
       "      <td>7500</td>\n",
       "      <td>7500</td>\n",
       "      <td>7500.0</td>\n",
       "      <td>36 months</td>\n",
       "      <td>7.35%</td>\n",
       "      <td>232.79</td>\n",
       "      <td>A</td>\n",
       "      <td>A4</td>\n",
       "      <td>...</td>\n",
       "      <td>NaN</td>\n",
       "      <td>Cash</td>\n",
       "      <td>N</td>\n",
       "      <td>NaN</td>\n",
       "      <td>NaN</td>\n",
       "      <td>NaN</td>\n",
       "      <td>NaN</td>\n",
       "      <td>NaN</td>\n",
       "      <td>NaN</td>\n",
       "      <td>0</td>\n",
       "    </tr>\n",
       "    <tr>\n",
       "      <th>42</th>\n",
       "      <td>111999259</td>\n",
       "      <td>NaN</td>\n",
       "      <td>10000</td>\n",
       "      <td>10000</td>\n",
       "      <td>10000.0</td>\n",
       "      <td>60 months</td>\n",
       "      <td>16.02%</td>\n",
       "      <td>243.29</td>\n",
       "      <td>C</td>\n",
       "      <td>C5</td>\n",
       "      <td>...</td>\n",
       "      <td>NaN</td>\n",
       "      <td>Cash</td>\n",
       "      <td>N</td>\n",
       "      <td>NaN</td>\n",
       "      <td>NaN</td>\n",
       "      <td>NaN</td>\n",
       "      <td>NaN</td>\n",
       "      <td>NaN</td>\n",
       "      <td>NaN</td>\n",
       "      <td>0</td>\n",
       "    </tr>\n",
       "    <tr>\n",
       "      <th>91</th>\n",
       "      <td>111808508</td>\n",
       "      <td>NaN</td>\n",
       "      <td>14000</td>\n",
       "      <td>14000</td>\n",
       "      <td>14000.0</td>\n",
       "      <td>36 months</td>\n",
       "      <td>16.02%</td>\n",
       "      <td>492.34</td>\n",
       "      <td>C</td>\n",
       "      <td>C5</td>\n",
       "      <td>...</td>\n",
       "      <td>NaN</td>\n",
       "      <td>Cash</td>\n",
       "      <td>N</td>\n",
       "      <td>NaN</td>\n",
       "      <td>NaN</td>\n",
       "      <td>NaN</td>\n",
       "      <td>NaN</td>\n",
       "      <td>NaN</td>\n",
       "      <td>NaN</td>\n",
       "      <td>0</td>\n",
       "    </tr>\n",
       "  </tbody>\n",
       "</table>\n",
       "<p>5 rows × 151 columns</p>\n",
       "</div>"
      ],
      "text/plain": [
       "           id  member_id  loan_amnt  funded_amnt  funded_amnt_inv        term  \\\n",
       "8   112038251        NaN      11575        11575          11575.0   36 months   \n",
       "10  112149045        NaN       7200         7200           7200.0   36 months   \n",
       "24  112052261        NaN       7500         7500           7500.0   36 months   \n",
       "42  111999259        NaN      10000        10000          10000.0   60 months   \n",
       "91  111808508        NaN      14000        14000          14000.0   36 months   \n",
       "\n",
       "   int_rate  installment grade sub_grade  ... hardship_last_payment_amount  \\\n",
       "8     7.35%       359.26     A        A4  ...                          NaN   \n",
       "10   24.85%       285.70     E        E3  ...                          NaN   \n",
       "24    7.35%       232.79     A        A4  ...                          NaN   \n",
       "42   16.02%       243.29     C        C5  ...                          NaN   \n",
       "91   16.02%       492.34     C        C5  ...                          NaN   \n",
       "\n",
       "   disbursement_method debt_settlement_flag  debt_settlement_flag_date  \\\n",
       "8                 Cash                    N                        NaN   \n",
       "10                Cash                    N                        NaN   \n",
       "24                Cash                    N                        NaN   \n",
       "42                Cash                    N                        NaN   \n",
       "91                Cash                    N                        NaN   \n",
       "\n",
       "   settlement_status settlement_date settlement_amount settlement_percentage  \\\n",
       "8                NaN             NaN               NaN                   NaN   \n",
       "10               NaN             NaN               NaN                   NaN   \n",
       "24               NaN             NaN               NaN                   NaN   \n",
       "42               NaN             NaN               NaN                   NaN   \n",
       "91               NaN             NaN               NaN                   NaN   \n",
       "\n",
       "   settlement_term target  \n",
       "8              NaN      0  \n",
       "10             NaN      0  \n",
       "24             NaN      0  \n",
       "42             NaN      0  \n",
       "91             NaN      0  \n",
       "\n",
       "[5 rows x 151 columns]"
      ]
     },
     "execution_count": 17,
     "metadata": {},
     "output_type": "execute_result"
    }
   ],
   "source": [
    "data.head(5)"
   ]
  },
  {
   "cell_type": "markdown",
   "metadata": {},
   "source": [
    "### Variables que omitimos por su contenido:\n",
    "\n",
    "Eliminamos las variables que aportan información similar a la variable target:\n",
    "\n",
    "\n"
   ]
  },
  {
   "cell_type": "code",
   "execution_count": 19,
   "metadata": {},
   "outputs": [],
   "source": [
    "del data['out_prncp_inv']\n",
    "del data['total_pymnt']\n",
    "del data['out_prncp']\n",
    "del data['total_pymnt_inv']\n",
    "del data['total_rec_prncp']\n",
    "del data['recoveries']\n",
    "del data['hardship_flag']\n",
    "del data['debt_settlement_flag']\n",
    "del data['settlement_date']\n",
    "del data['settlement_status']\n",
    "del data['settlement_amount']\n",
    "del data['settlement_percentage']\n",
    "del data['settlement_term']\n",
    "del data['emp_title']\n",
    "del data['issue_d']\n",
    "del data['last_credit_pull_d']\n",
    "del data['last_pymnt_d']\n",
    "del data['total_rec_int']\n",
    "del data['total_rec_late_fee']\n",
    "del data['last_pymnt_amnt']\n",
    "del data['pymnt_plan']\n",
    "del data['next_pymnt_d']"
   ]
  },
  {
   "cell_type": "markdown",
   "metadata": {},
   "source": [
    "Ahora tenemos 129 variables"
   ]
  },
  {
   "cell_type": "code",
   "execution_count": 20,
   "metadata": {},
   "outputs": [
    {
     "data": {
      "text/plain": [
       "(462191, 129)"
      ]
     },
     "execution_count": 20,
     "metadata": {},
     "output_type": "execute_result"
    }
   ],
   "source": [
    "data.shape "
   ]
  },
  {
   "cell_type": "markdown",
   "metadata": {},
   "source": [
    "### Variables con alto % de NA"
   ]
  },
  {
   "cell_type": "markdown",
   "metadata": {},
   "source": [
    "Primero obtenemos el porcentaje de valores nulos de cada columna"
   ]
  },
  {
   "cell_type": "code",
   "execution_count": 21,
   "metadata": {},
   "outputs": [
    {
     "data": {
      "text/plain": [
       "member_id                                     1.000000\n",
       "sec_app_mths_since_last_major_derog           0.998771\n",
       "orig_projected_additional_accrued_interest    0.997986\n",
       "hardship_type                                 0.997174\n",
       "hardship_end_date                             0.997174\n",
       "hardship_reason                               0.997174\n",
       "hardship_status                               0.997174\n",
       "deferral_term                                 0.997174\n",
       "hardship_amount                               0.997174\n",
       "hardship_start_date                           0.997174\n",
       "payment_plan_start_date                       0.997174\n",
       "hardship_length                               0.997174\n",
       "hardship_dpd                                  0.997174\n",
       "hardship_loan_status                          0.997174\n",
       "hardship_payoff_balance_amount                0.997174\n",
       "hardship_last_payment_amount                  0.997174\n",
       "sec_app_revol_util                            0.997036\n",
       "sec_app_open_acc                              0.996962\n",
       "sec_app_fico_range_low                        0.996962\n",
       "sec_app_fico_range_high                       0.996962\n",
       "sec_app_earliest_cr_line                      0.996962\n",
       "sec_app_inq_last_6mths                        0.996962\n",
       "sec_app_mort_acc                              0.996962\n",
       "revol_bal_joint                               0.996962\n",
       "sec_app_open_act_il                           0.996962\n",
       "sec_app_num_rev_accts                         0.996962\n",
       "sec_app_chargeoff_within_12_mths              0.996962\n",
       "sec_app_collections_12_mths_ex_med            0.996962\n",
       "dti_joint                                     0.996430\n",
       "verification_status_joint                     0.996430\n",
       "annual_inc_joint                              0.996430\n",
       "debt_settlement_flag_date                     0.981586\n",
       "desc                                          0.969246\n",
       "il_util                                       0.940832\n",
       "mths_since_rcnt_il                            0.933761\n",
       "all_util                                      0.932175\n",
       "open_rv_24m                                   0.932167\n",
       "total_cu_tl                                   0.932167\n",
       "open_act_il                                   0.932167\n",
       "open_il_12m                                   0.932167\n",
       "dtype: float64"
      ]
     },
     "execution_count": 21,
     "metadata": {},
     "output_type": "execute_result"
    }
   ],
   "source": [
    "percentage_NaN = data.apply(lambda x: sum(x.isna()/len(data)))\n",
    "percentage_NaN.sort_values(ascending = False).head(40)"
   ]
  },
  {
   "cell_type": "markdown",
   "metadata": {},
   "source": [
    "A continuación creamos un dataframe con los porcentajes de valores nulos de todo el dataset"
   ]
  },
  {
   "cell_type": "code",
   "execution_count": 22,
   "metadata": {},
   "outputs": [],
   "source": [
    "NaN = pd.DataFrame(round(data.isnull().sum()/len(data.index)*100,2),columns=['null_percent'])"
   ]
  },
  {
   "cell_type": "code",
   "execution_count": 23,
   "metadata": {
    "scrolled": true
   },
   "outputs": [
    {
     "data": {
      "text/html": [
       "<div>\n",
       "<style scoped>\n",
       "    .dataframe tbody tr th:only-of-type {\n",
       "        vertical-align: middle;\n",
       "    }\n",
       "\n",
       "    .dataframe tbody tr th {\n",
       "        vertical-align: top;\n",
       "    }\n",
       "\n",
       "    .dataframe thead th {\n",
       "        text-align: right;\n",
       "    }\n",
       "</style>\n",
       "<table border=\"1\" class=\"dataframe\">\n",
       "  <thead>\n",
       "    <tr style=\"text-align: right;\">\n",
       "      <th></th>\n",
       "      <th>null_percent</th>\n",
       "    </tr>\n",
       "  </thead>\n",
       "  <tbody>\n",
       "    <tr>\n",
       "      <th>id</th>\n",
       "      <td>0.0</td>\n",
       "    </tr>\n",
       "    <tr>\n",
       "      <th>member_id</th>\n",
       "      <td>100.0</td>\n",
       "    </tr>\n",
       "    <tr>\n",
       "      <th>loan_amnt</th>\n",
       "      <td>0.0</td>\n",
       "    </tr>\n",
       "    <tr>\n",
       "      <th>funded_amnt</th>\n",
       "      <td>0.0</td>\n",
       "    </tr>\n",
       "    <tr>\n",
       "      <th>funded_amnt_inv</th>\n",
       "      <td>0.0</td>\n",
       "    </tr>\n",
       "  </tbody>\n",
       "</table>\n",
       "</div>"
      ],
      "text/plain": [
       "                 null_percent\n",
       "id                        0.0\n",
       "member_id               100.0\n",
       "loan_amnt                 0.0\n",
       "funded_amnt               0.0\n",
       "funded_amnt_inv           0.0"
      ]
     },
     "execution_count": 23,
     "metadata": {},
     "output_type": "execute_result"
    }
   ],
   "source": [
    "NaN.head()"
   ]
  },
  {
   "cell_type": "markdown",
   "metadata": {},
   "source": [
    "Creamos un filtro para las columnas con más del 95% de NAS y  seguidamente las eliminamos del dataframe"
   ]
  },
  {
   "cell_type": "code",
   "execution_count": 105,
   "metadata": {},
   "outputs": [
    {
     "data": {
      "text/html": [
       "<div>\n",
       "<style scoped>\n",
       "    .dataframe tbody tr th:only-of-type {\n",
       "        vertical-align: middle;\n",
       "    }\n",
       "\n",
       "    .dataframe tbody tr th {\n",
       "        vertical-align: top;\n",
       "    }\n",
       "\n",
       "    .dataframe thead th {\n",
       "        text-align: right;\n",
       "    }\n",
       "</style>\n",
       "<table border=\"1\" class=\"dataframe\">\n",
       "  <thead>\n",
       "    <tr style=\"text-align: right;\">\n",
       "      <th></th>\n",
       "      <th>null_percent</th>\n",
       "    </tr>\n",
       "  </thead>\n",
       "  <tbody>\n",
       "    <tr>\n",
       "      <th>member_id</th>\n",
       "      <td>100.00</td>\n",
       "    </tr>\n",
       "    <tr>\n",
       "      <th>desc</th>\n",
       "      <td>96.92</td>\n",
       "    </tr>\n",
       "    <tr>\n",
       "      <th>annual_inc_joint</th>\n",
       "      <td>99.64</td>\n",
       "    </tr>\n",
       "    <tr>\n",
       "      <th>dti_joint</th>\n",
       "      <td>99.64</td>\n",
       "    </tr>\n",
       "    <tr>\n",
       "      <th>verification_status_joint</th>\n",
       "      <td>99.64</td>\n",
       "    </tr>\n",
       "    <tr>\n",
       "      <th>revol_bal_joint</th>\n",
       "      <td>99.70</td>\n",
       "    </tr>\n",
       "    <tr>\n",
       "      <th>sec_app_fico_range_low</th>\n",
       "      <td>99.70</td>\n",
       "    </tr>\n",
       "    <tr>\n",
       "      <th>sec_app_fico_range_high</th>\n",
       "      <td>99.70</td>\n",
       "    </tr>\n",
       "    <tr>\n",
       "      <th>sec_app_earliest_cr_line</th>\n",
       "      <td>99.70</td>\n",
       "    </tr>\n",
       "    <tr>\n",
       "      <th>sec_app_inq_last_6mths</th>\n",
       "      <td>99.70</td>\n",
       "    </tr>\n",
       "    <tr>\n",
       "      <th>sec_app_mort_acc</th>\n",
       "      <td>99.70</td>\n",
       "    </tr>\n",
       "    <tr>\n",
       "      <th>sec_app_open_acc</th>\n",
       "      <td>99.70</td>\n",
       "    </tr>\n",
       "    <tr>\n",
       "      <th>sec_app_revol_util</th>\n",
       "      <td>99.70</td>\n",
       "    </tr>\n",
       "    <tr>\n",
       "      <th>sec_app_open_act_il</th>\n",
       "      <td>99.70</td>\n",
       "    </tr>\n",
       "    <tr>\n",
       "      <th>sec_app_num_rev_accts</th>\n",
       "      <td>99.70</td>\n",
       "    </tr>\n",
       "    <tr>\n",
       "      <th>sec_app_chargeoff_within_12_mths</th>\n",
       "      <td>99.70</td>\n",
       "    </tr>\n",
       "    <tr>\n",
       "      <th>sec_app_collections_12_mths_ex_med</th>\n",
       "      <td>99.70</td>\n",
       "    </tr>\n",
       "    <tr>\n",
       "      <th>sec_app_mths_since_last_major_derog</th>\n",
       "      <td>99.88</td>\n",
       "    </tr>\n",
       "    <tr>\n",
       "      <th>hardship_type</th>\n",
       "      <td>99.72</td>\n",
       "    </tr>\n",
       "    <tr>\n",
       "      <th>hardship_reason</th>\n",
       "      <td>99.72</td>\n",
       "    </tr>\n",
       "    <tr>\n",
       "      <th>hardship_status</th>\n",
       "      <td>99.72</td>\n",
       "    </tr>\n",
       "    <tr>\n",
       "      <th>deferral_term</th>\n",
       "      <td>99.72</td>\n",
       "    </tr>\n",
       "    <tr>\n",
       "      <th>hardship_amount</th>\n",
       "      <td>99.72</td>\n",
       "    </tr>\n",
       "    <tr>\n",
       "      <th>hardship_start_date</th>\n",
       "      <td>99.72</td>\n",
       "    </tr>\n",
       "    <tr>\n",
       "      <th>hardship_end_date</th>\n",
       "      <td>99.72</td>\n",
       "    </tr>\n",
       "    <tr>\n",
       "      <th>payment_plan_start_date</th>\n",
       "      <td>99.72</td>\n",
       "    </tr>\n",
       "    <tr>\n",
       "      <th>hardship_length</th>\n",
       "      <td>99.72</td>\n",
       "    </tr>\n",
       "    <tr>\n",
       "      <th>hardship_dpd</th>\n",
       "      <td>99.72</td>\n",
       "    </tr>\n",
       "    <tr>\n",
       "      <th>hardship_loan_status</th>\n",
       "      <td>99.72</td>\n",
       "    </tr>\n",
       "    <tr>\n",
       "      <th>orig_projected_additional_accrued_interest</th>\n",
       "      <td>99.80</td>\n",
       "    </tr>\n",
       "    <tr>\n",
       "      <th>hardship_payoff_balance_amount</th>\n",
       "      <td>99.72</td>\n",
       "    </tr>\n",
       "    <tr>\n",
       "      <th>hardship_last_payment_amount</th>\n",
       "      <td>99.72</td>\n",
       "    </tr>\n",
       "    <tr>\n",
       "      <th>debt_settlement_flag_date</th>\n",
       "      <td>98.16</td>\n",
       "    </tr>\n",
       "  </tbody>\n",
       "</table>\n",
       "</div>"
      ],
      "text/plain": [
       "                                            null_percent\n",
       "member_id                                         100.00\n",
       "desc                                               96.92\n",
       "annual_inc_joint                                   99.64\n",
       "dti_joint                                          99.64\n",
       "verification_status_joint                          99.64\n",
       "revol_bal_joint                                    99.70\n",
       "sec_app_fico_range_low                             99.70\n",
       "sec_app_fico_range_high                            99.70\n",
       "sec_app_earliest_cr_line                           99.70\n",
       "sec_app_inq_last_6mths                             99.70\n",
       "sec_app_mort_acc                                   99.70\n",
       "sec_app_open_acc                                   99.70\n",
       "sec_app_revol_util                                 99.70\n",
       "sec_app_open_act_il                                99.70\n",
       "sec_app_num_rev_accts                              99.70\n",
       "sec_app_chargeoff_within_12_mths                   99.70\n",
       "sec_app_collections_12_mths_ex_med                 99.70\n",
       "sec_app_mths_since_last_major_derog                99.88\n",
       "hardship_type                                      99.72\n",
       "hardship_reason                                    99.72\n",
       "hardship_status                                    99.72\n",
       "deferral_term                                      99.72\n",
       "hardship_amount                                    99.72\n",
       "hardship_start_date                                99.72\n",
       "hardship_end_date                                  99.72\n",
       "payment_plan_start_date                            99.72\n",
       "hardship_length                                    99.72\n",
       "hardship_dpd                                       99.72\n",
       "hardship_loan_status                               99.72\n",
       "orig_projected_additional_accrued_interest         99.80\n",
       "hardship_payoff_balance_amount                     99.72\n",
       "hardship_last_payment_amount                       99.72\n",
       "debt_settlement_flag_date                          98.16"
      ]
     },
     "execution_count": 105,
     "metadata": {},
     "output_type": "execute_result"
    }
   ],
   "source": [
    "Filtro = NaN['null_percent']>95\n",
    "Nulls = NaN[Filtro]\n",
    "Nulls"
   ]
  },
  {
   "cell_type": "code",
   "execution_count": null,
   "metadata": {},
   "outputs": [],
   "source": [
    "# Eliminamos las variables con más del 95% de NAS en el dataset inicial\n",
    "\n",
    "del data['member_id']\n",
    "del data['desc']\n",
    "del data['annual_inc_joint'] \n",
    "del data['dti_joint']                 \n",
    "del data['verification_status_joint']                     \n",
    "del data['revol_bal_joint']                               \n",
    "del data['sec_app_fico_range_low']                       \n",
    "del data['sec_app_fico_range_high']                       \n",
    "del data['sec_app_earliest_cr_line']                      \n",
    "del data['sec_app_inq_last_6mths']                        \n",
    "del data['sec_app_mort_acc']                              \n",
    "del data['sec_app_open_acc']                              \n",
    "del data['sec_app_revol_util']                            \n",
    "del data['sec_app_open_act_il']                           \n",
    "del data['sec_app_num_rev_accts']                         \n",
    "del data['sec_app_chargeoff_within_12_mths']              \n",
    "del data['sec_app_collections_12_mths_ex_med']            \n",
    "del data['sec_app_mths_since_last_major_derog']           \n",
    "del data['hardship_type']                                 \n",
    "del data['hardship_reason']                               \n",
    "del data['hardship_status']                               \n",
    "del data['deferral_term']                                 \n",
    "del data['hardship_amount']                               \n",
    "del data['hardship_start_date']                           \n",
    "del data['hardship_end_date']                             \n",
    "del data['payment_plan_start_date']                       \n",
    "del data['hardship_length']                               \n",
    "del data['hardship_dpd']                                 \n",
    "del data['hardship_loan_status']                          \n",
    "del data['orig_projected_additional_accrued_interest']    \n",
    "del data['hardship_payoff_balance_amount']                \n",
    "del data['hardship_last_payment_amount']                  \n",
    "del data['debt_settlement_flag_date']"
   ]
  },
  {
   "cell_type": "markdown",
   "metadata": {},
   "source": [
    "Volvemos a observar los porcentajes de NAS y vemos que en nigún caso es superior al 95%"
   ]
  },
  {
   "cell_type": "code",
   "execution_count": 25,
   "metadata": {},
   "outputs": [
    {
     "data": {
      "text/plain": [
       "il_util               0.940832\n",
       "mths_since_rcnt_il    0.933761\n",
       "all_util              0.932175\n",
       "total_bal_il          0.932167\n",
       "open_acc_6m           0.932167\n",
       "open_act_il           0.932167\n",
       "open_il_12m           0.932167\n",
       "open_il_24m           0.932167\n",
       "open_rv_12m           0.932167\n",
       "open_rv_24m           0.932167\n",
       "dtype: float64"
      ]
     },
     "execution_count": 25,
     "metadata": {},
     "output_type": "execute_result"
    }
   ],
   "source": [
    "percentage_NaN = data.apply(lambda x: sum(x.isna()/len(data)))\n",
    "percentage_NaN.sort_values(ascending = False).head(10)"
   ]
  },
  {
   "cell_type": "markdown",
   "metadata": {},
   "source": [
    "### Variables con valores nulos por razones alternativas"
   ]
  },
  {
   "cell_type": "markdown",
   "metadata": {},
   "source": [
    "Algunas variables contienen valores nulos debido a la inexistencia del tipo de cuenta del que trata la variable (por ejemplo: variables sobre cuentas renovables, cuando muchos clientes no tienen cuentas renovables), o bien, porque el cliente nunca ha realizado la acción estipulada en la variable (por ejemplo: número de consultas de crédito en los últimos 12 meses). \n",
    "\n",
    "Es por ello, que las siguientes variables, sus valores nulos serán sustituidos por ceros:\n",
    "\n",
    "- 'il_util': Relación entre el saldo actual total y el límite de crédito / crédito alto en todas las cuentas de instalación.\n",
    "- 'all_util': saldo al límite de crédito en todas las operaciones.\n",
    "- 'inq_last_12m': número de consultas de crédito en los últimos 12 meses.\n",
    "- 'total_cu_tl: número de operaciones financieras.\n",
    "- 'open_acc_6m': número de operaciones abiertas en los últimos 6 meses.\n",
    "- 'open_act_il': número de operaciones a plazos actualmente activas.\n",
    "-  'inq_fi': número de consultas sobre finanzas personales.\n",
    "- 'max_bal_bc': saldo actual máximo adeudado en todas las cuentas renovables.\n",
    "- 'open_rv_12m': número de operaciones renovables abiertas en los últimos 12 meses.\n",
    "- 'open_rv_24m': número de operaciones renovables abiertas en los últimos 24 meses.\n",
    "- 'total_bal_il': saldo actual total de todas las cuentas a plazos.\n",
    "- 'open_il_12m': número de cuentas a plazos abiertas en los últimos 12 meses.\n",
    "- 'open_il_24m': número de cuentas a plazos abiertas en los últimos 24 meses."
   ]
  },
  {
   "cell_type": "code",
   "execution_count": 26,
   "metadata": {},
   "outputs": [],
   "source": [
    "# Definimos función para rellenar 0 los NAs \n",
    "def fill_w_0(data, column):\n",
    "    data[column].fillna(0, inplace = True)"
   ]
  },
  {
   "cell_type": "code",
   "execution_count": 27,
   "metadata": {},
   "outputs": [],
   "source": [
    "# refilling with 0\n",
    "fill_w_0(data, 'il_util')\n",
    "fill_w_0(data, 'all_util')\n",
    "fill_w_0(data, 'inq_last_12m')\n",
    "fill_w_0(data, 'total_cu_tl')\n",
    "fill_w_0(data, 'open_acc_6m')\n",
    "fill_w_0(data, 'open_act_il')\n",
    "fill_w_0(data, 'inq_fi')\n",
    "fill_w_0(data, 'max_bal_bc')\n",
    "fill_w_0(data, 'open_rv_12m')\n",
    "fill_w_0(data, 'open_rv_24m')\n",
    "fill_w_0(data, 'total_bal_il')\n",
    "fill_w_0(data, 'open_il_12m')\n",
    "fill_w_0(data, 'open_il_24m')"
   ]
  },
  {
   "cell_type": "markdown",
   "metadata": {},
   "source": [
    "Dentro del dataset, hay una serie de variables que hacen referencia al número de meses desde la última vez que el usuario realizó una acción concreta. Estas variables tienen un alto número de valores nulos debido a que muchos de los usuarios no han nunca realizado dicha acción. Este es el caso de:\n",
    "\n",
    "- 'mths_since_last_record': Meses desde el último \"public record\".\n",
    "- 'mths_since_recent_bc_dlq' : Meses desde la última morosidad mediante tarjeta bancaria.\n",
    "- 'mths_since_recent_revol_delinq': Meses desde la última morosidad mediante crédito rotativo.\n",
    "- 'mths_since_last_major_derog': Meses desde la calificación más reciente de 90 días o peor.\n",
    "- 'mths_since_rcnt_il': Meses desde que se abrió la última cuenta a plazos.\n",
    "- 'mths_since_last_delinq' : Meses desde la última morosidad del prestatario.\n",
    "- 'mths_since_recent_inq' : Meses desde la última investigación.\n",
    "\n",
    "\n",
    "\n",
    "Tras estudiar su significado, vemos que en todas ellas, cuanto más reciente sea el número de meses, más probalidad habrá de impago. Es por ello que sustituiremos los valore nulos por el valor máximo.\n",
    "\n",
    "__mths_since_recent_bc_dlq\n",
    "\n",
    "\n",
    "mths_since_recent_revol_delinq__"
   ]
  },
  {
   "cell_type": "code",
   "execution_count": 28,
   "metadata": {},
   "outputs": [],
   "source": [
    "# Definimos función para rellenar con el máximo los NAs\n",
    "def fill_max(data, column):\n",
    "    data[column].fillna(data[column].max(), inplace = True)"
   ]
  },
  {
   "cell_type": "code",
   "execution_count": 29,
   "metadata": {},
   "outputs": [],
   "source": [
    "# refilling with the maximum\n",
    "\n",
    "fill_max(data, 'mths_since_last_record')\n",
    "fill_max(data, 'mths_since_recent_bc_dlq')\n",
    "fill_max(data, 'mths_since_recent_revol_delinq')\n",
    "fill_max(data, 'mths_since_last_major_derog')\n",
    "fill_max(data, 'mths_since_rcnt_il')\n",
    "fill_max(data, 'mths_since_last_delinq')\n",
    "fill_max(data, 'mths_since_recent_inq')"
   ]
  },
  {
   "cell_type": "markdown",
   "metadata": {},
   "source": [
    "Volvemos ver los porcentajes de NAs y vemos que dicho valor es muy inferior respecto anteriormente. Solo quedan aquellas variables cuyo valor NA son del 5% o inferior"
   ]
  },
  {
   "cell_type": "code",
   "execution_count": 30,
   "metadata": {},
   "outputs": [
    {
     "data": {
      "text/plain": [
       "emp_length              0.054276\n",
       "num_tl_120dpd_2m        0.041833\n",
       "mo_sin_old_il_acct      0.028612\n",
       "bc_util                 0.011279\n",
       "percent_bc_gt_75        0.011160\n",
       "bc_open_to_buy          0.010576\n",
       "mths_since_recent_bc    0.009918\n",
       "revol_util              0.000506\n",
       "title                   0.000136\n",
       "dti                     0.000045\n",
       "dtype: float64"
      ]
     },
     "execution_count": 30,
     "metadata": {},
     "output_type": "execute_result"
    }
   ],
   "source": [
    "percentage_NaN = data.apply(lambda x: sum(x.isna()/len(data)))\n",
    "percentage_NaN.sort_values(ascending = False).head(10)"
   ]
  },
  {
   "cell_type": "code",
   "execution_count": 31,
   "metadata": {},
   "outputs": [
    {
     "name": "stdout",
     "output_type": "stream",
     "text": [
      "<class 'pandas.core.frame.DataFrame'>\n",
      "Int64Index: 462191 entries, 8 to 884875\n",
      "Data columns (total 96 columns):\n",
      " #   Column                          Non-Null Count   Dtype  \n",
      "---  ------                          --------------   -----  \n",
      " 0   id                              462191 non-null  int64  \n",
      " 1   loan_amnt                       462191 non-null  int64  \n",
      " 2   funded_amnt                     462191 non-null  int64  \n",
      " 3   funded_amnt_inv                 462191 non-null  float64\n",
      " 4   term                            462191 non-null  object \n",
      " 5   int_rate                        462191 non-null  object \n",
      " 6   installment                     462191 non-null  float64\n",
      " 7   grade                           462191 non-null  object \n",
      " 8   sub_grade                       462191 non-null  object \n",
      " 9   emp_length                      437105 non-null  object \n",
      " 10  home_ownership                  462191 non-null  object \n",
      " 11  annual_inc                      462191 non-null  float64\n",
      " 12  verification_status             462191 non-null  object \n",
      " 13  url                             462191 non-null  object \n",
      " 14  purpose                         462191 non-null  object \n",
      " 15  title                           462128 non-null  object \n",
      " 16  zip_code                        462191 non-null  object \n",
      " 17  addr_state                      462191 non-null  object \n",
      " 18  dti                             462170 non-null  float64\n",
      " 19  delinq_2yrs                     462191 non-null  int64  \n",
      " 20  earliest_cr_line                462191 non-null  object \n",
      " 21  fico_range_low                  462191 non-null  int64  \n",
      " 22  fico_range_high                 462191 non-null  int64  \n",
      " 23  inq_last_6mths                  462191 non-null  int64  \n",
      " 24  mths_since_last_delinq          462191 non-null  float64\n",
      " 25  mths_since_last_record          462191 non-null  float64\n",
      " 26  open_acc                        462191 non-null  int64  \n",
      " 27  pub_rec                         462191 non-null  int64  \n",
      " 28  revol_bal                       462191 non-null  int64  \n",
      " 29  revol_util                      461957 non-null  object \n",
      " 30  total_acc                       462191 non-null  int64  \n",
      " 31  initial_list_status             462191 non-null  object \n",
      " 32  collection_recovery_fee         462191 non-null  float64\n",
      " 33  last_fico_range_high            462191 non-null  int64  \n",
      " 34  last_fico_range_low             462191 non-null  int64  \n",
      " 35  collections_12_mths_ex_med      462191 non-null  int64  \n",
      " 36  mths_since_last_major_derog     462191 non-null  float64\n",
      " 37  policy_code                     462191 non-null  int64  \n",
      " 38  application_type                462191 non-null  object \n",
      " 39  acc_now_delinq                  462191 non-null  int64  \n",
      " 40  tot_coll_amt                    462191 non-null  int64  \n",
      " 41  tot_cur_bal                     462191 non-null  int64  \n",
      " 42  open_acc_6m                     462191 non-null  float64\n",
      " 43  open_act_il                     462191 non-null  float64\n",
      " 44  open_il_12m                     462191 non-null  float64\n",
      " 45  open_il_24m                     462191 non-null  float64\n",
      " 46  mths_since_rcnt_il              462191 non-null  float64\n",
      " 47  total_bal_il                    462191 non-null  float64\n",
      " 48  il_util                         462191 non-null  float64\n",
      " 49  open_rv_12m                     462191 non-null  float64\n",
      " 50  open_rv_24m                     462191 non-null  float64\n",
      " 51  max_bal_bc                      462191 non-null  float64\n",
      " 52  all_util                        462191 non-null  float64\n",
      " 53  total_rev_hi_lim                462191 non-null  int64  \n",
      " 54  inq_fi                          462191 non-null  float64\n",
      " 55  total_cu_tl                     462191 non-null  float64\n",
      " 56  inq_last_12m                    462191 non-null  float64\n",
      " 57  acc_open_past_24mths            462191 non-null  int64  \n",
      " 58  avg_cur_bal                     462185 non-null  float64\n",
      " 59  bc_open_to_buy                  457303 non-null  float64\n",
      " 60  bc_util                         456978 non-null  float64\n",
      " 61  chargeoff_within_12_mths        462191 non-null  int64  \n",
      " 62  delinq_amnt                     462191 non-null  int64  \n",
      " 63  mo_sin_old_il_acct              448967 non-null  float64\n",
      " 64  mo_sin_old_rev_tl_op            462191 non-null  int64  \n",
      " 65  mo_sin_rcnt_rev_tl_op           462191 non-null  int64  \n",
      " 66  mo_sin_rcnt_tl                  462191 non-null  int64  \n",
      " 67  mort_acc                        462191 non-null  int64  \n",
      " 68  mths_since_recent_bc            457607 non-null  float64\n",
      " 69  mths_since_recent_bc_dlq        462191 non-null  float64\n",
      " 70  mths_since_recent_inq           462191 non-null  float64\n",
      " 71  mths_since_recent_revol_delinq  462191 non-null  float64\n",
      " 72  num_accts_ever_120_pd           462191 non-null  int64  \n",
      " 73  num_actv_bc_tl                  462191 non-null  int64  \n",
      " 74  num_actv_rev_tl                 462191 non-null  int64  \n",
      " 75  num_bc_sats                     462191 non-null  int64  \n",
      " 76  num_bc_tl                       462191 non-null  int64  \n",
      " 77  num_il_tl                       462191 non-null  int64  \n",
      " 78  num_op_rev_tl                   462191 non-null  int64  \n",
      " 79  num_rev_accts                   462190 non-null  float64\n",
      " 80  num_rev_tl_bal_gt_0             462191 non-null  int64  \n",
      " 81  num_sats                        462191 non-null  int64  \n",
      " 82  num_tl_120dpd_2m                442856 non-null  float64\n",
      " 83  num_tl_30dpd                    462191 non-null  int64  \n",
      " 84  num_tl_90g_dpd_24m              462191 non-null  int64  \n",
      " 85  num_tl_op_past_12m              462191 non-null  int64  \n",
      " 86  pct_tl_nvr_dlq                  462191 non-null  float64\n",
      " 87  percent_bc_gt_75                457033 non-null  float64\n",
      " 88  pub_rec_bankruptcies            462191 non-null  int64  \n",
      " 89  tax_liens                       462191 non-null  int64  \n",
      " 90  tot_hi_cred_lim                 462191 non-null  int64  \n",
      " 91  total_bal_ex_mort               462191 non-null  int64  \n",
      " 92  total_bc_limit                  462191 non-null  int64  \n",
      " 93  total_il_high_credit_limit      462191 non-null  int64  \n",
      " 94  disbursement_method             462191 non-null  object \n",
      " 95  target                          462191 non-null  int32  \n",
      "dtypes: float64(34), int32(1), int64(44), object(17)\n",
      "memory usage: 340.3+ MB\n"
     ]
    }
   ],
   "source": [
    "data.info()"
   ]
  },
  {
   "cell_type": "markdown",
   "metadata": {},
   "source": [
    "## Variables numéricas:"
   ]
  },
  {
   "cell_type": "markdown",
   "metadata": {},
   "source": [
    "Diferenciamos entre variables numéricas y categoricas:"
   ]
  },
  {
   "cell_type": "markdown",
   "metadata": {},
   "source": [
    "Creamos dos data frames distintos: uno con las variables numéricas y otro con las categóricas."
   ]
  },
  {
   "cell_type": "code",
   "execution_count": 32,
   "metadata": {},
   "outputs": [],
   "source": [
    "numeric = data.select_dtypes(include = [np.number])\n",
    "categoric = data.select_dtypes(include = [np.object])"
   ]
  },
  {
   "cell_type": "markdown",
   "metadata": {},
   "source": [
    "El dataset de las variables numéricas tiene 79 columnas."
   ]
  },
  {
   "cell_type": "code",
   "execution_count": 33,
   "metadata": {},
   "outputs": [
    {
     "data": {
      "text/plain": [
       "id                            462191\n",
       "loan_amnt                       1401\n",
       "funded_amnt                     1401\n",
       "funded_amnt_inv                 1413\n",
       "installment                    51275\n",
       "                               ...  \n",
       "tot_hi_cred_lim               250593\n",
       "total_bal_ex_mort             128944\n",
       "total_bc_limit                  4634\n",
       "total_il_high_credit_limit    117201\n",
       "target                             2\n",
       "Length: 79, dtype: int64"
      ]
     },
     "execution_count": 33,
     "metadata": {},
     "output_type": "execute_result"
    }
   ],
   "source": [
    "numeric.nunique()"
   ]
  },
  {
   "cell_type": "markdown",
   "metadata": {},
   "source": [
    "#### Detección de Outliers"
   ]
  },
  {
   "cell_type": "markdown",
   "metadata": {},
   "source": [
    "Para decidir de qué manera vamos a sustituir los valores nulos restantes, debemos estudiar los valores atípicos de nuestro dataset. "
   ]
  },
  {
   "cell_type": "code",
   "execution_count": 34,
   "metadata": {},
   "outputs": [],
   "source": [
    "# Obtenemos el rango intercuartílico\n",
    "Q1 = numeric.quantile(0.25)\n",
    "Q3 = numeric.quantile(0.75)\n",
    "IQR = Q3 - Q1"
   ]
  },
  {
   "cell_type": "code",
   "execution_count": 35,
   "metadata": {},
   "outputs": [
    {
     "data": {
      "text/html": [
       "<div>\n",
       "<style scoped>\n",
       "    .dataframe tbody tr th:only-of-type {\n",
       "        vertical-align: middle;\n",
       "    }\n",
       "\n",
       "    .dataframe tbody tr th {\n",
       "        vertical-align: top;\n",
       "    }\n",
       "\n",
       "    .dataframe thead th {\n",
       "        text-align: right;\n",
       "    }\n",
       "</style>\n",
       "<table border=\"1\" class=\"dataframe\">\n",
       "  <thead>\n",
       "    <tr style=\"text-align: right;\">\n",
       "      <th></th>\n",
       "      <th>0</th>\n",
       "    </tr>\n",
       "  </thead>\n",
       "  <tbody>\n",
       "    <tr>\n",
       "      <th>target</th>\n",
       "      <td>0</td>\n",
       "    </tr>\n",
       "    <tr>\n",
       "      <th>mths_since_recent_bc_dlq</th>\n",
       "      <td>0</td>\n",
       "    </tr>\n",
       "    <tr>\n",
       "      <th>mths_since_recent_inq</th>\n",
       "      <td>0</td>\n",
       "    </tr>\n",
       "    <tr>\n",
       "      <th>mths_since_recent_revol_delinq</th>\n",
       "      <td>0</td>\n",
       "    </tr>\n",
       "    <tr>\n",
       "      <th>policy_code</th>\n",
       "      <td>0</td>\n",
       "    </tr>\n",
       "    <tr>\n",
       "      <th>percent_bc_gt_75</th>\n",
       "      <td>0</td>\n",
       "    </tr>\n",
       "    <tr>\n",
       "      <th>mths_since_last_major_derog</th>\n",
       "      <td>0</td>\n",
       "    </tr>\n",
       "    <tr>\n",
       "      <th>mths_since_last_delinq</th>\n",
       "      <td>0</td>\n",
       "    </tr>\n",
       "    <tr>\n",
       "      <th>bc_util</th>\n",
       "      <td>28</td>\n",
       "    </tr>\n",
       "    <tr>\n",
       "      <th>last_fico_range_high</th>\n",
       "      <td>111</td>\n",
       "    </tr>\n",
       "    <tr>\n",
       "      <th>dti</th>\n",
       "      <td>310</td>\n",
       "    </tr>\n",
       "    <tr>\n",
       "      <th>loan_amnt</th>\n",
       "      <td>315</td>\n",
       "    </tr>\n",
       "    <tr>\n",
       "      <th>funded_amnt</th>\n",
       "      <td>315</td>\n",
       "    </tr>\n",
       "    <tr>\n",
       "      <th>funded_amnt_inv</th>\n",
       "      <td>315</td>\n",
       "    </tr>\n",
       "    <tr>\n",
       "      <th>num_tl_120dpd_2m</th>\n",
       "      <td>384</td>\n",
       "    </tr>\n",
       "    <tr>\n",
       "      <th>num_tl_30dpd</th>\n",
       "      <td>1609</td>\n",
       "    </tr>\n",
       "    <tr>\n",
       "      <th>delinq_amnt</th>\n",
       "      <td>1813</td>\n",
       "    </tr>\n",
       "    <tr>\n",
       "      <th>acc_now_delinq</th>\n",
       "      <td>2477</td>\n",
       "    </tr>\n",
       "    <tr>\n",
       "      <th>chargeoff_within_12_mths</th>\n",
       "      <td>4381</td>\n",
       "    </tr>\n",
       "    <tr>\n",
       "      <th>mort_acc</th>\n",
       "      <td>7442</td>\n",
       "    </tr>\n",
       "  </tbody>\n",
       "</table>\n",
       "</div>"
      ],
      "text/plain": [
       "                                   0\n",
       "target                             0\n",
       "mths_since_recent_bc_dlq           0\n",
       "mths_since_recent_inq              0\n",
       "mths_since_recent_revol_delinq     0\n",
       "policy_code                        0\n",
       "percent_bc_gt_75                   0\n",
       "mths_since_last_major_derog        0\n",
       "mths_since_last_delinq             0\n",
       "bc_util                           28\n",
       "last_fico_range_high             111\n",
       "dti                              310\n",
       "loan_amnt                        315\n",
       "funded_amnt                      315\n",
       "funded_amnt_inv                  315\n",
       "num_tl_120dpd_2m                 384\n",
       "num_tl_30dpd                    1609\n",
       "delinq_amnt                     1813\n",
       "acc_now_delinq                  2477\n",
       "chargeoff_within_12_mths        4381\n",
       "mort_acc                        7442"
      ]
     },
     "execution_count": 35,
     "metadata": {},
     "output_type": "execute_result"
    }
   ],
   "source": [
    "# Vamos el número de outliers de cada columna\n",
    "outliers = pd.DataFrame(((numeric < (Q1 - 1.5 * IQR)) | (numeric > (Q3 + 1.5 * IQR))).sum())\n",
    "outliers.sort_values(by = [0]).head(20)"
   ]
  },
  {
   "cell_type": "markdown",
   "metadata": {},
   "source": [
    "Podemos ver que se trata de un datset con observaciones muy dispersas y afectado por outliers. Es por ello que se utilizará la mediana para sustituir los valores nulos."
   ]
  },
  {
   "cell_type": "markdown",
   "metadata": {},
   "source": [
    "#### Sustitución de los valores nulos por la mediana"
   ]
  },
  {
   "cell_type": "code",
   "execution_count": 36,
   "metadata": {},
   "outputs": [],
   "source": [
    "# Sustituimos por la mediana dado el alto número de outliers\n",
    "numeric = numeric.apply(lambda x: x.replace(\"\", np.nan))\n",
    "numeric = numeric.apply(lambda x: x.fillna(x.median()))"
   ]
  },
  {
   "cell_type": "code",
   "execution_count": 37,
   "metadata": {},
   "outputs": [
    {
     "name": "stdout",
     "output_type": "stream",
     "text": [
      "<class 'pandas.core.frame.DataFrame'>\n",
      "Int64Index: 462191 entries, 8 to 884875\n",
      "Data columns (total 79 columns):\n",
      " #   Column                          Non-Null Count   Dtype  \n",
      "---  ------                          --------------   -----  \n",
      " 0   id                              462191 non-null  int64  \n",
      " 1   loan_amnt                       462191 non-null  int64  \n",
      " 2   funded_amnt                     462191 non-null  int64  \n",
      " 3   funded_amnt_inv                 462191 non-null  float64\n",
      " 4   installment                     462191 non-null  float64\n",
      " 5   annual_inc                      462191 non-null  float64\n",
      " 6   dti                             462191 non-null  float64\n",
      " 7   delinq_2yrs                     462191 non-null  int64  \n",
      " 8   fico_range_low                  462191 non-null  int64  \n",
      " 9   fico_range_high                 462191 non-null  int64  \n",
      " 10  inq_last_6mths                  462191 non-null  int64  \n",
      " 11  mths_since_last_delinq          462191 non-null  float64\n",
      " 12  mths_since_last_record          462191 non-null  float64\n",
      " 13  open_acc                        462191 non-null  int64  \n",
      " 14  pub_rec                         462191 non-null  int64  \n",
      " 15  revol_bal                       462191 non-null  int64  \n",
      " 16  total_acc                       462191 non-null  int64  \n",
      " 17  collection_recovery_fee         462191 non-null  float64\n",
      " 18  last_fico_range_high            462191 non-null  int64  \n",
      " 19  last_fico_range_low             462191 non-null  int64  \n",
      " 20  collections_12_mths_ex_med      462191 non-null  int64  \n",
      " 21  mths_since_last_major_derog     462191 non-null  float64\n",
      " 22  policy_code                     462191 non-null  int64  \n",
      " 23  acc_now_delinq                  462191 non-null  int64  \n",
      " 24  tot_coll_amt                    462191 non-null  int64  \n",
      " 25  tot_cur_bal                     462191 non-null  int64  \n",
      " 26  open_acc_6m                     462191 non-null  float64\n",
      " 27  open_act_il                     462191 non-null  float64\n",
      " 28  open_il_12m                     462191 non-null  float64\n",
      " 29  open_il_24m                     462191 non-null  float64\n",
      " 30  mths_since_rcnt_il              462191 non-null  float64\n",
      " 31  total_bal_il                    462191 non-null  float64\n",
      " 32  il_util                         462191 non-null  float64\n",
      " 33  open_rv_12m                     462191 non-null  float64\n",
      " 34  open_rv_24m                     462191 non-null  float64\n",
      " 35  max_bal_bc                      462191 non-null  float64\n",
      " 36  all_util                        462191 non-null  float64\n",
      " 37  total_rev_hi_lim                462191 non-null  int64  \n",
      " 38  inq_fi                          462191 non-null  float64\n",
      " 39  total_cu_tl                     462191 non-null  float64\n",
      " 40  inq_last_12m                    462191 non-null  float64\n",
      " 41  acc_open_past_24mths            462191 non-null  int64  \n",
      " 42  avg_cur_bal                     462191 non-null  float64\n",
      " 43  bc_open_to_buy                  462191 non-null  float64\n",
      " 44  bc_util                         462191 non-null  float64\n",
      " 45  chargeoff_within_12_mths        462191 non-null  int64  \n",
      " 46  delinq_amnt                     462191 non-null  int64  \n",
      " 47  mo_sin_old_il_acct              462191 non-null  float64\n",
      " 48  mo_sin_old_rev_tl_op            462191 non-null  int64  \n",
      " 49  mo_sin_rcnt_rev_tl_op           462191 non-null  int64  \n",
      " 50  mo_sin_rcnt_tl                  462191 non-null  int64  \n",
      " 51  mort_acc                        462191 non-null  int64  \n",
      " 52  mths_since_recent_bc            462191 non-null  float64\n",
      " 53  mths_since_recent_bc_dlq        462191 non-null  float64\n",
      " 54  mths_since_recent_inq           462191 non-null  float64\n",
      " 55  mths_since_recent_revol_delinq  462191 non-null  float64\n",
      " 56  num_accts_ever_120_pd           462191 non-null  int64  \n",
      " 57  num_actv_bc_tl                  462191 non-null  int64  \n",
      " 58  num_actv_rev_tl                 462191 non-null  int64  \n",
      " 59  num_bc_sats                     462191 non-null  int64  \n",
      " 60  num_bc_tl                       462191 non-null  int64  \n",
      " 61  num_il_tl                       462191 non-null  int64  \n",
      " 62  num_op_rev_tl                   462191 non-null  int64  \n",
      " 63  num_rev_accts                   462191 non-null  float64\n",
      " 64  num_rev_tl_bal_gt_0             462191 non-null  int64  \n",
      " 65  num_sats                        462191 non-null  int64  \n",
      " 66  num_tl_120dpd_2m                462191 non-null  float64\n",
      " 67  num_tl_30dpd                    462191 non-null  int64  \n",
      " 68  num_tl_90g_dpd_24m              462191 non-null  int64  \n",
      " 69  num_tl_op_past_12m              462191 non-null  int64  \n",
      " 70  pct_tl_nvr_dlq                  462191 non-null  float64\n",
      " 71  percent_bc_gt_75                462191 non-null  float64\n",
      " 72  pub_rec_bankruptcies            462191 non-null  int64  \n",
      " 73  tax_liens                       462191 non-null  int64  \n",
      " 74  tot_hi_cred_lim                 462191 non-null  int64  \n",
      " 75  total_bal_ex_mort               462191 non-null  int64  \n",
      " 76  total_bc_limit                  462191 non-null  int64  \n",
      " 77  total_il_high_credit_limit      462191 non-null  int64  \n",
      " 78  target                          462191 non-null  int32  \n",
      "dtypes: float64(34), int32(1), int64(44)\n",
      "memory usage: 280.3 MB\n"
     ]
    }
   ],
   "source": [
    "numeric.info()"
   ]
  },
  {
   "cell_type": "markdown",
   "metadata": {},
   "source": [
    "Mostramos a continuación algunos de los estadísticos más relevantes. Como se mencionaba anteriormente, hay gran diferencia entre el valor de la media y la mediana."
   ]
  },
  {
   "cell_type": "code",
   "execution_count": 38,
   "metadata": {},
   "outputs": [
    {
     "data": {
      "text/html": [
       "<div>\n",
       "<style scoped>\n",
       "    .dataframe tbody tr th:only-of-type {\n",
       "        vertical-align: middle;\n",
       "    }\n",
       "\n",
       "    .dataframe tbody tr th {\n",
       "        vertical-align: top;\n",
       "    }\n",
       "\n",
       "    .dataframe thead th {\n",
       "        text-align: right;\n",
       "    }\n",
       "</style>\n",
       "<table border=\"1\" class=\"dataframe\">\n",
       "  <thead>\n",
       "    <tr style=\"text-align: right;\">\n",
       "      <th></th>\n",
       "      <th>id</th>\n",
       "      <th>loan_amnt</th>\n",
       "      <th>funded_amnt</th>\n",
       "      <th>funded_amnt_inv</th>\n",
       "      <th>installment</th>\n",
       "      <th>annual_inc</th>\n",
       "      <th>dti</th>\n",
       "      <th>delinq_2yrs</th>\n",
       "      <th>fico_range_low</th>\n",
       "      <th>fico_range_high</th>\n",
       "      <th>...</th>\n",
       "      <th>num_tl_op_past_12m</th>\n",
       "      <th>pct_tl_nvr_dlq</th>\n",
       "      <th>percent_bc_gt_75</th>\n",
       "      <th>pub_rec_bankruptcies</th>\n",
       "      <th>tax_liens</th>\n",
       "      <th>tot_hi_cred_lim</th>\n",
       "      <th>total_bal_ex_mort</th>\n",
       "      <th>total_bc_limit</th>\n",
       "      <th>total_il_high_credit_limit</th>\n",
       "      <th>target</th>\n",
       "    </tr>\n",
       "  </thead>\n",
       "  <tbody>\n",
       "    <tr>\n",
       "      <th>count</th>\n",
       "      <td>4.621910e+05</td>\n",
       "      <td>462191.000000</td>\n",
       "      <td>462191.000000</td>\n",
       "      <td>462191.000000</td>\n",
       "      <td>462191.000000</td>\n",
       "      <td>4.621910e+05</td>\n",
       "      <td>462191.000000</td>\n",
       "      <td>462191.000000</td>\n",
       "      <td>462191.000000</td>\n",
       "      <td>462191.000000</td>\n",
       "      <td>...</td>\n",
       "      <td>462191.000000</td>\n",
       "      <td>462191.000000</td>\n",
       "      <td>462191.000000</td>\n",
       "      <td>462191.000000</td>\n",
       "      <td>462191.000000</td>\n",
       "      <td>4.621910e+05</td>\n",
       "      <td>4.621910e+05</td>\n",
       "      <td>462191.000000</td>\n",
       "      <td>4.621910e+05</td>\n",
       "      <td>462191.000000</td>\n",
       "    </tr>\n",
       "    <tr>\n",
       "      <th>mean</th>\n",
       "      <td>4.133195e+07</td>\n",
       "      <td>14635.409171</td>\n",
       "      <td>14635.409171</td>\n",
       "      <td>14630.009713</td>\n",
       "      <td>441.383306</td>\n",
       "      <td>7.562226e+04</td>\n",
       "      <td>18.448868</td>\n",
       "      <td>0.342936</td>\n",
       "      <td>692.877241</td>\n",
       "      <td>696.877334</td>\n",
       "      <td>...</td>\n",
       "      <td>2.235050</td>\n",
       "      <td>94.079815</td>\n",
       "      <td>47.566964</td>\n",
       "      <td>0.147383</td>\n",
       "      <td>0.057318</td>\n",
       "      <td>1.708457e+05</td>\n",
       "      <td>4.981414e+04</td>\n",
       "      <td>20508.557164</td>\n",
       "      <td>4.176473e+04</td>\n",
       "      <td>0.252430</td>\n",
       "    </tr>\n",
       "    <tr>\n",
       "      <th>std</th>\n",
       "      <td>2.330291e+07</td>\n",
       "      <td>8527.926001</td>\n",
       "      <td>8527.926001</td>\n",
       "      <td>8524.636515</td>\n",
       "      <td>253.163070</td>\n",
       "      <td>6.604570e+04</td>\n",
       "      <td>8.827127</td>\n",
       "      <td>0.917497</td>\n",
       "      <td>30.150192</td>\n",
       "      <td>30.150663</td>\n",
       "      <td>...</td>\n",
       "      <td>1.816198</td>\n",
       "      <td>8.642459</td>\n",
       "      <td>35.490052</td>\n",
       "      <td>0.397082</td>\n",
       "      <td>0.419338</td>\n",
       "      <td>1.734527e+05</td>\n",
       "      <td>4.716724e+04</td>\n",
       "      <td>20796.266997</td>\n",
       "      <td>4.255078e+04</td>\n",
       "      <td>0.434407</td>\n",
       "    </tr>\n",
       "    <tr>\n",
       "      <th>min</th>\n",
       "      <td>5.716700e+04</td>\n",
       "      <td>1000.000000</td>\n",
       "      <td>1000.000000</td>\n",
       "      <td>900.000000</td>\n",
       "      <td>14.010000</td>\n",
       "      <td>0.000000e+00</td>\n",
       "      <td>0.000000</td>\n",
       "      <td>0.000000</td>\n",
       "      <td>660.000000</td>\n",
       "      <td>664.000000</td>\n",
       "      <td>...</td>\n",
       "      <td>0.000000</td>\n",
       "      <td>10.500000</td>\n",
       "      <td>0.000000</td>\n",
       "      <td>0.000000</td>\n",
       "      <td>0.000000</td>\n",
       "      <td>0.000000e+00</td>\n",
       "      <td>0.000000e+00</td>\n",
       "      <td>0.000000</td>\n",
       "      <td>0.000000e+00</td>\n",
       "      <td>0.000000</td>\n",
       "    </tr>\n",
       "    <tr>\n",
       "      <th>25%</th>\n",
       "      <td>2.142093e+07</td>\n",
       "      <td>8000.000000</td>\n",
       "      <td>8000.000000</td>\n",
       "      <td>8000.000000</td>\n",
       "      <td>258.100000</td>\n",
       "      <td>4.570000e+04</td>\n",
       "      <td>12.110000</td>\n",
       "      <td>0.000000</td>\n",
       "      <td>670.000000</td>\n",
       "      <td>674.000000</td>\n",
       "      <td>...</td>\n",
       "      <td>1.000000</td>\n",
       "      <td>91.200000</td>\n",
       "      <td>16.700000</td>\n",
       "      <td>0.000000</td>\n",
       "      <td>0.000000</td>\n",
       "      <td>4.887700e+04</td>\n",
       "      <td>2.134300e+04</td>\n",
       "      <td>7100.000000</td>\n",
       "      <td>1.493000e+04</td>\n",
       "      <td>0.000000</td>\n",
       "    </tr>\n",
       "    <tr>\n",
       "      <th>50%</th>\n",
       "      <td>3.970996e+07</td>\n",
       "      <td>12600.000000</td>\n",
       "      <td>12600.000000</td>\n",
       "      <td>12600.000000</td>\n",
       "      <td>380.630000</td>\n",
       "      <td>6.500000e+04</td>\n",
       "      <td>17.920000</td>\n",
       "      <td>0.000000</td>\n",
       "      <td>685.000000</td>\n",
       "      <td>689.000000</td>\n",
       "      <td>...</td>\n",
       "      <td>2.000000</td>\n",
       "      <td>97.500000</td>\n",
       "      <td>50.000000</td>\n",
       "      <td>0.000000</td>\n",
       "      <td>0.000000</td>\n",
       "      <td>1.097670e+05</td>\n",
       "      <td>3.771000e+04</td>\n",
       "      <td>14100.000000</td>\n",
       "      <td>3.163500e+04</td>\n",
       "      <td>0.000000</td>\n",
       "    </tr>\n",
       "    <tr>\n",
       "      <th>75%</th>\n",
       "      <td>5.611834e+07</td>\n",
       "      <td>20000.000000</td>\n",
       "      <td>20000.000000</td>\n",
       "      <td>20000.000000</td>\n",
       "      <td>581.450000</td>\n",
       "      <td>9.000000e+04</td>\n",
       "      <td>24.370000</td>\n",
       "      <td>0.000000</td>\n",
       "      <td>705.000000</td>\n",
       "      <td>709.000000</td>\n",
       "      <td>...</td>\n",
       "      <td>3.000000</td>\n",
       "      <td>100.000000</td>\n",
       "      <td>75.000000</td>\n",
       "      <td>0.000000</td>\n",
       "      <td>0.000000</td>\n",
       "      <td>2.470410e+05</td>\n",
       "      <td>6.271500e+04</td>\n",
       "      <td>26600.000000</td>\n",
       "      <td>5.599500e+04</td>\n",
       "      <td>1.000000</td>\n",
       "    </tr>\n",
       "    <tr>\n",
       "      <th>max</th>\n",
       "      <td>1.201180e+08</td>\n",
       "      <td>40000.000000</td>\n",
       "      <td>40000.000000</td>\n",
       "      <td>40000.000000</td>\n",
       "      <td>1719.830000</td>\n",
       "      <td>9.500000e+06</td>\n",
       "      <td>999.000000</td>\n",
       "      <td>39.000000</td>\n",
       "      <td>845.000000</td>\n",
       "      <td>850.000000</td>\n",
       "      <td>...</td>\n",
       "      <td>30.000000</td>\n",
       "      <td>100.000000</td>\n",
       "      <td>100.000000</td>\n",
       "      <td>12.000000</td>\n",
       "      <td>85.000000</td>\n",
       "      <td>9.999999e+06</td>\n",
       "      <td>2.688920e+06</td>\n",
       "      <td>760000.000000</td>\n",
       "      <td>2.101913e+06</td>\n",
       "      <td>1.000000</td>\n",
       "    </tr>\n",
       "  </tbody>\n",
       "</table>\n",
       "<p>8 rows × 79 columns</p>\n",
       "</div>"
      ],
      "text/plain": [
       "                 id      loan_amnt    funded_amnt  funded_amnt_inv  \\\n",
       "count  4.621910e+05  462191.000000  462191.000000    462191.000000   \n",
       "mean   4.133195e+07   14635.409171   14635.409171     14630.009713   \n",
       "std    2.330291e+07    8527.926001    8527.926001      8524.636515   \n",
       "min    5.716700e+04    1000.000000    1000.000000       900.000000   \n",
       "25%    2.142093e+07    8000.000000    8000.000000      8000.000000   \n",
       "50%    3.970996e+07   12600.000000   12600.000000     12600.000000   \n",
       "75%    5.611834e+07   20000.000000   20000.000000     20000.000000   \n",
       "max    1.201180e+08   40000.000000   40000.000000     40000.000000   \n",
       "\n",
       "         installment    annual_inc            dti    delinq_2yrs  \\\n",
       "count  462191.000000  4.621910e+05  462191.000000  462191.000000   \n",
       "mean      441.383306  7.562226e+04      18.448868       0.342936   \n",
       "std       253.163070  6.604570e+04       8.827127       0.917497   \n",
       "min        14.010000  0.000000e+00       0.000000       0.000000   \n",
       "25%       258.100000  4.570000e+04      12.110000       0.000000   \n",
       "50%       380.630000  6.500000e+04      17.920000       0.000000   \n",
       "75%       581.450000  9.000000e+04      24.370000       0.000000   \n",
       "max      1719.830000  9.500000e+06     999.000000      39.000000   \n",
       "\n",
       "       fico_range_low  fico_range_high  ...  num_tl_op_past_12m  \\\n",
       "count   462191.000000    462191.000000  ...       462191.000000   \n",
       "mean       692.877241       696.877334  ...            2.235050   \n",
       "std         30.150192        30.150663  ...            1.816198   \n",
       "min        660.000000       664.000000  ...            0.000000   \n",
       "25%        670.000000       674.000000  ...            1.000000   \n",
       "50%        685.000000       689.000000  ...            2.000000   \n",
       "75%        705.000000       709.000000  ...            3.000000   \n",
       "max        845.000000       850.000000  ...           30.000000   \n",
       "\n",
       "       pct_tl_nvr_dlq  percent_bc_gt_75  pub_rec_bankruptcies      tax_liens  \\\n",
       "count   462191.000000     462191.000000         462191.000000  462191.000000   \n",
       "mean        94.079815         47.566964              0.147383       0.057318   \n",
       "std          8.642459         35.490052              0.397082       0.419338   \n",
       "min         10.500000          0.000000              0.000000       0.000000   \n",
       "25%         91.200000         16.700000              0.000000       0.000000   \n",
       "50%         97.500000         50.000000              0.000000       0.000000   \n",
       "75%        100.000000         75.000000              0.000000       0.000000   \n",
       "max        100.000000        100.000000             12.000000      85.000000   \n",
       "\n",
       "       tot_hi_cred_lim  total_bal_ex_mort  total_bc_limit  \\\n",
       "count     4.621910e+05       4.621910e+05   462191.000000   \n",
       "mean      1.708457e+05       4.981414e+04    20508.557164   \n",
       "std       1.734527e+05       4.716724e+04    20796.266997   \n",
       "min       0.000000e+00       0.000000e+00        0.000000   \n",
       "25%       4.887700e+04       2.134300e+04     7100.000000   \n",
       "50%       1.097670e+05       3.771000e+04    14100.000000   \n",
       "75%       2.470410e+05       6.271500e+04    26600.000000   \n",
       "max       9.999999e+06       2.688920e+06   760000.000000   \n",
       "\n",
       "       total_il_high_credit_limit         target  \n",
       "count                4.621910e+05  462191.000000  \n",
       "mean                 4.176473e+04       0.252430  \n",
       "std                  4.255078e+04       0.434407  \n",
       "min                  0.000000e+00       0.000000  \n",
       "25%                  1.493000e+04       0.000000  \n",
       "50%                  3.163500e+04       0.000000  \n",
       "75%                  5.599500e+04       1.000000  \n",
       "max                  2.101913e+06       1.000000  \n",
       "\n",
       "[8 rows x 79 columns]"
      ]
     },
     "execution_count": 38,
     "metadata": {},
     "output_type": "execute_result"
    }
   ],
   "source": [
    "numeric.describe()"
   ]
  },
  {
   "cell_type": "markdown",
   "metadata": {},
   "source": [
    "#### Estudio de la distribución de las variables numéricas (histogramas)"
   ]
  },
  {
   "cell_type": "code",
   "execution_count": 39,
   "metadata": {},
   "outputs": [
    {
     "data": {
      "image/png": "[encoded data removed]",
      "text/plain": [
       "<Figure size 1440x1080 with 20 Axes>"
      ]
     },
     "metadata": {
      "needs_background": "light"
     },
     "output_type": "display_data"
    }
   ],
   "source": [
    "numeric.iloc[:,0:20].hist(bins=50, figsize=(20,15))\n",
    "plt.show()"
   ]
  },
  {
   "cell_type": "code",
   "execution_count": 40,
   "metadata": {},
   "outputs": [
    {
     "data": {
      "image/png": "[encoded data removed]",
      "text/plain": [
       "<Figure size 1440x1080 with 20 Axes>"
      ]
     },
     "metadata": {
      "needs_background": "light"
     },
     "output_type": "display_data"
    }
   ],
   "source": [
    "numeric.iloc[:,21:41].hist(bins=50, figsize=(20,15))\n",
    "plt.show()"
   ]
  },
  {
   "cell_type": "code",
   "execution_count": 41,
   "metadata": {},
   "outputs": [
    {
     "data": {
      "image/png": "[encoded data removed]",
      "text/plain": [
       "<Figure size 1440x1080 with 20 Axes>"
      ]
     },
     "metadata": {
      "needs_background": "light"
     },
     "output_type": "display_data"
    }
   ],
   "source": [
    "numeric.iloc[:,42:62].hist(bins=50, figsize=(20,15))\n",
    "plt.show()"
   ]
  },
  {
   "cell_type": "code",
   "execution_count": 42,
   "metadata": {},
   "outputs": [
    {
     "data": {
      "image/png": "[encoded data removed]",
      "text/plain": [
       "<Figure size 1440x1080 with 16 Axes>"
      ]
     },
     "metadata": {
      "needs_background": "light"
     },
     "output_type": "display_data"
    }
   ],
   "source": [
    "numeric.iloc[:,63:].hist(bins=50, figsize=(20,15))\n",
    "plt.show()"
   ]
  },
  {
   "cell_type": "markdown",
   "metadata": {},
   "source": [
    "#### Normalización de las variables numéricas"
   ]
  },
  {
   "cell_type": "markdown",
   "metadata": {},
   "source": [
    "Normalizamos las variables numércias para poder trabajar con ellas posteriormente"
   ]
  },
  {
   "cell_type": "code",
   "execution_count": 43,
   "metadata": {},
   "outputs": [],
   "source": [
    "from sklearn.preprocessing import MinMaxScaler"
   ]
  },
  {
   "cell_type": "code",
   "execution_count": 44,
   "metadata": {},
   "outputs": [
    {
     "data": {
      "text/html": [
       "<div>\n",
       "<style scoped>\n",
       "    .dataframe tbody tr th:only-of-type {\n",
       "        vertical-align: middle;\n",
       "    }\n",
       "\n",
       "    .dataframe tbody tr th {\n",
       "        vertical-align: top;\n",
       "    }\n",
       "\n",
       "    .dataframe thead th {\n",
       "        text-align: right;\n",
       "    }\n",
       "</style>\n",
       "<table border=\"1\" class=\"dataframe\">\n",
       "  <thead>\n",
       "    <tr style=\"text-align: right;\">\n",
       "      <th></th>\n",
       "      <th>id</th>\n",
       "      <th>loan_amnt</th>\n",
       "      <th>funded_amnt</th>\n",
       "      <th>funded_amnt_inv</th>\n",
       "      <th>installment</th>\n",
       "      <th>annual_inc</th>\n",
       "      <th>dti</th>\n",
       "      <th>delinq_2yrs</th>\n",
       "      <th>fico_range_low</th>\n",
       "      <th>fico_range_high</th>\n",
       "      <th>...</th>\n",
       "      <th>num_tl_op_past_12m</th>\n",
       "      <th>pct_tl_nvr_dlq</th>\n",
       "      <th>percent_bc_gt_75</th>\n",
       "      <th>pub_rec_bankruptcies</th>\n",
       "      <th>tax_liens</th>\n",
       "      <th>tot_hi_cred_lim</th>\n",
       "      <th>total_bal_ex_mort</th>\n",
       "      <th>total_bc_limit</th>\n",
       "      <th>total_il_high_credit_limit</th>\n",
       "      <th>target</th>\n",
       "    </tr>\n",
       "  </thead>\n",
       "  <tbody>\n",
       "    <tr>\n",
       "      <th>0</th>\n",
       "      <td>0.932703</td>\n",
       "      <td>0.271154</td>\n",
       "      <td>0.271154</td>\n",
       "      <td>0.273018</td>\n",
       "      <td>0.202395</td>\n",
       "      <td>0.016105</td>\n",
       "      <td>0.017007</td>\n",
       "      <td>0.000000</td>\n",
       "      <td>0.324324</td>\n",
       "      <td>0.322581</td>\n",
       "      <td>...</td>\n",
       "      <td>0.066667</td>\n",
       "      <td>0.951955</td>\n",
       "      <td>0.111</td>\n",
       "      <td>0.083333</td>\n",
       "      <td>0.0</td>\n",
       "      <td>0.052817</td>\n",
       "      <td>0.037511</td>\n",
       "      <td>0.036974</td>\n",
       "      <td>0.057363</td>\n",
       "      <td>0.0</td>\n",
       "    </tr>\n",
       "    <tr>\n",
       "      <th>1</th>\n",
       "      <td>0.933626</td>\n",
       "      <td>0.158974</td>\n",
       "      <td>0.158974</td>\n",
       "      <td>0.161125</td>\n",
       "      <td>0.159272</td>\n",
       "      <td>0.005263</td>\n",
       "      <td>0.006076</td>\n",
       "      <td>0.000000</td>\n",
       "      <td>0.135135</td>\n",
       "      <td>0.134409</td>\n",
       "      <td>...</td>\n",
       "      <td>0.000000</td>\n",
       "      <td>0.776536</td>\n",
       "      <td>1.000</td>\n",
       "      <td>0.000000</td>\n",
       "      <td>0.0</td>\n",
       "      <td>0.000760</td>\n",
       "      <td>0.002078</td>\n",
       "      <td>0.004737</td>\n",
       "      <td>0.001903</td>\n",
       "      <td>0.0</td>\n",
       "    </tr>\n",
       "    <tr>\n",
       "      <th>2</th>\n",
       "      <td>0.932820</td>\n",
       "      <td>0.166667</td>\n",
       "      <td>0.166667</td>\n",
       "      <td>0.168798</td>\n",
       "      <td>0.128255</td>\n",
       "      <td>0.011579</td>\n",
       "      <td>0.013133</td>\n",
       "      <td>0.000000</td>\n",
       "      <td>0.270270</td>\n",
       "      <td>0.268817</td>\n",
       "      <td>...</td>\n",
       "      <td>0.100000</td>\n",
       "      <td>1.000000</td>\n",
       "      <td>0.083</td>\n",
       "      <td>0.000000</td>\n",
       "      <td>0.0</td>\n",
       "      <td>0.035062</td>\n",
       "      <td>0.017091</td>\n",
       "      <td>0.110132</td>\n",
       "      <td>0.015338</td>\n",
       "      <td>0.0</td>\n",
       "    </tr>\n",
       "    <tr>\n",
       "      <th>3</th>\n",
       "      <td>0.932378</td>\n",
       "      <td>0.230769</td>\n",
       "      <td>0.230769</td>\n",
       "      <td>0.232737</td>\n",
       "      <td>0.134410</td>\n",
       "      <td>0.005471</td>\n",
       "      <td>0.010120</td>\n",
       "      <td>0.000000</td>\n",
       "      <td>0.162162</td>\n",
       "      <td>0.161290</td>\n",
       "      <td>...</td>\n",
       "      <td>0.100000</td>\n",
       "      <td>1.000000</td>\n",
       "      <td>0.000</td>\n",
       "      <td>0.166667</td>\n",
       "      <td>0.0</td>\n",
       "      <td>0.003420</td>\n",
       "      <td>0.004074</td>\n",
       "      <td>0.024737</td>\n",
       "      <td>0.002617</td>\n",
       "      <td>0.0</td>\n",
       "    </tr>\n",
       "    <tr>\n",
       "      <th>4</th>\n",
       "      <td>0.930789</td>\n",
       "      <td>0.333333</td>\n",
       "      <td>0.333333</td>\n",
       "      <td>0.335038</td>\n",
       "      <td>0.280411</td>\n",
       "      <td>0.007895</td>\n",
       "      <td>0.010871</td>\n",
       "      <td>0.025641</td>\n",
       "      <td>0.135135</td>\n",
       "      <td>0.134409</td>\n",
       "      <td>...</td>\n",
       "      <td>0.100000</td>\n",
       "      <td>0.888268</td>\n",
       "      <td>1.000</td>\n",
       "      <td>0.000000</td>\n",
       "      <td>0.0</td>\n",
       "      <td>0.017059</td>\n",
       "      <td>0.010296</td>\n",
       "      <td>0.003947</td>\n",
       "      <td>0.014425</td>\n",
       "      <td>0.0</td>\n",
       "    </tr>\n",
       "  </tbody>\n",
       "</table>\n",
       "<p>5 rows × 79 columns</p>\n",
       "</div>"
      ],
      "text/plain": [
       "         id  loan_amnt  funded_amnt  funded_amnt_inv  installment  annual_inc  \\\n",
       "0  0.932703   0.271154     0.271154         0.273018     0.202395    0.016105   \n",
       "1  0.933626   0.158974     0.158974         0.161125     0.159272    0.005263   \n",
       "2  0.932820   0.166667     0.166667         0.168798     0.128255    0.011579   \n",
       "3  0.932378   0.230769     0.230769         0.232737     0.134410    0.005471   \n",
       "4  0.930789   0.333333     0.333333         0.335038     0.280411    0.007895   \n",
       "\n",
       "        dti  delinq_2yrs  fico_range_low  fico_range_high  ...  \\\n",
       "0  0.017007     0.000000        0.324324         0.322581  ...   \n",
       "1  0.006076     0.000000        0.135135         0.134409  ...   \n",
       "2  0.013133     0.000000        0.270270         0.268817  ...   \n",
       "3  0.010120     0.000000        0.162162         0.161290  ...   \n",
       "4  0.010871     0.025641        0.135135         0.134409  ...   \n",
       "\n",
       "   num_tl_op_past_12m  pct_tl_nvr_dlq  percent_bc_gt_75  pub_rec_bankruptcies  \\\n",
       "0            0.066667        0.951955             0.111              0.083333   \n",
       "1            0.000000        0.776536             1.000              0.000000   \n",
       "2            0.100000        1.000000             0.083              0.000000   \n",
       "3            0.100000        1.000000             0.000              0.166667   \n",
       "4            0.100000        0.888268             1.000              0.000000   \n",
       "\n",
       "   tax_liens  tot_hi_cred_lim  total_bal_ex_mort  total_bc_limit  \\\n",
       "0        0.0         0.052817           0.037511        0.036974   \n",
       "1        0.0         0.000760           0.002078        0.004737   \n",
       "2        0.0         0.035062           0.017091        0.110132   \n",
       "3        0.0         0.003420           0.004074        0.024737   \n",
       "4        0.0         0.017059           0.010296        0.003947   \n",
       "\n",
       "   total_il_high_credit_limit  target  \n",
       "0                    0.057363     0.0  \n",
       "1                    0.001903     0.0  \n",
       "2                    0.015338     0.0  \n",
       "3                    0.002617     0.0  \n",
       "4                    0.014425     0.0  \n",
       "\n",
       "[5 rows x 79 columns]"
      ]
     },
     "execution_count": 44,
     "metadata": {},
     "output_type": "execute_result"
    }
   ],
   "source": [
    "scaler = MinMaxScaler()\n",
    "num_scaled = pd.DataFrame(scaler.fit_transform(numeric), columns = numeric.columns)\n",
    "num_scaled.head()"
   ]
  },
  {
   "cell_type": "markdown",
   "metadata": {},
   "source": [
    "## Variables Categóricas"
   ]
  },
  {
   "cell_type": "markdown",
   "metadata": {},
   "source": [
    "Para poder trabajar con variables categóricas realizaremos posteriormente \"one-hot encoding\". Sin embargo, hay múltiples ajustes que debemos hacer previamente.\n",
    "\n",
    "En primer lugar estudiamos las variables categóricas: el dataset categoric contiene 17 columnas y cada variable contiene el siguiente número de grupos o clases."
   ]
  },
  {
   "cell_type": "code",
   "execution_count": 45,
   "metadata": {},
   "outputs": [
    {
     "data": {
      "text/plain": [
       "(462191, 17)"
      ]
     },
     "execution_count": 45,
     "metadata": {},
     "output_type": "execute_result"
    }
   ],
   "source": [
    "categoric.shape"
   ]
  },
  {
   "cell_type": "code",
   "execution_count": 46,
   "metadata": {},
   "outputs": [
    {
     "data": {
      "text/plain": [
       "term                        2\n",
       "int_rate                  200\n",
       "grade                       7\n",
       "sub_grade                  35\n",
       "emp_length                 11\n",
       "home_ownership              4\n",
       "verification_status         3\n",
       "url                    462191\n",
       "purpose                    14\n",
       "title                    1944\n",
       "zip_code                  911\n",
       "addr_state                 51\n",
       "earliest_cr_line          689\n",
       "revol_util               1215\n",
       "initial_list_status         2\n",
       "application_type            2\n",
       "disbursement_method         2\n",
       "dtype: int64"
      ]
     },
     "execution_count": 46,
     "metadata": {},
     "output_type": "execute_result"
    }
   ],
   "source": [
    "categoric.nunique() # Count distinct observations over requested axis."
   ]
  },
  {
   "cell_type": "markdown",
   "metadata": {},
   "source": [
    "#### Sustitución de los valores nulos por la moda"
   ]
  },
  {
   "cell_type": "markdown",
   "metadata": {},
   "source": [
    "Antes de realizar ningún ajuste debemos sustituir los valores nulos por la moda al tratarse de variables categóricas. Las variables que tienen valores nulos son las siguientes"
   ]
  },
  {
   "cell_type": "code",
   "execution_count": 47,
   "metadata": {
    "scrolled": true
   },
   "outputs": [
    {
     "data": {
      "text/plain": [
       "emp_length             0.054276\n",
       "revol_util             0.000506\n",
       "title                  0.000136\n",
       "disbursement_method    0.000000\n",
       "verification_status    0.000000\n",
       "dtype: float64"
      ]
     },
     "execution_count": 47,
     "metadata": {},
     "output_type": "execute_result"
    }
   ],
   "source": [
    "percentage_NaN = categoric.apply(lambda x: sum(x.isna()/len(data)))\n",
    "percentage_NaN.sort_values(ascending = False).head(5)"
   ]
  },
  {
   "cell_type": "code",
   "execution_count": 48,
   "metadata": {},
   "outputs": [],
   "source": [
    "# Sustituimos por la moda\n",
    "categoric = categoric.apply(lambda x: x.replace(\"\", np.nan))\n",
    "categoric = categoric.apply(lambda x: x.fillna(x.value_counts().index[0])) # fill with the mode"
   ]
  },
  {
   "cell_type": "markdown",
   "metadata": {},
   "source": [
    "#### Variables que no se pueden utilizar para predecir el impago"
   ]
  },
  {
   "cell_type": "markdown",
   "metadata": {},
   "source": [
    "Por motivos legales, hay algunos datos de los prestatrios que no se pueden utilizar para predecir el impago, como es el caso de la varibale \"zip_code\" y \"addr_state. Adicionalmente, también eliminamos las variables 'url' y 'title', puesto que no tienen relación con el impago"
   ]
  },
  {
   "cell_type": "code",
   "execution_count": 49,
   "metadata": {},
   "outputs": [],
   "source": [
    "del categoric['url']\n",
    "del categoric['title']\n",
    "del categoric['zip_code']\n",
    "del categoric['addr_state']"
   ]
  },
  {
   "cell_type": "markdown",
   "metadata": {},
   "source": [
    "#### Variables con excesivo número de clases"
   ]
  },
  {
   "cell_type": "markdown",
   "metadata": {},
   "source": [
    "Las variables 'sub_grade' y 'earliest_cr_line' poseen 35 y 689 clases respectivamente, por lo que trabajar con ellas no sería eficiente. Por lo tanto, procedemos a eliminarlas:"
   ]
  },
  {
   "cell_type": "code",
   "execution_count": 50,
   "metadata": {},
   "outputs": [],
   "source": [
    "del categoric['sub_grade']\n",
    "del categoric['earliest_cr_line']"
   ]
  },
  {
   "cell_type": "markdown",
   "metadata": {},
   "source": [
    "#### Variables con clases desbalanceadas"
   ]
  },
  {
   "cell_type": "markdown",
   "metadata": {},
   "source": [
    "Tras analizar las variables, hemos visto que la variable \"disbursement_method\" tiene solamente 16 observaciones de la clase \"DirectPay\" frente a 462175 de \"Cash\". Es por ello, que consideramos que dicha variable no será relevante y la eliminamos"
   ]
  },
  {
   "cell_type": "code",
   "execution_count": 51,
   "metadata": {},
   "outputs": [
    {
     "data": {
      "text/plain": [
       "Cash         462175\n",
       "DirectPay        16\n",
       "Name: disbursement_method, dtype: int64"
      ]
     },
     "execution_count": 51,
     "metadata": {},
     "output_type": "execute_result"
    }
   ],
   "source": [
    "categoric['disbursement_method'].value_counts()"
   ]
  },
  {
   "cell_type": "code",
   "execution_count": 52,
   "metadata": {},
   "outputs": [],
   "source": [
    "del categoric['disbursement_method']"
   ]
  },
  {
   "cell_type": "markdown",
   "metadata": {},
   "source": [
    "#### Variables categóricas erróneas"
   ]
  },
  {
   "cell_type": "markdown",
   "metadata": {},
   "source": [
    "Al estudiar las variables del dataset categoric, observamos que se ha incluido las variables 'int_rate' y 'revol_util' de manera errónea en el dataset ya que se trata de variables numéricas. Procedemos a convertir los porcentajes en variables numéricas."
   ]
  },
  {
   "cell_type": "code",
   "execution_count": 53,
   "metadata": {},
   "outputs": [],
   "source": [
    "# Convertimos a strig\n",
    "int_rate_conversion = categoric['int_rate']\n",
    "int_rate_conversion = int_rate_conversion.astype(str) "
   ]
  },
  {
   "cell_type": "code",
   "execution_count": 54,
   "metadata": {},
   "outputs": [
    {
     "data": {
      "text/plain": [
       "8       7.35%\n",
       "10     24.85%\n",
       "24      7.35%\n",
       "Name: int_rate, dtype: object"
      ]
     },
     "execution_count": 54,
     "metadata": {},
     "output_type": "execute_result"
    }
   ],
   "source": [
    "# Vemos cómo es\n",
    "int_rate_conversion.head(3)"
   ]
  },
  {
   "cell_type": "code",
   "execution_count": 55,
   "metadata": {},
   "outputs": [],
   "source": [
    "# Eliminamos el símbolo %\n",
    "int_rate_conversion = int_rate_conversion.map(lambda x: x[:-1])"
   ]
  },
  {
   "cell_type": "code",
   "execution_count": 56,
   "metadata": {},
   "outputs": [
    {
     "data": {
      "text/plain": [
       "8       7.35\n",
       "10     24.85\n",
       "24      7.35\n",
       "Name: int_rate, dtype: object"
      ]
     },
     "execution_count": 56,
     "metadata": {},
     "output_type": "execute_result"
    }
   ],
   "source": [
    "int_rate_conversion.head(3)"
   ]
  },
  {
   "cell_type": "code",
   "execution_count": 57,
   "metadata": {},
   "outputs": [
    {
     "data": {
      "text/plain": [
       "8     0.0735\n",
       "10    0.2485\n",
       "24    0.0735\n",
       "42    0.1602\n",
       "91    0.1602\n",
       "Name: int_rate, dtype: float64"
      ]
     },
     "execution_count": 57,
     "metadata": {},
     "output_type": "execute_result"
    }
   ],
   "source": [
    "# Convertimos a decimal dividiendo entre 100\n",
    "int_rate_conversion= int_rate_conversion.astype(float)/100\n",
    "int_rate_conversion.head()"
   ]
  },
  {
   "cell_type": "code",
   "execution_count": 58,
   "metadata": {},
   "outputs": [],
   "source": [
    "# Introducimos en el dataset y eliminamos el objeto creado int_rate_conversion\n",
    "categoric['int_rate'] = int_rate_conversion \n",
    "del int_rate_conversion"
   ]
  },
  {
   "cell_type": "code",
   "execution_count": 59,
   "metadata": {},
   "outputs": [
    {
     "data": {
      "text/html": [
       "<div>\n",
       "<style scoped>\n",
       "    .dataframe tbody tr th:only-of-type {\n",
       "        vertical-align: middle;\n",
       "    }\n",
       "\n",
       "    .dataframe tbody tr th {\n",
       "        vertical-align: top;\n",
       "    }\n",
       "\n",
       "    .dataframe thead th {\n",
       "        text-align: right;\n",
       "    }\n",
       "</style>\n",
       "<table border=\"1\" class=\"dataframe\">\n",
       "  <thead>\n",
       "    <tr style=\"text-align: right;\">\n",
       "      <th></th>\n",
       "      <th>term</th>\n",
       "      <th>int_rate</th>\n",
       "      <th>grade</th>\n",
       "      <th>emp_length</th>\n",
       "      <th>home_ownership</th>\n",
       "      <th>verification_status</th>\n",
       "      <th>purpose</th>\n",
       "      <th>revol_util</th>\n",
       "      <th>initial_list_status</th>\n",
       "      <th>application_type</th>\n",
       "    </tr>\n",
       "  </thead>\n",
       "  <tbody>\n",
       "    <tr>\n",
       "      <th>8</th>\n",
       "      <td>36 months</td>\n",
       "      <td>0.0735</td>\n",
       "      <td>A</td>\n",
       "      <td>6 years</td>\n",
       "      <td>OWN</td>\n",
       "      <td>Not Verified</td>\n",
       "      <td>credit_card</td>\n",
       "      <td>22.7%</td>\n",
       "      <td>w</td>\n",
       "      <td>Individual</td>\n",
       "    </tr>\n",
       "    <tr>\n",
       "      <th>10</th>\n",
       "      <td>36 months</td>\n",
       "      <td>0.2485</td>\n",
       "      <td>E</td>\n",
       "      <td>2 years</td>\n",
       "      <td>RENT</td>\n",
       "      <td>Source Verified</td>\n",
       "      <td>debt_consolidation</td>\n",
       "      <td>98.9%</td>\n",
       "      <td>w</td>\n",
       "      <td>Individual</td>\n",
       "    </tr>\n",
       "    <tr>\n",
       "      <th>24</th>\n",
       "      <td>36 months</td>\n",
       "      <td>0.0735</td>\n",
       "      <td>A</td>\n",
       "      <td>7 years</td>\n",
       "      <td>MORTGAGE</td>\n",
       "      <td>Not Verified</td>\n",
       "      <td>debt_consolidation</td>\n",
       "      <td>27.2%</td>\n",
       "      <td>w</td>\n",
       "      <td>Individual</td>\n",
       "    </tr>\n",
       "  </tbody>\n",
       "</table>\n",
       "</div>"
      ],
      "text/plain": [
       "          term  int_rate grade emp_length home_ownership verification_status  \\\n",
       "8    36 months    0.0735     A    6 years            OWN        Not Verified   \n",
       "10   36 months    0.2485     E    2 years           RENT     Source Verified   \n",
       "24   36 months    0.0735     A    7 years       MORTGAGE        Not Verified   \n",
       "\n",
       "               purpose revol_util initial_list_status application_type  \n",
       "8          credit_card      22.7%                   w       Individual  \n",
       "10  debt_consolidation      98.9%                   w       Individual  \n",
       "24  debt_consolidation      27.2%                   w       Individual  "
      ]
     },
     "execution_count": 59,
     "metadata": {},
     "output_type": "execute_result"
    }
   ],
   "source": [
    "categoric.head(3)"
   ]
  },
  {
   "cell_type": "markdown",
   "metadata": {},
   "source": [
    "Realizamos el mismo procedimiento para la variable \"revol_util\""
   ]
  },
  {
   "cell_type": "code",
   "execution_count": 60,
   "metadata": {},
   "outputs": [],
   "source": [
    "# Convertimos a string\n",
    "revol_util_conversion = categoric['revol_util']\n",
    "revol_util_conversion = revol_util_conversion.astype(str)"
   ]
  },
  {
   "cell_type": "code",
   "execution_count": 61,
   "metadata": {},
   "outputs": [],
   "source": [
    "# Eliminamos el %\n",
    "revol_util_conversion = revol_util_conversion.map(lambda x: x[:-1])"
   ]
  },
  {
   "cell_type": "code",
   "execution_count": 62,
   "metadata": {},
   "outputs": [
    {
     "data": {
      "text/plain": [
       "application_type       0.0\n",
       "initial_list_status    0.0\n",
       "revol_util             0.0\n",
       "purpose                0.0\n",
       "verification_status    0.0\n",
       "home_ownership         0.0\n",
       "emp_length             0.0\n",
       "grade                  0.0\n",
       "int_rate               0.0\n",
       "term                   0.0\n",
       "dtype: float64"
      ]
     },
     "execution_count": 62,
     "metadata": {},
     "output_type": "execute_result"
    }
   ],
   "source": [
    "# VEMOS LOS NAS\n",
    "percentage_NaN = categoric.apply(lambda x: sum(x.isna()/len(data)))\n",
    "percentage_NaN.sort_values(ascending = False).head(40)"
   ]
  },
  {
   "cell_type": "code",
   "execution_count": 63,
   "metadata": {},
   "outputs": [
    {
     "data": {
      "text/plain": [
       "8     0.227\n",
       "10    0.989\n",
       "24    0.272\n",
       "42    0.200\n",
       "91    0.900\n",
       "Name: revol_util, dtype: float64"
      ]
     },
     "execution_count": 63,
     "metadata": {},
     "output_type": "execute_result"
    }
   ],
   "source": [
    "# Convertimos en decimal\n",
    "revol_util_conversion= revol_util_conversion.astype(float)/100\n",
    "revol_util_conversion.head()"
   ]
  },
  {
   "cell_type": "code",
   "execution_count": 64,
   "metadata": {},
   "outputs": [],
   "source": [
    "# Introducimos en el dataset y eliminamos el objeto creado revol_util_conversion\n",
    "categoric['revol_util'] = revol_util_conversion \n",
    "del revol_util_conversion"
   ]
  },
  {
   "cell_type": "code",
   "execution_count": 65,
   "metadata": {},
   "outputs": [
    {
     "data": {
      "text/html": [
       "<div>\n",
       "<style scoped>\n",
       "    .dataframe tbody tr th:only-of-type {\n",
       "        vertical-align: middle;\n",
       "    }\n",
       "\n",
       "    .dataframe tbody tr th {\n",
       "        vertical-align: top;\n",
       "    }\n",
       "\n",
       "    .dataframe thead th {\n",
       "        text-align: right;\n",
       "    }\n",
       "</style>\n",
       "<table border=\"1\" class=\"dataframe\">\n",
       "  <thead>\n",
       "    <tr style=\"text-align: right;\">\n",
       "      <th></th>\n",
       "      <th>term</th>\n",
       "      <th>int_rate</th>\n",
       "      <th>grade</th>\n",
       "      <th>emp_length</th>\n",
       "      <th>home_ownership</th>\n",
       "      <th>verification_status</th>\n",
       "      <th>purpose</th>\n",
       "      <th>revol_util</th>\n",
       "      <th>initial_list_status</th>\n",
       "      <th>application_type</th>\n",
       "    </tr>\n",
       "  </thead>\n",
       "  <tbody>\n",
       "    <tr>\n",
       "      <th>8</th>\n",
       "      <td>36 months</td>\n",
       "      <td>0.0735</td>\n",
       "      <td>A</td>\n",
       "      <td>6 years</td>\n",
       "      <td>OWN</td>\n",
       "      <td>Not Verified</td>\n",
       "      <td>credit_card</td>\n",
       "      <td>0.227</td>\n",
       "      <td>w</td>\n",
       "      <td>Individual</td>\n",
       "    </tr>\n",
       "    <tr>\n",
       "      <th>10</th>\n",
       "      <td>36 months</td>\n",
       "      <td>0.2485</td>\n",
       "      <td>E</td>\n",
       "      <td>2 years</td>\n",
       "      <td>RENT</td>\n",
       "      <td>Source Verified</td>\n",
       "      <td>debt_consolidation</td>\n",
       "      <td>0.989</td>\n",
       "      <td>w</td>\n",
       "      <td>Individual</td>\n",
       "    </tr>\n",
       "    <tr>\n",
       "      <th>24</th>\n",
       "      <td>36 months</td>\n",
       "      <td>0.0735</td>\n",
       "      <td>A</td>\n",
       "      <td>7 years</td>\n",
       "      <td>MORTGAGE</td>\n",
       "      <td>Not Verified</td>\n",
       "      <td>debt_consolidation</td>\n",
       "      <td>0.272</td>\n",
       "      <td>w</td>\n",
       "      <td>Individual</td>\n",
       "    </tr>\n",
       "  </tbody>\n",
       "</table>\n",
       "</div>"
      ],
      "text/plain": [
       "          term  int_rate grade emp_length home_ownership verification_status  \\\n",
       "8    36 months    0.0735     A    6 years            OWN        Not Verified   \n",
       "10   36 months    0.2485     E    2 years           RENT     Source Verified   \n",
       "24   36 months    0.0735     A    7 years       MORTGAGE        Not Verified   \n",
       "\n",
       "               purpose  revol_util initial_list_status application_type  \n",
       "8          credit_card       0.227                   w       Individual  \n",
       "10  debt_consolidation       0.989                   w       Individual  \n",
       "24  debt_consolidation       0.272                   w       Individual  "
      ]
     },
     "execution_count": 65,
     "metadata": {},
     "output_type": "execute_result"
    }
   ],
   "source": [
    "# Comprobamos que se hayan realizado los cambios\n",
    "categoric.head(3)"
   ]
  },
  {
   "cell_type": "markdown",
   "metadata": {},
   "source": [
    "#### Reducción del número de categorías"
   ]
  },
  {
   "cell_type": "markdown",
   "metadata": {},
   "source": [
    "Algunas variables que hemos considerado relevantes tienen un número de clases muy alto y para poder trabajar con ellas hemos decidido reducir su m¡número de clases siguiendo distintos criterios"
   ]
  },
  {
   "cell_type": "markdown",
   "metadata": {},
   "source": [
    "La variable emp_length, que recoge el tiempo que cada usuario ha estado empleado, tiene 11 categorías. Sin embargo hemos decidido agruparlas en aquellos que han trabajado durante menos de 5 años, los que han trabajado entre 5 y 10 años, y aquellos que han trabajado durante más de 10 años."
   ]
  },
  {
   "cell_type": "code",
   "execution_count": 66,
   "metadata": {},
   "outputs": [
    {
     "data": {
      "text/plain": [
       "10+ years    177520\n",
       "2 years       41335\n",
       "< 1 year      37558\n",
       "3 years       36662\n",
       "1 year        30006\n",
       "4 years       27057\n",
       "5 years       26907\n",
       "8 years       23176\n",
       "7 years       22648\n",
       "6 years       20919\n",
       "9 years       18403\n",
       "Name: emp_length, dtype: int64"
      ]
     },
     "execution_count": 66,
     "metadata": {},
     "output_type": "execute_result"
    }
   ],
   "source": [
    "# Vemos el número de observaciones que hay en cada categoría\n",
    "categoric['emp_length'].value_counts()"
   ]
  },
  {
   "cell_type": "markdown",
   "metadata": {},
   "source": [
    "Definimos la función que reduce las 11 categorías en tres ('< 5 years', '5-10 years' y '> 10 years') y visualizamos el resultado"
   ]
  },
  {
   "cell_type": "code",
   "execution_count": 67,
   "metadata": {},
   "outputs": [
    {
     "data": {
      "text/html": [
       "<div>\n",
       "<style scoped>\n",
       "    .dataframe tbody tr th:only-of-type {\n",
       "        vertical-align: middle;\n",
       "    }\n",
       "\n",
       "    .dataframe tbody tr th {\n",
       "        vertical-align: top;\n",
       "    }\n",
       "\n",
       "    .dataframe thead th {\n",
       "        text-align: right;\n",
       "    }\n",
       "</style>\n",
       "<table border=\"1\" class=\"dataframe\">\n",
       "  <thead>\n",
       "    <tr style=\"text-align: right;\">\n",
       "      <th></th>\n",
       "      <th>term</th>\n",
       "      <th>int_rate</th>\n",
       "      <th>grade</th>\n",
       "      <th>emp_length</th>\n",
       "      <th>home_ownership</th>\n",
       "      <th>verification_status</th>\n",
       "      <th>purpose</th>\n",
       "      <th>revol_util</th>\n",
       "      <th>initial_list_status</th>\n",
       "      <th>application_type</th>\n",
       "    </tr>\n",
       "  </thead>\n",
       "  <tbody>\n",
       "    <tr>\n",
       "      <th>8</th>\n",
       "      <td>36 months</td>\n",
       "      <td>0.0735</td>\n",
       "      <td>A</td>\n",
       "      <td>5-10 years</td>\n",
       "      <td>OWN</td>\n",
       "      <td>Not Verified</td>\n",
       "      <td>credit_card</td>\n",
       "      <td>0.227</td>\n",
       "      <td>w</td>\n",
       "      <td>Individual</td>\n",
       "    </tr>\n",
       "    <tr>\n",
       "      <th>10</th>\n",
       "      <td>36 months</td>\n",
       "      <td>0.2485</td>\n",
       "      <td>E</td>\n",
       "      <td>&lt; 5 years</td>\n",
       "      <td>RENT</td>\n",
       "      <td>Source Verified</td>\n",
       "      <td>debt_consolidation</td>\n",
       "      <td>0.989</td>\n",
       "      <td>w</td>\n",
       "      <td>Individual</td>\n",
       "    </tr>\n",
       "    <tr>\n",
       "      <th>24</th>\n",
       "      <td>36 months</td>\n",
       "      <td>0.0735</td>\n",
       "      <td>A</td>\n",
       "      <td>5-10 years</td>\n",
       "      <td>MORTGAGE</td>\n",
       "      <td>Not Verified</td>\n",
       "      <td>debt_consolidation</td>\n",
       "      <td>0.272</td>\n",
       "      <td>w</td>\n",
       "      <td>Individual</td>\n",
       "    </tr>\n",
       "    <tr>\n",
       "      <th>42</th>\n",
       "      <td>60 months</td>\n",
       "      <td>0.1602</td>\n",
       "      <td>C</td>\n",
       "      <td>5-10 years</td>\n",
       "      <td>RENT</td>\n",
       "      <td>Source Verified</td>\n",
       "      <td>debt_consolidation</td>\n",
       "      <td>0.200</td>\n",
       "      <td>w</td>\n",
       "      <td>Individual</td>\n",
       "    </tr>\n",
       "    <tr>\n",
       "      <th>91</th>\n",
       "      <td>36 months</td>\n",
       "      <td>0.1602</td>\n",
       "      <td>C</td>\n",
       "      <td>5-10 years</td>\n",
       "      <td>MORTGAGE</td>\n",
       "      <td>Verified</td>\n",
       "      <td>debt_consolidation</td>\n",
       "      <td>0.900</td>\n",
       "      <td>w</td>\n",
       "      <td>Individual</td>\n",
       "    </tr>\n",
       "  </tbody>\n",
       "</table>\n",
       "</div>"
      ],
      "text/plain": [
       "          term  int_rate grade  emp_length home_ownership verification_status  \\\n",
       "8    36 months    0.0735     A  5-10 years            OWN        Not Verified   \n",
       "10   36 months    0.2485     E   < 5 years           RENT     Source Verified   \n",
       "24   36 months    0.0735     A  5-10 years       MORTGAGE        Not Verified   \n",
       "42   60 months    0.1602     C  5-10 years           RENT     Source Verified   \n",
       "91   36 months    0.1602     C  5-10 years       MORTGAGE            Verified   \n",
       "\n",
       "               purpose  revol_util initial_list_status application_type  \n",
       "8          credit_card       0.227                   w       Individual  \n",
       "10  debt_consolidation       0.989                   w       Individual  \n",
       "24  debt_consolidation       0.272                   w       Individual  \n",
       "42  debt_consolidation       0.200                   w       Individual  \n",
       "91  debt_consolidation       0.900                   w       Individual  "
      ]
     },
     "execution_count": 67,
     "metadata": {},
     "output_type": "execute_result"
    }
   ],
   "source": [
    "def f_emp_length(x):\n",
    "    if x == '< 1 year':\n",
    "        return '< 5 years'\n",
    "    elif x == '1 year':\n",
    "        return '< 5 years'\n",
    "    elif x == '2 years':\n",
    "        return '< 5 years'\n",
    "    elif x == '3 years':\n",
    "        return '< 5 years'\n",
    "    elif x == '5 years':\n",
    "        return '5-10 years'\n",
    "    elif x == '6 years':\n",
    "        return '5-10 years'\n",
    "    elif x == '7 years':\n",
    "        return '5-10 years'\n",
    "    elif x == '8 years':\n",
    "        return '5-10 years'\n",
    "    elif x == '9 years':\n",
    "        return '5-10 years'\n",
    "    else:\n",
    "        return '> 10 years'\n",
    "    \n",
    "categoric.emp_length = categoric.emp_length.map(f_emp_length)\n",
    "categoric.head()"
   ]
  },
  {
   "cell_type": "code",
   "execution_count": 68,
   "metadata": {},
   "outputs": [
    {
     "data": {
      "text/plain": [
       "> 10 years    204577\n",
       "< 5 years     145561\n",
       "5-10 years    112053\n",
       "Name: emp_length, dtype: int64"
      ]
     },
     "execution_count": 68,
     "metadata": {},
     "output_type": "execute_result"
    }
   ],
   "source": [
    "# Comprobamos que solo hay 3 categorías\n",
    "categoric.emp_length.value_counts()"
   ]
  },
  {
   "cell_type": "code",
   "execution_count": 69,
   "metadata": {},
   "outputs": [
    {
     "data": {
      "text/plain": [
       "<AxesSubplot:>"
      ]
     },
     "execution_count": 69,
     "metadata": {},
     "output_type": "execute_result"
    },
    {
     "data": {
      "image/png": "[encoded data removed]",
      "text/plain": [
       "<Figure size 432x288 with 1 Axes>"
      ]
     },
     "metadata": {
      "needs_background": "light"
     },
     "output_type": "display_data"
    }
   ],
   "source": [
    "# De manera gráfica se verían de la siguiente manera\n",
    "graph = categoric['emp_length'].value_counts()\n",
    "graph.plot(kind = 'bar')"
   ]
  },
  {
   "cell_type": "markdown",
   "metadata": {},
   "source": [
    "Tenemos el mismo problema con la variable 'purpose', ya que tiene 14 grupos y procederemos a reducirlos en 6. Se agruparan de la siguiente manera:\n",
    " - 'debt_consolidation'.\n",
    " - 'credit_card'\n",
    " - 'housing': which will include 'home_improvement', 'house' and 'moving'.\n",
    " - 'leisure': includes 'major_purchase', 'vacation', 'car','wedding','small_business' and 'renewable_energy'.\n",
    " - 'medical': 'medical'.\n",
    " - 'other': includes 'other' and 'educational'."
   ]
  },
  {
   "cell_type": "code",
   "execution_count": 70,
   "metadata": {},
   "outputs": [
    {
     "data": {
      "text/plain": [
       "debt_consolidation    280277\n",
       "credit_card           103249\n",
       "home_improvement       27584\n",
       "other                  22119\n",
       "major_purchase          8243\n",
       "medical                 4771\n",
       "small_business          4279\n",
       "car                     3895\n",
       "moving                  2972\n",
       "vacation                2716\n",
       "house                   1798\n",
       "renewable_energy         276\n",
       "wedding                   11\n",
       "educational                1\n",
       "Name: purpose, dtype: int64"
      ]
     },
     "execution_count": 70,
     "metadata": {},
     "output_type": "execute_result"
    }
   ],
   "source": [
    "# Vemos las categorías iniciales\n",
    "categoric['purpose'].value_counts()"
   ]
  },
  {
   "cell_type": "code",
   "execution_count": 71,
   "metadata": {},
   "outputs": [],
   "source": [
    "# creamos la categoría housing\n",
    "categoric['purpose'] = np.where ((categoric['purpose'] == 'home_improvement') | \n",
    "                            (categoric['purpose'] == 'house') | \n",
    "                            (categoric['purpose'] == 'moving'), \n",
    "                           'housing', categoric['purpose'].values)"
   ]
  },
  {
   "cell_type": "code",
   "execution_count": 72,
   "metadata": {},
   "outputs": [],
   "source": [
    "# creamos la categoría leisure\n",
    "categoric['purpose'] = np.where ((categoric['purpose'] == 'major_purchase') | \n",
    "                            (categoric['purpose'] == 'vacation') | \n",
    "                            (categoric['purpose'] == 'wedding') |\n",
    "                            (categoric['purpose'] == 'car')|\n",
    "                            (categoric['purpose'] == 'small_business') | \n",
    "                            (categoric['purpose'] == 'renewable_energy'), \n",
    "                           'leisure', categoric['purpose'].values)"
   ]
  },
  {
   "cell_type": "code",
   "execution_count": 73,
   "metadata": {},
   "outputs": [],
   "source": [
    "# creamos la categoría otros\n",
    "categoric['purpose'] = np.where ((categoric['purpose'] == 'other') | \n",
    "                            (categoric['purpose'] == 'educational'), \n",
    "                           'other', categoric['purpose'].values)"
   ]
  },
  {
   "cell_type": "code",
   "execution_count": 74,
   "metadata": {},
   "outputs": [
    {
     "data": {
      "text/plain": [
       "debt_consolidation    280277\n",
       "credit_card           103249\n",
       "housing                32354\n",
       "other                  22120\n",
       "leisure                19420\n",
       "medical                 4771\n",
       "Name: purpose, dtype: int64"
      ]
     },
     "execution_count": 74,
     "metadata": {},
     "output_type": "execute_result"
    }
   ],
   "source": [
    "# Comprobamos que se han realizado los cambios\n",
    "categoric['purpose'].value_counts()"
   ]
  },
  {
   "cell_type": "code",
   "execution_count": 75,
   "metadata": {},
   "outputs": [
    {
     "data": {
      "text/html": [
       "<div>\n",
       "<style scoped>\n",
       "    .dataframe tbody tr th:only-of-type {\n",
       "        vertical-align: middle;\n",
       "    }\n",
       "\n",
       "    .dataframe tbody tr th {\n",
       "        vertical-align: top;\n",
       "    }\n",
       "\n",
       "    .dataframe thead th {\n",
       "        text-align: right;\n",
       "    }\n",
       "</style>\n",
       "<table border=\"1\" class=\"dataframe\">\n",
       "  <thead>\n",
       "    <tr style=\"text-align: right;\">\n",
       "      <th></th>\n",
       "      <th>term</th>\n",
       "      <th>int_rate</th>\n",
       "      <th>grade</th>\n",
       "      <th>emp_length</th>\n",
       "      <th>home_ownership</th>\n",
       "      <th>verification_status</th>\n",
       "      <th>purpose</th>\n",
       "      <th>revol_util</th>\n",
       "      <th>initial_list_status</th>\n",
       "      <th>application_type</th>\n",
       "    </tr>\n",
       "  </thead>\n",
       "  <tbody>\n",
       "    <tr>\n",
       "      <th>8</th>\n",
       "      <td>36 months</td>\n",
       "      <td>0.0735</td>\n",
       "      <td>A</td>\n",
       "      <td>5-10 years</td>\n",
       "      <td>OWN</td>\n",
       "      <td>Not Verified</td>\n",
       "      <td>credit_card</td>\n",
       "      <td>0.227</td>\n",
       "      <td>w</td>\n",
       "      <td>Individual</td>\n",
       "    </tr>\n",
       "    <tr>\n",
       "      <th>10</th>\n",
       "      <td>36 months</td>\n",
       "      <td>0.2485</td>\n",
       "      <td>E</td>\n",
       "      <td>&lt; 5 years</td>\n",
       "      <td>RENT</td>\n",
       "      <td>Source Verified</td>\n",
       "      <td>debt_consolidation</td>\n",
       "      <td>0.989</td>\n",
       "      <td>w</td>\n",
       "      <td>Individual</td>\n",
       "    </tr>\n",
       "    <tr>\n",
       "      <th>24</th>\n",
       "      <td>36 months</td>\n",
       "      <td>0.0735</td>\n",
       "      <td>A</td>\n",
       "      <td>5-10 years</td>\n",
       "      <td>MORTGAGE</td>\n",
       "      <td>Not Verified</td>\n",
       "      <td>debt_consolidation</td>\n",
       "      <td>0.272</td>\n",
       "      <td>w</td>\n",
       "      <td>Individual</td>\n",
       "    </tr>\n",
       "    <tr>\n",
       "      <th>42</th>\n",
       "      <td>60 months</td>\n",
       "      <td>0.1602</td>\n",
       "      <td>C</td>\n",
       "      <td>5-10 years</td>\n",
       "      <td>RENT</td>\n",
       "      <td>Source Verified</td>\n",
       "      <td>debt_consolidation</td>\n",
       "      <td>0.200</td>\n",
       "      <td>w</td>\n",
       "      <td>Individual</td>\n",
       "    </tr>\n",
       "    <tr>\n",
       "      <th>91</th>\n",
       "      <td>36 months</td>\n",
       "      <td>0.1602</td>\n",
       "      <td>C</td>\n",
       "      <td>5-10 years</td>\n",
       "      <td>MORTGAGE</td>\n",
       "      <td>Verified</td>\n",
       "      <td>debt_consolidation</td>\n",
       "      <td>0.900</td>\n",
       "      <td>w</td>\n",
       "      <td>Individual</td>\n",
       "    </tr>\n",
       "  </tbody>\n",
       "</table>\n",
       "</div>"
      ],
      "text/plain": [
       "          term  int_rate grade  emp_length home_ownership verification_status  \\\n",
       "8    36 months    0.0735     A  5-10 years            OWN        Not Verified   \n",
       "10   36 months    0.2485     E   < 5 years           RENT     Source Verified   \n",
       "24   36 months    0.0735     A  5-10 years       MORTGAGE        Not Verified   \n",
       "42   60 months    0.1602     C  5-10 years           RENT     Source Verified   \n",
       "91   36 months    0.1602     C  5-10 years       MORTGAGE            Verified   \n",
       "\n",
       "               purpose  revol_util initial_list_status application_type  \n",
       "8          credit_card       0.227                   w       Individual  \n",
       "10  debt_consolidation       0.989                   w       Individual  \n",
       "24  debt_consolidation       0.272                   w       Individual  \n",
       "42  debt_consolidation       0.200                   w       Individual  \n",
       "91  debt_consolidation       0.900                   w       Individual  "
      ]
     },
     "execution_count": 75,
     "metadata": {},
     "output_type": "execute_result"
    }
   ],
   "source": [
    "categoric.head(5)"
   ]
  },
  {
   "cell_type": "markdown",
   "metadata": {},
   "source": [
    "#### Edición de la variable \"grade\""
   ]
  },
  {
   "cell_type": "markdown",
   "metadata": {},
   "source": [
    "La variable grade hace referencia al sistema de clasificación de la calidad del endeudado, en base a su historial de créditos y la probabilidad de impago.\n",
    "\n",
    "Los valores que toma son los siguientes:"
   ]
  },
  {
   "cell_type": "code",
   "execution_count": 76,
   "metadata": {},
   "outputs": [
    {
     "data": {
      "text/plain": [
       "array(['A', 'E', 'C', 'G', 'D', 'B', 'F'], dtype=object)"
      ]
     },
     "execution_count": 76,
     "metadata": {},
     "output_type": "execute_result"
    }
   ],
   "source": [
    "categoric.grade.unique()"
   ]
  },
  {
   "cell_type": "markdown",
   "metadata": {},
   "source": [
    "A es la mejor nota, y por tanto, menos posibilida de impago y G la peor nota con mayor posibilidad de impago. Por ello, daremos valor 6 a aquellos con una A y un 0 a aquellos con una G."
   ]
  },
  {
   "cell_type": "code",
   "execution_count": 77,
   "metadata": {},
   "outputs": [
    {
     "data": {
      "text/plain": [
       "array([6, 2, 4, 0, 3, 5, 1], dtype=int64)"
      ]
     },
     "execution_count": 77,
     "metadata": {},
     "output_type": "execute_result"
    }
   ],
   "source": [
    "# Creamos un diccionario para cada letra:\n",
    "dic =  {'A': 6, 'B': 5, 'C': 4, 'D': 3, 'E': 2, 'F': 1, 'G': 0} \n",
    "\n",
    "# Sustituimos en cada caso su valor del diccionario:\n",
    "\n",
    "categoric['grade'] = categoric['grade'].replace(dic)\n",
    "\n",
    "# Comprobamos el la transformación a numérico:\n",
    "\n",
    "categoric.grade.unique()"
   ]
  },
  {
   "cell_type": "markdown",
   "metadata": {},
   "source": [
    "#### Estudio de la relevancia de los grupos"
   ]
  },
  {
   "cell_type": "markdown",
   "metadata": {},
   "source": [
    "Para seguir analizando si las variables categóricas son relevantes o no para predecir el impago tenemos que volver a juntar las categóricas con las numéricas, ya que la variable target se encuentra en el dataframe de numéricas."
   ]
  },
  {
   "cell_type": "code",
   "execution_count": 78,
   "metadata": {},
   "outputs": [],
   "source": [
    "data = pd.concat([numeric, categoric], axis = 1)"
   ]
  },
  {
   "cell_type": "code",
   "execution_count": 79,
   "metadata": {},
   "outputs": [
    {
     "data": {
      "text/html": [
       "<div>\n",
       "<style scoped>\n",
       "    .dataframe tbody tr th:only-of-type {\n",
       "        vertical-align: middle;\n",
       "    }\n",
       "\n",
       "    .dataframe tbody tr th {\n",
       "        vertical-align: top;\n",
       "    }\n",
       "\n",
       "    .dataframe thead th {\n",
       "        text-align: right;\n",
       "    }\n",
       "</style>\n",
       "<table border=\"1\" class=\"dataframe\">\n",
       "  <thead>\n",
       "    <tr style=\"text-align: right;\">\n",
       "      <th></th>\n",
       "      <th>id</th>\n",
       "      <th>loan_amnt</th>\n",
       "      <th>funded_amnt</th>\n",
       "      <th>funded_amnt_inv</th>\n",
       "      <th>installment</th>\n",
       "      <th>annual_inc</th>\n",
       "      <th>dti</th>\n",
       "      <th>delinq_2yrs</th>\n",
       "      <th>fico_range_low</th>\n",
       "      <th>fico_range_high</th>\n",
       "      <th>...</th>\n",
       "      <th>term</th>\n",
       "      <th>int_rate</th>\n",
       "      <th>grade</th>\n",
       "      <th>emp_length</th>\n",
       "      <th>home_ownership</th>\n",
       "      <th>verification_status</th>\n",
       "      <th>purpose</th>\n",
       "      <th>revol_util</th>\n",
       "      <th>initial_list_status</th>\n",
       "      <th>application_type</th>\n",
       "    </tr>\n",
       "  </thead>\n",
       "  <tbody>\n",
       "    <tr>\n",
       "      <th>8</th>\n",
       "      <td>112038251</td>\n",
       "      <td>11575</td>\n",
       "      <td>11575</td>\n",
       "      <td>11575.0</td>\n",
       "      <td>359.26</td>\n",
       "      <td>153000.0</td>\n",
       "      <td>16.99</td>\n",
       "      <td>0</td>\n",
       "      <td>720</td>\n",
       "      <td>724</td>\n",
       "      <td>...</td>\n",
       "      <td>36 months</td>\n",
       "      <td>0.0735</td>\n",
       "      <td>6</td>\n",
       "      <td>5-10 years</td>\n",
       "      <td>OWN</td>\n",
       "      <td>Not Verified</td>\n",
       "      <td>credit_card</td>\n",
       "      <td>0.227</td>\n",
       "      <td>w</td>\n",
       "      <td>Individual</td>\n",
       "    </tr>\n",
       "    <tr>\n",
       "      <th>10</th>\n",
       "      <td>112149045</td>\n",
       "      <td>7200</td>\n",
       "      <td>7200</td>\n",
       "      <td>7200.0</td>\n",
       "      <td>285.70</td>\n",
       "      <td>50000.0</td>\n",
       "      <td>6.07</td>\n",
       "      <td>0</td>\n",
       "      <td>685</td>\n",
       "      <td>689</td>\n",
       "      <td>...</td>\n",
       "      <td>36 months</td>\n",
       "      <td>0.2485</td>\n",
       "      <td>2</td>\n",
       "      <td>&lt; 5 years</td>\n",
       "      <td>RENT</td>\n",
       "      <td>Source Verified</td>\n",
       "      <td>debt_consolidation</td>\n",
       "      <td>0.989</td>\n",
       "      <td>w</td>\n",
       "      <td>Individual</td>\n",
       "    </tr>\n",
       "    <tr>\n",
       "      <th>24</th>\n",
       "      <td>112052261</td>\n",
       "      <td>7500</td>\n",
       "      <td>7500</td>\n",
       "      <td>7500.0</td>\n",
       "      <td>232.79</td>\n",
       "      <td>110000.0</td>\n",
       "      <td>13.12</td>\n",
       "      <td>0</td>\n",
       "      <td>710</td>\n",
       "      <td>714</td>\n",
       "      <td>...</td>\n",
       "      <td>36 months</td>\n",
       "      <td>0.0735</td>\n",
       "      <td>6</td>\n",
       "      <td>5-10 years</td>\n",
       "      <td>MORTGAGE</td>\n",
       "      <td>Not Verified</td>\n",
       "      <td>debt_consolidation</td>\n",
       "      <td>0.272</td>\n",
       "      <td>w</td>\n",
       "      <td>Individual</td>\n",
       "    </tr>\n",
       "    <tr>\n",
       "      <th>42</th>\n",
       "      <td>111999259</td>\n",
       "      <td>10000</td>\n",
       "      <td>10000</td>\n",
       "      <td>10000.0</td>\n",
       "      <td>243.29</td>\n",
       "      <td>51979.0</td>\n",
       "      <td>10.11</td>\n",
       "      <td>0</td>\n",
       "      <td>690</td>\n",
       "      <td>694</td>\n",
       "      <td>...</td>\n",
       "      <td>60 months</td>\n",
       "      <td>0.1602</td>\n",
       "      <td>4</td>\n",
       "      <td>5-10 years</td>\n",
       "      <td>RENT</td>\n",
       "      <td>Source Verified</td>\n",
       "      <td>debt_consolidation</td>\n",
       "      <td>0.200</td>\n",
       "      <td>w</td>\n",
       "      <td>Individual</td>\n",
       "    </tr>\n",
       "    <tr>\n",
       "      <th>91</th>\n",
       "      <td>111808508</td>\n",
       "      <td>14000</td>\n",
       "      <td>14000</td>\n",
       "      <td>14000.0</td>\n",
       "      <td>492.34</td>\n",
       "      <td>75000.0</td>\n",
       "      <td>10.86</td>\n",
       "      <td>1</td>\n",
       "      <td>685</td>\n",
       "      <td>689</td>\n",
       "      <td>...</td>\n",
       "      <td>36 months</td>\n",
       "      <td>0.1602</td>\n",
       "      <td>4</td>\n",
       "      <td>5-10 years</td>\n",
       "      <td>MORTGAGE</td>\n",
       "      <td>Verified</td>\n",
       "      <td>debt_consolidation</td>\n",
       "      <td>0.900</td>\n",
       "      <td>w</td>\n",
       "      <td>Individual</td>\n",
       "    </tr>\n",
       "  </tbody>\n",
       "</table>\n",
       "<p>5 rows × 89 columns</p>\n",
       "</div>"
      ],
      "text/plain": [
       "           id  loan_amnt  funded_amnt  funded_amnt_inv  installment  \\\n",
       "8   112038251      11575        11575          11575.0       359.26   \n",
       "10  112149045       7200         7200           7200.0       285.70   \n",
       "24  112052261       7500         7500           7500.0       232.79   \n",
       "42  111999259      10000        10000          10000.0       243.29   \n",
       "91  111808508      14000        14000          14000.0       492.34   \n",
       "\n",
       "    annual_inc    dti  delinq_2yrs  fico_range_low  fico_range_high  ...  \\\n",
       "8     153000.0  16.99            0             720              724  ...   \n",
       "10     50000.0   6.07            0             685              689  ...   \n",
       "24    110000.0  13.12            0             710              714  ...   \n",
       "42     51979.0  10.11            0             690              694  ...   \n",
       "91     75000.0  10.86            1             685              689  ...   \n",
       "\n",
       "          term  int_rate  grade  emp_length  home_ownership  \\\n",
       "8    36 months    0.0735      6  5-10 years             OWN   \n",
       "10   36 months    0.2485      2   < 5 years            RENT   \n",
       "24   36 months    0.0735      6  5-10 years        MORTGAGE   \n",
       "42   60 months    0.1602      4  5-10 years            RENT   \n",
       "91   36 months    0.1602      4  5-10 years        MORTGAGE   \n",
       "\n",
       "    verification_status             purpose  revol_util  initial_list_status  \\\n",
       "8          Not Verified         credit_card       0.227                    w   \n",
       "10      Source Verified  debt_consolidation       0.989                    w   \n",
       "24         Not Verified  debt_consolidation       0.272                    w   \n",
       "42      Source Verified  debt_consolidation       0.200                    w   \n",
       "91             Verified  debt_consolidation       0.900                    w   \n",
       "\n",
       "    application_type  \n",
       "8         Individual  \n",
       "10        Individual  \n",
       "24        Individual  \n",
       "42        Individual  \n",
       "91        Individual  \n",
       "\n",
       "[5 rows x 89 columns]"
      ]
     },
     "execution_count": 79,
     "metadata": {},
     "output_type": "execute_result"
    }
   ],
   "source": [
    "data.head()"
   ]
  },
  {
   "cell_type": "markdown",
   "metadata": {},
   "source": [
    "A continuación estudiamos la relevancia de la variable initial_list_status"
   ]
  },
  {
   "cell_type": "code",
   "execution_count": 80,
   "metadata": {},
   "outputs": [
    {
     "data": {
      "text/plain": [
       "initial_list_status  target\n",
       "f                    0         150209\n",
       "                     1          50164\n",
       "w                    0         195311\n",
       "                     1          66507\n",
       "Name: target, dtype: int64"
      ]
     },
     "execution_count": 80,
     "metadata": {},
     "output_type": "execute_result"
    }
   ],
   "source": [
    "data.groupby('initial_list_status')['target'].value_counts()"
   ]
  },
  {
   "cell_type": "markdown",
   "metadata": {},
   "source": [
    "A continuación se muestra que el porcentaje de impago es en ambos casos del 25% por lo que, no sería relevante para predecir el impago y se puede eliminar."
   ]
  },
  {
   "cell_type": "code",
   "execution_count": 81,
   "metadata": {},
   "outputs": [
    {
     "data": {
      "text/plain": [
       "0.2503530914843816"
      ]
     },
     "execution_count": 81,
     "metadata": {},
     "output_type": "execute_result"
    }
   ],
   "source": [
    "50164/(50164+150209)"
   ]
  },
  {
   "cell_type": "code",
   "execution_count": 82,
   "metadata": {},
   "outputs": [
    {
     "data": {
      "text/plain": [
       "0.2540199680694223"
      ]
     },
     "execution_count": 82,
     "metadata": {},
     "output_type": "execute_result"
    }
   ],
   "source": [
    "66507/(195311+66507)"
   ]
  },
  {
   "cell_type": "code",
   "execution_count": 83,
   "metadata": {},
   "outputs": [],
   "source": [
    "del data['initial_list_status']"
   ]
  },
  {
   "cell_type": "markdown",
   "metadata": {},
   "source": [
    "### Gráficos de Frecuencias."
   ]
  },
  {
   "cell_type": "markdown",
   "metadata": {},
   "source": [
    "Antes de realizar los gráficos creamos un nuevo dataframe con las variables de tipo objeto:"
   ]
  },
  {
   "cell_type": "code",
   "execution_count": 84,
   "metadata": {},
   "outputs": [
    {
     "data": {
      "text/html": [
       "<div>\n",
       "<style scoped>\n",
       "    .dataframe tbody tr th:only-of-type {\n",
       "        vertical-align: middle;\n",
       "    }\n",
       "\n",
       "    .dataframe tbody tr th {\n",
       "        vertical-align: top;\n",
       "    }\n",
       "\n",
       "    .dataframe thead th {\n",
       "        text-align: right;\n",
       "    }\n",
       "</style>\n",
       "<table border=\"1\" class=\"dataframe\">\n",
       "  <thead>\n",
       "    <tr style=\"text-align: right;\">\n",
       "      <th></th>\n",
       "      <th>term</th>\n",
       "      <th>emp_length</th>\n",
       "      <th>home_ownership</th>\n",
       "      <th>verification_status</th>\n",
       "      <th>purpose</th>\n",
       "      <th>application_type</th>\n",
       "    </tr>\n",
       "  </thead>\n",
       "  <tbody>\n",
       "    <tr>\n",
       "      <th>8</th>\n",
       "      <td>36 months</td>\n",
       "      <td>5-10 years</td>\n",
       "      <td>OWN</td>\n",
       "      <td>Not Verified</td>\n",
       "      <td>credit_card</td>\n",
       "      <td>Individual</td>\n",
       "    </tr>\n",
       "    <tr>\n",
       "      <th>10</th>\n",
       "      <td>36 months</td>\n",
       "      <td>&lt; 5 years</td>\n",
       "      <td>RENT</td>\n",
       "      <td>Source Verified</td>\n",
       "      <td>debt_consolidation</td>\n",
       "      <td>Individual</td>\n",
       "    </tr>\n",
       "    <tr>\n",
       "      <th>24</th>\n",
       "      <td>36 months</td>\n",
       "      <td>5-10 years</td>\n",
       "      <td>MORTGAGE</td>\n",
       "      <td>Not Verified</td>\n",
       "      <td>debt_consolidation</td>\n",
       "      <td>Individual</td>\n",
       "    </tr>\n",
       "    <tr>\n",
       "      <th>42</th>\n",
       "      <td>60 months</td>\n",
       "      <td>5-10 years</td>\n",
       "      <td>RENT</td>\n",
       "      <td>Source Verified</td>\n",
       "      <td>debt_consolidation</td>\n",
       "      <td>Individual</td>\n",
       "    </tr>\n",
       "    <tr>\n",
       "      <th>91</th>\n",
       "      <td>36 months</td>\n",
       "      <td>5-10 years</td>\n",
       "      <td>MORTGAGE</td>\n",
       "      <td>Verified</td>\n",
       "      <td>debt_consolidation</td>\n",
       "      <td>Individual</td>\n",
       "    </tr>\n",
       "  </tbody>\n",
       "</table>\n",
       "</div>"
      ],
      "text/plain": [
       "          term  emp_length home_ownership verification_status  \\\n",
       "8    36 months  5-10 years            OWN        Not Verified   \n",
       "10   36 months   < 5 years           RENT     Source Verified   \n",
       "24   36 months  5-10 years       MORTGAGE        Not Verified   \n",
       "42   60 months  5-10 years           RENT     Source Verified   \n",
       "91   36 months  5-10 years       MORTGAGE            Verified   \n",
       "\n",
       "               purpose application_type  \n",
       "8          credit_card       Individual  \n",
       "10  debt_consolidation       Individual  \n",
       "24  debt_consolidation       Individual  \n",
       "42  debt_consolidation       Individual  \n",
       "91  debt_consolidation       Individual  "
      ]
     },
     "execution_count": 84,
     "metadata": {},
     "output_type": "execute_result"
    }
   ],
   "source": [
    "categoric = data.select_dtypes(include = [np.object])\n",
    "categoric.head()"
   ]
  },
  {
   "cell_type": "markdown",
   "metadata": {},
   "source": [
    "A continuación mostramos los gráficos de frecuencias de las variables categóricas"
   ]
  },
  {
   "cell_type": "code",
   "execution_count": 85,
   "metadata": {},
   "outputs": [
    {
     "data": {
      "text/plain": [
       "<AxesSubplot:>"
      ]
     },
     "execution_count": 85,
     "metadata": {},
     "output_type": "execute_result"
    },
    {
     "data": {
      "image/png": "[encoded data removed]",
      "text/plain": [
       "<Figure size 432x288 with 1 Axes>"
      ]
     },
     "metadata": {
      "needs_background": "light"
     },
     "output_type": "display_data"
    }
   ],
   "source": [
    "graph = categoric['term'].value_counts()\n",
    "graph.plot(kind = 'bar')"
   ]
  },
  {
   "cell_type": "code",
   "execution_count": 86,
   "metadata": {},
   "outputs": [
    {
     "data": {
      "text/plain": [
       "<AxesSubplot:>"
      ]
     },
     "execution_count": 86,
     "metadata": {},
     "output_type": "execute_result"
    },
    {
     "data": {
      "image/png": "[encoded data removed]",
      "text/plain": [
       "<Figure size 432x288 with 1 Axes>"
      ]
     },
     "metadata": {
      "needs_background": "light"
     },
     "output_type": "display_data"
    }
   ],
   "source": [
    "graph = categoric['emp_length'].value_counts()\n",
    "graph.plot(kind = 'bar')"
   ]
  },
  {
   "cell_type": "code",
   "execution_count": 87,
   "metadata": {},
   "outputs": [
    {
     "data": {
      "text/plain": [
       "<AxesSubplot:>"
      ]
     },
     "execution_count": 87,
     "metadata": {},
     "output_type": "execute_result"
    },
    {
     "data": {
      "image/png": "[encoded data removed]",
      "text/plain": [
       "<Figure size 432x288 with 1 Axes>"
      ]
     },
     "metadata": {
      "needs_background": "light"
     },
     "output_type": "display_data"
    }
   ],
   "source": [
    "graph = categoric['home_ownership'].value_counts()\n",
    "graph.plot(kind = 'bar')"
   ]
  },
  {
   "cell_type": "code",
   "execution_count": 88,
   "metadata": {},
   "outputs": [
    {
     "data": {
      "text/plain": [
       "<AxesSubplot:>"
      ]
     },
     "execution_count": 88,
     "metadata": {},
     "output_type": "execute_result"
    },
    {
     "data": {
      "image/png": "[encoded data removed]",
      "text/plain": [
       "<Figure size 432x288 with 1 Axes>"
      ]
     },
     "metadata": {
      "needs_background": "light"
     },
     "output_type": "display_data"
    }
   ],
   "source": [
    "graph = categoric['verification_status'].value_counts()\n",
    "graph.plot(kind = 'bar')"
   ]
  },
  {
   "cell_type": "code",
   "execution_count": 89,
   "metadata": {},
   "outputs": [
    {
     "data": {
      "text/plain": [
       "<AxesSubplot:>"
      ]
     },
     "execution_count": 89,
     "metadata": {},
     "output_type": "execute_result"
    },
    {
     "data": {
      "image/png": "[encoded data removed]",
      "text/plain": [
       "<Figure size 432x288 with 1 Axes>"
      ]
     },
     "metadata": {
      "needs_background": "light"
     },
     "output_type": "display_data"
    }
   ],
   "source": [
    "graph = categoric['purpose'].value_counts()\n",
    "graph.plot(kind = 'bar')"
   ]
  },
  {
   "cell_type": "code",
   "execution_count": 90,
   "metadata": {},
   "outputs": [
    {
     "data": {
      "text/plain": [
       "<AxesSubplot:>"
      ]
     },
     "execution_count": 90,
     "metadata": {},
     "output_type": "execute_result"
    },
    {
     "data": {
      "image/png": "[encoded data removed]",
      "text/plain": [
       "<Figure size 432x288 with 1 Axes>"
      ]
     },
     "metadata": {
      "needs_background": "light"
     },
     "output_type": "display_data"
    }
   ],
   "source": [
    "graph = categoric['application_type'].value_counts()\n",
    "graph.plot(kind = 'bar')"
   ]
  },
  {
   "cell_type": "markdown",
   "metadata": {},
   "source": [
    "### Creación de variables dummies"
   ]
  },
  {
   "cell_type": "code",
   "execution_count": 91,
   "metadata": {},
   "outputs": [
    {
     "name": "stdout",
     "output_type": "stream",
     "text": [
      "<class 'pandas.core.frame.DataFrame'>\n",
      "Int64Index: 462191 entries, 8 to 884875\n",
      "Data columns (total 20 columns):\n",
      " #   Column                               Non-Null Count   Dtype\n",
      "---  ------                               --------------   -----\n",
      " 0   term_ 36 months                      462191 non-null  uint8\n",
      " 1   term_ 60 months                      462191 non-null  uint8\n",
      " 2   emp_length_5-10 years                462191 non-null  uint8\n",
      " 3   emp_length_< 5 years                 462191 non-null  uint8\n",
      " 4   emp_length_> 10 years                462191 non-null  uint8\n",
      " 5   home_ownership_ANY                   462191 non-null  uint8\n",
      " 6   home_ownership_MORTGAGE              462191 non-null  uint8\n",
      " 7   home_ownership_OWN                   462191 non-null  uint8\n",
      " 8   home_ownership_RENT                  462191 non-null  uint8\n",
      " 9   verification_status_Not Verified     462191 non-null  uint8\n",
      " 10  verification_status_Source Verified  462191 non-null  uint8\n",
      " 11  verification_status_Verified         462191 non-null  uint8\n",
      " 12  purpose_credit_card                  462191 non-null  uint8\n",
      " 13  purpose_debt_consolidation           462191 non-null  uint8\n",
      " 14  purpose_housing                      462191 non-null  uint8\n",
      " 15  purpose_leisure                      462191 non-null  uint8\n",
      " 16  purpose_medical                      462191 non-null  uint8\n",
      " 17  purpose_other                        462191 non-null  uint8\n",
      " 18  application_type_Individual          462191 non-null  uint8\n",
      " 19  application_type_Joint App           462191 non-null  uint8\n",
      "dtypes: uint8(20)\n",
      "memory usage: 12.3 MB\n"
     ]
    }
   ],
   "source": [
    "# Realizamos el one-hot encoding\n",
    "dummies = pd.get_dummies(categoric)\n",
    "dummies.info()"
   ]
  },
  {
   "cell_type": "code",
   "execution_count": 92,
   "metadata": {},
   "outputs": [
    {
     "data": {
      "text/html": [
       "<div>\n",
       "<style scoped>\n",
       "    .dataframe tbody tr th:only-of-type {\n",
       "        vertical-align: middle;\n",
       "    }\n",
       "\n",
       "    .dataframe tbody tr th {\n",
       "        vertical-align: top;\n",
       "    }\n",
       "\n",
       "    .dataframe thead th {\n",
       "        text-align: right;\n",
       "    }\n",
       "</style>\n",
       "<table border=\"1\" class=\"dataframe\">\n",
       "  <thead>\n",
       "    <tr style=\"text-align: right;\">\n",
       "      <th></th>\n",
       "      <th>term_ 36 months</th>\n",
       "      <th>term_ 60 months</th>\n",
       "      <th>emp_length_5-10 years</th>\n",
       "      <th>emp_length_&lt; 5 years</th>\n",
       "      <th>emp_length_&gt; 10 years</th>\n",
       "      <th>home_ownership_ANY</th>\n",
       "      <th>home_ownership_MORTGAGE</th>\n",
       "      <th>home_ownership_OWN</th>\n",
       "      <th>home_ownership_RENT</th>\n",
       "      <th>verification_status_Not Verified</th>\n",
       "      <th>verification_status_Source Verified</th>\n",
       "      <th>verification_status_Verified</th>\n",
       "      <th>purpose_credit_card</th>\n",
       "      <th>purpose_debt_consolidation</th>\n",
       "      <th>purpose_housing</th>\n",
       "      <th>purpose_leisure</th>\n",
       "      <th>purpose_medical</th>\n",
       "      <th>purpose_other</th>\n",
       "      <th>application_type_Individual</th>\n",
       "      <th>application_type_Joint App</th>\n",
       "    </tr>\n",
       "  </thead>\n",
       "  <tbody>\n",
       "    <tr>\n",
       "      <th>8</th>\n",
       "      <td>1</td>\n",
       "      <td>0</td>\n",
       "      <td>1</td>\n",
       "      <td>0</td>\n",
       "      <td>0</td>\n",
       "      <td>0</td>\n",
       "      <td>0</td>\n",
       "      <td>1</td>\n",
       "      <td>0</td>\n",
       "      <td>1</td>\n",
       "      <td>0</td>\n",
       "      <td>0</td>\n",
       "      <td>1</td>\n",
       "      <td>0</td>\n",
       "      <td>0</td>\n",
       "      <td>0</td>\n",
       "      <td>0</td>\n",
       "      <td>0</td>\n",
       "      <td>1</td>\n",
       "      <td>0</td>\n",
       "    </tr>\n",
       "    <tr>\n",
       "      <th>10</th>\n",
       "      <td>1</td>\n",
       "      <td>0</td>\n",
       "      <td>0</td>\n",
       "      <td>1</td>\n",
       "      <td>0</td>\n",
       "      <td>0</td>\n",
       "      <td>0</td>\n",
       "      <td>0</td>\n",
       "      <td>1</td>\n",
       "      <td>0</td>\n",
       "      <td>1</td>\n",
       "      <td>0</td>\n",
       "      <td>0</td>\n",
       "      <td>1</td>\n",
       "      <td>0</td>\n",
       "      <td>0</td>\n",
       "      <td>0</td>\n",
       "      <td>0</td>\n",
       "      <td>1</td>\n",
       "      <td>0</td>\n",
       "    </tr>\n",
       "    <tr>\n",
       "      <th>24</th>\n",
       "      <td>1</td>\n",
       "      <td>0</td>\n",
       "      <td>1</td>\n",
       "      <td>0</td>\n",
       "      <td>0</td>\n",
       "      <td>0</td>\n",
       "      <td>1</td>\n",
       "      <td>0</td>\n",
       "      <td>0</td>\n",
       "      <td>1</td>\n",
       "      <td>0</td>\n",
       "      <td>0</td>\n",
       "      <td>0</td>\n",
       "      <td>1</td>\n",
       "      <td>0</td>\n",
       "      <td>0</td>\n",
       "      <td>0</td>\n",
       "      <td>0</td>\n",
       "      <td>1</td>\n",
       "      <td>0</td>\n",
       "    </tr>\n",
       "    <tr>\n",
       "      <th>42</th>\n",
       "      <td>0</td>\n",
       "      <td>1</td>\n",
       "      <td>1</td>\n",
       "      <td>0</td>\n",
       "      <td>0</td>\n",
       "      <td>0</td>\n",
       "      <td>0</td>\n",
       "      <td>0</td>\n",
       "      <td>1</td>\n",
       "      <td>0</td>\n",
       "      <td>1</td>\n",
       "      <td>0</td>\n",
       "      <td>0</td>\n",
       "      <td>1</td>\n",
       "      <td>0</td>\n",
       "      <td>0</td>\n",
       "      <td>0</td>\n",
       "      <td>0</td>\n",
       "      <td>1</td>\n",
       "      <td>0</td>\n",
       "    </tr>\n",
       "    <tr>\n",
       "      <th>91</th>\n",
       "      <td>1</td>\n",
       "      <td>0</td>\n",
       "      <td>1</td>\n",
       "      <td>0</td>\n",
       "      <td>0</td>\n",
       "      <td>0</td>\n",
       "      <td>1</td>\n",
       "      <td>0</td>\n",
       "      <td>0</td>\n",
       "      <td>0</td>\n",
       "      <td>0</td>\n",
       "      <td>1</td>\n",
       "      <td>0</td>\n",
       "      <td>1</td>\n",
       "      <td>0</td>\n",
       "      <td>0</td>\n",
       "      <td>0</td>\n",
       "      <td>0</td>\n",
       "      <td>1</td>\n",
       "      <td>0</td>\n",
       "    </tr>\n",
       "  </tbody>\n",
       "</table>\n",
       "</div>"
      ],
      "text/plain": [
       "    term_ 36 months  term_ 60 months  emp_length_5-10 years  \\\n",
       "8                 1                0                      1   \n",
       "10                1                0                      0   \n",
       "24                1                0                      1   \n",
       "42                0                1                      1   \n",
       "91                1                0                      1   \n",
       "\n",
       "    emp_length_< 5 years  emp_length_> 10 years  home_ownership_ANY  \\\n",
       "8                      0                      0                   0   \n",
       "10                     1                      0                   0   \n",
       "24                     0                      0                   0   \n",
       "42                     0                      0                   0   \n",
       "91                     0                      0                   0   \n",
       "\n",
       "    home_ownership_MORTGAGE  home_ownership_OWN  home_ownership_RENT  \\\n",
       "8                         0                   1                    0   \n",
       "10                        0                   0                    1   \n",
       "24                        1                   0                    0   \n",
       "42                        0                   0                    1   \n",
       "91                        1                   0                    0   \n",
       "\n",
       "    verification_status_Not Verified  verification_status_Source Verified  \\\n",
       "8                                  1                                    0   \n",
       "10                                 0                                    1   \n",
       "24                                 1                                    0   \n",
       "42                                 0                                    1   \n",
       "91                                 0                                    0   \n",
       "\n",
       "    verification_status_Verified  purpose_credit_card  \\\n",
       "8                              0                    1   \n",
       "10                             0                    0   \n",
       "24                             0                    0   \n",
       "42                             0                    0   \n",
       "91                             1                    0   \n",
       "\n",
       "    purpose_debt_consolidation  purpose_housing  purpose_leisure  \\\n",
       "8                            0                0                0   \n",
       "10                           1                0                0   \n",
       "24                           1                0                0   \n",
       "42                           1                0                0   \n",
       "91                           1                0                0   \n",
       "\n",
       "    purpose_medical  purpose_other  application_type_Individual  \\\n",
       "8                 0              0                            1   \n",
       "10                0              0                            1   \n",
       "24                0              0                            1   \n",
       "42                0              0                            1   \n",
       "91                0              0                            1   \n",
       "\n",
       "    application_type_Joint App  \n",
       "8                            0  \n",
       "10                           0  \n",
       "24                           0  \n",
       "42                           0  \n",
       "91                           0  "
      ]
     },
     "execution_count": 92,
     "metadata": {},
     "output_type": "execute_result"
    }
   ],
   "source": [
    "dummies.head()"
   ]
  },
  {
   "cell_type": "markdown",
   "metadata": {},
   "source": [
    "Eliminamos las variables de tipo objeto del dataset original para posteriormente imputar las variables dummies."
   ]
  },
  {
   "cell_type": "code",
   "execution_count": 93,
   "metadata": {},
   "outputs": [],
   "source": [
    "del data['term']\n",
    "del data['emp_length']\n",
    "del data['home_ownership']\n",
    "del data['verification_status']\n",
    "del data['purpose']\n",
    "del data['application_type']"
   ]
  },
  {
   "cell_type": "markdown",
   "metadata": {},
   "source": [
    "Juntamos el el dataframe con las variables categóricas convertidas a dummies con el dataframe original y llamamos a este nuevo dataframe data_filter."
   ]
  },
  {
   "cell_type": "code",
   "execution_count": 94,
   "metadata": {},
   "outputs": [
    {
     "name": "stdout",
     "output_type": "stream",
     "text": [
      "<class 'pandas.core.frame.DataFrame'>\n",
      "Int64Index: 462191 entries, 8 to 884875\n",
      "Data columns (total 99 columns):\n",
      " #   Column                               Non-Null Count   Dtype  \n",
      "---  ------                               --------------   -----  \n",
      " 0   id                                   462191 non-null  int64  \n",
      " 1   loan_amnt                            462191 non-null  int64  \n",
      " 2   funded_amnt                          462191 non-null  int64  \n",
      " 3   funded_amnt_inv                      462191 non-null  float64\n",
      " 4   installment                          462191 non-null  float64\n",
      " 5   annual_inc                           462191 non-null  float64\n",
      " 6   dti                                  462191 non-null  float64\n",
      " 7   delinq_2yrs                          462191 non-null  int64  \n",
      " 8   fico_range_low                       462191 non-null  int64  \n",
      " 9   fico_range_high                      462191 non-null  int64  \n",
      " 10  inq_last_6mths                       462191 non-null  int64  \n",
      " 11  mths_since_last_delinq               462191 non-null  float64\n",
      " 12  mths_since_last_record               462191 non-null  float64\n",
      " 13  open_acc                             462191 non-null  int64  \n",
      " 14  pub_rec                              462191 non-null  int64  \n",
      " 15  revol_bal                            462191 non-null  int64  \n",
      " 16  total_acc                            462191 non-null  int64  \n",
      " 17  collection_recovery_fee              462191 non-null  float64\n",
      " 18  last_fico_range_high                 462191 non-null  int64  \n",
      " 19  last_fico_range_low                  462191 non-null  int64  \n",
      " 20  collections_12_mths_ex_med           462191 non-null  int64  \n",
      " 21  mths_since_last_major_derog          462191 non-null  float64\n",
      " 22  policy_code                          462191 non-null  int64  \n",
      " 23  acc_now_delinq                       462191 non-null  int64  \n",
      " 24  tot_coll_amt                         462191 non-null  int64  \n",
      " 25  tot_cur_bal                          462191 non-null  int64  \n",
      " 26  open_acc_6m                          462191 non-null  float64\n",
      " 27  open_act_il                          462191 non-null  float64\n",
      " 28  open_il_12m                          462191 non-null  float64\n",
      " 29  open_il_24m                          462191 non-null  float64\n",
      " 30  mths_since_rcnt_il                   462191 non-null  float64\n",
      " 31  total_bal_il                         462191 non-null  float64\n",
      " 32  il_util                              462191 non-null  float64\n",
      " 33  open_rv_12m                          462191 non-null  float64\n",
      " 34  open_rv_24m                          462191 non-null  float64\n",
      " 35  max_bal_bc                           462191 non-null  float64\n",
      " 36  all_util                             462191 non-null  float64\n",
      " 37  total_rev_hi_lim                     462191 non-null  int64  \n",
      " 38  inq_fi                               462191 non-null  float64\n",
      " 39  total_cu_tl                          462191 non-null  float64\n",
      " 40  inq_last_12m                         462191 non-null  float64\n",
      " 41  acc_open_past_24mths                 462191 non-null  int64  \n",
      " 42  avg_cur_bal                          462191 non-null  float64\n",
      " 43  bc_open_to_buy                       462191 non-null  float64\n",
      " 44  bc_util                              462191 non-null  float64\n",
      " 45  chargeoff_within_12_mths             462191 non-null  int64  \n",
      " 46  delinq_amnt                          462191 non-null  int64  \n",
      " 47  mo_sin_old_il_acct                   462191 non-null  float64\n",
      " 48  mo_sin_old_rev_tl_op                 462191 non-null  int64  \n",
      " 49  mo_sin_rcnt_rev_tl_op                462191 non-null  int64  \n",
      " 50  mo_sin_rcnt_tl                       462191 non-null  int64  \n",
      " 51  mort_acc                             462191 non-null  int64  \n",
      " 52  mths_since_recent_bc                 462191 non-null  float64\n",
      " 53  mths_since_recent_bc_dlq             462191 non-null  float64\n",
      " 54  mths_since_recent_inq                462191 non-null  float64\n",
      " 55  mths_since_recent_revol_delinq       462191 non-null  float64\n",
      " 56  num_accts_ever_120_pd                462191 non-null  int64  \n",
      " 57  num_actv_bc_tl                       462191 non-null  int64  \n",
      " 58  num_actv_rev_tl                      462191 non-null  int64  \n",
      " 59  num_bc_sats                          462191 non-null  int64  \n",
      " 60  num_bc_tl                            462191 non-null  int64  \n",
      " 61  num_il_tl                            462191 non-null  int64  \n",
      " 62  num_op_rev_tl                        462191 non-null  int64  \n",
      " 63  num_rev_accts                        462191 non-null  float64\n",
      " 64  num_rev_tl_bal_gt_0                  462191 non-null  int64  \n",
      " 65  num_sats                             462191 non-null  int64  \n",
      " 66  num_tl_120dpd_2m                     462191 non-null  float64\n",
      " 67  num_tl_30dpd                         462191 non-null  int64  \n",
      " 68  num_tl_90g_dpd_24m                   462191 non-null  int64  \n",
      " 69  num_tl_op_past_12m                   462191 non-null  int64  \n",
      " 70  pct_tl_nvr_dlq                       462191 non-null  float64\n",
      " 71  percent_bc_gt_75                     462191 non-null  float64\n",
      " 72  pub_rec_bankruptcies                 462191 non-null  int64  \n",
      " 73  tax_liens                            462191 non-null  int64  \n",
      " 74  tot_hi_cred_lim                      462191 non-null  int64  \n",
      " 75  total_bal_ex_mort                    462191 non-null  int64  \n",
      " 76  total_bc_limit                       462191 non-null  int64  \n",
      " 77  total_il_high_credit_limit           462191 non-null  int64  \n",
      " 78  target                               462191 non-null  int32  \n",
      " 79  term_ 36 months                      462191 non-null  uint8  \n",
      " 80  term_ 60 months                      462191 non-null  uint8  \n",
      " 81  emp_length_5-10 years                462191 non-null  uint8  \n",
      " 82  emp_length_< 5 years                 462191 non-null  uint8  \n",
      " 83  emp_length_> 10 years                462191 non-null  uint8  \n",
      " 84  home_ownership_ANY                   462191 non-null  uint8  \n",
      " 85  home_ownership_MORTGAGE              462191 non-null  uint8  \n",
      " 86  home_ownership_OWN                   462191 non-null  uint8  \n",
      " 87  home_ownership_RENT                  462191 non-null  uint8  \n",
      " 88  verification_status_Not Verified     462191 non-null  uint8  \n",
      " 89  verification_status_Source Verified  462191 non-null  uint8  \n",
      " 90  verification_status_Verified         462191 non-null  uint8  \n",
      " 91  purpose_credit_card                  462191 non-null  uint8  \n",
      " 92  purpose_debt_consolidation           462191 non-null  uint8  \n",
      " 93  purpose_housing                      462191 non-null  uint8  \n",
      " 94  purpose_leisure                      462191 non-null  uint8  \n",
      " 95  purpose_medical                      462191 non-null  uint8  \n",
      " 96  purpose_other                        462191 non-null  uint8  \n",
      " 97  application_type_Individual          462191 non-null  uint8  \n",
      " 98  application_type_Joint App           462191 non-null  uint8  \n",
      "dtypes: float64(34), int32(1), int64(44), uint8(20)\n",
      "memory usage: 309.2 MB\n"
     ]
    }
   ],
   "source": [
    "data_filter = pd.merge(numeric, dummies, left_index=True, right_index=True)\n",
    "data_filter.info()"
   ]
  },
  {
   "cell_type": "code",
   "execution_count": 95,
   "metadata": {
    "scrolled": true
   },
   "outputs": [
    {
     "data": {
      "text/html": [
       "<div>\n",
       "<style scoped>\n",
       "    .dataframe tbody tr th:only-of-type {\n",
       "        vertical-align: middle;\n",
       "    }\n",
       "\n",
       "    .dataframe tbody tr th {\n",
       "        vertical-align: top;\n",
       "    }\n",
       "\n",
       "    .dataframe thead th {\n",
       "        text-align: right;\n",
       "    }\n",
       "</style>\n",
       "<table border=\"1\" class=\"dataframe\">\n",
       "  <thead>\n",
       "    <tr style=\"text-align: right;\">\n",
       "      <th></th>\n",
       "      <th>id</th>\n",
       "      <th>loan_amnt</th>\n",
       "      <th>funded_amnt</th>\n",
       "      <th>funded_amnt_inv</th>\n",
       "      <th>installment</th>\n",
       "      <th>annual_inc</th>\n",
       "      <th>dti</th>\n",
       "      <th>delinq_2yrs</th>\n",
       "      <th>fico_range_low</th>\n",
       "      <th>fico_range_high</th>\n",
       "      <th>...</th>\n",
       "      <th>verification_status_Source Verified</th>\n",
       "      <th>verification_status_Verified</th>\n",
       "      <th>purpose_credit_card</th>\n",
       "      <th>purpose_debt_consolidation</th>\n",
       "      <th>purpose_housing</th>\n",
       "      <th>purpose_leisure</th>\n",
       "      <th>purpose_medical</th>\n",
       "      <th>purpose_other</th>\n",
       "      <th>application_type_Individual</th>\n",
       "      <th>application_type_Joint App</th>\n",
       "    </tr>\n",
       "  </thead>\n",
       "  <tbody>\n",
       "    <tr>\n",
       "      <th>8</th>\n",
       "      <td>112038251</td>\n",
       "      <td>11575</td>\n",
       "      <td>11575</td>\n",
       "      <td>11575.0</td>\n",
       "      <td>359.26</td>\n",
       "      <td>153000.0</td>\n",
       "      <td>16.99</td>\n",
       "      <td>0</td>\n",
       "      <td>720</td>\n",
       "      <td>724</td>\n",
       "      <td>...</td>\n",
       "      <td>0</td>\n",
       "      <td>0</td>\n",
       "      <td>1</td>\n",
       "      <td>0</td>\n",
       "      <td>0</td>\n",
       "      <td>0</td>\n",
       "      <td>0</td>\n",
       "      <td>0</td>\n",
       "      <td>1</td>\n",
       "      <td>0</td>\n",
       "    </tr>\n",
       "    <tr>\n",
       "      <th>10</th>\n",
       "      <td>112149045</td>\n",
       "      <td>7200</td>\n",
       "      <td>7200</td>\n",
       "      <td>7200.0</td>\n",
       "      <td>285.70</td>\n",
       "      <td>50000.0</td>\n",
       "      <td>6.07</td>\n",
       "      <td>0</td>\n",
       "      <td>685</td>\n",
       "      <td>689</td>\n",
       "      <td>...</td>\n",
       "      <td>1</td>\n",
       "      <td>0</td>\n",
       "      <td>0</td>\n",
       "      <td>1</td>\n",
       "      <td>0</td>\n",
       "      <td>0</td>\n",
       "      <td>0</td>\n",
       "      <td>0</td>\n",
       "      <td>1</td>\n",
       "      <td>0</td>\n",
       "    </tr>\n",
       "    <tr>\n",
       "      <th>24</th>\n",
       "      <td>112052261</td>\n",
       "      <td>7500</td>\n",
       "      <td>7500</td>\n",
       "      <td>7500.0</td>\n",
       "      <td>232.79</td>\n",
       "      <td>110000.0</td>\n",
       "      <td>13.12</td>\n",
       "      <td>0</td>\n",
       "      <td>710</td>\n",
       "      <td>714</td>\n",
       "      <td>...</td>\n",
       "      <td>0</td>\n",
       "      <td>0</td>\n",
       "      <td>0</td>\n",
       "      <td>1</td>\n",
       "      <td>0</td>\n",
       "      <td>0</td>\n",
       "      <td>0</td>\n",
       "      <td>0</td>\n",
       "      <td>1</td>\n",
       "      <td>0</td>\n",
       "    </tr>\n",
       "    <tr>\n",
       "      <th>42</th>\n",
       "      <td>111999259</td>\n",
       "      <td>10000</td>\n",
       "      <td>10000</td>\n",
       "      <td>10000.0</td>\n",
       "      <td>243.29</td>\n",
       "      <td>51979.0</td>\n",
       "      <td>10.11</td>\n",
       "      <td>0</td>\n",
       "      <td>690</td>\n",
       "      <td>694</td>\n",
       "      <td>...</td>\n",
       "      <td>1</td>\n",
       "      <td>0</td>\n",
       "      <td>0</td>\n",
       "      <td>1</td>\n",
       "      <td>0</td>\n",
       "      <td>0</td>\n",
       "      <td>0</td>\n",
       "      <td>0</td>\n",
       "      <td>1</td>\n",
       "      <td>0</td>\n",
       "    </tr>\n",
       "    <tr>\n",
       "      <th>91</th>\n",
       "      <td>111808508</td>\n",
       "      <td>14000</td>\n",
       "      <td>14000</td>\n",
       "      <td>14000.0</td>\n",
       "      <td>492.34</td>\n",
       "      <td>75000.0</td>\n",
       "      <td>10.86</td>\n",
       "      <td>1</td>\n",
       "      <td>685</td>\n",
       "      <td>689</td>\n",
       "      <td>...</td>\n",
       "      <td>0</td>\n",
       "      <td>1</td>\n",
       "      <td>0</td>\n",
       "      <td>1</td>\n",
       "      <td>0</td>\n",
       "      <td>0</td>\n",
       "      <td>0</td>\n",
       "      <td>0</td>\n",
       "      <td>1</td>\n",
       "      <td>0</td>\n",
       "    </tr>\n",
       "  </tbody>\n",
       "</table>\n",
       "<p>5 rows × 99 columns</p>\n",
       "</div>"
      ],
      "text/plain": [
       "           id  loan_amnt  funded_amnt  funded_amnt_inv  installment  \\\n",
       "8   112038251      11575        11575          11575.0       359.26   \n",
       "10  112149045       7200         7200           7200.0       285.70   \n",
       "24  112052261       7500         7500           7500.0       232.79   \n",
       "42  111999259      10000        10000          10000.0       243.29   \n",
       "91  111808508      14000        14000          14000.0       492.34   \n",
       "\n",
       "    annual_inc    dti  delinq_2yrs  fico_range_low  fico_range_high  ...  \\\n",
       "8     153000.0  16.99            0             720              724  ...   \n",
       "10     50000.0   6.07            0             685              689  ...   \n",
       "24    110000.0  13.12            0             710              714  ...   \n",
       "42     51979.0  10.11            0             690              694  ...   \n",
       "91     75000.0  10.86            1             685              689  ...   \n",
       "\n",
       "    verification_status_Source Verified  verification_status_Verified  \\\n",
       "8                                     0                             0   \n",
       "10                                    1                             0   \n",
       "24                                    0                             0   \n",
       "42                                    1                             0   \n",
       "91                                    0                             1   \n",
       "\n",
       "    purpose_credit_card  purpose_debt_consolidation  purpose_housing  \\\n",
       "8                     1                           0                0   \n",
       "10                    0                           1                0   \n",
       "24                    0                           1                0   \n",
       "42                    0                           1                0   \n",
       "91                    0                           1                0   \n",
       "\n",
       "    purpose_leisure  purpose_medical  purpose_other  \\\n",
       "8                 0                0              0   \n",
       "10                0                0              0   \n",
       "24                0                0              0   \n",
       "42                0                0              0   \n",
       "91                0                0              0   \n",
       "\n",
       "    application_type_Individual  application_type_Joint App  \n",
       "8                             1                           0  \n",
       "10                            1                           0  \n",
       "24                            1                           0  \n",
       "42                            1                           0  \n",
       "91                            1                           0  \n",
       "\n",
       "[5 rows x 99 columns]"
      ]
     },
     "execution_count": 95,
     "metadata": {},
     "output_type": "execute_result"
    }
   ],
   "source": [
    "data_filter.head()"
   ]
  },
  {
   "cell_type": "markdown",
   "metadata": {},
   "source": [
    "En total tenemos 462,191 filas y 99 columnas"
   ]
  },
  {
   "cell_type": "code",
   "execution_count": 96,
   "metadata": {},
   "outputs": [
    {
     "data": {
      "text/plain": [
       "(462191, 99)"
      ]
     },
     "execution_count": 96,
     "metadata": {},
     "output_type": "execute_result"
    }
   ],
   "source": [
    "data_filter.shape"
   ]
  },
  {
   "cell_type": "markdown",
   "metadata": {},
   "source": [
    "Comprobamos que no hay valores nulos"
   ]
  },
  {
   "cell_type": "code",
   "execution_count": 97,
   "metadata": {},
   "outputs": [
    {
     "data": {
      "text/plain": [
       "application_type       0.0\n",
       "initial_list_status    0.0\n",
       "revol_util             0.0\n",
       "purpose                0.0\n",
       "verification_status    0.0\n",
       "home_ownership         0.0\n",
       "emp_length             0.0\n",
       "grade                  0.0\n",
       "int_rate               0.0\n",
       "term                   0.0\n",
       "dtype: float64"
      ]
     },
     "execution_count": 97,
     "metadata": {},
     "output_type": "execute_result"
    }
   ],
   "source": [
    "percentage_NaN_data_filter = data_filter.apply(lambda x: sum(x.isna()/len(data)))\n",
    "percentage_NaN.sort_values(ascending = False).head(40)"
   ]
  },
  {
   "cell_type": "markdown",
   "metadata": {},
   "source": [
    "Exportamos el nuevo dataframe como csv"
   ]
  },
  {
   "cell_type": "code",
   "execution_count": 103,
   "metadata": {},
   "outputs": [],
   "source": [
    "ruta = '../data/02_intermediate/data_cleaned.csv'"
   ]
  },
  {
   "cell_type": "code",
   "execution_count": 104,
   "metadata": {},
   "outputs": [],
   "source": [
    "data_filter.to_csv(ruta)"
   ]
  }
 ],
 "metadata": {
  "kernelspec": {
   "display_name": "lending_club_env",
   "language": "python",
   "name": "lending_club_env"
  },
  "language_info": {
   "codemirror_mode": {
    "name": "ipython",
    "version": 3
   },
   "file_extension": ".py",
   "mimetype": "text/x-python",
   "name": "python",
   "nbconvert_exporter": "python",
   "pygments_lexer": "ipython3",
   "version": "3.8.5"
  }
 },
 "nbformat": 4,
 "nbformat_minor": 4
}
