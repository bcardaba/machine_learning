{
 "cells": [
  {
   "cell_type": "markdown",
   "metadata": {},
   "source": [
    "# Support Vector Machine:\n",
    "\n",
    "SVM es un clasificador discriminatorio definido formalmente por un hiperplano de separación. En otras palabras, dados datos de entrenamiento etiquetados (aprendizaje supervisado), el algoritmo da como resultado un hiperplano óptimo que categoriza nuevos ejemplos. En el espacio bidimensional este hiperplano es una línea que divide un plano en dos partes donde en cada clase se encuentran en cada lado.\n",
    "\n",
    "Intuitivamente, una SVM es un modelo que representa a los puntos de muestra en el espacio, separando las clases a 2 espacios lo más amplios posibles mediante un hiperplano de separación definido como el vector entre los 2 puntos, de las 2 clases, más cercanos al que se llama __vector soporte__. Cuando las nuevas muestras se ponen en correspondencia con dicho modelo, en función de los espacios a los que pertenezcan, pueden ser clasificadas a una o la otra clase\n",
    "\n",
    "- Library Import\n",
    "- Data Import\n",
    "- Model Definition\n",
    "- Model Training\n",
    "- Confussion Matrix & Accuracy\n",
    "- ROC Curve\n",
    "- References\n",
    "\n",
    "__Importamos todas las librerías que se van a utilizar en este notebook:__"
   ]
  },
  {
   "cell_type": "code",
   "execution_count": 1,
   "metadata": {},
   "outputs": [],
   "source": [
    "import numpy as np\n",
    "import pandas as pd\n",
    "import matplotlib\n",
    "from matplotlib import pyplot as plt # plots\n",
    "import seaborn as sns # plots\n",
    "from sklearn.ensemble import IsolationForest\n",
    "from sklearn import preprocessing \n",
    "from sklearn.linear_model import Lasso, LassoCV\n",
    "import pickle\n",
    "from sklearn.preprocessing import MinMaxScaler\n",
    "from sklearn.model_selection import train_test_split\n",
    "from imblearn.over_sampling import SMOTE\n",
    "from sklearn.linear_model import LogisticRegression # Log Regression\n",
    "from sklearn.metrics import classification_report, confusion_matrix \n",
    "\n",
    "from sklearn import datasets, metrics, model_selection\n",
    "from sklearn.model_selection import GridSearchCV\n",
    "from sklearn.svm import SVC # SVM\n",
    "from sklearn import svm"
   ]
  },
  {
   "cell_type": "markdown",
   "metadata": {},
   "source": [
    "__Importamos los datos:__"
   ]
  },
  {
   "cell_type": "code",
   "execution_count": 2,
   "metadata": {},
   "outputs": [
    {
     "data": {
      "text/html": [
       "<div>\n",
       "<style scoped>\n",
       "    .dataframe tbody tr th:only-of-type {\n",
       "        vertical-align: middle;\n",
       "    }\n",
       "\n",
       "    .dataframe tbody tr th {\n",
       "        vertical-align: top;\n",
       "    }\n",
       "\n",
       "    .dataframe thead th {\n",
       "        text-align: right;\n",
       "    }\n",
       "</style>\n",
       "<table border=\"1\" class=\"dataframe\">\n",
       "  <thead>\n",
       "    <tr style=\"text-align: right;\">\n",
       "      <th></th>\n",
       "      <th>Unnamed: 0</th>\n",
       "      <th>num_tl_30dpd</th>\n",
       "      <th>tot_hi_cred_lim</th>\n",
       "      <th>revol_bal</th>\n",
       "      <th>purpose_debt_consolidation</th>\n",
       "      <th>home_ownership_ANY</th>\n",
       "      <th>max_bal_bc</th>\n",
       "      <th>total_cu_tl</th>\n",
       "      <th>open_rv_24m</th>\n",
       "      <th>num_tl_120dpd_2m</th>\n",
       "      <th>...</th>\n",
       "      <th>purpose_housing</th>\n",
       "      <th>mths_since_recent_revol_delinq</th>\n",
       "      <th>total_bal_ex_mort</th>\n",
       "      <th>num_sats</th>\n",
       "      <th>home_ownership_MORTGAGE</th>\n",
       "      <th>mths_since_last_record</th>\n",
       "      <th>pub_rec</th>\n",
       "      <th>delinq_amnt</th>\n",
       "      <th>num_bc_tl</th>\n",
       "      <th>mths_since_rcnt_il</th>\n",
       "    </tr>\n",
       "  </thead>\n",
       "  <tbody>\n",
       "    <tr>\n",
       "      <th>0</th>\n",
       "      <td>0</td>\n",
       "      <td>0.0</td>\n",
       "      <td>0.019016</td>\n",
       "      <td>0.005816</td>\n",
       "      <td>1.0</td>\n",
       "      <td>0.0</td>\n",
       "      <td>0.0</td>\n",
       "      <td>0.0</td>\n",
       "      <td>0.0</td>\n",
       "      <td>0.0</td>\n",
       "      <td>...</td>\n",
       "      <td>0.0</td>\n",
       "      <td>1.0</td>\n",
       "      <td>0.005681</td>\n",
       "      <td>0.100000</td>\n",
       "      <td>1.0</td>\n",
       "      <td>1.000000</td>\n",
       "      <td>0.000000</td>\n",
       "      <td>0.0</td>\n",
       "      <td>0.114286</td>\n",
       "      <td>1.0</td>\n",
       "    </tr>\n",
       "    <tr>\n",
       "      <th>1</th>\n",
       "      <td>1</td>\n",
       "      <td>0.0</td>\n",
       "      <td>0.006348</td>\n",
       "      <td>0.002303</td>\n",
       "      <td>1.0</td>\n",
       "      <td>0.0</td>\n",
       "      <td>0.0</td>\n",
       "      <td>0.0</td>\n",
       "      <td>0.0</td>\n",
       "      <td>0.0</td>\n",
       "      <td>...</td>\n",
       "      <td>0.0</td>\n",
       "      <td>1.0</td>\n",
       "      <td>0.021957</td>\n",
       "      <td>0.144444</td>\n",
       "      <td>0.0</td>\n",
       "      <td>1.000000</td>\n",
       "      <td>0.000000</td>\n",
       "      <td>0.0</td>\n",
       "      <td>0.028571</td>\n",
       "      <td>1.0</td>\n",
       "    </tr>\n",
       "    <tr>\n",
       "      <th>2</th>\n",
       "      <td>2</td>\n",
       "      <td>0.0</td>\n",
       "      <td>0.033903</td>\n",
       "      <td>0.002861</td>\n",
       "      <td>1.0</td>\n",
       "      <td>0.0</td>\n",
       "      <td>0.0</td>\n",
       "      <td>0.0</td>\n",
       "      <td>0.0</td>\n",
       "      <td>0.0</td>\n",
       "      <td>...</td>\n",
       "      <td>0.0</td>\n",
       "      <td>1.0</td>\n",
       "      <td>0.037994</td>\n",
       "      <td>0.100000</td>\n",
       "      <td>1.0</td>\n",
       "      <td>1.000000</td>\n",
       "      <td>0.000000</td>\n",
       "      <td>0.0</td>\n",
       "      <td>0.071429</td>\n",
       "      <td>1.0</td>\n",
       "    </tr>\n",
       "    <tr>\n",
       "      <th>3</th>\n",
       "      <td>3</td>\n",
       "      <td>0.0</td>\n",
       "      <td>0.005288</td>\n",
       "      <td>0.001968</td>\n",
       "      <td>1.0</td>\n",
       "      <td>0.0</td>\n",
       "      <td>0.0</td>\n",
       "      <td>0.0</td>\n",
       "      <td>0.0</td>\n",
       "      <td>0.0</td>\n",
       "      <td>...</td>\n",
       "      <td>0.0</td>\n",
       "      <td>1.0</td>\n",
       "      <td>0.013582</td>\n",
       "      <td>0.100000</td>\n",
       "      <td>0.0</td>\n",
       "      <td>0.537190</td>\n",
       "      <td>0.011628</td>\n",
       "      <td>0.0</td>\n",
       "      <td>0.114286</td>\n",
       "      <td>1.0</td>\n",
       "    </tr>\n",
       "    <tr>\n",
       "      <th>4</th>\n",
       "      <td>4</td>\n",
       "      <td>0.0</td>\n",
       "      <td>0.008973</td>\n",
       "      <td>0.001241</td>\n",
       "      <td>1.0</td>\n",
       "      <td>0.0</td>\n",
       "      <td>0.0</td>\n",
       "      <td>0.0</td>\n",
       "      <td>0.0</td>\n",
       "      <td>0.0</td>\n",
       "      <td>...</td>\n",
       "      <td>0.0</td>\n",
       "      <td>1.0</td>\n",
       "      <td>0.024805</td>\n",
       "      <td>0.088889</td>\n",
       "      <td>1.0</td>\n",
       "      <td>0.198347</td>\n",
       "      <td>0.011628</td>\n",
       "      <td>0.0</td>\n",
       "      <td>0.257143</td>\n",
       "      <td>1.0</td>\n",
       "    </tr>\n",
       "  </tbody>\n",
       "</table>\n",
       "<p>5 rows × 45 columns</p>\n",
       "</div>"
      ],
      "text/plain": [
       "   Unnamed: 0  num_tl_30dpd  tot_hi_cred_lim  revol_bal  \\\n",
       "0           0           0.0         0.019016   0.005816   \n",
       "1           1           0.0         0.006348   0.002303   \n",
       "2           2           0.0         0.033903   0.002861   \n",
       "3           3           0.0         0.005288   0.001968   \n",
       "4           4           0.0         0.008973   0.001241   \n",
       "\n",
       "   purpose_debt_consolidation  home_ownership_ANY  max_bal_bc  total_cu_tl  \\\n",
       "0                         1.0                 0.0         0.0          0.0   \n",
       "1                         1.0                 0.0         0.0          0.0   \n",
       "2                         1.0                 0.0         0.0          0.0   \n",
       "3                         1.0                 0.0         0.0          0.0   \n",
       "4                         1.0                 0.0         0.0          0.0   \n",
       "\n",
       "   open_rv_24m  num_tl_120dpd_2m  ...  purpose_housing  \\\n",
       "0          0.0               0.0  ...              0.0   \n",
       "1          0.0               0.0  ...              0.0   \n",
       "2          0.0               0.0  ...              0.0   \n",
       "3          0.0               0.0  ...              0.0   \n",
       "4          0.0               0.0  ...              0.0   \n",
       "\n",
       "   mths_since_recent_revol_delinq  total_bal_ex_mort  num_sats  \\\n",
       "0                             1.0           0.005681  0.100000   \n",
       "1                             1.0           0.021957  0.144444   \n",
       "2                             1.0           0.037994  0.100000   \n",
       "3                             1.0           0.013582  0.100000   \n",
       "4                             1.0           0.024805  0.088889   \n",
       "\n",
       "   home_ownership_MORTGAGE  mths_since_last_record   pub_rec  delinq_amnt  \\\n",
       "0                      1.0                1.000000  0.000000          0.0   \n",
       "1                      0.0                1.000000  0.000000          0.0   \n",
       "2                      1.0                1.000000  0.000000          0.0   \n",
       "3                      0.0                0.537190  0.011628          0.0   \n",
       "4                      1.0                0.198347  0.011628          0.0   \n",
       "\n",
       "   num_bc_tl  mths_since_rcnt_il  \n",
       "0   0.114286                 1.0  \n",
       "1   0.028571                 1.0  \n",
       "2   0.071429                 1.0  \n",
       "3   0.114286                 1.0  \n",
       "4   0.257143                 1.0  \n",
       "\n",
       "[5 rows x 45 columns]"
      ]
     },
     "execution_count": 2,
     "metadata": {},
     "output_type": "execute_result"
    }
   ],
   "source": [
    "X_train = pd.read_csv('../data/03_processed/x_train.csv')\n",
    "X_train.head()"
   ]
  },
  {
   "cell_type": "markdown",
   "metadata": {},
   "source": [
    "Se observa que se han generado una columna adicional y la eliminamos"
   ]
  },
  {
   "cell_type": "code",
   "execution_count": 3,
   "metadata": {},
   "outputs": [],
   "source": [
    "del X_train['Unnamed: 0'] # eliminamos la primera columna que se ha añadido"
   ]
  },
  {
   "cell_type": "code",
   "execution_count": 4,
   "metadata": {},
   "outputs": [
    {
     "data": {
      "text/html": [
       "<div>\n",
       "<style scoped>\n",
       "    .dataframe tbody tr th:only-of-type {\n",
       "        vertical-align: middle;\n",
       "    }\n",
       "\n",
       "    .dataframe tbody tr th {\n",
       "        vertical-align: top;\n",
       "    }\n",
       "\n",
       "    .dataframe thead th {\n",
       "        text-align: right;\n",
       "    }\n",
       "</style>\n",
       "<table border=\"1\" class=\"dataframe\">\n",
       "  <thead>\n",
       "    <tr style=\"text-align: right;\">\n",
       "      <th></th>\n",
       "      <th>Unnamed: 0</th>\n",
       "      <th>num_tl_30dpd</th>\n",
       "      <th>tot_hi_cred_lim</th>\n",
       "      <th>revol_bal</th>\n",
       "      <th>purpose_debt_consolidation</th>\n",
       "      <th>home_ownership_ANY</th>\n",
       "      <th>max_bal_bc</th>\n",
       "      <th>total_cu_tl</th>\n",
       "      <th>open_rv_24m</th>\n",
       "      <th>num_tl_120dpd_2m</th>\n",
       "      <th>...</th>\n",
       "      <th>purpose_housing</th>\n",
       "      <th>mths_since_recent_revol_delinq</th>\n",
       "      <th>total_bal_ex_mort</th>\n",
       "      <th>num_sats</th>\n",
       "      <th>home_ownership_MORTGAGE</th>\n",
       "      <th>mths_since_last_record</th>\n",
       "      <th>pub_rec</th>\n",
       "      <th>delinq_amnt</th>\n",
       "      <th>num_bc_tl</th>\n",
       "      <th>mths_since_rcnt_il</th>\n",
       "    </tr>\n",
       "  </thead>\n",
       "  <tbody>\n",
       "    <tr>\n",
       "      <th>0</th>\n",
       "      <td>137093</td>\n",
       "      <td>0.0</td>\n",
       "      <td>0.005378</td>\n",
       "      <td>0.004647</td>\n",
       "      <td>0.0</td>\n",
       "      <td>0.0</td>\n",
       "      <td>0.0</td>\n",
       "      <td>0.0</td>\n",
       "      <td>0.0</td>\n",
       "      <td>0.0</td>\n",
       "      <td>...</td>\n",
       "      <td>0.0</td>\n",
       "      <td>0.272222</td>\n",
       "      <td>0.011176</td>\n",
       "      <td>0.077778</td>\n",
       "      <td>0.0</td>\n",
       "      <td>1.0</td>\n",
       "      <td>0.0</td>\n",
       "      <td>0.0</td>\n",
       "      <td>0.1</td>\n",
       "      <td>1.0</td>\n",
       "    </tr>\n",
       "  </tbody>\n",
       "</table>\n",
       "<p>1 rows × 45 columns</p>\n",
       "</div>"
      ],
      "text/plain": [
       "   Unnamed: 0  num_tl_30dpd  tot_hi_cred_lim  revol_bal  \\\n",
       "0      137093           0.0         0.005378   0.004647   \n",
       "\n",
       "   purpose_debt_consolidation  home_ownership_ANY  max_bal_bc  total_cu_tl  \\\n",
       "0                         0.0                 0.0         0.0          0.0   \n",
       "\n",
       "   open_rv_24m  num_tl_120dpd_2m  ...  purpose_housing  \\\n",
       "0          0.0               0.0  ...              0.0   \n",
       "\n",
       "   mths_since_recent_revol_delinq  total_bal_ex_mort  num_sats  \\\n",
       "0                        0.272222           0.011176  0.077778   \n",
       "\n",
       "   home_ownership_MORTGAGE  mths_since_last_record  pub_rec  delinq_amnt  \\\n",
       "0                      0.0                     1.0      0.0          0.0   \n",
       "\n",
       "   num_bc_tl  mths_since_rcnt_il  \n",
       "0        0.1                 1.0  \n",
       "\n",
       "[1 rows x 45 columns]"
      ]
     },
     "execution_count": 4,
     "metadata": {},
     "output_type": "execute_result"
    }
   ],
   "source": [
    "X_test = pd.read_csv('../data/03_processed/x_test.csv')\n",
    "X_test.head(1)"
   ]
  },
  {
   "cell_type": "code",
   "execution_count": 5,
   "metadata": {},
   "outputs": [],
   "source": [
    "del X_test['Unnamed: 0'] # eliminamos la primera columna que se ha añadido"
   ]
  },
  {
   "cell_type": "code",
   "execution_count": 6,
   "metadata": {},
   "outputs": [
    {
     "data": {
      "text/html": [
       "<div>\n",
       "<style scoped>\n",
       "    .dataframe tbody tr th:only-of-type {\n",
       "        vertical-align: middle;\n",
       "    }\n",
       "\n",
       "    .dataframe tbody tr th {\n",
       "        vertical-align: top;\n",
       "    }\n",
       "\n",
       "    .dataframe thead th {\n",
       "        text-align: right;\n",
       "    }\n",
       "</style>\n",
       "<table border=\"1\" class=\"dataframe\">\n",
       "  <thead>\n",
       "    <tr style=\"text-align: right;\">\n",
       "      <th></th>\n",
       "      <th>Unnamed: 0</th>\n",
       "      <th>target</th>\n",
       "    </tr>\n",
       "  </thead>\n",
       "  <tbody>\n",
       "    <tr>\n",
       "      <th>0</th>\n",
       "      <td>0</td>\n",
       "      <td>0.0</td>\n",
       "    </tr>\n",
       "    <tr>\n",
       "      <th>1</th>\n",
       "      <td>1</td>\n",
       "      <td>0.0</td>\n",
       "    </tr>\n",
       "    <tr>\n",
       "      <th>2</th>\n",
       "      <td>2</td>\n",
       "      <td>0.0</td>\n",
       "    </tr>\n",
       "    <tr>\n",
       "      <th>3</th>\n",
       "      <td>3</td>\n",
       "      <td>0.0</td>\n",
       "    </tr>\n",
       "    <tr>\n",
       "      <th>4</th>\n",
       "      <td>4</td>\n",
       "      <td>0.0</td>\n",
       "    </tr>\n",
       "  </tbody>\n",
       "</table>\n",
       "</div>"
      ],
      "text/plain": [
       "   Unnamed: 0  target\n",
       "0           0     0.0\n",
       "1           1     0.0\n",
       "2           2     0.0\n",
       "3           3     0.0\n",
       "4           4     0.0"
      ]
     },
     "execution_count": 6,
     "metadata": {},
     "output_type": "execute_result"
    }
   ],
   "source": [
    "Y_train = pd.read_csv('../data/03_processed/y_train.csv')\n",
    "Y_train.head()"
   ]
  },
  {
   "cell_type": "code",
   "execution_count": 7,
   "metadata": {},
   "outputs": [],
   "source": [
    "del Y_train['Unnamed: 0'] # eliminamos la primera columna que se ha añadido"
   ]
  },
  {
   "cell_type": "code",
   "execution_count": 8,
   "metadata": {},
   "outputs": [
    {
     "data": {
      "text/html": [
       "<div>\n",
       "<style scoped>\n",
       "    .dataframe tbody tr th:only-of-type {\n",
       "        vertical-align: middle;\n",
       "    }\n",
       "\n",
       "    .dataframe tbody tr th {\n",
       "        vertical-align: top;\n",
       "    }\n",
       "\n",
       "    .dataframe thead th {\n",
       "        text-align: right;\n",
       "    }\n",
       "</style>\n",
       "<table border=\"1\" class=\"dataframe\">\n",
       "  <thead>\n",
       "    <tr style=\"text-align: right;\">\n",
       "      <th></th>\n",
       "      <th>Unnamed: 0</th>\n",
       "      <th>target</th>\n",
       "    </tr>\n",
       "  </thead>\n",
       "  <tbody>\n",
       "    <tr>\n",
       "      <th>0</th>\n",
       "      <td>137093</td>\n",
       "      <td>0.0</td>\n",
       "    </tr>\n",
       "  </tbody>\n",
       "</table>\n",
       "</div>"
      ],
      "text/plain": [
       "   Unnamed: 0  target\n",
       "0      137093     0.0"
      ]
     },
     "execution_count": 8,
     "metadata": {},
     "output_type": "execute_result"
    }
   ],
   "source": [
    "Y_test = pd.read_csv('../data/03_processed/y_test.csv')\n",
    "Y_test.head(1)"
   ]
  },
  {
   "cell_type": "code",
   "execution_count": 9,
   "metadata": {},
   "outputs": [],
   "source": [
    "del Y_test['Unnamed: 0'] # eliminamos la primera columna que se ha añadido"
   ]
  },
  {
   "cell_type": "markdown",
   "metadata": {},
   "source": [
    "__Difinimos la función SVM:__\n",
    "\n",
    "En primer lugar valoramos un kernel linear ya que es el más sencillo vamos a comprobar como responde, y en caso de que no sea un resultado ótimo aplicaremos otro tipo de kernel.\n",
    "\n",
    "El SVM lineal es un algoritmo de machine learning para resolver problemas de clasificación de clases. Se utiliza cuando los datos son separables linealmente, es decir, se pueden separar usando una sola línea. Es muy útil cuando hay un gran número de características en un conjunto de datos en particular. "
   ]
  },
  {
   "cell_type": "code",
   "execution_count": 10,
   "metadata": {},
   "outputs": [
    {
     "name": "stdout",
     "output_type": "stream",
     "text": [
      "Wall time: 1h 20min 3s\n"
     ]
    }
   ],
   "source": [
    "\n",
    "%%time\n",
    "#Creamos svm Classifier\n",
    "SVM_model = svm.SVC(kernel='linear') # Linear Kernel\n",
    "\n",
    "#Train the model using the training sets\n",
    "SVM_model.fit(X_train, Y_train.values.ravel())\n",
    "\n",
    "#Predecimos el valor de Y para los datos de TEST\n",
    "Y_pred = SVM_model.predict(X_test)"
   ]
  },
  {
   "cell_type": "markdown",
   "metadata": {},
   "source": [
    "### Matriz de Confusión:\n",
    "La matriz de confusión de un problema de clase n es una matríz nxnen la que las filas se nombran según las clases reales y las columnas, según las clases previstas por el modelo. Sirve para mostrar de forma explícita cuándo una clase es confundida con otra\n",
    "\n",
    "__Accuracy:__ Es el porcentaje total de elementos clasificados correctamente."
   ]
  },
  {
   "cell_type": "code",
   "execution_count": 11,
   "metadata": {},
   "outputs": [],
   "source": [
    "\n",
    "def conf_matrix(Y_test, Y_pred): # va a comparar los resultados de las predicciones de la variable target vs la real del testset\n",
    "    cnf_matrix_tra = confusion_matrix(Y_test, Y_pred)\n",
    "    conf_plot = sns.heatmap(cnf_matrix_tra, annot=True, cmap='Blues', fmt='g')\n",
    "    bottom, top = conf_plot.get_ylim()\n",
    "    conf_plot.set_ylim(bottom + 0.5, top - 0.5)\n",
    "    conf_plot.set_title(\"Confusion matrix, without normalization\")\n",
    "    conf_plot.set_ylabel('True Label')\n",
    "    conf_plot.set_xlabel('Predicted Label');"
   ]
  },
  {
   "cell_type": "code",
   "execution_count": 12,
   "metadata": {},
   "outputs": [
    {
     "name": "stdout",
     "output_type": "stream",
     "text": [
      "              precision    recall  f1-score   support\n",
      "\n",
      "         0.0       0.93      0.94      0.94     69140\n",
      "         1.0       0.82      0.80      0.81     23299\n",
      "\n",
      "    accuracy                           0.90     92439\n",
      "   macro avg       0.87      0.87      0.87     92439\n",
      "weighted avg       0.90      0.90      0.90     92439\n",
      "\n"
     ]
    },
    {
     "data": {
      "image/png": "[encoded data removed]",
      "text/plain": [
       "<Figure size 432x288 with 2 Axes>"
      ]
     },
     "metadata": {
      "needs_background": "light"
     },
     "output_type": "display_data"
    }
   ],
   "source": [
    "conf_matrix(Y_test, Y_pred)                 # para la matriz de confusión usamos los datos de test\n",
    "print(classification_report(Y_test,Y_pred)) # comparamos los restulados de la prediccion y los dados por el dataset Y_test"
   ]
  },
  {
   "cell_type": "markdown",
   "metadata": {},
   "source": [
    "### Curva ROC:\n",
    "\n",
    "Una curva ROC (curva de característica operativa del recepto) es un gráfico que muestra el rendimiento de un modelo de clasificación en todos los umbrales de clasificación. Esta curva representa dos parámetros:\n",
    " - Tasa de verdaderos positivos\n",
    " - Tasa de falsos positivos\n",
    " \n",
    "__El AUC__ proporciona una medición agregada del rendimiento en todos los umbrales de clasificación posibles. Una forma de interpretar el AUC es como la probabilidad de que el modelo clasifique un ejemplo positivo aleatorio más alto que un ejemplo negativo aleatorio."
   ]
  },
  {
   "cell_type": "code",
   "execution_count": 13,
   "metadata": {},
   "outputs": [
    {
     "data": {
      "image/png": "[encoded data removed]",
      "text/plain": [
       "<Figure size 432x288 with 1 Axes>"
      ]
     },
     "metadata": {
      "needs_background": "light"
     },
     "output_type": "display_data"
    },
    {
     "name": "stdout",
     "output_type": "stream",
     "text": [
      "SVM score train:  0.9003623375683583\n",
      "SVM score:  0.903449842598903\n"
     ]
    }
   ],
   "source": [
    "metrics.plot_roc_curve(SVM_model, X_test, Y_test)             # CURVA ROC\n",
    "plt.show()                     \n",
    "print(\"SVM score train: \", SVM_model.score(X_train, Y_train)) # score_train\n",
    "print(\"SVM score: \", SVM_model.score(X_test, Y_test))         # score_test"
   ]
  },
  {
   "cell_type": "code",
   "execution_count": 14,
   "metadata": {},
   "outputs": [],
   "source": [
    "# función para guardar el modelo\n",
    "def save_models(filename, model):\n",
    "    with open(filename, 'wb') as file:\n",
    "        pickle.dump(model, file)"
   ]
  },
  {
   "cell_type": "code",
   "execution_count": 15,
   "metadata": {},
   "outputs": [],
   "source": [
    "save_models('../data/04_models/svm_model.pkl', SVM_model) # ruta y modelo guradado IMP .plk"
   ]
  },
  {
   "cell_type": "markdown",
   "metadata": {},
   "source": [
    "### Referencias:\n",
    "- https://empresas.blogthinkbig.com/ml-a-tu-alcance-matriz-confusion/\n",
    "- https://www.juanbarrios.com/la-matriz-de-confusion-y-sus-metricas/\n",
    "- https://stackoverflow.com/questions/2148543/how-to-write-a-confusion-matrix-in-python\n",
    "- https://machinelearningmastery.com/roc-curves-and-precision-recall-curves-for-classification-in-python/\n",
    "- https://www.cienciadedatos.net/documentos/34_maquinas_de_vector_soporte_support_vector_machines\n",
    "- https://rpubs.com/Joaquin_AR/267926"
   ]
  }
 ],
 "metadata": {
  "kernelspec": {
   "display_name": "lending_club_env",
   "language": "python",
   "name": "lending_club_env"
  },
  "language_info": {
   "codemirror_mode": {
    "name": "ipython",
    "version": 3
   },
   "file_extension": ".py",
   "mimetype": "text/x-python",
   "name": "python",
   "nbconvert_exporter": "python",
   "pygments_lexer": "ipython3",
   "version": "3.8.5"
  }
 },
 "nbformat": 4,
 "nbformat_minor": 4
}
