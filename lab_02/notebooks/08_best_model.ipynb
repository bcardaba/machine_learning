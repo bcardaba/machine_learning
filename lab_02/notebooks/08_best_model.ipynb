{
 "cells": [
  {
   "cell_type": "markdown",
   "metadata": {},
   "source": [
    "# Selección del modelo ganador\n",
    "\n",
    "En este notebook se van a comparar las diferentes matrcies de confusión y las curvas ROC de todos los modelos que se han descrito para este estudio. Se tendrán en cuenta todas estas medidas y valores para tomar la decisión de cuál es el modelo elegido, teniendo en cuenta tambuién el conocimiento de negocio.\n",
    "\n",
    "\n",
    "- Libraries Import\n",
    "- Data Import\n",
    "- Models Import\n",
    "- Confusion Matrix\n",
    "- Best Model\n",
    "- Hyperparamtres\n",
    "- Conclussion\n",
    "- References\n",
    "    \n",
    "\n",
    "__Importamos todas las librerías que se van a utilizar en este notebook:__"
   ]
  },
  {
   "cell_type": "code",
   "execution_count": 1,
   "metadata": {},
   "outputs": [],
   "source": [
    "import numpy as np\n",
    "import pandas as pd\n",
    "import matplotlib\n",
    "from matplotlib import pyplot as plt # plots\n",
    "import seaborn as sns # plots\n",
    "from sklearn.ensemble import IsolationForest\n",
    "from sklearn import preprocessing \n",
    "from sklearn.linear_model import Lasso, LassoCV\n",
    "import pickle\n",
    "from sklearn.preprocessing import MinMaxScaler\n",
    "from sklearn.model_selection import train_test_split\n",
    "from imblearn.over_sampling import SMOTE\n",
    "from sklearn.linear_model import LogisticRegression # Log Regression\n",
    "from sklearn.metrics import classification_report, confusion_matrix \n",
    "\n",
    "from sklearn import datasets, metrics, model_selection\n",
    "from sklearn.model_selection import GridSearchCV\n",
    "from sklearn.svm import SVC # SVM\n",
    "from sklearn import svm\n",
    "from sklearn.ensemble import RandomForestClassifier \n",
    "import xgboost as xgb\n",
    "from sklearn.model_selection import GridSearchCV"
   ]
  },
  {
   "cell_type": "markdown",
   "metadata": {},
   "source": [
    "__Importamos los datos__"
   ]
  },
  {
   "cell_type": "code",
   "execution_count": 4,
   "metadata": {},
   "outputs": [
    {
     "data": {
      "text/html": [
       "<div>\n",
       "<style scoped>\n",
       "    .dataframe tbody tr th:only-of-type {\n",
       "        vertical-align: middle;\n",
       "    }\n",
       "\n",
       "    .dataframe tbody tr th {\n",
       "        vertical-align: top;\n",
       "    }\n",
       "\n",
       "    .dataframe thead th {\n",
       "        text-align: right;\n",
       "    }\n",
       "</style>\n",
       "<table border=\"1\" class=\"dataframe\">\n",
       "  <thead>\n",
       "    <tr style=\"text-align: right;\">\n",
       "      <th></th>\n",
       "      <th>Unnamed: 0</th>\n",
       "      <th>num_tl_30dpd</th>\n",
       "      <th>tot_hi_cred_lim</th>\n",
       "      <th>revol_bal</th>\n",
       "      <th>purpose_debt_consolidation</th>\n",
       "      <th>home_ownership_ANY</th>\n",
       "      <th>max_bal_bc</th>\n",
       "      <th>total_cu_tl</th>\n",
       "      <th>open_rv_24m</th>\n",
       "      <th>num_tl_120dpd_2m</th>\n",
       "      <th>...</th>\n",
       "      <th>purpose_housing</th>\n",
       "      <th>mths_since_recent_revol_delinq</th>\n",
       "      <th>total_bal_ex_mort</th>\n",
       "      <th>num_sats</th>\n",
       "      <th>home_ownership_MORTGAGE</th>\n",
       "      <th>mths_since_last_record</th>\n",
       "      <th>pub_rec</th>\n",
       "      <th>delinq_amnt</th>\n",
       "      <th>num_bc_tl</th>\n",
       "      <th>mths_since_rcnt_il</th>\n",
       "    </tr>\n",
       "  </thead>\n",
       "  <tbody>\n",
       "    <tr>\n",
       "      <th>0</th>\n",
       "      <td>0</td>\n",
       "      <td>0.0</td>\n",
       "      <td>0.019016</td>\n",
       "      <td>0.005816</td>\n",
       "      <td>1.0</td>\n",
       "      <td>0.0</td>\n",
       "      <td>0.0</td>\n",
       "      <td>0.0</td>\n",
       "      <td>0.0</td>\n",
       "      <td>0.0</td>\n",
       "      <td>...</td>\n",
       "      <td>0.0</td>\n",
       "      <td>1.0</td>\n",
       "      <td>0.005681</td>\n",
       "      <td>0.100000</td>\n",
       "      <td>1.0</td>\n",
       "      <td>1.000000</td>\n",
       "      <td>0.000000</td>\n",
       "      <td>0.0</td>\n",
       "      <td>0.114286</td>\n",
       "      <td>1.0</td>\n",
       "    </tr>\n",
       "    <tr>\n",
       "      <th>1</th>\n",
       "      <td>1</td>\n",
       "      <td>0.0</td>\n",
       "      <td>0.006348</td>\n",
       "      <td>0.002303</td>\n",
       "      <td>1.0</td>\n",
       "      <td>0.0</td>\n",
       "      <td>0.0</td>\n",
       "      <td>0.0</td>\n",
       "      <td>0.0</td>\n",
       "      <td>0.0</td>\n",
       "      <td>...</td>\n",
       "      <td>0.0</td>\n",
       "      <td>1.0</td>\n",
       "      <td>0.021957</td>\n",
       "      <td>0.144444</td>\n",
       "      <td>0.0</td>\n",
       "      <td>1.000000</td>\n",
       "      <td>0.000000</td>\n",
       "      <td>0.0</td>\n",
       "      <td>0.028571</td>\n",
       "      <td>1.0</td>\n",
       "    </tr>\n",
       "    <tr>\n",
       "      <th>2</th>\n",
       "      <td>2</td>\n",
       "      <td>0.0</td>\n",
       "      <td>0.033903</td>\n",
       "      <td>0.002861</td>\n",
       "      <td>1.0</td>\n",
       "      <td>0.0</td>\n",
       "      <td>0.0</td>\n",
       "      <td>0.0</td>\n",
       "      <td>0.0</td>\n",
       "      <td>0.0</td>\n",
       "      <td>...</td>\n",
       "      <td>0.0</td>\n",
       "      <td>1.0</td>\n",
       "      <td>0.037994</td>\n",
       "      <td>0.100000</td>\n",
       "      <td>1.0</td>\n",
       "      <td>1.000000</td>\n",
       "      <td>0.000000</td>\n",
       "      <td>0.0</td>\n",
       "      <td>0.071429</td>\n",
       "      <td>1.0</td>\n",
       "    </tr>\n",
       "    <tr>\n",
       "      <th>3</th>\n",
       "      <td>3</td>\n",
       "      <td>0.0</td>\n",
       "      <td>0.005288</td>\n",
       "      <td>0.001968</td>\n",
       "      <td>1.0</td>\n",
       "      <td>0.0</td>\n",
       "      <td>0.0</td>\n",
       "      <td>0.0</td>\n",
       "      <td>0.0</td>\n",
       "      <td>0.0</td>\n",
       "      <td>...</td>\n",
       "      <td>0.0</td>\n",
       "      <td>1.0</td>\n",
       "      <td>0.013582</td>\n",
       "      <td>0.100000</td>\n",
       "      <td>0.0</td>\n",
       "      <td>0.537190</td>\n",
       "      <td>0.011628</td>\n",
       "      <td>0.0</td>\n",
       "      <td>0.114286</td>\n",
       "      <td>1.0</td>\n",
       "    </tr>\n",
       "    <tr>\n",
       "      <th>4</th>\n",
       "      <td>4</td>\n",
       "      <td>0.0</td>\n",
       "      <td>0.008973</td>\n",
       "      <td>0.001241</td>\n",
       "      <td>1.0</td>\n",
       "      <td>0.0</td>\n",
       "      <td>0.0</td>\n",
       "      <td>0.0</td>\n",
       "      <td>0.0</td>\n",
       "      <td>0.0</td>\n",
       "      <td>...</td>\n",
       "      <td>0.0</td>\n",
       "      <td>1.0</td>\n",
       "      <td>0.024805</td>\n",
       "      <td>0.088889</td>\n",
       "      <td>1.0</td>\n",
       "      <td>0.198347</td>\n",
       "      <td>0.011628</td>\n",
       "      <td>0.0</td>\n",
       "      <td>0.257143</td>\n",
       "      <td>1.0</td>\n",
       "    </tr>\n",
       "  </tbody>\n",
       "</table>\n",
       "<p>5 rows × 45 columns</p>\n",
       "</div>"
      ],
      "text/plain": [
       "   Unnamed: 0  num_tl_30dpd  tot_hi_cred_lim  revol_bal  \\\n",
       "0           0           0.0         0.019016   0.005816   \n",
       "1           1           0.0         0.006348   0.002303   \n",
       "2           2           0.0         0.033903   0.002861   \n",
       "3           3           0.0         0.005288   0.001968   \n",
       "4           4           0.0         0.008973   0.001241   \n",
       "\n",
       "   purpose_debt_consolidation  home_ownership_ANY  max_bal_bc  total_cu_tl  \\\n",
       "0                         1.0                 0.0         0.0          0.0   \n",
       "1                         1.0                 0.0         0.0          0.0   \n",
       "2                         1.0                 0.0         0.0          0.0   \n",
       "3                         1.0                 0.0         0.0          0.0   \n",
       "4                         1.0                 0.0         0.0          0.0   \n",
       "\n",
       "   open_rv_24m  num_tl_120dpd_2m  ...  purpose_housing  \\\n",
       "0          0.0               0.0  ...              0.0   \n",
       "1          0.0               0.0  ...              0.0   \n",
       "2          0.0               0.0  ...              0.0   \n",
       "3          0.0               0.0  ...              0.0   \n",
       "4          0.0               0.0  ...              0.0   \n",
       "\n",
       "   mths_since_recent_revol_delinq  total_bal_ex_mort  num_sats  \\\n",
       "0                             1.0           0.005681  0.100000   \n",
       "1                             1.0           0.021957  0.144444   \n",
       "2                             1.0           0.037994  0.100000   \n",
       "3                             1.0           0.013582  0.100000   \n",
       "4                             1.0           0.024805  0.088889   \n",
       "\n",
       "   home_ownership_MORTGAGE  mths_since_last_record   pub_rec  delinq_amnt  \\\n",
       "0                      1.0                1.000000  0.000000          0.0   \n",
       "1                      0.0                1.000000  0.000000          0.0   \n",
       "2                      1.0                1.000000  0.000000          0.0   \n",
       "3                      0.0                0.537190  0.011628          0.0   \n",
       "4                      1.0                0.198347  0.011628          0.0   \n",
       "\n",
       "   num_bc_tl  mths_since_rcnt_il  \n",
       "0   0.114286                 1.0  \n",
       "1   0.028571                 1.0  \n",
       "2   0.071429                 1.0  \n",
       "3   0.114286                 1.0  \n",
       "4   0.257143                 1.0  \n",
       "\n",
       "[5 rows x 45 columns]"
      ]
     },
     "execution_count": 4,
     "metadata": {},
     "output_type": "execute_result"
    }
   ],
   "source": [
    "X_train = pd.read_csv('../data/03_processed/x_train.csv')\n",
    "X_train.head()"
   ]
  },
  {
   "cell_type": "code",
   "execution_count": 5,
   "metadata": {},
   "outputs": [],
   "source": [
    "del X_train['Unnamed: 0'] # eliminamos la primera columna que se ha añadido"
   ]
  },
  {
   "cell_type": "code",
   "execution_count": 6,
   "metadata": {},
   "outputs": [
    {
     "data": {
      "text/html": [
       "<div>\n",
       "<style scoped>\n",
       "    .dataframe tbody tr th:only-of-type {\n",
       "        vertical-align: middle;\n",
       "    }\n",
       "\n",
       "    .dataframe tbody tr th {\n",
       "        vertical-align: top;\n",
       "    }\n",
       "\n",
       "    .dataframe thead th {\n",
       "        text-align: right;\n",
       "    }\n",
       "</style>\n",
       "<table border=\"1\" class=\"dataframe\">\n",
       "  <thead>\n",
       "    <tr style=\"text-align: right;\">\n",
       "      <th></th>\n",
       "      <th>Unnamed: 0</th>\n",
       "      <th>num_tl_30dpd</th>\n",
       "      <th>tot_hi_cred_lim</th>\n",
       "      <th>revol_bal</th>\n",
       "      <th>purpose_debt_consolidation</th>\n",
       "      <th>home_ownership_ANY</th>\n",
       "      <th>max_bal_bc</th>\n",
       "      <th>total_cu_tl</th>\n",
       "      <th>open_rv_24m</th>\n",
       "      <th>num_tl_120dpd_2m</th>\n",
       "      <th>...</th>\n",
       "      <th>purpose_housing</th>\n",
       "      <th>mths_since_recent_revol_delinq</th>\n",
       "      <th>total_bal_ex_mort</th>\n",
       "      <th>num_sats</th>\n",
       "      <th>home_ownership_MORTGAGE</th>\n",
       "      <th>mths_since_last_record</th>\n",
       "      <th>pub_rec</th>\n",
       "      <th>delinq_amnt</th>\n",
       "      <th>num_bc_tl</th>\n",
       "      <th>mths_since_rcnt_il</th>\n",
       "    </tr>\n",
       "  </thead>\n",
       "  <tbody>\n",
       "    <tr>\n",
       "      <th>0</th>\n",
       "      <td>137093</td>\n",
       "      <td>0.0</td>\n",
       "      <td>0.005378</td>\n",
       "      <td>0.004647</td>\n",
       "      <td>0.0</td>\n",
       "      <td>0.0</td>\n",
       "      <td>0.0</td>\n",
       "      <td>0.0</td>\n",
       "      <td>0.0</td>\n",
       "      <td>0.0</td>\n",
       "      <td>...</td>\n",
       "      <td>0.0</td>\n",
       "      <td>0.272222</td>\n",
       "      <td>0.011176</td>\n",
       "      <td>0.077778</td>\n",
       "      <td>0.0</td>\n",
       "      <td>1.0</td>\n",
       "      <td>0.0</td>\n",
       "      <td>0.0</td>\n",
       "      <td>0.100000</td>\n",
       "      <td>1.0</td>\n",
       "    </tr>\n",
       "    <tr>\n",
       "      <th>1</th>\n",
       "      <td>34771</td>\n",
       "      <td>0.0</td>\n",
       "      <td>0.004796</td>\n",
       "      <td>0.007528</td>\n",
       "      <td>1.0</td>\n",
       "      <td>0.0</td>\n",
       "      <td>0.0</td>\n",
       "      <td>0.0</td>\n",
       "      <td>0.0</td>\n",
       "      <td>0.0</td>\n",
       "      <td>...</td>\n",
       "      <td>0.0</td>\n",
       "      <td>0.450000</td>\n",
       "      <td>0.011844</td>\n",
       "      <td>0.100000</td>\n",
       "      <td>0.0</td>\n",
       "      <td>1.0</td>\n",
       "      <td>0.0</td>\n",
       "      <td>0.0</td>\n",
       "      <td>0.085714</td>\n",
       "      <td>1.0</td>\n",
       "    </tr>\n",
       "    <tr>\n",
       "      <th>2</th>\n",
       "      <td>71711</td>\n",
       "      <td>0.0</td>\n",
       "      <td>0.005021</td>\n",
       "      <td>0.005028</td>\n",
       "      <td>1.0</td>\n",
       "      <td>0.0</td>\n",
       "      <td>0.0</td>\n",
       "      <td>0.0</td>\n",
       "      <td>0.0</td>\n",
       "      <td>0.0</td>\n",
       "      <td>...</td>\n",
       "      <td>0.0</td>\n",
       "      <td>1.000000</td>\n",
       "      <td>0.015285</td>\n",
       "      <td>0.133333</td>\n",
       "      <td>1.0</td>\n",
       "      <td>1.0</td>\n",
       "      <td>0.0</td>\n",
       "      <td>0.0</td>\n",
       "      <td>0.100000</td>\n",
       "      <td>1.0</td>\n",
       "    </tr>\n",
       "    <tr>\n",
       "      <th>3</th>\n",
       "      <td>316353</td>\n",
       "      <td>0.0</td>\n",
       "      <td>0.034286</td>\n",
       "      <td>0.009615</td>\n",
       "      <td>0.0</td>\n",
       "      <td>0.0</td>\n",
       "      <td>0.0</td>\n",
       "      <td>0.0</td>\n",
       "      <td>0.0</td>\n",
       "      <td>0.0</td>\n",
       "      <td>...</td>\n",
       "      <td>0.0</td>\n",
       "      <td>0.122222</td>\n",
       "      <td>0.019613</td>\n",
       "      <td>0.088889</td>\n",
       "      <td>1.0</td>\n",
       "      <td>1.0</td>\n",
       "      <td>0.0</td>\n",
       "      <td>0.0</td>\n",
       "      <td>0.071429</td>\n",
       "      <td>1.0</td>\n",
       "    </tr>\n",
       "    <tr>\n",
       "      <th>4</th>\n",
       "      <td>71271</td>\n",
       "      <td>0.0</td>\n",
       "      <td>0.021202</td>\n",
       "      <td>0.008591</td>\n",
       "      <td>1.0</td>\n",
       "      <td>0.0</td>\n",
       "      <td>0.0</td>\n",
       "      <td>0.0</td>\n",
       "      <td>0.0</td>\n",
       "      <td>0.0</td>\n",
       "      <td>...</td>\n",
       "      <td>0.0</td>\n",
       "      <td>1.000000</td>\n",
       "      <td>0.024168</td>\n",
       "      <td>0.166667</td>\n",
       "      <td>1.0</td>\n",
       "      <td>1.0</td>\n",
       "      <td>0.0</td>\n",
       "      <td>0.0</td>\n",
       "      <td>0.157143</td>\n",
       "      <td>1.0</td>\n",
       "    </tr>\n",
       "  </tbody>\n",
       "</table>\n",
       "<p>5 rows × 45 columns</p>\n",
       "</div>"
      ],
      "text/plain": [
       "   Unnamed: 0  num_tl_30dpd  tot_hi_cred_lim  revol_bal  \\\n",
       "0      137093           0.0         0.005378   0.004647   \n",
       "1       34771           0.0         0.004796   0.007528   \n",
       "2       71711           0.0         0.005021   0.005028   \n",
       "3      316353           0.0         0.034286   0.009615   \n",
       "4       71271           0.0         0.021202   0.008591   \n",
       "\n",
       "   purpose_debt_consolidation  home_ownership_ANY  max_bal_bc  total_cu_tl  \\\n",
       "0                         0.0                 0.0         0.0          0.0   \n",
       "1                         1.0                 0.0         0.0          0.0   \n",
       "2                         1.0                 0.0         0.0          0.0   \n",
       "3                         0.0                 0.0         0.0          0.0   \n",
       "4                         1.0                 0.0         0.0          0.0   \n",
       "\n",
       "   open_rv_24m  num_tl_120dpd_2m  ...  purpose_housing  \\\n",
       "0          0.0               0.0  ...              0.0   \n",
       "1          0.0               0.0  ...              0.0   \n",
       "2          0.0               0.0  ...              0.0   \n",
       "3          0.0               0.0  ...              0.0   \n",
       "4          0.0               0.0  ...              0.0   \n",
       "\n",
       "   mths_since_recent_revol_delinq  total_bal_ex_mort  num_sats  \\\n",
       "0                        0.272222           0.011176  0.077778   \n",
       "1                        0.450000           0.011844  0.100000   \n",
       "2                        1.000000           0.015285  0.133333   \n",
       "3                        0.122222           0.019613  0.088889   \n",
       "4                        1.000000           0.024168  0.166667   \n",
       "\n",
       "   home_ownership_MORTGAGE  mths_since_last_record  pub_rec  delinq_amnt  \\\n",
       "0                      0.0                     1.0      0.0          0.0   \n",
       "1                      0.0                     1.0      0.0          0.0   \n",
       "2                      1.0                     1.0      0.0          0.0   \n",
       "3                      1.0                     1.0      0.0          0.0   \n",
       "4                      1.0                     1.0      0.0          0.0   \n",
       "\n",
       "   num_bc_tl  mths_since_rcnt_il  \n",
       "0   0.100000                 1.0  \n",
       "1   0.085714                 1.0  \n",
       "2   0.100000                 1.0  \n",
       "3   0.071429                 1.0  \n",
       "4   0.157143                 1.0  \n",
       "\n",
       "[5 rows x 45 columns]"
      ]
     },
     "execution_count": 6,
     "metadata": {},
     "output_type": "execute_result"
    }
   ],
   "source": [
    "X_test = pd.read_csv('../data/03_processed/x_test.csv')\n",
    "X_test.head()"
   ]
  },
  {
   "cell_type": "code",
   "execution_count": 7,
   "metadata": {},
   "outputs": [],
   "source": [
    "del X_test['Unnamed: 0'] # eliminamos la primera columna que se ha añadido"
   ]
  },
  {
   "cell_type": "code",
   "execution_count": 8,
   "metadata": {},
   "outputs": [],
   "source": [
    "Y_test = pd.read_csv('../data/03_processed/y_test.csv')"
   ]
  },
  {
   "cell_type": "code",
   "execution_count": 9,
   "metadata": {},
   "outputs": [],
   "source": [
    "del Y_test['Unnamed: 0'] # eliminamos la primera columna que se ha añadido"
   ]
  },
  {
   "cell_type": "code",
   "execution_count": 10,
   "metadata": {},
   "outputs": [],
   "source": [
    "Y_train = pd.read_csv('../data/03_processed/Y_train.csv')"
   ]
  },
  {
   "cell_type": "code",
   "execution_count": 11,
   "metadata": {},
   "outputs": [],
   "source": [
    "del Y_train['Unnamed: 0'] # eliminamos la primera columna que se ha añadido"
   ]
  },
  {
   "cell_type": "markdown",
   "metadata": {},
   "source": [
    "__Importamos los modelos:__\n",
    "\n",
    "Importamos los modelos que se han guardado como un objeto en pickle desde la ruta seleccionada."
   ]
  },
  {
   "cell_type": "code",
   "execution_count": 10,
   "metadata": {},
   "outputs": [],
   "source": [
    "null =  pd.read_pickle('../data/04_models/null_model.pkl')"
   ]
  },
  {
   "cell_type": "code",
   "execution_count": 11,
   "metadata": {},
   "outputs": [],
   "source": [
    "logit =  pd.read_pickle('../data/04_models/logit_model.pkl')"
   ]
  },
  {
   "cell_type": "code",
   "execution_count": 12,
   "metadata": {},
   "outputs": [],
   "source": [
    "svm =  pd.read_pickle('../data/04_models/svm_model.pkl')"
   ]
  },
  {
   "cell_type": "code",
   "execution_count": 13,
   "metadata": {},
   "outputs": [],
   "source": [
    "random_forest =  pd.read_pickle('../data/04_models/random_forest.pkl')"
   ]
  },
  {
   "cell_type": "code",
   "execution_count": 14,
   "metadata": {},
   "outputs": [],
   "source": [
    "xg_boost =  pd.read_pickle('../data/04_models/xg_boost.pkl')"
   ]
  },
  {
   "cell_type": "markdown",
   "metadata": {},
   "source": [
    "### Matriz de Confusión:\n",
    "La matriz de confusión de un problema de clase n es una matríz nxnen la que las filas se nombran según las clases reales y las columnas, según las clases previstas por el modelo. Sirve para mostrar de forma explícita cuándo una clase es confundida con otra\n",
    "\n",
    "__Accuracy:__ Es el porcentaje total de elementos clasificados correctamente."
   ]
  },
  {
   "cell_type": "code",
   "execution_count": 17,
   "metadata": {},
   "outputs": [],
   "source": [
    "# función de matroz de confusión\n",
    "\n",
    "def conf_matrix(Y_test, Y_pred): # va a comparar los resultados de las predicciones de la variable target vs la real del testset\n",
    "    cnf_matrix_tra = confusion_matrix(Y_test, Y_pred)\n",
    "    conf_plot = sns.heatmap(cnf_matrix_tra, annot=True, cmap='Blues', fmt='g')\n",
    "    bottom, top = conf_plot.get_ylim()\n",
    "    conf_plot.set_ylim(bottom + 0.5, top - 0.5)\n",
    "    conf_plot.set_title(\"Confusion matrix, without normalization\")\n",
    "    conf_plot.set_ylabel('True Label')\n",
    "    conf_plot.set_xlabel('Predicted Label');"
   ]
  },
  {
   "cell_type": "markdown",
   "metadata": {},
   "source": [
    "__Modelo Nulo:__"
   ]
  },
  {
   "cell_type": "code",
   "execution_count": 12,
   "metadata": {},
   "outputs": [
    {
     "name": "stderr",
     "output_type": "stream",
     "text": [
      "C:\\Users\\Beatriz\\anaconda3\\lib\\site-packages\\sklearn\\metrics\\_classification.py:1221: UndefinedMetricWarning: Precision and F-score are ill-defined and being set to 0.0 in labels with no predicted samples. Use `zero_division` parameter to control this behavior.\n",
      "  _warn_prf(average, modifier, msg_start, len(result))\n"
     ]
    },
    {
     "name": "stdout",
     "output_type": "stream",
     "text": [
      "              precision    recall  f1-score   support\n",
      "\n",
      "         0.0       0.75      1.00      0.86     69140\n",
      "         1.0       0.00      0.00      0.00     23299\n",
      "\n",
      "    accuracy                           0.75     92439\n",
      "   macro avg       0.37      0.50      0.43     92439\n",
      "weighted avg       0.56      0.75      0.64     92439\n",
      "\n",
      "Wall time: 927 ms\n"
     ]
    },
    {
     "data": {
      "image/png": "[encoded data removed]",
      "text/plain": [
       "<Figure size 432x288 with 2 Axes>"
      ]
     },
     "metadata": {
      "needs_background": "light"
     },
     "output_type": "display_data"
    }
   ],
   "source": [
    "%%time\n",
    "pred_null = null.predict(X_test)\n",
    "conf_matrix(Y_test, pred_null)\n",
    "print(classification_report(Y_test,pred_null))"
   ]
  },
  {
   "cell_type": "markdown",
   "metadata": {},
   "source": [
    "__Modelo Logit:__"
   ]
  },
  {
   "cell_type": "code",
   "execution_count": 14,
   "metadata": {},
   "outputs": [
    {
     "name": "stdout",
     "output_type": "stream",
     "text": [
      "              precision    recall  f1-score   support\n",
      "\n",
      "         0.0       0.96      0.90      0.93     69140\n",
      "         1.0       0.74      0.88      0.81     23299\n",
      "\n",
      "    accuracy                           0.89     92439\n",
      "   macro avg       0.85      0.89      0.87     92439\n",
      "weighted avg       0.90      0.89      0.90     92439\n",
      "\n",
      "Wall time: 670 ms\n"
     ]
    },
    {
     "data": {
      "image/png": "[encoded data removed]",
      "text/plain": [
       "<Figure size 432x288 with 2 Axes>"
      ]
     },
     "metadata": {
      "needs_background": "light"
     },
     "output_type": "display_data"
    }
   ],
   "source": [
    "%%time\n",
    "pred_logit = logit.predict(X_test)\n",
    "conf_matrix(Y_test, pred_logit)\n",
    "print(classification_report(Y_test,pred_logit))"
   ]
  },
  {
   "cell_type": "markdown",
   "metadata": {},
   "source": [
    "__Modelo SVM:__"
   ]
  },
  {
   "cell_type": "code",
   "execution_count": 16,
   "metadata": {},
   "outputs": [
    {
     "name": "stdout",
     "output_type": "stream",
     "text": [
      "              precision    recall  f1-score   support\n",
      "\n",
      "         0.0       0.93      0.94      0.94     69140\n",
      "         1.0       0.82      0.80      0.81     23299\n",
      "\n",
      "    accuracy                           0.90     92439\n",
      "   macro avg       0.87      0.87      0.87     92439\n",
      "weighted avg       0.90      0.90      0.90     92439\n",
      "\n",
      "Wall time: 9min 27s\n"
     ]
    },
    {
     "data": {
      "image/png": "[encoded data removed]",
      "text/plain": [
       "<Figure size 432x288 with 2 Axes>"
      ]
     },
     "metadata": {
      "needs_background": "light"
     },
     "output_type": "display_data"
    }
   ],
   "source": [
    "%%time\n",
    "pred_svm= svm.predict(X_test)\n",
    "conf_matrix(Y_test, pred_svm)\n",
    "print(classification_report(Y_test,pred_svm))"
   ]
  },
  {
   "cell_type": "markdown",
   "metadata": {},
   "source": [
    "__Modelo Random Forest:__"
   ]
  },
  {
   "cell_type": "code",
   "execution_count": 18,
   "metadata": {},
   "outputs": [
    {
     "name": "stdout",
     "output_type": "stream",
     "text": [
      "              precision    recall  f1-score   support\n",
      "\n",
      "         0.0       0.94      0.94      0.94     69140\n",
      "         1.0       0.81      0.81      0.81     23299\n",
      "\n",
      "    accuracy                           0.91     92439\n",
      "   macro avg       0.87      0.88      0.87     92439\n",
      "weighted avg       0.91      0.91      0.91     92439\n",
      "\n",
      "Wall time: 8.51 s\n"
     ]
    },
    {
     "data": {
      "image/png": "[encoded data removed]",
      "text/plain": [
       "<Figure size 432x288 with 2 Axes>"
      ]
     },
     "metadata": {
      "needs_background": "light"
     },
     "output_type": "display_data"
    }
   ],
   "source": [
    "%%time\n",
    "pred_rf= random_forest.predict(X_test)\n",
    "conf_matrix(Y_test, pred_rf)\n",
    "print(classification_report(Y_test,pred_rf))"
   ]
  },
  {
   "cell_type": "markdown",
   "metadata": {},
   "source": [
    "__Modelo XG BOOST:__"
   ]
  },
  {
   "cell_type": "code",
   "execution_count": 20,
   "metadata": {},
   "outputs": [
    {
     "name": "stdout",
     "output_type": "stream",
     "text": [
      "              precision    recall  f1-score   support\n",
      "\n",
      "         0.0       0.93      0.94      0.94     69140\n",
      "         1.0       0.81      0.80      0.81     23299\n",
      "\n",
      "    accuracy                           0.90     92439\n",
      "   macro avg       0.87      0.87      0.87     92439\n",
      "weighted avg       0.90      0.90      0.90     92439\n",
      "\n",
      "Wall time: 1.81 s\n"
     ]
    },
    {
     "data": {
      "image/png": "[encoded data removed]",
      "text/plain": [
       "<Figure size 432x288 with 2 Axes>"
      ]
     },
     "metadata": {
      "needs_background": "light"
     },
     "output_type": "display_data"
    }
   ],
   "source": [
    "%%time\n",
    "pred_xgb= xg_boost.predict(X_test)\n",
    "conf_matrix(Y_test, pred_xgb)\n",
    "print(classification_report(Y_test,pred_xgb))"
   ]
  },
  {
   "cell_type": "markdown",
   "metadata": {},
   "source": [
    "### Curva ROC:\n",
    "\n",
    "Una curva ROC (curva de característica operativa del recepto) es un gráfico que muestra el rendimiento de un modelo de clasificación en todos los umbrales de clasificación. Esta curva representa dos parámetros:\n",
    " - Tasa de verdaderos positivos\n",
    " - Tasa de falsos positivos\n",
    " \n",
    "__El AUC__ proporciona una medición agregada del rendimiento en todos los umbrales de clasificación posibles. Una forma de interpretar el AUC es como la probabilidad de que el modelo clasifique un ejemplo positivo aleatorio más alto que un ejemplo negativo aleatorio."
   ]
  },
  {
   "cell_type": "code",
   "execution_count": 33,
   "metadata": {},
   "outputs": [
    {
     "data": {
      "image/png": "[encoded data removed]",
      "text/plain": [
       "<Figure size 432x288 with 1 Axes>"
      ]
     },
     "metadata": {
      "needs_background": "light"
     },
     "output_type": "display_data"
    }
   ],
   "source": [
    "null_disp = metrics.plot_roc_curve(null, X_test, Y_test) # ROC null_model\n",
    "logit_disp = metrics.plot_roc_curve(logit, X_test, Y_test ,ax=null_disp.ax_) # ROC logit_model mismos ejes que el roc null_model\n",
    "svm_disp = metrics.plot_roc_curve(svm, X_test, Y_test, ax=null_disp.ax_) # ROC svm mismos ejes que el roc null_model\n",
    "rf_disp = metrics.plot_roc_curve(random_forest, X_test, Y_test, ax=null_disp.ax_) # ROC random_forest sames axes roc null_model\n",
    "xgb_disp = metrics.plot_roc_curve(xg_boost, X_test, Y_test, ax=null_disp.ax_) # ROC XG_BOOST mismos ejes que el roc null_model\n",
    "null_disp.figure_.suptitle(\"ROC curve comparison\") # título\n",
    "plt.show()"
   ]
  },
  {
   "cell_type": "markdown",
   "metadata": {},
   "source": [
    "# MEJOR MODELO\n",
    "\n",
    "Para seleccionar el mejor modelo hemos tenido en cuenta diferentes criterios. \n",
    "En primer lugar, hemos considerado el porcentanje de accuracy de los modelos. En los modelos Logit, SVM, Random Forest y XG BOOST, estas cifras son muy parecidas variando en todos los modelos menos del 5%. Por ello, vamos a atender a los valores de falsos positivos y falsos negativos. Para analizar estos datos es muy importante tener en cuenta el conocimiento de negocio. \n",
    "Hay que tener muy en cuenta el coste de los errores.\n",
    "En este caso, según hemos estudiado, las empresas encargadas de dar créditos tienen como objetivo reducir el número de impagos, por eso, en estos modelos querrán reducir al máximo el valor de los predecidos como 'fully_paid' pero que en realidad pertenecen a una categoría de impago. Atendiendo a este criterio los dos modelos que menos falsos negativos tienen son el modelo logístico y el modelo random forest.\n",
    "\n",
    "Analizando pormenorizadamente cada modelo observamos que el modelo logit tiene menor número de falsos 'fully_paid' sin embargo, observamos que es muy elevada la cifra de clientes que categoriza como 'impagos' que en realidad no lo son. Siguiendo este criterio la entidad prestamista estaría dejando de dar muchos créditos con los que sí que obtendría beneficios. \n",
    "\n",
    "Creemos que es mejor la situación que proporciona el Random_forest que tiene es el segundo valor más bajo de clientes que no pagarán el crédito y además permitirá al prestamista ajustar y poder dar un mayor número de créditos a clientes que harán los pagos completos. Por lo que nuestro __mejor modelo es el Random Forest.__\n",
    "\n",
    "A continuación, vamos a proceder a estimar los mejores hiperparámetros para el modelo Random Forest:\n",
    "\n",
    "__Hiperparámetros:__\n",
    "\n",
    "Definimos los mejores hperparámetros para nuestro mejor modelo. Esto en pricipio, permitirá optimizar el modelo mejorando así su aaplicación.\n"
   ]
  },
  {
   "cell_type": "code",
   "execution_count": 12,
   "metadata": {},
   "outputs": [
    {
     "name": "stderr",
     "output_type": "stream",
     "text": [
      "C:\\Users\\Beatriz\\anaconda3\\lib\\site-packages\\sklearn\\model_selection\\_search.py:847: FutureWarning: The parameter 'iid' is deprecated in 0.22 and will be removed in 0.24.\n",
      "  warnings.warn(\n",
      "C:\\Users\\Beatriz\\anaconda3\\lib\\site-packages\\sklearn\\model_selection\\_search.py:765: DataConversionWarning: A column-vector y was passed when a 1d array was expected. Please change the shape of y to (n_samples,), for example using ravel().\n",
      "  self.best_estimator_.fit(X, y, **fit_params)\n"
     ]
    },
    {
     "name": "stdout",
     "output_type": "stream",
     "text": [
      "Wall time: 1h 12min 30s\n"
     ]
    },
    {
     "data": {
      "text/plain": [
       "GridSearchCV(cv=3, estimator=RandomForestClassifier(n_estimators=500),\n",
       "             iid=False, n_jobs=-1,\n",
       "             param_grid={'criterion': ['gini', 'entropy'],\n",
       "                         'max_features': ['auto', 'sqrt', 'log2'],\n",
       "                         'n_estimators': [200, 500]},\n",
       "             scoring='roc_auc')"
      ]
     },
     "execution_count": 12,
     "metadata": {},
     "output_type": "execute_result"
    }
   ],
   "source": [
    "%%time\n",
    "param_grid = {\n",
    "    'max_features': ['auto', 'sqrt', 'log2'],\n",
    "    'criterion' :['gini', 'entropy'],\n",
    "    'n_estimators': [200, 500]\n",
    " }\n",
    "\n",
    "gsearch_RandomForest = GridSearchCV(estimator = RandomForestClassifier(500), \n",
    "                                    param_grid = param_grid, \n",
    "                                    scoring = 'roc_auc',\n",
    "                                    n_jobs = -1, \n",
    "                                    iid = False, \n",
    "                                    cv = 3)\n",
    "\n",
    "gsearch_RandomForest.fit(X_train, Y_train)"
   ]
  },
  {
   "cell_type": "code",
   "execution_count": 13,
   "metadata": {},
   "outputs": [
    {
     "data": {
      "text/plain": [
       "{'criterion': 'entropy', 'max_features': 'auto', 'n_estimators': 500}"
      ]
     },
     "execution_count": 13,
     "metadata": {},
     "output_type": "execute_result"
    }
   ],
   "source": [
    "gsearch_RandomForest.best_params_"
   ]
  },
  {
   "cell_type": "code",
   "execution_count": 14,
   "metadata": {},
   "outputs": [
    {
     "data": {
      "text/plain": [
       "RandomForestClassifier(criterion='entropy', n_estimators=500)"
      ]
     },
     "execution_count": 14,
     "metadata": {},
     "output_type": "execute_result"
    }
   ],
   "source": [
    "\n",
    "gsearch_RandomForest.best_estimator_"
   ]
  },
  {
   "cell_type": "code",
   "execution_count": 15,
   "metadata": {},
   "outputs": [
    {
     "name": "stderr",
     "output_type": "stream",
     "text": [
      "<timed exec>:2: DataConversionWarning: A column-vector y was passed when a 1d array was expected. Please change the shape of y to (n_samples,), for example using ravel().\n"
     ]
    },
    {
     "name": "stdout",
     "output_type": "stream",
     "text": [
      "Wall time: 11min 15s\n"
     ]
    },
    {
     "data": {
      "text/plain": [
       "RandomForestClassifier(criterion='entropy', n_estimators=500)"
      ]
     },
     "execution_count": 15,
     "metadata": {},
     "output_type": "execute_result"
    }
   ],
   "source": [
    "%%time\n",
    "gsearch_RandomForest2 = gsearch_RandomForest.best_estimator_\n",
    "gsearch_RandomForest2.fit(X_train, Y_train)"
   ]
  },
  {
   "cell_type": "code",
   "execution_count": 18,
   "metadata": {},
   "outputs": [
    {
     "name": "stdout",
     "output_type": "stream",
     "text": [
      "              precision    recall  f1-score   support\n",
      "\n",
      "         0.0       0.94      0.93      0.94     69140\n",
      "         1.0       0.81      0.81      0.81     23299\n",
      "\n",
      "    accuracy                           0.90     92439\n",
      "   macro avg       0.87      0.87      0.87     92439\n",
      "weighted avg       0.90      0.90      0.90     92439\n",
      "\n",
      "Wall time: 12.5 s\n"
     ]
    },
    {
     "data": {
      "image/png": "[encoded data removed]",
      "text/plain": [
       "<Figure size 432x288 with 2 Axes>"
      ]
     },
     "metadata": {
      "needs_background": "light"
     },
     "output_type": "display_data"
    }
   ],
   "source": [
    "%%time\n",
    "pred_param = gsearch_RandomForest2.predict(X_test)\n",
    "conf_matrix(Y_test, pred_param)\n",
    "print(classification_report(Y_test ,pred_param))"
   ]
  },
  {
   "cell_type": "code",
   "execution_count": 19,
   "metadata": {},
   "outputs": [
    {
     "data": {
      "image/png": "[encoded data removed]",
      "text/plain": [
       "<Figure size 432x288 with 1 Axes>"
      ]
     },
     "metadata": {
      "needs_background": "light"
     },
     "output_type": "display_data"
    },
    {
     "name": "stdout",
     "output_type": "stream",
     "text": [
      "Random Forest score train:  1.0\n",
      "Random Forest score:  0.9046181806380423\n"
     ]
    }
   ],
   "source": [
    "metrics.plot_roc_curve(gsearch_RandomForest2, X_test, Y_test)                       # CURVA ROC\n",
    "plt.show() \n",
    "print(\"Random Forest score train: \", gsearch_RandomForest2.score(X_train, Y_train)) # score_train\n",
    "print(\"Random Forest score: \", gsearch_RandomForest2.score(X_test, Y_test))         # score_test"
   ]
  },
  {
   "cell_type": "code",
   "execution_count": 22,
   "metadata": {},
   "outputs": [],
   "source": [
    "# función para guardar el modelo\n",
    "def save_models(filename, model):\n",
    "    with open(filename, 'wb') as file:\n",
    "        pickle.dump(model, file)"
   ]
  },
  {
   "cell_type": "code",
   "execution_count": 23,
   "metadata": {},
   "outputs": [],
   "source": [
    "save_models('../data/04_models/rf_param.pkl', gsearch_RandomForest2) # ruta y modelo guradado IMP .plk"
   ]
  },
  {
   "cell_type": "markdown",
   "metadata": {},
   "source": [
    "### Conclusiones:\n",
    "\n",
    "El objetivo de este estudio era la estimación de diferentes modelos a partir de la base de datos aportada. Hemos llevado a cabo un análisis pormenorizado cada una de las variables realizando los ajustes pertinentes para proceder a la modelización. Este ha incluido un análisis exploratorio e ingeniería de variables. A continuación hemos definido y entrenado los diferentes modelos: modelo nulo, modelo logit, SVM, random forest y XGBOOST. Después de analizar los indicadores más relevantes de cada modelo, como la precisión, y teniendo en cuenta el conocimiento de negocio, hemos concluido que el modelo óptimo es el random forest. Seguidamente, hemos ajustado los hiperparámetros del modelo. Aunque no se ha conseguido aumentar la precisión, se ha obtenido la redución del número de falsos positivos, que es el objetivo de las entidades prestamistas.\n",
    "\n",
    "Para concluir, nos gustaría destacar la importancia y dificultad del proceso de limpieza y selección de variables, siendo esencial el conocimiento de negocio, tanto para estas tareas, como para la selección del modelo óptimo."
   ]
  },
  {
   "cell_type": "markdown",
   "metadata": {},
   "source": [
    "### Referencias:\n",
    "- https://towardsdatascience.com/hyperparameter-tuning-c5619e7e6624\n",
    "- https://towardsdatascience.com/hyperparameters-optimization-526348bb8e2d\n",
    "- https://towardsdatascience.com/hyperparameter-tuning-the-random-forest-in-python-using-scikit-learn-28d2aa77dd74\n",
    "- https://empresas.blogthinkbig.com/ml-a-tu-alcance-matriz-confusion/\n",
    "- https://www.juanbarrios.com/la-matriz-de-confusion-y-sus-metricas/\n",
    "- https://stackoverflow.com/questions/2148543/how-to-write-a-confusion-matrix-in-python\n",
    "- https://machinelearningmastery.com/roc-curves-and-precision-recall-curves-for-classification-in-python/"
   ]
  }
 ],
 "metadata": {
  "kernelspec": {
   "display_name": "lending_club_env",
   "language": "python",
   "name": "lending_club_env"
  },
  "language_info": {
   "codemirror_mode": {
    "name": "ipython",
    "version": 3
   },
   "file_extension": ".py",
   "mimetype": "text/x-python",
   "name": "python",
   "nbconvert_exporter": "python",
   "pygments_lexer": "ipython3",
   "version": "3.8.5"
  }
 },
 "nbformat": 4,
 "nbformat_minor": 4
}
