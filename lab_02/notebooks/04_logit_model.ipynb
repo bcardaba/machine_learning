{
 "cells": [
  {
   "cell_type": "markdown",
   "metadata": {},
   "source": [
    "# Logistic Regression:\n",
    "\n",
    "La regresión logística es un algortimo de Machine Learning que se utiliza para clasificación. Consiste en analizar un conjunto de datos en el que hay una o más variables independientes que determinan un resultado. El resultado se mide con una variable dicotómica, en la que sólo hay dos resultados posibles, en este caso el pago o impago del crédito.\n",
    "\n",
    "- Library Import\n",
    "- Data Import\n",
    "- Model Definition\n",
    "- Model Training\n",
    "- Confussion Matrix & Accuracy\n",
    "- ROC Curve\n",
    "- References\n",
    "\n",
    "\n",
    "__Importamos todas las librerías que se van a utilizar en este notebook:__"
   ]
  },
  {
   "cell_type": "code",
   "execution_count": 1,
   "metadata": {},
   "outputs": [],
   "source": [
    "import numpy as np\n",
    "import pandas as pd\n",
    "import matplotlib\n",
    "from matplotlib import pyplot as plt # plots\n",
    "import seaborn as sns # plots\n",
    "from sklearn.ensemble import IsolationForest\n",
    "from sklearn import preprocessing \n",
    "from sklearn.linear_model import Lasso, LassoCV\n",
    "import pickle\n",
    "from sklearn.preprocessing import MinMaxScaler\n",
    "from sklearn.model_selection import train_test_split\n",
    "from imblearn.over_sampling import SMOTE\n",
    "from sklearn.linear_model import LogisticRegression # Log Regression\n",
    "from sklearn.metrics import classification_report, confusion_matrix \n",
    "from sklearn import datasets, metrics, model_selection"
   ]
  },
  {
   "cell_type": "markdown",
   "metadata": {},
   "source": [
    "__Importamos los datos:__"
   ]
  },
  {
   "cell_type": "code",
   "execution_count": 2,
   "metadata": {},
   "outputs": [
    {
     "data": {
      "text/html": [
       "<div>\n",
       "<style scoped>\n",
       "    .dataframe tbody tr th:only-of-type {\n",
       "        vertical-align: middle;\n",
       "    }\n",
       "\n",
       "    .dataframe tbody tr th {\n",
       "        vertical-align: top;\n",
       "    }\n",
       "\n",
       "    .dataframe thead th {\n",
       "        text-align: right;\n",
       "    }\n",
       "</style>\n",
       "<table border=\"1\" class=\"dataframe\">\n",
       "  <thead>\n",
       "    <tr style=\"text-align: right;\">\n",
       "      <th></th>\n",
       "      <th>Unnamed: 0</th>\n",
       "      <th>num_tl_30dpd</th>\n",
       "      <th>tot_hi_cred_lim</th>\n",
       "      <th>revol_bal</th>\n",
       "      <th>purpose_debt_consolidation</th>\n",
       "      <th>home_ownership_ANY</th>\n",
       "      <th>max_bal_bc</th>\n",
       "      <th>total_cu_tl</th>\n",
       "      <th>open_rv_24m</th>\n",
       "      <th>num_tl_120dpd_2m</th>\n",
       "      <th>...</th>\n",
       "      <th>purpose_housing</th>\n",
       "      <th>mths_since_recent_revol_delinq</th>\n",
       "      <th>total_bal_ex_mort</th>\n",
       "      <th>num_sats</th>\n",
       "      <th>home_ownership_MORTGAGE</th>\n",
       "      <th>mths_since_last_record</th>\n",
       "      <th>pub_rec</th>\n",
       "      <th>delinq_amnt</th>\n",
       "      <th>num_bc_tl</th>\n",
       "      <th>mths_since_rcnt_il</th>\n",
       "    </tr>\n",
       "  </thead>\n",
       "  <tbody>\n",
       "    <tr>\n",
       "      <th>0</th>\n",
       "      <td>0</td>\n",
       "      <td>0.0</td>\n",
       "      <td>0.019016</td>\n",
       "      <td>0.005816</td>\n",
       "      <td>1.0</td>\n",
       "      <td>0.0</td>\n",
       "      <td>0.0</td>\n",
       "      <td>0.0</td>\n",
       "      <td>0.0</td>\n",
       "      <td>0.0</td>\n",
       "      <td>...</td>\n",
       "      <td>0.0</td>\n",
       "      <td>1.0</td>\n",
       "      <td>0.005681</td>\n",
       "      <td>0.1</td>\n",
       "      <td>1.0</td>\n",
       "      <td>1.0</td>\n",
       "      <td>0.0</td>\n",
       "      <td>0.0</td>\n",
       "      <td>0.114286</td>\n",
       "      <td>1.0</td>\n",
       "    </tr>\n",
       "  </tbody>\n",
       "</table>\n",
       "<p>1 rows × 45 columns</p>\n",
       "</div>"
      ],
      "text/plain": [
       "   Unnamed: 0  num_tl_30dpd  tot_hi_cred_lim  revol_bal  \\\n",
       "0           0           0.0         0.019016   0.005816   \n",
       "\n",
       "   purpose_debt_consolidation  home_ownership_ANY  max_bal_bc  total_cu_tl  \\\n",
       "0                         1.0                 0.0         0.0          0.0   \n",
       "\n",
       "   open_rv_24m  num_tl_120dpd_2m  ...  purpose_housing  \\\n",
       "0          0.0               0.0  ...              0.0   \n",
       "\n",
       "   mths_since_recent_revol_delinq  total_bal_ex_mort  num_sats  \\\n",
       "0                             1.0           0.005681       0.1   \n",
       "\n",
       "   home_ownership_MORTGAGE  mths_since_last_record  pub_rec  delinq_amnt  \\\n",
       "0                      1.0                     1.0      0.0          0.0   \n",
       "\n",
       "   num_bc_tl  mths_since_rcnt_il  \n",
       "0   0.114286                 1.0  \n",
       "\n",
       "[1 rows x 45 columns]"
      ]
     },
     "execution_count": 2,
     "metadata": {},
     "output_type": "execute_result"
    }
   ],
   "source": [
    "X_train = pd.read_csv('../data/03_processed/x_train.csv')\n",
    "X_train.head(1)"
   ]
  },
  {
   "cell_type": "code",
   "execution_count": 3,
   "metadata": {},
   "outputs": [],
   "source": [
    "del X_train['Unnamed: 0']  # eliminamos la primera columna que se ha añadido"
   ]
  },
  {
   "cell_type": "code",
   "execution_count": 7,
   "metadata": {},
   "outputs": [
    {
     "data": {
      "text/html": [
       "<div>\n",
       "<style scoped>\n",
       "    .dataframe tbody tr th:only-of-type {\n",
       "        vertical-align: middle;\n",
       "    }\n",
       "\n",
       "    .dataframe tbody tr th {\n",
       "        vertical-align: top;\n",
       "    }\n",
       "\n",
       "    .dataframe thead th {\n",
       "        text-align: right;\n",
       "    }\n",
       "</style>\n",
       "<table border=\"1\" class=\"dataframe\">\n",
       "  <thead>\n",
       "    <tr style=\"text-align: right;\">\n",
       "      <th></th>\n",
       "      <th>Unnamed: 0</th>\n",
       "      <th>num_tl_30dpd</th>\n",
       "      <th>tot_hi_cred_lim</th>\n",
       "      <th>revol_bal</th>\n",
       "      <th>purpose_debt_consolidation</th>\n",
       "      <th>home_ownership_ANY</th>\n",
       "      <th>max_bal_bc</th>\n",
       "      <th>total_cu_tl</th>\n",
       "      <th>open_rv_24m</th>\n",
       "      <th>num_tl_120dpd_2m</th>\n",
       "      <th>...</th>\n",
       "      <th>purpose_housing</th>\n",
       "      <th>mths_since_recent_revol_delinq</th>\n",
       "      <th>total_bal_ex_mort</th>\n",
       "      <th>num_sats</th>\n",
       "      <th>home_ownership_MORTGAGE</th>\n",
       "      <th>mths_since_last_record</th>\n",
       "      <th>pub_rec</th>\n",
       "      <th>delinq_amnt</th>\n",
       "      <th>num_bc_tl</th>\n",
       "      <th>mths_since_rcnt_il</th>\n",
       "    </tr>\n",
       "  </thead>\n",
       "  <tbody>\n",
       "    <tr>\n",
       "      <th>0</th>\n",
       "      <td>137093</td>\n",
       "      <td>0.0</td>\n",
       "      <td>0.005378</td>\n",
       "      <td>0.004647</td>\n",
       "      <td>0.0</td>\n",
       "      <td>0.0</td>\n",
       "      <td>0.0</td>\n",
       "      <td>0.0</td>\n",
       "      <td>0.0</td>\n",
       "      <td>0.0</td>\n",
       "      <td>...</td>\n",
       "      <td>0.0</td>\n",
       "      <td>0.272222</td>\n",
       "      <td>0.011176</td>\n",
       "      <td>0.077778</td>\n",
       "      <td>0.0</td>\n",
       "      <td>1.0</td>\n",
       "      <td>0.0</td>\n",
       "      <td>0.0</td>\n",
       "      <td>0.1</td>\n",
       "      <td>1.0</td>\n",
       "    </tr>\n",
       "  </tbody>\n",
       "</table>\n",
       "<p>1 rows × 45 columns</p>\n",
       "</div>"
      ],
      "text/plain": [
       "   Unnamed: 0  num_tl_30dpd  tot_hi_cred_lim  revol_bal  \\\n",
       "0      137093           0.0         0.005378   0.004647   \n",
       "\n",
       "   purpose_debt_consolidation  home_ownership_ANY  max_bal_bc  total_cu_tl  \\\n",
       "0                         0.0                 0.0         0.0          0.0   \n",
       "\n",
       "   open_rv_24m  num_tl_120dpd_2m  ...  purpose_housing  \\\n",
       "0          0.0               0.0  ...              0.0   \n",
       "\n",
       "   mths_since_recent_revol_delinq  total_bal_ex_mort  num_sats  \\\n",
       "0                        0.272222           0.011176  0.077778   \n",
       "\n",
       "   home_ownership_MORTGAGE  mths_since_last_record  pub_rec  delinq_amnt  \\\n",
       "0                      0.0                     1.0      0.0          0.0   \n",
       "\n",
       "   num_bc_tl  mths_since_rcnt_il  \n",
       "0        0.1                 1.0  \n",
       "\n",
       "[1 rows x 45 columns]"
      ]
     },
     "execution_count": 7,
     "metadata": {},
     "output_type": "execute_result"
    }
   ],
   "source": [
    "X_test = pd.read_csv('../data/03_processed/x_test.csv')\n",
    "X_test.head(1)"
   ]
  },
  {
   "cell_type": "code",
   "execution_count": 8,
   "metadata": {},
   "outputs": [],
   "source": [
    "del X_test['Unnamed: 0']  # eliminamos la primera columna que se ha añadido"
   ]
  },
  {
   "cell_type": "code",
   "execution_count": 9,
   "metadata": {},
   "outputs": [
    {
     "data": {
      "text/html": [
       "<div>\n",
       "<style scoped>\n",
       "    .dataframe tbody tr th:only-of-type {\n",
       "        vertical-align: middle;\n",
       "    }\n",
       "\n",
       "    .dataframe tbody tr th {\n",
       "        vertical-align: top;\n",
       "    }\n",
       "\n",
       "    .dataframe thead th {\n",
       "        text-align: right;\n",
       "    }\n",
       "</style>\n",
       "<table border=\"1\" class=\"dataframe\">\n",
       "  <thead>\n",
       "    <tr style=\"text-align: right;\">\n",
       "      <th></th>\n",
       "      <th>Unnamed: 0</th>\n",
       "      <th>target</th>\n",
       "    </tr>\n",
       "  </thead>\n",
       "  <tbody>\n",
       "    <tr>\n",
       "      <th>0</th>\n",
       "      <td>0</td>\n",
       "      <td>0.0</td>\n",
       "    </tr>\n",
       "  </tbody>\n",
       "</table>\n",
       "</div>"
      ],
      "text/plain": [
       "   Unnamed: 0  target\n",
       "0           0     0.0"
      ]
     },
     "execution_count": 9,
     "metadata": {},
     "output_type": "execute_result"
    }
   ],
   "source": [
    "Y_train = pd.read_csv('../data/03_processed/y_train.csv')\n",
    "Y_train.head(1)"
   ]
  },
  {
   "cell_type": "code",
   "execution_count": 10,
   "metadata": {},
   "outputs": [],
   "source": [
    "del Y_train['Unnamed: 0']  # eliminamos la primera columna que se ha añadido"
   ]
  },
  {
   "cell_type": "code",
   "execution_count": 11,
   "metadata": {},
   "outputs": [
    {
     "data": {
      "text/html": [
       "<div>\n",
       "<style scoped>\n",
       "    .dataframe tbody tr th:only-of-type {\n",
       "        vertical-align: middle;\n",
       "    }\n",
       "\n",
       "    .dataframe tbody tr th {\n",
       "        vertical-align: top;\n",
       "    }\n",
       "\n",
       "    .dataframe thead th {\n",
       "        text-align: right;\n",
       "    }\n",
       "</style>\n",
       "<table border=\"1\" class=\"dataframe\">\n",
       "  <thead>\n",
       "    <tr style=\"text-align: right;\">\n",
       "      <th></th>\n",
       "      <th>Unnamed: 0</th>\n",
       "      <th>target</th>\n",
       "    </tr>\n",
       "  </thead>\n",
       "  <tbody>\n",
       "    <tr>\n",
       "      <th>0</th>\n",
       "      <td>137093</td>\n",
       "      <td>0.0</td>\n",
       "    </tr>\n",
       "  </tbody>\n",
       "</table>\n",
       "</div>"
      ],
      "text/plain": [
       "   Unnamed: 0  target\n",
       "0      137093     0.0"
      ]
     },
     "execution_count": 11,
     "metadata": {},
     "output_type": "execute_result"
    }
   ],
   "source": [
    "Y_test = pd.read_csv('../data/03_processed/y_test.csv')\n",
    "Y_test.head(1)"
   ]
  },
  {
   "cell_type": "code",
   "execution_count": 12,
   "metadata": {},
   "outputs": [],
   "source": [
    "del Y_test['Unnamed: 0']  # eliminamos la primera columna que se ha añadido"
   ]
  },
  {
   "cell_type": "markdown",
   "metadata": {},
   "source": [
    "Definimos la función logaritmica para nuestro modelo:"
   ]
  },
  {
   "cell_type": "code",
   "execution_count": 15,
   "metadata": {},
   "outputs": [
    {
     "name": "stderr",
     "output_type": "stream",
     "text": [
      "C:\\Users\\Beatriz\\anaconda3\\lib\\site-packages\\sklearn\\utils\\validation.py:72: DataConversionWarning: A column-vector y was passed when a 1d array was expected. Please change the shape of y to (n_samples, ), for example using ravel().\n",
      "  return f(**kwargs)\n"
     ]
    },
    {
     "name": "stdout",
     "output_type": "stream",
     "text": [
      "Wall time: 12.2 s\n"
     ]
    }
   ],
   "source": [
    "\n",
    "%%time\n",
    "\n",
    "#función del modelo:\n",
    "logit_model = LogisticRegression(random_state = 40,\n",
    "                                 solver = \"saga\",\n",
    "                                 penalty = \"l1\", \n",
    "                                 class_weight = \"balanced\", \n",
    "                                 C = 1.0, \n",
    "                                 max_iter = 500)\n",
    "\n",
    "# entrenamos el modelo con los datos train\n",
    "logit_model.fit(X_train, Y_train)\n",
    "\n",
    "\n",
    "#predecimos los datos de 'target' para los datos TEST\n",
    "pred_logit = logit_model.predict(X_test)"
   ]
  },
  {
   "cell_type": "markdown",
   "metadata": {},
   "source": [
    "### Matriz de Confusión:\n",
    "La matriz de confusión de un problema de clase n es una matríz nxnen la que las filas se nombran según las clases reales y las columnas, según las clases previstas por el modelo. Sirve para mostrar de forma explícita cuándo una clase es confundida con otra\n",
    "\n",
    "__Accuracy:__ Es el porcentaje total de elementos clasificados correctamente."
   ]
  },
  {
   "cell_type": "code",
   "execution_count": 16,
   "metadata": {},
   "outputs": [],
   "source": [
    "# Función de la matriz de confusion:\n",
    "\n",
    "def conf_matrix(Y_test, Y_pred): # va a comparar los resultados de las predicciones de la variable target vs la real del testset\n",
    "    cnf_matrix_tra = confusion_matrix(Y_test, Y_pred)\n",
    "    conf_plot = sns.heatmap(cnf_matrix_tra, annot=True, cmap='Blues', fmt='g')\n",
    "    bottom, top = conf_plot.get_ylim()\n",
    "    conf_plot.set_ylim(bottom + 0.5, top - 0.5)\n",
    "    conf_plot.set_title(\"Confusion matrix, without normalization\")\n",
    "    conf_plot.set_ylabel('True Label')\n",
    "    conf_plot.set_xlabel('Predicted Label');"
   ]
  },
  {
   "cell_type": "code",
   "execution_count": 17,
   "metadata": {},
   "outputs": [
    {
     "name": "stdout",
     "output_type": "stream",
     "text": [
      "              precision    recall  f1-score   support\n",
      "\n",
      "         0.0       0.96      0.90      0.93     69140\n",
      "         1.0       0.74      0.88      0.81     23299\n",
      "\n",
      "    accuracy                           0.89     92439\n",
      "   macro avg       0.85      0.89      0.87     92439\n",
      "weighted avg       0.90      0.89      0.90     92439\n",
      "\n"
     ]
    },
    {
     "data": {
      "image/png": "[encoded data removed]",
      "text/plain": [
       "<Figure size 432x288 with 2 Axes>"
      ]
     },
     "metadata": {
      "needs_background": "light"
     },
     "output_type": "display_data"
    }
   ],
   "source": [
    "pred_logit = logit_model.predict(X_test)\n",
    "conf_matrix(Y_test, pred_logit)\n",
    "print(classification_report(Y_test, pred_logit))"
   ]
  },
  {
   "cell_type": "markdown",
   "metadata": {},
   "source": [
    "### Curva ROC:\n",
    "\n",
    "Una curva ROC (curva de característica operativa del recepto) es un gráfico que muestra el rendimiento de un modelo de clasificación en todos los umbrales de clasificación. Esta curva representa dos parámetros:\n",
    " - Tasa de verdaderos positivos\n",
    " - Tasa de falsos positivos\n",
    " \n",
    "__El AUC__ proporciona una medición agregada del rendimiento en todos los umbrales de clasificación posibles. Una forma de interpretar el AUC es como la probabilidad de que el modelo clasifique un ejemplo positivo aleatorio más alto que un ejemplo negativo aleatorio."
   ]
  },
  {
   "cell_type": "code",
   "execution_count": 16,
   "metadata": {},
   "outputs": [
    {
     "data": {
      "image/png": "[encoded data removed]",
      "text/plain": [
       "<Figure size 432x288 with 1 Axes>"
      ]
     },
     "metadata": {
      "needs_background": "light"
     },
     "output_type": "display_data"
    },
    {
     "name": "stdout",
     "output_type": "stream",
     "text": [
      "Logistic Regression score train:  0.8938107987966878\n",
      "Logistic Regression score:  0.8928482566881943\n"
     ]
    }
   ],
   "source": [
    "metrics.plot_roc_curve(logit_model, X_test, Y_test)                             # CURVA ROC\n",
    "plt.show()                     \n",
    "print(\"Logistic Regression score train: \", logit_model.score(X_train, Y_train)) # score train\n",
    "print(\"Logistic Regression score: \", logit_model.score(X_test, Y_test))         # score test"
   ]
  },
  {
   "cell_type": "markdown",
   "metadata": {},
   "source": [
    "__Guardamos el modelo entrenado para poder volver a utilizarlo más adelante y que ya esté entrenado:__"
   ]
  },
  {
   "cell_type": "code",
   "execution_count": 17,
   "metadata": {},
   "outputs": [],
   "source": [
    "# función para guardar el modelo\n",
    "def save_models(filename, model):\n",
    "    with open(filename, 'wb') as file:\n",
    "        pickle.dump(model, file)"
   ]
  },
  {
   "cell_type": "code",
   "execution_count": 18,
   "metadata": {},
   "outputs": [],
   "source": [
    "save_models('../data/04_models/logit_model.pkl', logit_model) # ruta y modelo guradado IMP .plk"
   ]
  },
  {
   "cell_type": "markdown",
   "metadata": {},
   "source": [
    "### Referencias:\n",
    "\n",
    "- https://empresas.blogthinkbig.com/ml-a-tu-alcance-matriz-confusion/\n",
    "- https://www.juanbarrios.com/la-matriz-de-confusion-y-sus-metricas/\n",
    "- https://stackoverflow.com/questions/2148543/how-to-write-a-confusion-matrix-in-python\n",
    "- https://machinelearningmastery.com/roc-curves-and-precision-recall-curves-for-classification-in-python/\n",
    "- https://towardsdatascience.com/building-a-logistic-regression-in-python-step-by-step-becd4d56c9c8"
   ]
  }
 ],
 "metadata": {
  "kernelspec": {
   "display_name": "lending_club_env",
   "language": "python",
   "name": "lending_club_env"
  },
  "language_info": {
   "codemirror_mode": {
    "name": "ipython",
    "version": 3
   },
   "file_extension": ".py",
   "mimetype": "text/x-python",
   "name": "python",
   "nbconvert_exporter": "python",
   "pygments_lexer": "ipython3",
   "version": "3.8.5"
  }
 },
 "nbformat": 4,
 "nbformat_minor": 4
}
