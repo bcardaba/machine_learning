{
 "cells": [
  {
   "cell_type": "markdown",
   "metadata": {},
   "source": [
    "# Train-Test Set  & Null Model\n",
    "\n",
    "En este notebook vamos a crear los data sets correspondientes a train y a test. Además se va a entrenar el modelo nulo para tener una primera visión del caso de estudio.\n",
    "\n",
    "- Libraries Import\n",
    "- Data Import\n",
    "- Data Scale\n",
    "- Train & Test set\n",
    "- Balance set\n",
    "- __NULL MODEL__\n",
    "    - Function \n",
    "    - Training\n",
    "    - Confussion Matrix\n",
    "    - Accuracy\n",
    "    - ROC Curve\n",
    "- References\n",
    "__Importamos todas las librerías que se van a utilizar en este notebook:__"
   ]
  },
  {
   "cell_type": "code",
   "execution_count": 6,
   "metadata": {},
   "outputs": [],
   "source": [
    "import numpy as np\n",
    "import pandas as pd\n",
    "import matplotlib\n",
    "from matplotlib import pyplot as plt # plots\n",
    "import seaborn as sns # plots\n",
    "from sklearn.ensemble import IsolationForest\n",
    "from sklearn import preprocessing \n",
    "from sklearn.linear_model import Lasso, LassoCV\n",
    "import pickle\n",
    "from sklearn.preprocessing import MinMaxScaler\n",
    "from sklearn.model_selection import train_test_split\n",
    "from imblearn.over_sampling import SMOTE\n",
    "from sklearn.dummy import DummyClassifier\n",
    "from sklearn.linear_model import LogisticRegression # Log Regression\n",
    "from sklearn.metrics import classification_report, confusion_matrix \n",
    "\n",
    "from sklearn import datasets, metrics, model_selection\n"
   ]
  },
  {
   "cell_type": "markdown",
   "metadata": {},
   "source": [
    "__Importamos los datos:__"
   ]
  },
  {
   "cell_type": "code",
   "execution_count": 7,
   "metadata": {},
   "outputs": [],
   "source": [
    "path = ('../data/03_processed/final_df.csv')\n",
    "final_df = pd.read_csv(path)"
   ]
  },
  {
   "cell_type": "markdown",
   "metadata": {},
   "source": [
    "__Escalamos los datos:__"
   ]
  },
  {
   "cell_type": "code",
   "execution_count": 8,
   "metadata": {},
   "outputs": [
    {
     "data": {
      "text/html": [
       "<div>\n",
       "<style scoped>\n",
       "    .dataframe tbody tr th:only-of-type {\n",
       "        vertical-align: middle;\n",
       "    }\n",
       "\n",
       "    .dataframe tbody tr th {\n",
       "        vertical-align: top;\n",
       "    }\n",
       "\n",
       "    .dataframe thead th {\n",
       "        text-align: right;\n",
       "    }\n",
       "</style>\n",
       "<table border=\"1\" class=\"dataframe\">\n",
       "  <thead>\n",
       "    <tr style=\"text-align: right;\">\n",
       "      <th></th>\n",
       "      <th>Unnamed: 0</th>\n",
       "      <th>num_sats</th>\n",
       "      <th>home_ownership_RENT</th>\n",
       "      <th>mo_sin_rcnt_rev_tl_op</th>\n",
       "      <th>funded_amnt_inv</th>\n",
       "      <th>open_rv_12m</th>\n",
       "      <th>num_rev_tl_bal_gt_0</th>\n",
       "      <th>acc_open_past_24mths</th>\n",
       "      <th>total_cu_tl</th>\n",
       "      <th>open_acc</th>\n",
       "      <th>...</th>\n",
       "      <th>home_ownership_OWN</th>\n",
       "      <th>mths_since_recent_revol_delinq</th>\n",
       "      <th>total_rev_hi_lim</th>\n",
       "      <th>mths_since_rcnt_il</th>\n",
       "      <th>delinq_amnt</th>\n",
       "      <th>application_type_Joint App</th>\n",
       "      <th>purpose_housing</th>\n",
       "      <th>total_il_high_credit_limit</th>\n",
       "      <th>open_il_12m</th>\n",
       "      <th>target</th>\n",
       "    </tr>\n",
       "  </thead>\n",
       "  <tbody>\n",
       "    <tr>\n",
       "      <th>0</th>\n",
       "      <td>0.000000</td>\n",
       "      <td>0.222222</td>\n",
       "      <td>0.0</td>\n",
       "      <td>0.008065</td>\n",
       "      <td>0.273018</td>\n",
       "      <td>0.095238</td>\n",
       "      <td>0.200000</td>\n",
       "      <td>0.125000</td>\n",
       "      <td>0.088235</td>\n",
       "      <td>0.222222</td>\n",
       "      <td>...</td>\n",
       "      <td>1.0</td>\n",
       "      <td>1.0</td>\n",
       "      <td>0.00376</td>\n",
       "      <td>0.079882</td>\n",
       "      <td>0.0</td>\n",
       "      <td>0.0</td>\n",
       "      <td>0.0</td>\n",
       "      <td>0.057363</td>\n",
       "      <td>0.000000</td>\n",
       "      <td>0.0</td>\n",
       "    </tr>\n",
       "    <tr>\n",
       "      <th>1</th>\n",
       "      <td>0.000002</td>\n",
       "      <td>0.044444</td>\n",
       "      <td>1.0</td>\n",
       "      <td>0.037634</td>\n",
       "      <td>0.161125</td>\n",
       "      <td>0.000000</td>\n",
       "      <td>0.044444</td>\n",
       "      <td>0.031250</td>\n",
       "      <td>0.000000</td>\n",
       "      <td>0.044444</td>\n",
       "      <td>...</td>\n",
       "      <td>0.0</td>\n",
       "      <td>1.0</td>\n",
       "      <td>0.00036</td>\n",
       "      <td>0.062130</td>\n",
       "      <td>0.0</td>\n",
       "      <td>0.0</td>\n",
       "      <td>0.0</td>\n",
       "      <td>0.001903</td>\n",
       "      <td>0.000000</td>\n",
       "      <td>0.0</td>\n",
       "    </tr>\n",
       "    <tr>\n",
       "      <th>2</th>\n",
       "      <td>0.000004</td>\n",
       "      <td>0.211111</td>\n",
       "      <td>0.0</td>\n",
       "      <td>0.008065</td>\n",
       "      <td>0.168798</td>\n",
       "      <td>0.047619</td>\n",
       "      <td>0.244444</td>\n",
       "      <td>0.203125</td>\n",
       "      <td>0.117647</td>\n",
       "      <td>0.211111</td>\n",
       "      <td>...</td>\n",
       "      <td>0.0</td>\n",
       "      <td>1.0</td>\n",
       "      <td>0.00857</td>\n",
       "      <td>0.020710</td>\n",
       "      <td>0.0</td>\n",
       "      <td>0.0</td>\n",
       "      <td>0.0</td>\n",
       "      <td>0.015338</td>\n",
       "      <td>0.083333</td>\n",
       "      <td>0.0</td>\n",
       "    </tr>\n",
       "    <tr>\n",
       "      <th>3</th>\n",
       "      <td>0.000006</td>\n",
       "      <td>0.166667</td>\n",
       "      <td>1.0</td>\n",
       "      <td>0.016129</td>\n",
       "      <td>0.232737</td>\n",
       "      <td>0.095238</td>\n",
       "      <td>0.155556</td>\n",
       "      <td>0.109375</td>\n",
       "      <td>0.000000</td>\n",
       "      <td>0.166667</td>\n",
       "      <td>...</td>\n",
       "      <td>0.0</td>\n",
       "      <td>1.0</td>\n",
       "      <td>0.00287</td>\n",
       "      <td>0.026627</td>\n",
       "      <td>0.0</td>\n",
       "      <td>0.0</td>\n",
       "      <td>0.0</td>\n",
       "      <td>0.002617</td>\n",
       "      <td>0.083333</td>\n",
       "      <td>0.0</td>\n",
       "    </tr>\n",
       "    <tr>\n",
       "      <th>4</th>\n",
       "      <td>0.000009</td>\n",
       "      <td>0.044444</td>\n",
       "      <td>0.0</td>\n",
       "      <td>0.013441</td>\n",
       "      <td>0.335038</td>\n",
       "      <td>0.095238</td>\n",
       "      <td>0.022222</td>\n",
       "      <td>0.078125</td>\n",
       "      <td>0.000000</td>\n",
       "      <td>0.044444</td>\n",
       "      <td>...</td>\n",
       "      <td>0.0</td>\n",
       "      <td>1.0</td>\n",
       "      <td>0.00030</td>\n",
       "      <td>0.020710</td>\n",
       "      <td>0.0</td>\n",
       "      <td>0.0</td>\n",
       "      <td>0.0</td>\n",
       "      <td>0.014425</td>\n",
       "      <td>0.083333</td>\n",
       "      <td>0.0</td>\n",
       "    </tr>\n",
       "  </tbody>\n",
       "</table>\n",
       "<p>5 rows × 46 columns</p>\n",
       "</div>"
      ],
      "text/plain": [
       "   Unnamed: 0  num_sats  home_ownership_RENT  mo_sin_rcnt_rev_tl_op  \\\n",
       "0    0.000000  0.222222                  0.0               0.008065   \n",
       "1    0.000002  0.044444                  1.0               0.037634   \n",
       "2    0.000004  0.211111                  0.0               0.008065   \n",
       "3    0.000006  0.166667                  1.0               0.016129   \n",
       "4    0.000009  0.044444                  0.0               0.013441   \n",
       "\n",
       "   funded_amnt_inv  open_rv_12m  num_rev_tl_bal_gt_0  acc_open_past_24mths  \\\n",
       "0         0.273018     0.095238             0.200000              0.125000   \n",
       "1         0.161125     0.000000             0.044444              0.031250   \n",
       "2         0.168798     0.047619             0.244444              0.203125   \n",
       "3         0.232737     0.095238             0.155556              0.109375   \n",
       "4         0.335038     0.095238             0.022222              0.078125   \n",
       "\n",
       "   total_cu_tl  open_acc  ...  home_ownership_OWN  \\\n",
       "0     0.088235  0.222222  ...                 1.0   \n",
       "1     0.000000  0.044444  ...                 0.0   \n",
       "2     0.117647  0.211111  ...                 0.0   \n",
       "3     0.000000  0.166667  ...                 0.0   \n",
       "4     0.000000  0.044444  ...                 0.0   \n",
       "\n",
       "   mths_since_recent_revol_delinq  total_rev_hi_lim  mths_since_rcnt_il  \\\n",
       "0                             1.0           0.00376            0.079882   \n",
       "1                             1.0           0.00036            0.062130   \n",
       "2                             1.0           0.00857            0.020710   \n",
       "3                             1.0           0.00287            0.026627   \n",
       "4                             1.0           0.00030            0.020710   \n",
       "\n",
       "   delinq_amnt  application_type_Joint App  purpose_housing  \\\n",
       "0          0.0                         0.0              0.0   \n",
       "1          0.0                         0.0              0.0   \n",
       "2          0.0                         0.0              0.0   \n",
       "3          0.0                         0.0              0.0   \n",
       "4          0.0                         0.0              0.0   \n",
       "\n",
       "   total_il_high_credit_limit  open_il_12m  target  \n",
       "0                    0.057363     0.000000     0.0  \n",
       "1                    0.001903     0.000000     0.0  \n",
       "2                    0.015338     0.083333     0.0  \n",
       "3                    0.002617     0.083333     0.0  \n",
       "4                    0.014425     0.083333     0.0  \n",
       "\n",
       "[5 rows x 46 columns]"
      ]
     },
     "execution_count": 8,
     "metadata": {},
     "output_type": "execute_result"
    }
   ],
   "source": [
    "scaler = MinMaxScaler()  # escalamos los datos                                     \n",
    "df_scaled = pd.DataFrame(scaler.fit_transform(final_df), columns = final_df.columns) # trasformamos a df los datos escalados\n",
    "df_scaled.head()"
   ]
  },
  {
   "cell_type": "markdown",
   "metadata": {},
   "source": [
    "Eliminamos la primera fila importada"
   ]
  },
  {
   "cell_type": "code",
   "execution_count": 9,
   "metadata": {},
   "outputs": [],
   "source": [
    "del df_scaled['Unnamed: 0'] # eliminamos la primera columna que se ha añadido"
   ]
  },
  {
   "cell_type": "code",
   "execution_count": 10,
   "metadata": {},
   "outputs": [],
   "source": [
    "df_scaled = df_scaled.loc[:, ['num_tl_30dpd',\n",
    " 'tot_hi_cred_lim',\n",
    " 'revol_bal',\n",
    " 'purpose_debt_consolidation',\n",
    " 'home_ownership_ANY',\n",
    " 'max_bal_bc',\n",
    " 'total_cu_tl',\n",
    " 'open_rv_24m',\n",
    " 'num_tl_120dpd_2m',\n",
    " 'open_il_12m',\n",
    " 'mo_sin_rcnt_rev_tl_op',\n",
    " 'num_il_tl',\n",
    " 'id',\n",
    " 'dti',\n",
    " 'num_tl_90g_dpd_24m',\n",
    " 'funded_amnt',\n",
    " 'purpose_credit_card',\n",
    " 'open_acc_6m',\n",
    " 'inq_last_6mths',\n",
    " 'application_type_Joint App',\n",
    " 'mort_acc',\n",
    " 'policy_code',\n",
    " 'percent_bc_gt_75',\n",
    " 'mths_since_recent_bc_dlq',\n",
    " 'term_ 60 months',\n",
    " 'mths_since_recent_bc',\n",
    " 'num_accts_ever_120_pd',\n",
    " 'last_fico_range_low',\n",
    " 'purpose_medical',\n",
    " 'installment',\n",
    " 'collections_12_mths_ex_med',\n",
    " 'open_il_24m',\n",
    " 'fico_range_high',\n",
    " 'verification_status_Verified',\n",
    " 'purpose_housing',\n",
    " 'mths_since_recent_revol_delinq',\n",
    " 'total_bal_ex_mort',\n",
    " 'num_sats',\n",
    " 'home_ownership_MORTGAGE',\n",
    " 'mths_since_last_record',\n",
    " 'pub_rec',\n",
    " 'delinq_amnt',\n",
    " 'num_bc_tl',\n",
    " 'mths_since_rcnt_il',\n",
    " 'target']]"
   ]
  },
  {
   "cell_type": "markdown",
   "metadata": {},
   "source": [
    "Nombramos y seleccionamos las variables predictoras y la variable target:"
   ]
  },
  {
   "cell_type": "code",
   "execution_count": 5,
   "metadata": {},
   "outputs": [],
   "source": [
    "predictiveVariables = df_scaled.loc[:, df_scaled.columns != 'target'] #serán todas menos la varoables target\n",
    "\n",
    "target = df_scaled['target']                                          # es la variable 'target' de la bbdd importada"
   ]
  },
  {
   "cell_type": "markdown",
   "metadata": {},
   "source": [
    "Para hacer la regresión logística y el resto de los modelos tenemos que dividir el conjunto de datos en dos partes, train y test.\n",
    "Del EDA sabemos que el conjunto de datos está desequilibrado, tenemos casos casos de no default y unos pocos casos de default en comparación. Para resolver ese problema, aplicaremos un método de sobremuestreo llamado Smote. La función Smote crea muestras sintéticas de la clase minoritaria haciendo que la clase minoritaria sea igual a la mayoritaria. Para ello, Smote selecciona registros similares.\n",
    "\n",
    "__Creación de Train & Test Set y se balancea la muestra__"
   ]
  },
  {
   "cell_type": "code",
   "execution_count": 7,
   "metadata": {},
   "outputs": [
    {
     "name": "stdout",
     "output_type": "stream",
     "text": [
      "(386932, 44)\n",
      "(92439, 44)\n",
      "(386932,)\n",
      "(92439,)\n",
      "Wall time: 4min 25s\n"
     ]
    }
   ],
   "source": [
    "%%time\n",
    "\n",
    "# Separamos en train y test\n",
    "X_train, X_test, Y_train, Y_test = train_test_split(predictiveVariables, target, test_size=0.20, random_state=1)\n",
    "\n",
    "# Utilizamos smote para igular la muestra \n",
    "sm = SMOTE(random_state=1,sampling_strategy = 0.4)\n",
    "\n",
    "# solo se realiza smote sobre la parte train set\n",
    "X_train, Y_train = sm.fit_sample(X_train, Y_train) \n",
    "\n",
    "\n",
    "print(X_train.shape); print(X_test.shape); print(Y_train.shape); print(Y_test.shape)"
   ]
  },
  {
   "cell_type": "markdown",
   "metadata": {},
   "source": [
    "Comprobamos que los datos de las variables predictoras y las variables predictoras son iguales"
   ]
  },
  {
   "cell_type": "markdown",
   "metadata": {},
   "source": [
    "__Pasamos los datos a la carpeta de los datos procesados para utilizar lso mismos datos en todos los modelos:__"
   ]
  },
  {
   "cell_type": "code",
   "execution_count": 8,
   "metadata": {},
   "outputs": [],
   "source": [
    "X_train.to_csv('../data/03_processed/x_train.csv')"
   ]
  },
  {
   "cell_type": "code",
   "execution_count": 9,
   "metadata": {},
   "outputs": [],
   "source": [
    "X_test.to_csv('../data/03_processed/x_test.csv')"
   ]
  },
  {
   "cell_type": "code",
   "execution_count": 10,
   "metadata": {},
   "outputs": [],
   "source": [
    "Y_train.to_csv('../data/03_processed/y_train.csv')"
   ]
  },
  {
   "cell_type": "code",
   "execution_count": 11,
   "metadata": {},
   "outputs": [],
   "source": [
    "Y_test.to_csv('../data/03_processed/y_test.csv')"
   ]
  },
  {
   "cell_type": "markdown",
   "metadata": {},
   "source": [
    "Comprobamos que ahora están repartidos de igual manera las dos opciones de la variable target"
   ]
  },
  {
   "cell_type": "code",
   "execution_count": 12,
   "metadata": {},
   "outputs": [],
   "source": [
    "ytrain_df = pd.DataFrame(Y_train, columns = ['target'])\n",
    "ytest_df = pd.DataFrame(Y_test, columns = ['target'])"
   ]
  },
  {
   "cell_type": "code",
   "execution_count": 13,
   "metadata": {},
   "outputs": [
    {
     "data": {
      "text/plain": [
       "0.0    0.714286\n",
       "1.0    0.285714\n",
       "Name: target, dtype: float64"
      ]
     },
     "execution_count": 13,
     "metadata": {},
     "output_type": "execute_result"
    }
   ],
   "source": [
    "ytrain_df['target'].value_counts(normalize=True)"
   ]
  },
  {
   "cell_type": "markdown",
   "metadata": {},
   "source": [
    "La funcionado la función SMOTE y haya  cantidad de muestras 1 en la variable target."
   ]
  },
  {
   "cell_type": "code",
   "execution_count": 14,
   "metadata": {},
   "outputs": [
    {
     "data": {
      "text/plain": [
       "0.0    0.747953\n",
       "1.0    0.252047\n",
       "Name: target, dtype: float64"
      ]
     },
     "execution_count": 14,
     "metadata": {},
     "output_type": "execute_result"
    }
   ],
   "source": [
    "ytest_df['target'].value_counts(normalize=True)"
   ]
  },
  {
   "cell_type": "markdown",
   "metadata": {},
   "source": [
    "## Modelo Nulo:\n",
    "\n",
    "Este es el modelo más secillo, que simplemente devolverá el valor más probable para cada observación. en este caso vemos que el valor más probable para la variable target es: 0"
   ]
  },
  {
   "cell_type": "code",
   "execution_count": 21,
   "metadata": {},
   "outputs": [
    {
     "data": {
      "text/plain": [
       "DummyClassifier(random_state=123, strategy='most_frequent')"
      ]
     },
     "execution_count": 21,
     "metadata": {},
     "output_type": "execute_result"
    }
   ],
   "source": [
    "# función del modelo\n",
    "null_model = DummyClassifier(strategy = 'most_frequent', random_state = 123)\n",
    "\n",
    "# Entrenamiento del modelo con dataset TRAIN\n",
    "null_model.fit(X_train, Y_train) "
   ]
  },
  {
   "cell_type": "markdown",
   "metadata": {},
   "source": [
    "__Matriz de Confusión & Accuracy:__\n",
    "\n",
    "Primero definimos una función para crear la matriz de confusión, que nos será útil para el resto de modelos"
   ]
  },
  {
   "cell_type": "code",
   "execution_count": 28,
   "metadata": {},
   "outputs": [
    {
     "data": {
      "text/plain": [
       "0.7479527039453044"
      ]
     },
     "execution_count": 28,
     "metadata": {},
     "output_type": "execute_result"
    }
   ],
   "source": [
    "dummy_accuracy = null_model.score(X_test, Y_test)\n",
    "dummy_accuracy "
   ]
  },
  {
   "cell_type": "markdown",
   "metadata": {},
   "source": [
    "Observamos que la accuracy del modelo devuelve el mismo porcentaje que el de valores 1 de target. Esto es porque ha predecido correctamente todos estos valores, pero sin embargo a los valores 1 tammbién los ha predecido con 0."
   ]
  },
  {
   "cell_type": "markdown",
   "metadata": {},
   "source": [
    "### Curva ROC:\n",
    "\n",
    "Una curva ROC (curva de característica operativa del recepto) es un gráfico que muestra el rendimiento de un modelo de clasificación en todos los umbrales de clasificación. Esta curva representa dos parámetros:\n",
    " - Tasa de verdaderos positivos\n",
    " - Tasa de falsos positivos\n",
    " \n",
    "__El AUC__ proporciona una medición agregada del rendimiento en todos los umbrales de clasificación posibles. Una forma de interpretar el AUC es como la probabilidad de que el modelo clasifique un ejemplo positivo aleatorio más alto que un ejemplo negativo aleatorio."
   ]
  },
  {
   "cell_type": "code",
   "execution_count": 29,
   "metadata": {},
   "outputs": [
    {
     "data": {
      "image/png": "[encoded data removed]",
      "text/plain": [
       "<Figure size 432x288 with 1 Axes>"
      ]
     },
     "metadata": {
      "needs_background": "light"
     },
     "output_type": "display_data"
    },
    {
     "name": "stdout",
     "output_type": "stream",
     "text": [
      "Logistic Regression score train:  0.7142857142857143\n",
      "Logistic Regression score:  0.7479527039453044\n"
     ]
    }
   ],
   "source": [
    "metrics.plot_roc_curve(null_model, X_test, Y_test)                             # CURVA ROC\n",
    "plt.show()                     \n",
    "print(\"Logistic Regression score train: \", null_model.score(X_train, Y_train)) # score train\n",
    "print(\"Logistic Regression score: \", null_model.score(X_test, Y_test))         # score test"
   ]
  },
  {
   "cell_type": "markdown",
   "metadata": {},
   "source": [
    "Con esta curva roc observamos que la capacidad discriminatoria del modelo es arbitraria, ya que al asignar el valor de la variabe target más frecuente idistintamente la capacidad discriminatoria del modelo es del 50%."
   ]
  },
  {
   "cell_type": "markdown",
   "metadata": {},
   "source": [
    "__Guardamos el modelo entrenado para poder volver a utilizarlo más adelante y que ya esté entrenado:__"
   ]
  },
  {
   "cell_type": "code",
   "execution_count": 30,
   "metadata": {},
   "outputs": [],
   "source": [
    "def save_models(filename, model):\n",
    "    with open(filename, 'wb') as file:\n",
    "        pickle.dump(model, file)"
   ]
  },
  {
   "cell_type": "code",
   "execution_count": 32,
   "metadata": {},
   "outputs": [],
   "source": [
    "save_models('../data/04_models/null_model.pkl', null_model)"
   ]
  },
  {
   "cell_type": "markdown",
   "metadata": {},
   "source": [
    "### Referencias\n",
    "\n",
    "- https://towardsdatascience.com/hypothesis-testing-in-machine-learning-using-python-a0dc89e169ce\n",
    "- https://machinelearningmastery.com/naive-bayes-for-machine-learning/\n",
    "- https://machinelearningmastery.com/smote-oversampling-for-imbalanced-classification/\n",
    "- https://imbalanced-learn.readthedocs.io/en/stable/generated/imblearn.over_sampling.SMOTE.html\n",
    "- https://developers.google.com/machine-learning/crash-course/classification/roc-and-auc?hl=es-419\n",
    "\n",
    "\n"
   ]
  }
 ],
 "metadata": {
  "kernelspec": {
   "display_name": "lending_club_env",
   "language": "python",
   "name": "lending_club_env"
  },
  "language_info": {
   "codemirror_mode": {
    "name": "ipython",
    "version": 3
   },
   "file_extension": ".py",
   "mimetype": "text/x-python",
   "name": "python",
   "nbconvert_exporter": "python",
   "pygments_lexer": "ipython3",
   "version": "3.8.5"
  }
 },
 "nbformat": 4,
 "nbformat_minor": 4
}
