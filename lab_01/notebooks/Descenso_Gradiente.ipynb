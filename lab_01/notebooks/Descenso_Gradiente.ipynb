{
 "cells": [
  {
   "cell_type": "markdown",
   "metadata": {},
   "source": [
    "\n",
    "# Regresión logística y descenso del gradiente en Python\n",
    "### Beatriz Cárdaba Rico\n",
    "#### 12/11/2020"
   ]
  },
  {
   "cell_type": "markdown",
   "metadata": {},
   "source": [
    "__Objetivo: Programar el descenso del gradiente en Python en base al archivo de datos facilitado en clase. Explicar el notebook con el máximo grado de detalle para trabajar en el entendimiento del algoritmo.__\n",
    "\n",
    "En el presente notebook se implementarán diferentes algoritmos que nos permitirán el cálculo y la visualización del descenso del gradiente, en este caso se está realizado con el data set \"4_1_data\" aunque será sencillo realizar los cambios para calcular el descenso del gradiente de cualquier otro data set.\n",
    "También, los algoritmos están preparados para cambiar fácilmente la tasa de aprendizaje y el número máximo de iteraciones que queremos establecer.\n"
   ]
  },
  {
   "cell_type": "markdown",
   "metadata": {},
   "source": [
    "### Índice:\n",
    "- Importar librerías y datos.\n",
    "    - Importar librerías\n",
    "    - Importar data set\n",
    "- EDA\n",
    "    - Descripción de datos\n",
    "    - Tranformaciones y organización de datos\n",
    "    - Visualización de datos.\n",
    "- Descenso del Gradiente\n",
    "    - Normalización de las variables predictivas.\n",
    "    - Creación de coeficientes iniciales aleatorios.\n",
    "    - Establecemos la función sigmoide para $\\hat{y}$.\n",
    "    - Función de Costes.\n",
    "    - Redefinimos los Betas.\n",
    "    - Código DESCENSO GRADIENTE\n",
    "    - Visualización gáfica\n",
    "- Referencias"
   ]
  },
  {
   "cell_type": "markdown",
   "metadata": {},
   "source": [
    "## Importar libreías y datos:\n",
    "\n",
    "### Importar librerías: \n",
    "En esta ocasión solo vamos a utilizar las librías pandas, matplot para las visualizaciones y random para gener datos aleatorios para los coeficientes."
   ]
  },
  {
   "cell_type": "code",
   "execution_count": 3,
   "metadata": {},
   "outputs": [],
   "source": [
    "#Load required libraries\n",
    "import numpy as np # linear algebra\n",
    "import pandas as pd\n",
    "import matplotlib.pyplot as plt\n",
    "import random"
   ]
  },
  {
   "cell_type": "markdown",
   "metadata": {},
   "source": [
    "### Importar Data Set Utilizado\n",
    "En este caso imporamos el data set indicado:"
   ]
  },
  {
   "cell_type": "code",
   "execution_count": 4,
   "metadata": {},
   "outputs": [],
   "source": [
    "# importamos dataset\n",
    "data = pd.read_csv('../../lab_01/data/01_raw/4_1_data.csv')"
   ]
  },
  {
   "cell_type": "markdown",
   "metadata": {},
   "source": [
    "Visualizamos que los datos se han cargado correctamente"
   ]
  },
  {
   "cell_type": "code",
   "execution_count": 5,
   "metadata": {},
   "outputs": [
    {
     "data": {
      "text/html": [
       "<div>\n",
       "<style scoped>\n",
       "    .dataframe tbody tr th:only-of-type {\n",
       "        vertical-align: middle;\n",
       "    }\n",
       "\n",
       "    .dataframe tbody tr th {\n",
       "        vertical-align: top;\n",
       "    }\n",
       "\n",
       "    .dataframe thead th {\n",
       "        text-align: right;\n",
       "    }\n",
       "</style>\n",
       "<table border=\"1\" class=\"dataframe\">\n",
       "  <thead>\n",
       "    <tr style=\"text-align: right;\">\n",
       "      <th></th>\n",
       "      <th>score-1</th>\n",
       "      <th>score-2</th>\n",
       "      <th>label</th>\n",
       "    </tr>\n",
       "  </thead>\n",
       "  <tbody>\n",
       "    <tr>\n",
       "      <th>0</th>\n",
       "      <td>34.623660</td>\n",
       "      <td>78.024693</td>\n",
       "      <td>0</td>\n",
       "    </tr>\n",
       "    <tr>\n",
       "      <th>1</th>\n",
       "      <td>30.286711</td>\n",
       "      <td>43.894998</td>\n",
       "      <td>0</td>\n",
       "    </tr>\n",
       "    <tr>\n",
       "      <th>2</th>\n",
       "      <td>35.847409</td>\n",
       "      <td>72.902198</td>\n",
       "      <td>0</td>\n",
       "    </tr>\n",
       "    <tr>\n",
       "      <th>3</th>\n",
       "      <td>60.182599</td>\n",
       "      <td>86.308552</td>\n",
       "      <td>1</td>\n",
       "    </tr>\n",
       "    <tr>\n",
       "      <th>4</th>\n",
       "      <td>79.032736</td>\n",
       "      <td>75.344376</td>\n",
       "      <td>1</td>\n",
       "    </tr>\n",
       "  </tbody>\n",
       "</table>\n",
       "</div>"
      ],
      "text/plain": [
       "     score-1    score-2  label\n",
       "0  34.623660  78.024693      0\n",
       "1  30.286711  43.894998      0\n",
       "2  35.847409  72.902198      0\n",
       "3  60.182599  86.308552      1\n",
       "4  79.032736  75.344376      1"
      ]
     },
     "execution_count": 5,
     "metadata": {},
     "output_type": "execute_result"
    }
   ],
   "source": [
    "data.head(5) # visualizamos las 5 primeras filas de la tabla"
   ]
  },
  {
   "cell_type": "markdown",
   "metadata": {},
   "source": [
    "Suponga que usted es un administrador de una universidad y quiere saber la posibilidad de admisión de cada solicitante en base a sus resultados en dos exámenes. Tiene datos históricos de candidatos anteriores que pueden ser utilizados como datos de formación para la regresión logística. Hay que construir un modelo de clasificación que estime la probabilidad de admisión de cada solicitante en la universidad.\n",
    "\n",
    "En los datos tenemos registros de la puntuación de los dos exámenes de los solicitantes, score-1 y score-2, e identifican si el solicitante obtuvo la admisión o no (1 - si obtuvo la admisión 0 - en caso contrario).\n"
   ]
  },
  {
   "cell_type": "markdown",
   "metadata": {},
   "source": [
    "## EDA\n",
    "\n",
    "Se realiza un análisis exploratorio de los datos para ver sus caraterísticas:"
   ]
  },
  {
   "cell_type": "code",
   "execution_count": 6,
   "metadata": {},
   "outputs": [
    {
     "data": {
      "text/plain": [
       "(100, 3)"
      ]
     },
     "execution_count": 6,
     "metadata": {},
     "output_type": "execute_result"
    }
   ],
   "source": [
    "data.shape "
   ]
  },
  {
   "cell_type": "markdown",
   "metadata": {},
   "source": [
    "El data set cuenta con 100 filas y tres columnas"
   ]
  },
  {
   "cell_type": "code",
   "execution_count": 7,
   "metadata": {},
   "outputs": [
    {
     "data": {
      "text/html": [
       "<div>\n",
       "<style scoped>\n",
       "    .dataframe tbody tr th:only-of-type {\n",
       "        vertical-align: middle;\n",
       "    }\n",
       "\n",
       "    .dataframe tbody tr th {\n",
       "        vertical-align: top;\n",
       "    }\n",
       "\n",
       "    .dataframe thead th {\n",
       "        text-align: right;\n",
       "    }\n",
       "</style>\n",
       "<table border=\"1\" class=\"dataframe\">\n",
       "  <thead>\n",
       "    <tr style=\"text-align: right;\">\n",
       "      <th></th>\n",
       "      <th>score-1</th>\n",
       "      <th>score-2</th>\n",
       "      <th>label</th>\n",
       "    </tr>\n",
       "  </thead>\n",
       "  <tbody>\n",
       "    <tr>\n",
       "      <th>count</th>\n",
       "      <td>100.000000</td>\n",
       "      <td>100.000000</td>\n",
       "      <td>100.000000</td>\n",
       "    </tr>\n",
       "    <tr>\n",
       "      <th>mean</th>\n",
       "      <td>65.644274</td>\n",
       "      <td>66.221998</td>\n",
       "      <td>0.600000</td>\n",
       "    </tr>\n",
       "    <tr>\n",
       "      <th>std</th>\n",
       "      <td>19.458222</td>\n",
       "      <td>18.582783</td>\n",
       "      <td>0.492366</td>\n",
       "    </tr>\n",
       "    <tr>\n",
       "      <th>min</th>\n",
       "      <td>30.058822</td>\n",
       "      <td>30.603263</td>\n",
       "      <td>0.000000</td>\n",
       "    </tr>\n",
       "    <tr>\n",
       "      <th>25%</th>\n",
       "      <td>50.919511</td>\n",
       "      <td>48.179205</td>\n",
       "      <td>0.000000</td>\n",
       "    </tr>\n",
       "    <tr>\n",
       "      <th>50%</th>\n",
       "      <td>67.032988</td>\n",
       "      <td>67.682381</td>\n",
       "      <td>1.000000</td>\n",
       "    </tr>\n",
       "    <tr>\n",
       "      <th>75%</th>\n",
       "      <td>80.212529</td>\n",
       "      <td>79.360605</td>\n",
       "      <td>1.000000</td>\n",
       "    </tr>\n",
       "    <tr>\n",
       "      <th>max</th>\n",
       "      <td>99.827858</td>\n",
       "      <td>98.869436</td>\n",
       "      <td>1.000000</td>\n",
       "    </tr>\n",
       "  </tbody>\n",
       "</table>\n",
       "</div>"
      ],
      "text/plain": [
       "          score-1     score-2       label\n",
       "count  100.000000  100.000000  100.000000\n",
       "mean    65.644274   66.221998    0.600000\n",
       "std     19.458222   18.582783    0.492366\n",
       "min     30.058822   30.603263    0.000000\n",
       "25%     50.919511   48.179205    0.000000\n",
       "50%     67.032988   67.682381    1.000000\n",
       "75%     80.212529   79.360605    1.000000\n",
       "max     99.827858   98.869436    1.000000"
      ]
     },
     "execution_count": 7,
     "metadata": {},
     "output_type": "execute_result"
    }
   ],
   "source": [
    "data.describe()"
   ]
  },
  {
   "cell_type": "markdown",
   "metadata": {},
   "source": [
    "### Organización y transformación de datos:\n",
    "Dividimos el data set inicial para separar las variables predictivas de la variable response:\n",
    "\n",
    "####  Variables predictivas:\n",
    "Para crear las variables predictivas seleccionamos todas las columnas de nuestros datos menos la última, en  este caso nos quedamos con score-1 y score-2. La llamamos X"
   ]
  },
  {
   "cell_type": "code",
   "execution_count": 8,
   "metadata": {},
   "outputs": [
    {
     "data": {
      "text/html": [
       "<div>\n",
       "<style scoped>\n",
       "    .dataframe tbody tr th:only-of-type {\n",
       "        vertical-align: middle;\n",
       "    }\n",
       "\n",
       "    .dataframe tbody tr th {\n",
       "        vertical-align: top;\n",
       "    }\n",
       "\n",
       "    .dataframe thead th {\n",
       "        text-align: right;\n",
       "    }\n",
       "</style>\n",
       "<table border=\"1\" class=\"dataframe\">\n",
       "  <thead>\n",
       "    <tr style=\"text-align: right;\">\n",
       "      <th></th>\n",
       "      <th>score-1</th>\n",
       "      <th>score-2</th>\n",
       "    </tr>\n",
       "  </thead>\n",
       "  <tbody>\n",
       "    <tr>\n",
       "      <th>0</th>\n",
       "      <td>34.623660</td>\n",
       "      <td>78.024693</td>\n",
       "    </tr>\n",
       "    <tr>\n",
       "      <th>1</th>\n",
       "      <td>30.286711</td>\n",
       "      <td>43.894998</td>\n",
       "    </tr>\n",
       "    <tr>\n",
       "      <th>2</th>\n",
       "      <td>35.847409</td>\n",
       "      <td>72.902198</td>\n",
       "    </tr>\n",
       "    <tr>\n",
       "      <th>3</th>\n",
       "      <td>60.182599</td>\n",
       "      <td>86.308552</td>\n",
       "    </tr>\n",
       "    <tr>\n",
       "      <th>4</th>\n",
       "      <td>79.032736</td>\n",
       "      <td>75.344376</td>\n",
       "    </tr>\n",
       "  </tbody>\n",
       "</table>\n",
       "</div>"
      ],
      "text/plain": [
       "     score-1    score-2\n",
       "0  34.623660  78.024693\n",
       "1  30.286711  43.894998\n",
       "2  35.847409  72.902198\n",
       "3  60.182599  86.308552\n",
       "4  79.032736  75.344376"
      ]
     },
     "execution_count": 8,
     "metadata": {},
     "output_type": "execute_result"
    }
   ],
   "source": [
    "# Vaariables predictivas:\n",
    "# en este caso necesitamos seleccionar todas las columnas menos la última, si cambiamos el data set habría que cambiarlo \n",
    "X = data.iloc[:, :-1] \n",
    "\n",
    "X.head() # visualizamos que se han seleccionado las variables que nos interesan"
   ]
  },
  {
   "cell_type": "markdown",
   "metadata": {},
   "source": [
    "#### Response Variable:\n",
    "En este caso la Response Variable es label, que identifica con 1 a los admitidos y con 0 a los no admitidos, vamos a llamarla Y."
   ]
  },
  {
   "cell_type": "code",
   "execution_count": 9,
   "metadata": {},
   "outputs": [
    {
     "data": {
      "text/plain": [
       "array([[0],\n",
       "       [0],\n",
       "       [0],\n",
       "       [1],\n",
       "       [1]], dtype=int64)"
      ]
     },
     "execution_count": 9,
     "metadata": {},
     "output_type": "execute_result"
    }
   ],
   "source": [
    "# Response variable:\n",
    "# En este caso seleccionamos la que se llama label, si cambiamos el data set habría que cambiarlo\n",
    "Y = np.array(data[['label']]) #\n",
    "Y[:5]"
   ]
  },
  {
   "cell_type": "markdown",
   "metadata": {},
   "source": [
    "### Visualización de datos"
   ]
  },
  {
   "cell_type": "code",
   "execution_count": 10,
   "metadata": {},
   "outputs": [],
   "source": [
    "# diferenciamos los admitidos de los no Admitidos\n",
    "# Los admitidos son aquellos en los que la respone variable = 1\n",
    "admitidos = data.loc[Y == 1] \n",
    "# Los NO admitidos son aquellos en los que la respone variable = \n",
    "no_admitidos = data.loc[Y == 0]"
   ]
  },
  {
   "cell_type": "code",
   "execution_count": 11,
   "metadata": {},
   "outputs": [
    {
     "data": {
      "image/png": "[encoded data removed]",
      "text/plain": [
       "<Figure size 432x288 with 1 Axes>"
      ]
     },
     "metadata": {
      "needs_background": "light"
     },
     "output_type": "display_data"
    }
   ],
   "source": [
    "plt.scatter(admitidos.iloc[:, 0], admitidos.iloc[:, 1], s=10, label='Admitidos')\n",
    "plt.scatter(no_admitidos.iloc[:, 0], no_admitidos.iloc[:, 1], s=10, label='No Admitidos')\n",
    "plt.legend()\n",
    "plt.xlabel(\"score-1\")\n",
    "plt.ylabel(\"score-2\")\n",
    "plt.show()"
   ]
  },
  {
   "cell_type": "markdown",
   "metadata": {},
   "source": [
    "En el gráfico podemos distinguir aquellos alumnos que han sido admitidos y cuales no asociados a su score-1 y score-2\n",
    "\n",
    "En este caso tenemos dos variables predcitivas : score-1 y score-2 y una response variable, label. \n",
    "\n",
    "Esta es la ecuación que representa el modelo que queremos estudiar:\n",
    "\n",
    "\n",
    "$\\hat{y} = \\sigma(w_1x_1 + w_2*x_2 + b)$ \n",
    "\n",
    "Donde x1 y x2 son las variables predictivas, w1 y w2 sus respectivos coeficientes, y b el término independiente\n",
    "\n",
    "Establecemos las predictor variables (X) y la response variable (Y) de este modelo con las variables :"
   ]
  },
  {
   "cell_type": "markdown",
   "metadata": {},
   "source": [
    "## Descenso del Gradiente"
   ]
  },
  {
   "cell_type": "markdown",
   "metadata": {},
   "source": [
    "#### Normalizamos la variable X:\n",
    "El objetivo que perseguimos normalizando las variables es que sea cual sea las dimensiones de nuestra muestra los valores estén normalizados para poder utilizar el algoritmo indistinatamente con cualquier data frame y facilitar así la comprensión e interpretación del error"
   ]
  },
  {
   "cell_type": "code",
   "execution_count": 12,
   "metadata": {},
   "outputs": [],
   "source": [
    "# Para normalizar la variable creamos una función lambda, normalizamos cada valor de X\n",
    "# usamos tambien rec para  utilizar cada valor del array en cada caso.\n",
    "# la fomrula aplicada para normalizar: (valor - media de los valores)/la desviación típica de los valores.\n",
    "# apply + la función lamba hace que se aplique para todo X\n",
    "X_new = X.apply( lambda rec:(rec - rec.mean())/rec.std(), axis =0)\n"
   ]
  },
  {
   "cell_type": "code",
   "execution_count": 13,
   "metadata": {},
   "outputs": [
    {
     "data": {
      "text/plain": [
       "pandas.core.frame.DataFrame"
      ]
     },
     "execution_count": 13,
     "metadata": {},
     "output_type": "execute_result"
    }
   ],
   "source": [
    "#Visualizamos el tipo de objeto que hemos creado:\n",
    "type(X_new)"
   ]
  },
  {
   "cell_type": "code",
   "execution_count": 14,
   "metadata": {},
   "outputs": [
    {
     "data": {
      "text/plain": [
       "['score-1', 'score-2']"
      ]
     },
     "execution_count": 14,
     "metadata": {},
     "output_type": "execute_result"
    }
   ],
   "source": [
    "# visualizamos la cabecera de X\n",
    "\n",
    "list(X_new)"
   ]
  },
  {
   "cell_type": "code",
   "execution_count": 15,
   "metadata": {},
   "outputs": [
    {
     "data": {
      "text/plain": [
       "array([[-1.59421626,  0.63514139],\n",
       "       [-1.81710142, -1.20148852],\n",
       "       [-1.53132516,  0.35948329],\n",
       "       [-0.28068724,  1.08092281],\n",
       "       [ 0.68806193,  0.49090485]])"
      ]
     },
     "execution_count": 15,
     "metadata": {},
     "output_type": "execute_result"
    }
   ],
   "source": [
    "# Pasamos los datos de X de dataframe a array para poder operar facilmente con el array de Y\n",
    "X_new = np.array(X_new)\n",
    "X_new[0:5]"
   ]
  },
  {
   "cell_type": "markdown",
   "metadata": {},
   "source": [
    "### Creación de coeficientes aleatorios:\n",
    "Como hemos comentando anteriormente existen dos coeficientes de las variables predictivas W1,W2 y una variable independiente b. Vamos a crear valores aleatorios para estos coeficientes para poder comenzar con el descenso del gradiente en un punto concreto."
   ]
  },
  {
   "cell_type": "code",
   "execution_count": 16,
   "metadata": {},
   "outputs": [],
   "source": [
    "# importamos la librería random que nos geneara datos aleatorios\n",
    "import random "
   ]
  },
  {
   "cell_type": "markdown",
   "metadata": {},
   "source": [
    "Creamos una función que nos genere aleatoriamente los valores iniciales de W1, W2 y b:"
   ]
  },
  {
   "cell_type": "code",
   "execution_count": 17,
   "metadata": {},
   "outputs": [],
   "source": [
    "def initialize_betas(dim): # necesitamos tantas betas como la dim, la dimension la especificaremos en cada caso\n",
    "    b = random.random() # necesitamos una b\n",
    "    w = np.random.rand(dim) # neceistamos dos w\n",
    "    return b,w \n",
    "\n",
    "\n"
   ]
  },
  {
   "cell_type": "code",
   "execution_count": 18,
   "metadata": {},
   "outputs": [
    {
     "name": "stdout",
     "output_type": "stream",
     "text": [
      "0.2718513953812751 [0.28570023 0.51204032]\n"
     ]
    }
   ],
   "source": [
    "# Visualizamos la b ,la W1 y W2 para la dimesión del data set que tenemos en cada caso.\n",
    "# en este caso la dimension cuenta con 2 variables predictoras, por lo que hay dos W\n",
    "b,w = initialize_betas(X_new.shape[1])\n",
    "print(b,w)"
   ]
  },
  {
   "cell_type": "code",
   "execution_count": 19,
   "metadata": {},
   "outputs": [
    {
     "data": {
      "text/plain": [
       "(2,)"
      ]
     },
     "execution_count": 19,
     "metadata": {},
     "output_type": "execute_result"
    }
   ],
   "source": [
    "# Confirmamos que coincide el número de W(coeficinctes de la variables predictoras) con el número de variables predictoras\n",
    "w.shape"
   ]
  },
  {
   "cell_type": "markdown",
   "metadata": {},
   "source": [
    "### Definimos una función sigmoide para predecir $\\hat{y}$\n",
    "\n",
    "Primero definos el concepto de función sigmoide:"
   ]
  },
  {
   "cell_type": "markdown",
   "metadata": {},
   "source": [
    "La función sigmoide transforma los valores introducidos a una escala (0,1), donde los valores altos tienen de manera asintótica a 1 y los valores muy bajos tienden de manera asintótica a 0. Esta característica nos permite asociar el resultado de las regresiones logísticas con una probabilidad. También es conocidad como función de activación.\n",
    "\n",
    "Visualizamos la función sigmoide:"
   ]
  },
  {
   "cell_type": "code",
   "execution_count": 20,
   "metadata": {},
   "outputs": [
    {
     "data": {
      "text/plain": [
       "Text(0, 0.5, 'sigmoid(z)')"
      ]
     },
     "execution_count": 20,
     "metadata": {},
     "output_type": "execute_result"
    },
    {
     "data": {
      "image/png": "[encoded data removed]",
      "text/plain": [
       "<Figure size 432x288 with 1 Axes>"
      ]
     },
     "metadata": {
      "needs_background": "light"
     },
     "output_type": "display_data"
    }
   ],
   "source": [
    "z = np.linspace(-10, 10, 100)  # parametros que vamos a visualizar en esta función sigmoide, de -10 a 10\n",
    "def sigmoid(z):\n",
    "    # La función de activación nos permite visualizar cualquier valor de 0 a 1\n",
    "    return 1/(1 + np.exp(-z))\n",
    "\n",
    "a = sigmoid(z)\n",
    "plt.plot(z, a) \n",
    "plt.xlabel(\"z\") \n",
    "plt.ylabel(\"sigmoid(z)\")"
   ]
  },
  {
   "cell_type": "markdown",
   "metadata": {},
   "source": [
    "Creamos la función sigmoide asociada a los coeficiencites y a las variables predictivas"
   ]
  },
  {
   "cell_type": "code",
   "execution_count": 21,
   "metadata": {},
   "outputs": [],
   "source": [
    "# introducimos el témino indepednidete b y los coeficientes W1 y W2 de la regresión.\n",
    "def sigmoid(b, w ,X_new): \n",
    "    Z = b + np.matmul(X_new,w)\n",
    "    return (1.0 / (1 + np.exp(-Z)))  "
   ]
  },
  {
   "cell_type": "markdown",
   "metadata": {},
   "source": [
    "Ahora realizamos una predicción de $\\hat{y}$  a través de la función sigmoide en la que hemos introducido los parámetros que hemos calculado antes aleatoriamente "
   ]
  },
  {
   "cell_type": "code",
   "execution_count": 22,
   "metadata": {},
   "outputs": [
    {
     "data": {
      "text/plain": [
       "array([0.53534133, 0.29681615, 0.50460521, 0.67811773, 0.67256164])"
      ]
     },
     "execution_count": 22,
     "metadata": {},
     "output_type": "execute_result"
    }
   ],
   "source": [
    "# calculamos la  predicción resultante de la función sigmoide con los coeficientes aleatorios\n",
    "y_hat = sigmoid(b,w,X_new) \n",
    "\n",
    "y_hat[0:5]"
   ]
  },
  {
   "cell_type": "markdown",
   "metadata": {},
   "source": [
    "### Función de costes:  función que mide el error de predicción del modelo en el conjunto de datos\n",
    "Para calcula la funicón de costes hay que sumar los errores que se han producido en la predicción de $\\hat{y}$ respecto de los valores reales de Y. \n",
    "\n",
    "Esta es la función de los errores de cada observación, llamada función de pérdidas:\n",
    "$\\ell(y, \\hat{y}) = -(y·log(\\hat{y}) + (1 - y)log(1 - \\hat{y})$\n",
    "El objetivo de la predicción es que $\\hat{y}$ sea parecida a __*y*__, en otro caso penalizaremos el resultado.\n",
    "\n",
    "En la situación perfeca en la que el suceso se cumpla $\\hat{y}$ = 1, y la predicción sea la correcta $\\hat{y}$ = __*y*__, el LOSS ERROR (error de cada observación) valdrá 0. Llegamos a este resultado sustituyendo en la función log(y_hat) = log(1) = 0.\n",
    "\n",
    "En cada caso habrá que calcular la función de pérdias para cada valor de __*y*__ y  $\\hat{y}$\n",
    "\n",
    "La función de costes es la suma de todas las funciones de pérdias:\n",
    "\n",
    "$\\jmath(w, b) = \\frac{1}{n}\\sum_{1}^{n}\\ell(y^{i} \\hat{y}^{i}) = -\\frac{1}{n}\\sum_{1}^{n}((y^{i}log(\\hat{y}^{i}) + (y^{i} +1)log(1 - \\hat{y}^{i}))$\n",
    "\n",
    "\n",
    "A continuación, se calcula la función de costes para la predicción de $\\hat{y}$, con los coeficientes W1,W2 y la variable independiete b que hemos calculado aleatoriamente, respecto de __*y*__. "
   ]
  },
  {
   "cell_type": "code",
   "execution_count": 23,
   "metadata": {},
   "outputs": [],
   "source": [
    "# función de costes de la prediciccion y_hat respecto de los valores reales de \n",
    "def get_cost( y, y_hat):\n",
    "    return -1/(len(y)) * np.sum(y * np.log(y_hat) + (1-y) * (np.log(1-y_hat)))\n"
   ]
  },
  {
   "cell_type": "markdown",
   "metadata": {},
   "source": [
    "Relacionamos cada parte de la fórmula con su nomenclatura en python:\n",
    "\n",
    "   -  $(y^{i}log(\\hat{y}^{i})$ en la función de python es (y * np.log(y_hat)). Multiplicamos y por el log de $\\hat{y}$ . Si $\\hat{y}$ = 1 entonces (y * np.log(y_hat)) = 0\n",
    "   - $(1 - y^{i})log(1 - \\hat{y}^{i}))$ en la función de python correaponde a (1-y) * (np.log(1-y_hat)). En esta parte se multiplica la diferencia de 1 menos el valor real por el log de la diferenica entre 1 e  $\\hat{y}$\n",
    "   \n",
    "Sumamos los resultados de ambas expresiones y se divide entre el numero de observaciones. Todo ello se multiplica por -1\n",
    "\n",
    "Calculamos el error de la $\\hat{y}$ predecida respecto de Y para una observación concreta. Llamamos a este valor current cost:"
   ]
  },
  {
   "cell_type": "code",
   "execution_count": 24,
   "metadata": {},
   "outputs": [
    {
     "data": {
      "text/plain": [
       "(100,)"
      ]
     },
     "execution_count": 24,
     "metadata": {},
     "output_type": "execute_result"
    }
   ],
   "source": [
    "\n",
    "Y=Y.reshape(len(Y), ) # indicamos que Y debe tener tantos valores como la longitud del array que hemos formado\n",
    "# la función current cost es el coste individual para un Y determinado y su predicción y_hat\n",
    "current_cost= get_cost(Y,y_hat)\n",
    "Y.shape"
   ]
  },
  {
   "cell_type": "markdown",
   "metadata": {},
   "source": [
    "### Redefinimos los betas. w y b\n",
    "Anteriormente hemos utilizado unos betas aleatrorios para generar los valores de y_hat. Ahora vamos a establecer una función que sea capaz de redefinir los parámetros a partir de los parámetros de la predicción.\n",
    "\n",
    "Esta función será necesaria para que se vuelvan a calcular las betas en cada iteración del descenso del gradiente. El objetivo es  que genere nuevos betas para los Y y los $\\hat{y}$ de cada caso. En el descenso de  gradiente (definido más adelante) los betas deben ir cambiando en cada iteración para irnos acercando más al error = 0"
   ]
  },
  {
   "cell_type": "code",
   "execution_count": 25,
   "metadata": {},
   "outputs": [],
   "source": [
    "# definimos la función que irá cambiando los betas en cada iteración para conseguir acercarnos a la prendiente = 0\n",
    "def update_beta (b_0, w_0 , y , y_hat, X_new, alpha):\n",
    "    db = np.sum( y_hat - y)/ len(y)\n",
    "    b_0 = b_0 - alpha * db\n",
    "    dw = np.dot((y_hat - y), X_new)/ len(y)\n",
    "    w_0 = w_0 - alpha * dw\n",
    "   \n",
    "   \n",
    "    return b_0,w_0\n",
    "\n",
    "# la función devuelve los nuevos betas que aplicaremos a la siguiente iteracion que reducirá el error respecto de la anterior"
   ]
  },
  {
   "cell_type": "code",
   "execution_count": 26,
   "metadata": {},
   "outputs": [
    {
     "data": {
      "text/plain": [
       "numpy.ndarray"
      ]
     },
     "execution_count": 26,
     "metadata": {},
     "output_type": "execute_result"
    }
   ],
   "source": [
    "# seleccionamos un alpha:\n",
    "alpha = 0.1\n",
    "\n",
    "type(y_hat)\n",
    "#(X_new).shape"
   ]
  },
  {
   "cell_type": "code",
   "execution_count": 27,
   "metadata": {},
   "outputs": [
    {
     "data": {
      "text/plain": [
       "()"
      ]
     },
     "execution_count": 27,
     "metadata": {},
     "output_type": "execute_result"
    }
   ],
   "source": [
    "# aplicamos la función que nos devuelva los parámetros actualizados.\n",
    "b,w = update_beta (b,w, Y, y_hat,X_new, alpha)\n",
    "\n",
    "b.shape"
   ]
  },
  {
   "cell_type": "code",
   "execution_count": 28,
   "metadata": {},
   "outputs": [
    {
     "data": {
      "text/plain": [
       "(0.275602237392318, array([0.30740178, 0.52531806]))"
      ]
     },
     "execution_count": 28,
     "metadata": {},
     "output_type": "execute_result"
    }
   ],
   "source": [
    "#visualizamos los nuevos parámetros, la b es el nuevo término independiente y el conjunto de las W son los coeficientes de X\n",
    "b,w"
   ]
  },
  {
   "cell_type": "markdown",
   "metadata": {},
   "source": [
    "### Definimos el descenso de gradiente:\n",
    "\n",
    "El objetivo es mimnimizar los errores que nos indica la función de costes, para ello deberemos hacer diferentes iteraciones en los que irán cambiando nuestros betas para que el error se acerque a cero. Las matemáticas nos indican que ese hecho se produce cuando la pendiente = 0. \n",
    "\n",
    "Es decir, queremos generar iteraciones con diferentes betas en las que cada vez nos vayamos acercando más a una pendiente que sea cero, ya que minimizará el error.\n",
    "\n",
    "Para estas iteraciones es importante establecer la Tasa de Aprendizaje: determina el siguinte punto en el que se va a realizar la siguiente iteración. A mayor tasa de aprendizaje mayor distancia entre las iteraciones, esto puede producir que en uno de estos \"saltos\" nos pasemos del error mínimo conseguido. En este caso: Tasa de Aprendizaje = Alpha\n",
    "\n",
    "Que la predicción de y_hat esté definida por la función sigmoidea es lo que permite que en cada iteración las betas generadas provoquen que el error de esa iteración sea menor que el de la anterior, ya que la pendiente de la función se va acercando a 0.\n",
    "\n",
    "\n",
    "#### Definimos el descenso del gradiente el Python\n",
    "Para el cálculo del descenso del gradiente en python primero necesitamos establecer un alpha ( tasa de aprendizaje) y en este caso, un número máximo de iteraciones. \n",
    "La función será un cálculo de los errores iteradamente cambiando sus betas para acercarnos en cada nueva iteración al error = 0.\n",
    "Para ello en la función debemos introducir el error, dado por la funcion de costes (current_cost) de cada iteración en función de cada y_hat predecida por la funcion sigmoidea. \n",
    "Debemos introducir la actualización de las betas en cada iteración. Se calcula mediante la función que hemos creado anteriormente, update_beta, que tiene en cuenta las betas de la iteración anterior para  majorarlas y acercarse a error=0 en la siguiente iteración.\n",
    "\n",
    "La salida que elegimos de la función es que en cada 10 iteraciones nos muestre el número de iteración y el valor de la funcion de costes en esa iteración, es decir el error. Vamos a ver que en cada iteración el error va disminuyendo.\n",
    "Al final, nos indica el erro de la iteración final, y las betas utilizadas en esta última iteración, que hemos defenidio en num_iterations.\n",
    "\n",
    "En primer lugar vamos a definir la función para 2000 iteraciones con un alpha= 0.1"
   ]
  },
  {
   "cell_type": "code",
   "execution_count": 29,
   "metadata": {},
   "outputs": [
    {
     "name": "stdout",
     "output_type": "stream",
     "text": [
      "initial guess of b and w:  0.18886143994573235 [0.6556393  0.85724179]\n",
      "Iteration:  0 Cost:  0.409393525157294\n",
      "Iteration:  10 Cost:  0.38186892435903147\n",
      "Iteration:  20 Cost:  0.3609266172762253\n",
      "Iteration:  30 Cost:  0.3444523671241621\n",
      "Iteration:  40 Cost:  0.3311340961747227\n",
      "Iteration:  50 Cost:  0.32012309542252204\n",
      "Iteration:  60 Cost:  0.3108494958092675\n",
      "Iteration:  70 Cost:  0.3029177750130326\n",
      "Iteration:  80 Cost:  0.2960452838745863\n",
      "Iteration:  90 Cost:  0.29002477142939326\n",
      "Iteration:  100 Cost:  0.2847007847067407\n",
      "Iteration:  110 Cost:  0.27995436129583473\n",
      "Iteration:  120 Cost:  0.27569283186535926\n",
      "Iteration:  130 Cost:  0.2718428603213656\n",
      "Iteration:  140 Cost:  0.26834558811034326\n",
      "Iteration:  150 Cost:  0.2651531781260257\n",
      "Iteration:  160 Cost:  0.2622263095768878\n",
      "Iteration:  170 Cost:  0.2595323317005332\n",
      "Iteration:  180 Cost:  0.2570438821930443\n",
      "Iteration:  190 Cost:  0.2547378388758531\n",
      "Iteration:  200 Cost:  0.25259451398515936\n",
      "Iteration:  210 Cost:  0.2505970276109922\n",
      "Iteration:  220 Cost:  0.24873081515083104\n",
      "Iteration:  230 Cost:  0.2469832362300474\n",
      "Iteration:  240 Cost:  0.24534326131029768\n",
      "Iteration:  250 Cost:  0.24380121840081054\n",
      "Iteration:  260 Cost:  0.24234858671946732\n",
      "Iteration:  270 Cost:  0.2409778273605753\n",
      "Iteration:  280 Cost:  0.23968224337781985\n",
      "Iteration:  290 Cost:  0.2384558634321572\n",
      "Iteration:  300 Cost:  0.23729334445680866\n",
      "Iteration:  310 Cost:  0.23618988977492764\n",
      "Iteration:  320 Cost:  0.23514117985471605\n",
      "Iteration:  330 Cost:  0.23414331346237\n",
      "Iteration:  340 Cost:  0.23319275741897552\n",
      "Iteration:  350 Cost:  0.23228630351526044\n",
      "Iteration:  360 Cost:  0.23142103141138282\n",
      "Iteration:  370 Cost:  0.23059427656511283\n",
      "Iteration:  380 Cost:  0.22980360240385803\n",
      "Iteration:  390 Cost:  0.22904677609380916\n",
      "Iteration:  400 Cost:  0.22832174737049665\n",
      "Iteration:  410 Cost:  0.22762662998495142\n",
      "Iteration:  420 Cost:  0.2269596853928436\n",
      "Iteration:  430 Cost:  0.22631930837383735\n",
      "Iteration:  440 Cost:  0.22570401431759443\n",
      "Iteration:  450 Cost:  0.225112427953474\n",
      "Iteration:  460 Cost:  0.22454327333463883\n",
      "Iteration:  470 Cost:  0.22399536491530644\n",
      "Iteration:  480 Cost:  0.22346759958329557\n",
      "Iteration:  490 Cost:  0.22295894952966205\n",
      "Iteration:  500 Cost:  0.22246845585374597\n",
      "Iteration:  510 Cost:  0.22199522281591713\n",
      "Iteration:  520 Cost:  0.22153841266213256\n",
      "Iteration:  530 Cost:  0.22109724095448008\n",
      "Iteration:  540 Cost:  0.22067097235045288\n",
      "Iteration:  550 Cost:  0.22025891678103413\n",
      "Iteration:  560 Cost:  0.21986042598395672\n",
      "Iteration:  570 Cost:  0.21947489035390821\n",
      "Iteration:  580 Cost:  0.21910173607611463\n",
      "Iteration:  590 Cost:  0.21874042251375853\n",
      "Iteration:  600 Cost:  0.21839043982318335\n",
      "Iteration:  610 Cost:  0.21805130677385998\n",
      "Iteration:  620 Cost:  0.217722568752733\n",
      "Iteration:  630 Cost:  0.21740379593486317\n",
      "Iteration:  640 Cost:  0.21709458160429468\n",
      "Iteration:  650 Cost:  0.21679454061083628\n",
      "Iteration:  660 Cost:  0.21650330794999398\n",
      "Iteration:  670 Cost:  0.21622053745465125\n",
      "Iteration:  680 Cost:  0.21594590058829133\n",
      "Iteration:  690 Cost:  0.2156790853306153\n",
      "Iteration:  700 Cost:  0.2154197951473436\n",
      "Iteration:  710 Cost:  0.2151677480368187\n",
      "Iteration:  720 Cost:  0.21492267564675924\n",
      "Iteration:  730 Cost:  0.21468432245517513\n",
      "Iteration:  740 Cost:  0.2144524450100273\n",
      "Iteration:  750 Cost:  0.2142268112227418\n",
      "Iteration:  760 Cost:  0.21400719971114504\n",
      "Iteration:  770 Cost:  0.21379339918780738\n",
      "Iteration:  780 Cost:  0.21358520789014546\n",
      "Iteration:  790 Cost:  0.2133824330489756\n",
      "Iteration:  800 Cost:  0.21318489039249952\n",
      "Iteration:  810 Cost:  0.21299240368298164\n",
      "Iteration:  820 Cost:  0.21280480428361054\n",
      "Iteration:  830 Cost:  0.2126219307532624\n",
      "Iteration:  840 Cost:  0.21244362846707585\n",
      "Iteration:  850 Cost:  0.21226974926092787\n",
      "Iteration:  860 Cost:  0.21210015109806132\n",
      "Iteration:  870 Cost:  0.21193469775626\n",
      "Iteration:  880 Cost:  0.21177325853409823\n",
      "Iteration:  890 Cost:  0.21161570797491436\n",
      "Iteration:  900 Cost:  0.2114619256072641\n",
      "Iteration:  910 Cost:  0.2113117957007109\n",
      "Iteration:  920 Cost:  0.21116520703589914\n",
      "Iteration:  930 Cost:  0.21102205268793928\n",
      "Iteration:  940 Cost:  0.21088222982220978\n",
      "Iteration:  950 Cost:  0.2107456395017473\n",
      "Iteration:  960 Cost:  0.21061218650546087\n",
      "Iteration:  970 Cost:  0.21048177915646513\n",
      "Iteration:  980 Cost:  0.21035432915987318\n",
      "Iteration:  990 Cost:  0.21022975144944867\n",
      "Iteration:  1000 Cost:  0.21010796404255028\n",
      "Iteration:  1010 Cost:  0.20998888790284995\n",
      "Iteration:  1020 Cost:  0.20987244681033906\n",
      "Iteration:  1030 Cost:  0.2097585672381738\n",
      "Iteration:  1040 Cost:  0.20964717823594106\n",
      "Iteration:  1050 Cost:  0.20953821131895572\n",
      "Iteration:  1060 Cost:  0.20943160036322794\n",
      "Iteration:  1070 Cost:  0.20932728150576085\n",
      "Iteration:  1080 Cost:  0.20922519304986725\n",
      "Iteration:  1090 Cost:  0.20912527537520886\n",
      "Iteration:  1100 Cost:  0.20902747085228635\n",
      "Iteration:  1110 Cost:  0.2089317237611228\n",
      "Iteration:  1120 Cost:  0.20883798021390285\n",
      "Iteration:  1130 Cost:  0.20874618808134301\n",
      "Iteration:  1140 Cost:  0.2086562969225849\n",
      "Iteration:  1150 Cost:  0.20856825791841413\n",
      "Iteration:  1160 Cost:  0.20848202380762326\n",
      "Iteration:  1170 Cost:  0.20839754882634587\n",
      "Iteration:  1180 Cost:  0.20831478865020042\n",
      "Iteration:  1190 Cost:  0.20823370033909339\n",
      "Iteration:  1200 Cost:  0.20815424228453924\n",
      "Iteration:  1210 Cost:  0.20807637415936409\n",
      "Iteration:  1220 Cost:  0.20800005686966783\n",
      "Iteration:  1230 Cost:  0.20792525250892635\n",
      "Iteration:  1240 Cost:  0.20785192431412458\n",
      "Iteration:  1250 Cost:  0.2077800366238138\n",
      "Iteration:  1260 Cost:  0.20770955483799763\n",
      "Iteration:  1270 Cost:  0.2076404453797521\n",
      "Iteration:  1280 Cost:  0.2075726756584939\n",
      "Iteration:  1290 Cost:  0.20750621403481442\n",
      "Iteration:  1300 Cost:  0.2074410297868017\n",
      "Iteration:  1310 Cost:  0.207377093077778\n",
      "Iteration:  1320 Cost:  0.20731437492538254\n",
      "Iteration:  1330 Cost:  0.20725284717193668\n",
      "Iteration:  1340 Cost:  0.20719248245602628\n",
      "Iteration:  1350 Cost:  0.2071332541852474\n",
      "Iteration:  1360 Cost:  0.20707513651005646\n",
      "Iteration:  1370 Cost:  0.2070181042986749\n",
      "Iteration:  1380 Cost:  0.20696213311299858\n",
      "Iteration:  1390 Cost:  0.20690719918546507\n",
      "Iteration:  1400 Cost:  0.20685327939683493\n",
      "Iteration:  1410 Cost:  0.20680035125484453\n",
      "Iteration:  1420 Cost:  0.2067483928736916\n",
      "Iteration:  1430 Cost:  0.20669738295431514\n",
      "Iteration:  1440 Cost:  0.20664730076543447\n",
      "Iteration:  1450 Cost:  0.20659812612531295\n",
      "Iteration:  1460 Cost:  0.20654983938421506\n",
      "Iteration:  1470 Cost:  0.20650242140752548\n",
      "Iteration:  1480 Cost:  0.20645585355950208\n",
      "Iteration:  1490 Cost:  0.20641011768763431\n",
      "Iteration:  1500 Cost:  0.2063651961075812\n",
      "Iteration:  1510 Cost:  0.20632107158866486\n",
      "Iteration:  1520 Cost:  0.20627772733989397\n",
      "Iteration:  1530 Cost:  0.20623514699649687\n",
      "Iteration:  1540 Cost:  0.20619331460694118\n",
      "Iteration:  1550 Cost:  0.20615221462042016\n",
      "Iteration:  1560 Cost:  0.2061118318747867\n",
      "Iteration:  1570 Cost:  0.2060721515849157\n",
      "Iteration:  1580 Cost:  0.20603315933147773\n",
      "Iteration:  1590 Cost:  0.20599484105010707\n",
      "Iteration:  1600 Cost:  0.20595718302094757\n",
      "Iteration:  1610 Cost:  0.20592017185856243\n",
      "Iteration:  1620 Cost:  0.20588379450219116\n",
      "Iteration:  1630 Cost:  0.20584803820634187\n",
      "Iteration:  1640 Cost:  0.20581289053170454\n",
      "Iteration:  1650 Cost:  0.20577833933637243\n",
      "Iteration:  1660 Cost:  0.20574437276736027\n",
      "Iteration:  1670 Cost:  0.2057109792524071\n",
      "Iteration:  1680 Cost:  0.20567814749205265\n",
      "Iteration:  1690 Cost:  0.20564586645197724\n",
      "Iteration:  1700 Cost:  0.20561412535559453\n",
      "Iteration:  1710 Cost:  0.20558291367688727\n",
      "Iteration:  1720 Cost:  0.20555222113347818\n",
      "Iteration:  1730 Cost:  0.20552203767992494\n",
      "Iteration:  1740 Cost:  0.2054923535012328\n",
      "Iteration:  1750 Cost:  0.20546315900657558\n",
      "Iteration:  1760 Cost:  0.2054344448232178\n",
      "Iteration:  1770 Cost:  0.2054062017906299\n",
      "Iteration:  1780 Cost:  0.205378420954791\n",
      "Iteration:  1790 Cost:  0.20535109356266898\n",
      "Iteration:  1800 Cost:  0.20532421105687668\n",
      "Iteration:  1810 Cost:  0.20529776507049208\n",
      "Iteration:  1820 Cost:  0.2052717474220408\n",
      "Iteration:  1830 Cost:  0.20524615011063332\n",
      "Iteration:  1840 Cost:  0.2052209653112512\n",
      "Iteration:  1850 Cost:  0.20519618537017828\n",
      "Iteration:  1860 Cost:  0.20517180280056996\n",
      "Iteration:  1870 Cost:  0.20514781027815787\n",
      "Iteration:  1880 Cost:  0.20512420063708245\n",
      "Iteration:  1890 Cost:  0.20510096686585247\n",
      "Iteration:  1900 Cost:  0.20507810210342345\n",
      "Iteration:  1910 Cost:  0.20505559963539402\n",
      "Iteration:  1920 Cost:  0.20503345289031308\n",
      "Iteration:  1930 Cost:  0.20501165543609795\n",
      "Iteration:  1940 Cost:  0.20499020097655535\n",
      "Iteration:  1950 Cost:  0.20496908334800507\n",
      "Iteration:  1960 Cost:  0.2049482965160012\n",
      "Iteration:  1970 Cost:  0.20492783457214844\n",
      "Iteration:  1980 Cost:  0.20490769173100953\n",
      "Iteration:  1990 Cost:  0.20488786232710188\n",
      "Iteration:  2000 Cost:  0.2048683408119789\n",
      "Final estimates of b and q are:  1.509239290636994 [3.56585868 3.31152682]\n"
     ]
    }
   ],
   "source": [
    "# definimos el número máximo de iteraciones\n",
    "num_iterations = 2001 # ponemos un número más para que en la salida aperezca el 1500\n",
    "# definimos la tasa de aprendizaje:\n",
    "alpha = 0.1\n",
    "\n",
    "all_costs = []\n",
    "b,w = initialize_betas(X_new.shape[1]) # aplica la función de recalculo de las betas en cada iteración \n",
    "print(\"initial guess of b and w: \" , b ,w) # para conocer las betas iniciales \n",
    "\n",
    "for each_iter in range (num_iterations ): # para cada iteración en el rango limite que hemos estabolecido en num_iterations\n",
    "    y_hat = sigmoid(b, w , X_new) # calculamos la Y_Hat con los betas que toque en cada iteracion\n",
    "    current_cost = get_cost (Y, y_hat) # calculamos el coste de cada iteración (diferencia entre y e y_hat en cada iteración)\n",
    "    prev_b = b # la b usada en la predicción anterior es la que se tendra en cuenta para mejorar la siguiente iteración\n",
    "    prev_w = w # las W usada en la predicción anterior es la que se tendra en cuenta para mejorar la siguiente iteración \n",
    "    b, w = update_beta (prev_b, prev_w, Y, y_hat, X_new, alpha) # que recalcule las betas con los datos de cada iteración \n",
    "    all_costs.append(current_cost) # todos los costes es la suma de los costes de cada iteración\n",
    "    if each_iter % 10 == 0:\n",
    "        print('Iteration: ', each_iter, 'Cost: ', current_cost)\n",
    "        each_iter += 1 \n",
    "    # queremos que impirma los resultados cada 10 iteraciones. imprime el numero de iteración y su coste\n",
    "    \n",
    "    \n",
    "print(\"Final estimates of b and q are: \", b,w) # imprimimos los ultimos beta que ha utilizado en la última iteracion"
   ]
  },
  {
   "cell_type": "markdown",
   "metadata": {},
   "source": [
    "Observamos como va disminuyendo el error en cada iteración hasta el error de la última iteración, también observamos como han cambiado las betas de la última iteración respecto de la primera.\n",
    "#### Representamos gráficamente el resultado."
   ]
  },
  {
   "cell_type": "code",
   "execution_count": 30,
   "metadata": {},
   "outputs": [
    {
     "data": {
      "image/png": "[encoded data removed]",
      "text/plain": [
       "<Figure size 1440x1080 with 1 Axes>"
      ]
     },
     "metadata": {
      "needs_background": "light"
     },
     "output_type": "display_data"
    }
   ],
   "source": [
    "plt.figure(figsize=(20,15))\n",
    "plt.scatter( range(num_iterations), all_costs)\n",
    "plt.show()\n",
    "\n",
    "#len(range(each_iter))"
   ]
  },
  {
   "cell_type": "markdown",
   "metadata": {},
   "source": [
    "En este gráfico observamos como en las primeras iteraciones disminuye mucho el error sin embargo, luego se estabiliza y en cada nueva iteración el error disminuye menos porcentualmente.\n",
    "\n",
    "__Calculamos el gradiente con menos número de iteraciones__\n",
    "Vamos a calcular de nuevo la función disminuyendo el alpha y el número de iteraciones para ver mejor como descenciende el error en cada iteración"
   ]
  },
  {
   "cell_type": "code",
   "execution_count": 31,
   "metadata": {},
   "outputs": [
    {
     "name": "stdout",
     "output_type": "stream",
     "text": [
      "initial guess of b and w:  0.32358234864242086 [0.1085219  0.87764607]\n",
      "Iteration:  0 Cost:  0.5133310953945647\n",
      "Iteration:  10 Cost:  0.4530538862572846\n",
      "Iteration:  20 Cost:  0.4115333345959426\n",
      "Iteration:  30 Cost:  0.3817512593980194\n",
      "Iteration:  40 Cost:  0.35955252474109217\n",
      "Iteration:  50 Cost:  0.3424280566604343\n",
      "Iteration:  60 Cost:  0.3288186421087496\n",
      "Iteration:  70 Cost:  0.317724766448736\n",
      "Iteration:  80 Cost:  0.3084856540700365\n",
      "Iteration:  90 Cost:  0.3006514064262365\n",
      "Iteration:  100 Cost:  0.2939071157850222\n",
      "Iteration:  110 Cost:  0.2880266343578516\n",
      "Iteration:  120 Cost:  0.28284367708313163\n",
      "Iteration:  130 Cost:  0.27823330741713276\n",
      "Iteration:  140 Cost:  0.27409979357360903\n",
      "Iteration:  150 Cost:  0.2703684644139679\n",
      "Iteration:  160 Cost:  0.26698013218940786\n",
      "Iteration:  170 Cost:  0.2638871972235075\n",
      "Iteration:  180 Cost:  0.26105087658811327\n",
      "Iteration:  190 Cost:  0.2584391980082923\n",
      "Iteration:  200 Cost:  0.25602552397690764\n",
      "Iteration:  210 Cost:  0.25378744938425196\n",
      "Iteration:  220 Cost:  0.2517059664293889\n",
      "Iteration:  230 Cost:  0.249764823640329\n",
      "Iteration:  240 Cost:  0.247950027838488\n",
      "Iteration:  250 Cost:  0.2462494527576082\n",
      "Iteration:  260 Cost:  0.2446525282267615\n",
      "Iteration:  270 Cost:  0.24314999091743744\n",
      "Iteration:  280 Cost:  0.24173368264873576\n",
      "Iteration:  290 Cost:  0.2403963858063093\n",
      "Iteration:  300 Cost:  0.23913168800119358\n",
      "Iteration:  310 Cost:  0.23793386997097293\n",
      "Iteration:  320 Cost:  0.2367978121102165\n",
      "Iteration:  330 Cost:  0.2357189160492494\n",
      "Iteration:  340 Cost:  0.23469303847733844\n",
      "Iteration:  350 Cost:  0.233716434996793\n",
      "Iteration:  360 Cost:  0.23278571224709615\n",
      "Iteration:  370 Cost:  0.23189778688806967\n",
      "Iteration:  380 Cost:  0.2310498503037144\n",
      "Iteration:  390 Cost:  0.23023933810240985\n",
      "Iteration:  400 Cost:  0.22946390365840874\n",
      "Iteration:  410 Cost:  0.22872139507428796\n",
      "Iteration:  420 Cost:  0.22800983505196804\n",
      "Iteration:  430 Cost:  0.22732740324691425\n",
      "Iteration:  440 Cost:  0.22667242075066868\n",
      "Iteration:  450 Cost:  0.22604333640435278\n",
      "Iteration:  460 Cost:  0.22543871469288276\n",
      "Iteration:  470 Cost:  0.22485722500841823\n",
      "Iteration:  480 Cost:  0.22429763210364503\n",
      "Iteration:  490 Cost:  0.2237587875821365\n",
      "Iteration:  500 Cost:  0.2232396222952759\n",
      "Iteration:  510 Cost:  0.22273913953384292\n",
      "Iteration:  520 Cost:  0.22225640891802634\n",
      "Iteration:  530 Cost:  0.22179056090283958\n",
      "Iteration:  540 Cost:  0.22134078182710715\n",
      "Iteration:  550 Cost:  0.2209063094436948\n",
      "Iteration:  560 Cost:  0.22048642887676312\n",
      "Iteration:  570 Cost:  0.22008046895875047\n",
      "Iteration:  580 Cost:  0.21968779890573223\n",
      "Iteration:  590 Cost:  0.21930782529491194\n",
      "Iteration:  600 Cost:  0.2189399893124034\n",
      "Iteration:  610 Cost:  0.21858376424326997\n",
      "Iteration:  620 Cost:  0.21823865317908564\n",
      "Iteration:  630 Cost:  0.21790418692114988\n",
      "Iteration:  640 Cost:  0.21757992205998114\n",
      "Iteration:  650 Cost:  0.2172654392138941\n",
      "Iteration:  660 Cost:  0.21696034141136622\n",
      "Iteration:  670 Cost:  0.21666425260357275\n",
      "Iteration:  680 Cost:  0.21637681629493052\n",
      "Iteration:  690 Cost:  0.2160976942807829\n",
      "Iteration:  700 Cost:  0.21582656548249401\n",
      "Iteration:  710 Cost:  0.21556312487122511\n",
      "Iteration:  720 Cost:  0.21530708247255276\n",
      "Iteration:  730 Cost:  0.21505816244487785\n",
      "Iteration:  740 Cost:  0.21481610222527092\n",
      "Iteration:  750 Cost:  0.21458065173702398\n",
      "Iteration:  760 Cost:  0.21435157265372895\n",
      "Iteration:  770 Cost:  0.21412863771520024\n",
      "Iteration:  780 Cost:  0.2139116300909973\n",
      "Iteration:  790 Cost:  0.21370034278769964\n",
      "Iteration:  800 Cost:  0.2134945780964394\n",
      "Iteration:  810 Cost:  0.2132941470775148\n",
      "Iteration:  820 Cost:  0.21309886907919193\n",
      "Iteration:  830 Cost:  0.21290857128805993\n",
      "Iteration:  840 Cost:  0.21272308830853423\n",
      "Iteration:  850 Cost:  0.21254226176931268\n",
      "Iteration:  860 Cost:  0.21236593995477696\n",
      "Iteration:  870 Cost:  0.21219397745949933\n",
      "Iteration:  880 Cost:  0.212026234864175\n",
      "Iteration:  890 Cost:  0.21186257843143172\n",
      "Iteration:  900 Cost:  0.21170287982010258\n",
      "Iteration:  910 Cost:  0.21154701581665744\n",
      "Iteration:  920 Cost:  0.21139486808259622\n",
      "Iteration:  930 Cost:  0.2112463229167008\n",
      "Iteration:  940 Cost:  0.21110127103112958\n",
      "Iteration:  950 Cost:  0.2109596073404183\n",
      "Iteration:  960 Cost:  0.21082123076252143\n",
      "Iteration:  970 Cost:  0.21068604403109656\n",
      "Iteration:  980 Cost:  0.21055395351829176\n",
      "Iteration:  990 Cost:  0.21042486906735433\n",
      "Iteration:  1000 Cost:  0.21029870383442703\n",
      "Iteration:  1010 Cost:  0.21017537413894616\n",
      "Iteration:  1020 Cost:  0.21005479932209778\n",
      "Iteration:  1030 Cost:  0.20993690161282733\n",
      "Iteration:  1040 Cost:  0.2098216060009342\n",
      "Iteration:  1050 Cost:  0.20970884011681612\n",
      "Iteration:  1060 Cost:  0.20959853411745769\n",
      "Iteration:  1070 Cost:  0.2094906205782863\n",
      "Iteration:  1080 Cost:  0.20938503439054562\n",
      "Iteration:  1090 Cost:  0.20928171266385803\n",
      "Iteration:  1100 Cost:  0.2091805946336711\n",
      "Iteration:  1110 Cost:  0.2090816215733054\n",
      "Iteration:  1120 Cost:  0.20898473671033518\n",
      "Iteration:  1130 Cost:  0.20888988514705603\n",
      "Iteration:  1140 Cost:  0.20879701378480645\n",
      "Iteration:  1150 Cost:  0.20870607125192606\n",
      "Iteration:  1160 Cost:  0.20861700783514803\n",
      "Iteration:  1170 Cost:  0.20852977541423542\n",
      "Iteration:  1180 Cost:  0.20844432739968255\n",
      "Iteration:  1190 Cost:  0.20836061867331546\n",
      "Iteration:  1200 Cost:  0.2082786055316338\n",
      "Iteration:  1210 Cost:  0.20819824563174755\n",
      "Iteration:  1220 Cost:  0.20811949793977116\n",
      "Iteration:  1230 Cost:  0.20804232268154382\n",
      "Iteration:  1240 Cost:  0.20796668129555568\n",
      "Iteration:  1250 Cost:  0.20789253638796415\n",
      "Iteration:  1260 Cost:  0.2078198516895934\n",
      "Iteration:  1270 Cost:  0.2077485920148154\n",
      "Iteration:  1280 Cost:  0.20767872322221537\n",
      "Iteration:  1290 Cost:  0.2076102121769546\n",
      "Iteration:  1300 Cost:  0.2075430267147428\n",
      "Iteration:  1310 Cost:  0.20747713560734204\n",
      "Iteration:  1320 Cost:  0.2074125085295251\n",
      "Iteration:  1330 Cost:  0.20734911602741865\n",
      "Iteration:  1340 Cost:  0.2072869294881627\n",
      "Iteration:  1350 Cost:  0.20722592111082322\n",
      "Iteration:  1360 Cost:  0.20716606387849776\n",
      "Iteration:  1370 Cost:  0.2071073315315575\n",
      "Iteration:  1380 Cost:  0.2070496985419725\n",
      "Iteration:  1390 Cost:  0.20699314008866684\n",
      "Iteration:  1400 Cost:  0.20693763203385962\n",
      "Iteration:  1410 Cost:  0.2068831509003426\n",
      "Iteration:  1420 Cost:  0.2068296738496536\n",
      "Iteration:  1430 Cost:  0.20677717866110318\n",
      "Iteration:  1440 Cost:  0.20672564371161756\n",
      "Iteration:  1450 Cost:  0.20667504795635933\n",
      "Iteration:  1460 Cost:  0.20662537091009253\n",
      "Iteration:  1470 Cost:  0.20657659262925732\n",
      "Iteration:  1480 Cost:  0.206528693694725\n",
      "Iteration:  1490 Cost:  0.20648165519520184\n",
      "Iteration:  1500 Cost:  0.2064354587112534\n",
      "Final estimates of b and q are:  1.4187080172601867 [3.37386299 3.12602897]\n"
     ]
    }
   ],
   "source": [
    "# Para alpha =0.1\n",
    "num_iterations = 1501\n",
    "alpha = 0.1\n",
    "\n",
    "all_costs = []\n",
    "b,w = initialize_betas(X_new.shape[1])\n",
    "print(\"initial guess of b and w: \" , b ,w)\n",
    "\n",
    "for each_iter in range (num_iterations ):\n",
    "    y_hat = sigmoid(b, w , X_new)\n",
    "    current_cost = get_cost (Y, y_hat)\n",
    "    prev_b = b\n",
    "    prev_w = w\n",
    "    b, w = update_beta (prev_b, prev_w, Y, y_hat, X_new, alpha)\n",
    "    all_costs.append(current_cost)\n",
    "    if each_iter % 10 == 0:\n",
    "        print('Iteration: ', each_iter, 'Cost: ', current_cost)\n",
    "        each_iter += 1\n",
    "    \n",
    "#print('b_0:', b_0, 'b_1:',b_1,'b_2:',b_2,'b_3:',b_3,'b_4:', b_4, 'b_5:',b_5,'b_6:',b_6,'b_7:',b_7,'b_8:',b_8,'b_9:',b_9)\n",
    "print(\"Final estimates of b and q are: \", b,w)"
   ]
  },
  {
   "cell_type": "code",
   "execution_count": 32,
   "metadata": {},
   "outputs": [
    {
     "data": {
      "image/png": "[encoded data removed]",
      "text/plain": [
       "<Figure size 1440x1080 with 1 Axes>"
      ]
     },
     "metadata": {
      "needs_background": "light"
     },
     "output_type": "display_data"
    }
   ],
   "source": [
    "plt.figure(figsize=(20,15))\n",
    "plt.scatter( range(num_iterations), all_costs,s = 5)\n",
    "plt.show()"
   ]
  },
  {
   "cell_type": "markdown",
   "metadata": {},
   "source": [
    "Observamos que con menos iteraciones somo capaces de visualizar como la curva se estabiliza entre las iteraciones 1000 y 1500 para un alpha = 0.1.\n",
    "\n",
    "Podemos aumentar y disminuir como queramos el número de iteraciones y el alpha para observar como van  cambiando los errores, solo hay que camiar los datos: *num_iterations = ; alpha =*\n",
    "\n",
    "Disminuir el alpha es dar pasos más pequeñitos por lo que a mismo número de iteraciones con menor alpha llegará probablememnte a un error más alejado de cero, que con un alpha mayor.\n",
    "\n",
    "Por el contrario, si al mismo alpha aumentas el número de iteraciones llegarás a un error más cercano a 0 que cono menos iteraciones.\n",
    "\n",
    "El objetivo es encontrar un alpha y un número de iteraciones óptimo que lleguen al nivel en el que el error disminuye muy poco en cada interación siguiente.\n"
   ]
  },
  {
   "cell_type": "markdown",
   "metadata": {},
   "source": [
    "## Referencias:\n",
    " - https://towardsdatascience.com/implement-gradient-descent-in-python-9b93ed7108d1\n",
    " - https://towardsdatascience.com/gradient-descent-in-python-a0d07285742f\n",
    " - https://github.com/nikadeap/Gradient-Descent-Algorithm-for-Logistic-Regression\n",
    " - https://medium.com/@lachlanmiller_52885/machine-learning-week-1-cost-function-gradient-descent-and-univariate-linear-regression-8f5fe69815fd\n",
    " - https://towardsdatascience.com/machine-learning-fundamentals-via-linear-regression-41a5d11f5220\n",
    " - https://www.analyticslane.com/2018/12/21/implementacion-del-metodo-descenso-del-gradiente-en-python/"
   ]
  }
 ],
 "metadata": {
  "kernelspec": {
   "display_name": "lab01_env",
   "language": "python",
   "name": "lab01_env"
  },
  "language_info": {
   "codemirror_mode": {
    "name": "ipython",
    "version": 3
   },
   "file_extension": ".py",
   "mimetype": "text/x-python",
   "name": "python",
   "nbconvert_exporter": "python",
   "pygments_lexer": "ipython3",
   "version": "3.8.5"
  }
 },
 "nbformat": 4,
 "nbformat_minor": 2
}
